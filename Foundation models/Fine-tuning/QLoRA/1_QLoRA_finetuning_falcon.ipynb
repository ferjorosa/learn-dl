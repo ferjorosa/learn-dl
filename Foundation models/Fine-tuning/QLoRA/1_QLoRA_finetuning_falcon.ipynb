{
 "cells": [
  {
   "cell_type": "markdown",
   "metadata": {},
   "source": [
    "# A Definitive Guide to QLoRA: Fine-tuning Falcon-7b with PEFT\n",
    "\n",
    "https://medium.com/@amodwrites/a-definitive-guide-to-qlora-fine-tuning-falcon-7b-with-peft-78f500a1f337"
   ]
  },
  {
   "cell_type": "markdown",
   "metadata": {},
   "source": [
    "# 1 - Introduction"
   ]
  },
  {
   "cell_type": "markdown",
   "metadata": {},
   "source": [
    "## 1.1 - 4-Bit NormalFloat (NF4)"
   ]
  },
  {
   "cell_type": "markdown",
   "metadata": {},
   "source": [
    "4-Bit NormalFloat, or NF4, is specialized quantization technique employed in machine learning to reduce the memory footprint of models. Quantization is a process where we approximate a continuous set of values (or a very large set of discrete values) with a finite"
   ]
  }
 ],
 "metadata": {
  "language_info": {
   "name": "python"
  }
 },
 "nbformat": 4,
 "nbformat_minor": 2
}
