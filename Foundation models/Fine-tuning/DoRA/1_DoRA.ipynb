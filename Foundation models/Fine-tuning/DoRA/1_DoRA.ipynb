{
 "cells": [
  {
   "cell_type": "code",
   "execution_count": null,
   "metadata": {},
   "outputs": [],
   "source": [
    "https://www.youtube.com/watch?v=m7KQdGSr0Dg\n",
    "\n",
    "https://magazine.sebastianraschka.com/p/lora-and-dora-from-scratch"
   ]
  }
 ],
 "metadata": {
  "language_info": {
   "name": "python"
  }
 },
 "nbformat": 4,
 "nbformat_minor": 2
}
