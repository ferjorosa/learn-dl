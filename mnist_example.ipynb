{
  "nbformat": 4,
  "nbformat_minor": 0,
  "metadata": {
    "colab": {
      "name": "Untitled5.ipynb",
      "provenance": [],
      "collapsed_sections": [],
      "authorship_tag": "ABX9TyMiLbouux8H3YatVgtcB/40",
      "include_colab_link": true
    },
    "kernelspec": {
      "name": "python3",
      "display_name": "Python 3"
    },
    "language_info": {
      "name": "python"
    }
  },
  "cells": [
    {
      "cell_type": "markdown",
      "metadata": {
        "id": "view-in-github",
        "colab_type": "text"
      },
      "source": [
        "<a href=\"https://colab.research.google.com/github/ferjorosa/learn-fastai/blob/main/mnist_example.ipynb\" target=\"_parent\"><img src=\"https://colab.research.google.com/assets/colab-badge.svg\" alt=\"Open In Colab\"/></a>"
      ]
    },
    {
      "cell_type": "markdown",
      "metadata": {
        "id": "WuhrF6LdzSmS"
      },
      "source": [
        "# MNIST example"
      ]
    },
    {
      "cell_type": "markdown",
      "metadata": {
        "id": "-INgLlAWzYpC"
      },
      "source": [
        "## Imports"
      ]
    },
    {
      "cell_type": "code",
      "metadata": {
        "colab": {
          "base_uri": "https://localhost:8080/"
        },
        "id": "4q9s78VdcjKW",
        "outputId": "5fa00df8-dde0-44b3-fa38-7cb789ef2bcc"
      },
      "source": [
        "#hide (Google Colab)\n",
        "!pip install fastai --upgrade -q\n",
        "import fastai\n",
        "print(fastai.__version__)\n",
        "\n",
        "!pip install -Uqq fastbook\n",
        "import fastbook\n",
        "fastbook.setup_book()"
      ],
      "execution_count": 1,
      "outputs": [
        {
          "output_type": "stream",
          "name": "stdout",
          "text": [
            "\u001b[K     |████████████████████████████████| 189 kB 6.9 MB/s \n",
            "\u001b[K     |████████████████████████████████| 56 kB 3.8 MB/s \n",
            "\u001b[?25h2.5.3\n",
            "\u001b[K     |████████████████████████████████| 720 kB 9.9 MB/s \n",
            "\u001b[K     |████████████████████████████████| 46 kB 4.3 MB/s \n",
            "\u001b[K     |████████████████████████████████| 1.2 MB 68.3 MB/s \n",
            "\u001b[K     |████████████████████████████████| 51 kB 297 kB/s \n",
            "\u001b[?25hMounted at /content/gdrive\n"
          ]
        }
      ]
    },
    {
      "cell_type": "code",
      "metadata": {
        "id": "2R3mXXIgdNPf"
      },
      "source": [
        "#hide\n",
        "from fastai.vision.all import *\n",
        "from fastbook import *\n",
        "\n",
        "matplotlib.rc('image', cmap='Greys')"
      ],
      "execution_count": 3,
      "outputs": []
    },
    {
      "cell_type": "markdown",
      "metadata": {
        "id": "PcZNNzkjzb6k"
      },
      "source": [
        "## Data"
      ]
    },
    {
      "cell_type": "code",
      "metadata": {
        "id": "wYXcTIyhcs3p"
      },
      "source": [
        "path = untar_data(URLs.MNIST)\n",
        "\n",
        "zeros = (path/\"training\"/\"0\").ls().sorted()\n",
        "ones = (path/\"training\"/\"1\").ls().sorted()\n",
        "twos = (path/\"training\"/\"2\").ls().sorted()\n",
        "threes = (path/\"training\"/\"3\").ls().sorted()\n",
        "fours = (path/\"training\"/\"4\").ls().sorted()\n",
        "fives = (path/\"training\"/\"5\").ls().sorted()\n",
        "sixes = (path/\"training\"/\"6\").ls().sorted()\n",
        "sevens = (path/\"training\"/\"7\").ls().sorted()\n",
        "eights = (path/\"training\"/\"8\").ls().sorted()\n",
        "nines = (path/\"training\"/\"9\").ls().sorted()"
      ],
      "execution_count": 11,
      "outputs": []
    },
    {
      "cell_type": "code",
      "metadata": {
        "id": "ongT38p7eShw"
      },
      "source": [
        "zero_tensors = [tensor(Image.open(o)) for o in zeros]\n",
        "one_tensors = [tensor(Image.open(o)) for o in ones]\n",
        "two_tensors = [tensor(Image.open(o)) for o in twos]\n",
        "three_tensors = [tensor(Image.open(o)) for o in threes]\n",
        "four_tensors = [tensor(Image.open(o)) for o in fours]\n",
        "five_tensors = [tensor(Image.open(o)) for o in fives]\n",
        "six_tensors = [tensor(Image.open(o)) for o in sixes]\n",
        "seven_tensors = [tensor(Image.open(o)) for o in sevens]\n",
        "eight_tensors = [tensor(Image.open(o)) for o in eights]\n",
        "nine_tensors = [tensor(Image.open(o)) for o in nines]"
      ],
      "execution_count": 12,
      "outputs": []
    },
    {
      "cell_type": "code",
      "metadata": {
        "colab": {
          "base_uri": "https://localhost:8080/",
          "height": 102
        },
        "id": "0bSjyyqkqG4V",
        "outputId": "a22fe4d7-0242-4a65-818e-81b1c1438695"
      },
      "source": [
        "show_image(nine_tensors[2])"
      ],
      "execution_count": 35,
      "outputs": [
        {
          "output_type": "execute_result",
          "data": {
            "text/plain": [
              "<matplotlib.axes._subplots.AxesSubplot at 0x7f7c415f9310>"
            ]
          },
          "metadata": {},
          "execution_count": 35
        },
        {
          "output_type": "display_data",
          "data": {
            "image/png": "[encoded data removed]",
            "text/plain": [
              "<Figure size 72x72 with 1 Axes>"
            ]
          },
          "metadata": {
            "needs_background": "light"
          }
        }
      ]
    },
    {
      "cell_type": "code",
      "metadata": {
        "colab": {
          "base_uri": "https://localhost:8080/"
        },
        "id": "kxJYtdh9uIb0",
        "outputId": "493a0963-c600-4bb6-f4b1-c3cb500d45cf"
      },
      "source": [
        "nine_tensors[0].shape[0]"
      ],
      "execution_count": 27,
      "outputs": [
        {
          "output_type": "execute_result",
          "data": {
            "text/plain": [
              "28"
            ]
          },
          "metadata": {},
          "execution_count": 27
        }
      ]
    },
    {
      "cell_type": "code",
      "metadata": {
        "colab": {
          "base_uri": "https://localhost:8080/"
        },
        "id": "ei9qerj-qiQm",
        "outputId": "34af684b-fd48-4d8c-82e1-3d34570d1ff3"
      },
      "source": [
        "img_dim = nine_tensors[0].shape[0]**2\n",
        "\n",
        "stacked_zeros = torch.stack(zero_tensors).view(-1, img_dim).float()/255\n",
        "stacked_ones = torch.stack(one_tensors).view(-1, img_dim).float()/255\n",
        "stacked_twos = torch.stack(two_tensors).view(-1, img_dim).float()/255\n",
        "stacked_threes = torch.stack(three_tensors).view(-1, img_dim).float()/255\n",
        "stacked_fours = torch.stack(four_tensors).view(-1, img_dim).float()/255\n",
        "stacked_fives = torch.stack(five_tensors).view(-1, img_dim).float()/255\n",
        "stacked_sixes = torch.stack(six_tensors).view(-1, img_dim).float()/255\n",
        "stacked_sevens = torch.stack(seven_tensors).view(-1, img_dim).float()/255\n",
        "stacked_eights = torch.stack(eight_tensors).view(-1, img_dim).float()/255\n",
        "stacked_nines = torch.stack(nine_tensors).view(-1, img_dim).float()/255\n",
        "\n",
        "stacked_eights.shape"
      ],
      "execution_count": 37,
      "outputs": [
        {
          "output_type": "execute_result",
          "data": {
            "text/plain": [
              "torch.Size([5851, 784])"
            ]
          },
          "metadata": {},
          "execution_count": 37
        }
      ]
    },
    {
      "cell_type": "code",
      "metadata": {
        "colab": {
          "base_uri": "https://localhost:8080/"
        },
        "id": "i4Pvld8_sWck",
        "outputId": "4117b5ec-f077-42d7-e470-e6b9afed9e80"
      },
      "source": [
        "data_x =torch.cat([stacked_zeros, \n",
        "                   stacked_ones,\n",
        "                   stacked_twos, \n",
        "                   stacked_threes,\n",
        "                   stacked_fours,\n",
        "                   stacked_fives,\n",
        "                   stacked_sixes,\n",
        "                   stacked_sevens,\n",
        "                   stacked_eights,\n",
        "                   stacked_nines])\n",
        "\n",
        "data_y = torch.cat([torch.tensor([0] * len(stacked_zeros)), \n",
        "                    torch.tensor([1] * len(stacked_ones)),\n",
        "                    torch.tensor([2] * len(stacked_twos)),\n",
        "                    torch.tensor([3] * len(stacked_threes)),\n",
        "                    torch.tensor([4] * len(stacked_fours)),\n",
        "                    torch.tensor([5] * len(stacked_fives)),\n",
        "                    torch.tensor([6] * len(stacked_sixes)),\n",
        "                    torch.tensor([7] * len(stacked_sevens)),\n",
        "                    torch.tensor([8] * len(stacked_eights)),\n",
        "                    torch.tensor([9] * len(stacked_nines))]).unsqueeze(1)\n",
        "\n",
        "(data_x.shape, data_y.shape)"
      ],
      "execution_count": 47,
      "outputs": [
        {
          "output_type": "execute_result",
          "data": {
            "text/plain": [
              "(torch.Size([60000, 784]), torch.Size([60000, 1]))"
            ]
          },
          "metadata": {},
          "execution_count": 47
        }
      ]
    },
    {
      "cell_type": "markdown",
      "metadata": {
        "id": "w1WojQDSzP1D"
      },
      "source": [
        "#### Divide training data into \"train\" and \"validation\"\n",
        "\n",
        "In order to do it we are going to sample (without replacement) a number of integer values from 0 to 60000. Then select those data instances as the validation data, and the rest of data instances as the training data.\n"
      ]
    },
    {
      "cell_type": "code",
      "metadata": {
        "colab": {
          "base_uri": "https://localhost:8080/"
        },
        "id": "6ad_XnY5wBWE",
        "outputId": "fdb1bf9e-ac4b-4cb2-ca15-693f65a03940"
      },
      "source": [
        "n_data = data_x.shape[0]\n",
        "n_val = 5000\n",
        "\n",
        "val_indices = np.random.choice(n_data, n_val, replace=False)\n",
        "val_mask = np.zeros(n_data, bool)\n",
        "val_mask[val_indices] = True\n",
        "val_data_x = data_x[val_mask]\n",
        "train_data_x = data_x[~val_mask]\n",
        "val_data_x.shape, train_data_x.shape"
      ],
      "execution_count": 52,
      "outputs": [
        {
          "output_type": "execute_result",
          "data": {
            "text/plain": [
              "(torch.Size([5000, 784]), torch.Size([55000, 784]))"
            ]
          },
          "metadata": {},
          "execution_count": 52
        }
      ]
    }
  ]
}