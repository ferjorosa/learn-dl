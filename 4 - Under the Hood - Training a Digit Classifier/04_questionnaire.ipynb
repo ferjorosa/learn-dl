{
  "nbformat": 4,
  "nbformat_minor": 0,
  "metadata": {
    "colab": {
      "name": "Untitled4.ipynb",
      "provenance": [],
      "authorship_tag": "ABX9TyM/qU57GFIKxrJZq08PfNqD",
      "include_colab_link": true
    },
    "kernelspec": {
      "name": "python3",
      "display_name": "Python 3"
    },
    "language_info": {
      "name": "python"
    }
  },
  "cells": [
    {
      "cell_type": "markdown",
      "metadata": {
        "id": "view-in-github",
        "colab_type": "text"
      },
      "source": [
        "<a href=\"https://colab.research.google.com/github/ferjorosa/learn-fastai/blob/main/fastbook_ch4_questionnaire.ipynb\" target=\"_parent\"><img src=\"https://colab.research.google.com/assets/colab-badge.svg\" alt=\"Open In Colab\"/></a>"
      ]
    },
    {
      "cell_type": "markdown",
      "metadata": {
        "id": "bIvkSgRhFpjK"
      },
      "source": [
        "# Questionnaire Chapter 4"
      ]
    },
    {
      "cell_type": "code",
      "metadata": {
        "id": "A6YOhyQk5Jb4",
        "outputId": "84a5b0a1-75e3-4962-a9ee-58b677314eb5",
        "colab": {
          "base_uri": "https://localhost:8080/"
        }
      },
      "source": [
        "#hide (Google Colab)\n",
        "!pip install fastai --upgrade -q\n",
        "import fastai\n",
        "print(fastai.__version__)\n",
        "\n",
        "!pip install -Uqq fastbook\n",
        "import fastbook\n",
        "fastbook.setup_book()"
      ],
      "execution_count": 15,
      "outputs": [
        {
          "output_type": "stream",
          "name": "stdout",
          "text": [
            "\u001b[?25l\r\u001b[K     |█▊                              | 10 kB 20.9 MB/s eta 0:00:01\r\u001b[K     |███▌                            | 20 kB 9.9 MB/s eta 0:00:01\r\u001b[K     |█████▏                          | 30 kB 8.4 MB/s eta 0:00:01\r\u001b[K     |███████                         | 40 kB 7.6 MB/s eta 0:00:01\r\u001b[K     |████████▋                       | 51 kB 4.1 MB/s eta 0:00:01\r\u001b[K     |██████████▍                     | 61 kB 4.4 MB/s eta 0:00:01\r\u001b[K     |████████████                    | 71 kB 4.4 MB/s eta 0:00:01\r\u001b[K     |█████████████▉                  | 81 kB 4.9 MB/s eta 0:00:01\r\u001b[K     |███████████████▋                | 92 kB 5.1 MB/s eta 0:00:01\r\u001b[K     |█████████████████▎              | 102 kB 4.1 MB/s eta 0:00:01\r\u001b[K     |███████████████████             | 112 kB 4.1 MB/s eta 0:00:01\r\u001b[K     |████████████████████▊           | 122 kB 4.1 MB/s eta 0:00:01\r\u001b[K     |██████████████████████▌         | 133 kB 4.1 MB/s eta 0:00:01\r\u001b[K     |████████████████████████▏       | 143 kB 4.1 MB/s eta 0:00:01\r\u001b[K     |██████████████████████████      | 153 kB 4.1 MB/s eta 0:00:01\r\u001b[K     |███████████████████████████▊    | 163 kB 4.1 MB/s eta 0:00:01\r\u001b[K     |█████████████████████████████▍  | 174 kB 4.1 MB/s eta 0:00:01\r\u001b[K     |███████████████████████████████▏| 184 kB 4.1 MB/s eta 0:00:01\r\u001b[K     |████████████████████████████████| 189 kB 4.1 MB/s \n",
            "\u001b[?25h\u001b[?25l\r\u001b[K     |█████▊                          | 10 kB 20.5 MB/s eta 0:00:01\r\u001b[K     |███████████▌                    | 20 kB 27.9 MB/s eta 0:00:01\r\u001b[K     |█████████████████▎              | 30 kB 35.2 MB/s eta 0:00:01\r\u001b[K     |███████████████████████         | 40 kB 39.1 MB/s eta 0:00:01\r\u001b[K     |████████████████████████████▉   | 51 kB 38.7 MB/s eta 0:00:01\r\u001b[K     |████████████████████████████████| 56 kB 4.0 MB/s \n",
            "\u001b[?25h2.5.3\n",
            "\u001b[K     |████████████████████████████████| 720 kB 4.1 MB/s \n",
            "\u001b[K     |████████████████████████████████| 1.2 MB 37.4 MB/s \n",
            "\u001b[K     |████████████████████████████████| 46 kB 3.9 MB/s \n",
            "\u001b[K     |████████████████████████████████| 51 kB 283 kB/s \n",
            "\u001b[?25hMounted at /content/gdrive\n"
          ]
        }
      ]
    },
    {
      "cell_type": "markdown",
      "metadata": {
        "id": "jTjU-xAHKGdq"
      },
      "source": [
        "**Question 1: How is a grayscale image represented on a computer? How about a color image?**\n",
        "\n",
        "A grayscale image is represented using a matrix, whose size corresponds to the number of pixels, where each matrix is ranged in [0,255].\n",
        "\n",
        "A color image is represented using a rank 3 tensor with 3 channels (red, green, blue), where each channel considers a matrix whose values correspond to the [0,255] range."
      ]
    },
    {
      "cell_type": "markdown",
      "metadata": {
        "id": "kpy1b5TlKuYS"
      },
      "source": [
        "**Question 2: How are the fields and folders of the MNIST_SAMPLE dataset structured? Why?**\n",
        "\n",
        "Each image has its own folder. For example threes are stored in the \"threes\" fold. In addition, image folders are divided into train and validation."
      ]
    },
    {
      "cell_type": "markdown",
      "metadata": {
        "id": "JUpwJJImLEGZ"
      },
      "source": [
        "**Question 3: Explain how the pixel similarity approach to classifying digits works**\n",
        "\n",
        "For each number, we estimate an \"ideal\" image that corresponds to the mean values of each of its pixels. Then, in order to classify an image as a specific number, we estimate the distance between the new image and all of the ideal images considered. The image is assigned a class corresponding to the smallest distance."
      ]
    },
    {
      "cell_type": "markdown",
      "metadata": {
        "id": "WX4N_VutFjaE"
      },
      "source": [
        "**Question 4: What is a list comprehension? Create one that selects odd numbers from a list and doubles them**"
      ]
    },
    {
      "cell_type": "code",
      "metadata": {
        "id": "93cgoB9_FnaC"
      },
      "source": [
        "l = [2,3,4,5,6]\n",
        "\n",
        "[l[i]**2 for i in range(0, len(l), 2)]"
      ],
      "execution_count": null,
      "outputs": []
    },
    {
      "cell_type": "markdown",
      "metadata": {
        "id": "0gaKY-eWLz2q"
      },
      "source": [
        "**Question 5: What is a rank-3 tensor?**\n",
        "\n",
        "It is a tensor with 3 dimensions. For example an RGB color image is a rank-3 tensor [i, j, k] where:\n",
        "* i: number of channels, i.e., 3 (red, green, blue)\n",
        "* j: number of row pixels\n",
        "* k: number of column pixels\n",
        "\n",
        "Example: [3, 20, 20] is a RGB image with dimension 20x20"
      ]
    },
    {
      "cell_type": "markdown",
      "metadata": {
        "id": "OLAge2QsF2GT"
      },
      "source": [
        "**Question 6: What is the difference between tensor rank and shape? How do you get the rank from the shape**\n",
        "\n",
        "Tensor rank is defined as the number of dimensions of a tensor. On the other hand, tensor shape represents the size of the each dimension. For example, a tensor with rank 2 is a two-dimensional array whose dimension sizes may be 10x5 (i.e., [10, 5])"
      ]
    },
    {
      "cell_type": "code",
      "metadata": {
        "colab": {
          "base_uri": "https://localhost:8080/"
        },
        "id": "Xf0kcRE9F2Ri",
        "outputId": "aa0206bc-d068-4bf6-f018-dafed3a49779"
      },
      "source": [
        "import torch\n",
        "\n",
        "t = torch.tensor([[[1,2,3], [1,2,3]], [[3,4,5], [3,4,5]]])\n",
        "print(\"Shape: \" + str(t.shape))\n",
        "print(\"Rank: \" + str(t.ndim))"
      ],
      "execution_count": null,
      "outputs": [
        {
          "output_type": "stream",
          "name": "stdout",
          "text": [
            "Shape: torch.Size([2, 2, 3])\n",
            "Rank: 3\n"
          ]
        }
      ]
    },
    {
      "cell_type": "code",
      "metadata": {
        "colab": {
          "base_uri": "https://localhost:8080/"
        },
        "id": "ykNcGxw0JRTr",
        "outputId": "4e2480d8-c39f-4684-a7be-9a940885559d"
      },
      "source": [
        "torch.zeros([3,5,2]) #3 matrices of 5x2"
      ],
      "execution_count": null,
      "outputs": [
        {
          "output_type": "execute_result",
          "data": {
            "text/plain": [
              "tensor([[[0., 0.],\n",
              "         [0., 0.],\n",
              "         [0., 0.],\n",
              "         [0., 0.],\n",
              "         [0., 0.]],\n",
              "\n",
              "        [[0., 0.],\n",
              "         [0., 0.],\n",
              "         [0., 0.],\n",
              "         [0., 0.],\n",
              "         [0., 0.]],\n",
              "\n",
              "        [[0., 0.],\n",
              "         [0., 0.],\n",
              "         [0., 0.],\n",
              "         [0., 0.],\n",
              "         [0., 0.]]])"
            ]
          },
          "metadata": {},
          "execution_count": 23
        }
      ]
    },
    {
      "cell_type": "markdown",
      "metadata": {
        "id": "cuRBhtqhJpRD"
      },
      "source": [
        "**Question 7: What are RMSE and L1 norm?**\n",
        "* RMSE: root mean-squared error. It is defined as the square root of the average squared distance between the actual score and the predicted score:\n",
        "* L1 norm: manhattan distance. For two vectorx $\\mathbf{x}$ and $\\mathbf{y}$, it is defined as $\\sum_{i} |x_{i} - y_{i}|$"
      ]
    },
    {
      "cell_type": "markdown",
      "metadata": {
        "id": "SdaxDUYdO-pz"
      },
      "source": [
        "**Question 8: How can you apply a calculation on thousand os numbers at once many thousands of times faster than a Python loop?**\n",
        "\n",
        "We can speed calculations using vectorization. [More information](https://blog.paperspace.com/numpy-optimization-vectorization-and-broadcasting/)"
      ]
    },
    {
      "cell_type": "markdown",
      "metadata": {
        "id": "CXizEBzhQMQL"
      },
      "source": [
        "**Question 9: Create a 3x3 tensor or array containing the numbers from 1 to 9. Double it. Select the bottom right four numbers**\n",
        "\n",
        "We use view instead of reshape to avoid the extra computation"
      ]
    },
    {
      "cell_type": "code",
      "metadata": {
        "colab": {
          "base_uri": "https://localhost:8080/"
        },
        "id": "jqD6tZbHQZ6B",
        "outputId": "29963d33-ea63-48fd-86b8-5ff969d016ad"
      },
      "source": [
        "matrix = torch.arange(1,10).view([3,3])\n",
        "matrix_sq = matrix**2\n",
        "matrix_sq.view(3*3)[-4:]"
      ],
      "execution_count": null,
      "outputs": [
        {
          "output_type": "execute_result",
          "data": {
            "text/plain": [
              "tensor([36, 49, 64, 81])"
            ]
          },
          "metadata": {},
          "execution_count": 42
        }
      ]
    },
    {
      "cell_type": "markdown",
      "metadata": {
        "id": "xOdwRvmLSCKZ"
      },
      "source": [
        "**Question 10: What is broadcasting?**\n",
        "\n",
        "*My answer:* When doing computations with vectors of unmatching dimensions, broadcasting is the process of temporarily expanding the dimension of the smaller tensor to match the dimension of the larger tensor\n",
        "\n",
        "*Proper answer:* The term broadcasting describes how numpy/pytorch treats tensors with different shapes during arithmetic operations. Subject to certain constraints, the smaller tensor is “broadcast” across the larger tensor so that they have compatible shapes."
      ]
    },
    {
      "cell_type": "markdown",
      "metadata": {
        "id": "HUmCXAabS_4y"
      },
      "source": [
        "**Question 11: Are metrics generally calculated using the training set or the validation set? Why?**\n",
        "\n",
        "We consider a loss function with the training data. We use metrics such as accuracy or RMSE with the validation data. Loss functions are better for optimization purposes. Metrics do not usually have a \"gradient\" nor are easy to directly optimize, so we use them in validation."
      ]
    },
    {
      "cell_type": "markdown",
      "metadata": {
        "id": "wETbwDVLWBuB"
      },
      "source": [
        "**Question 12: What is SGD?**\n",
        "\n",
        "*My answer:* The stochastic gradient descent is a variant of the gradient descent where we use a random sample or batch to optimize the parameters of the function (instead of the whole training data)\n",
        "\n",
        "*Proper answer:* In both gradient descent (GD) and stochastic gradient descent (SGD), you update a set of parameters in an iterative manner to minimize an error function.\n",
        "\n",
        "While in GD, you have to run through ALL the samples in your training set to do a single update for a parameter in a particular iteration, in SGD, on the other hand, you use ONLY ONE or SUBSET of training sample from your training set to do the update for a parameter in a particular iteration. If you use SUBSET, it is called Minibatch Stochastic gradient Descent."
      ]
    },
    {
      "cell_type": "markdown",
      "metadata": {
        "id": "5f93HsJhW5oR"
      },
      "source": [
        "**Question 13: Why does SGD use mini-batches?**\n",
        "\n",
        "If the number of training samples is very large, then using gradient descent may take too long because in every iteration you are running through the complete training set. Instead, every iteration of SGD only considers a handful of training samples and updates the parameters with them.\n"
      ]
    },
    {
      "cell_type": "markdown",
      "metadata": {
        "id": "RB70IIRCXtUh"
      },
      "source": [
        "**Question 14: What are the seven steos ub SGD for machine learning?**\n",
        "\n",
        "1. Initialize\n",
        "2. Predict\n",
        "3. Estimate loss\n",
        "4. Calculate gradient\n",
        "5. Update parameter values with gradient (i.e., step)\n",
        "6. Repeat the process\n",
        "7. Stop if the number of epochs is reached or if the loss did not decrease enough\n"
      ]
    },
    {
      "cell_type": "markdown",
      "metadata": {
        "id": "1JW_DezUY2g5"
      },
      "source": [
        "**Question 15: How do we initialize the weights in a model?**\n",
        "\n",
        "There may be multiple approaches. In our case, we use random values. Andrew Ng proposes to use small random values."
      ]
    },
    {
      "cell_type": "markdown",
      "metadata": {
        "id": "Go3W5Md_ZOpn"
      },
      "source": [
        "**Question 16: What is loss?**\n",
        "\n",
        "The loss function measures the ability of our model to represent and predict the training data. We use a function that can be easily optimized, usually via a gradient descent method."
      ]
    },
    {
      "cell_type": "markdown",
      "metadata": {
        "id": "YqSeaDbuZhTm"
      },
      "source": [
        "**Question 17: Why can't we always use a high learning rate?**\n",
        "\n",
        "The learning rate is a parameter of the gradient descent algorithm that establishes the \"step size\" of the algorithm. A learning rate that is too large can cause the model to converge too quickly to a suboptimal solution, whereas a learning rate that is too small can cause the process to get stuck."
      ]
    },
    {
      "cell_type": "markdown",
      "metadata": {
        "id": "QU12Dxy9anYC"
      },
      "source": [
        "**Question 18: What is a gradient?**\n",
        "\n",
        "In *mathematics*, the gradient of a function is another function that corresponds to its first derivative. However, in *deep learning* the gradient usually refers to the value of the function's derivative at a particular argument value"
      ]
    },
    {
      "cell_type": "markdown",
      "metadata": {
        "id": "J4bsONWUa2VY"
      },
      "source": [
        "**Question 19: Do you need to calculate gradients yourself?**\n",
        "\n",
        "By using Pytorch and other libraries with automatic differentiation, we are not required to know how to estimate the gradients ourselves."
      ]
    },
    {
      "cell_type": "markdown",
      "metadata": {
        "id": "MNgOh-oebnXQ"
      },
      "source": [
        "**Question 20: Why can't we use accuracy as a loss function?**\n",
        "\n",
        "Because its gradient could not be optimized."
      ]
    },
    {
      "cell_type": "markdown",
      "metadata": {
        "id": "w7TIb-doiFNM"
      },
      "source": [
        "**Question 21: What is special about the sigmoid function?**\n",
        "\n",
        "The sigmoid is a symmetric function with a maximum value of 1.0 and a minimum value of 0.0, which makes it appropriate for probabilistic binary classification problems."
      ]
    },
    {
      "cell_type": "markdown",
      "metadata": {
        "id": "fjyW2nlpid17"
      },
      "source": [
        "**Question 22: What is the difference between a loss function and a metric?**\n",
        "\n",
        "A loss function can be easily optimized via gradient descent but it is not easily interpretable by humans. On the other hand, a metric is easily interpreted but it is diffuclt to optimize. For example classification accuracy."
      ]
    },
    {
      "cell_type": "markdown",
      "metadata": {
        "id": "FjTLrrFZi5Cd"
      },
      "source": [
        "**Question 23: What is the function to calculate new weights using a learning rate?**\n",
        "\n",
        "The gradient descent method."
      ]
    },
    {
      "cell_type": "markdown",
      "metadata": {
        "id": "13MB6dxFjFND"
      },
      "source": [
        "**Question 24: What does the ```DataLoader``` class do?**\n",
        "\n",
        "It allows to iterate through a dataset using the Pytorch library."
      ]
    },
    {
      "cell_type": "markdown",
      "metadata": {
        "id": "uKh38_e_k9B6"
      },
      "source": [
        "**Question 25: Write pseudocode showing the basic steps taken in each epoch of SGD?**\n",
        "\n",
        "The pseudocode of the traditional SGD algorithm is the following:\n",
        "\n",
        "1. Initialize the weights $w$ and introduce the learning rate $l$ and data $\\mathcal{D}$.\n",
        "2. For each iteration $t \\in [1, \\dots, T]$:\n",
        "  * Draw a random instance $x$ with replacement from the data $\\mathcal{D}$\n",
        "  * Use current weights to predict the value of the target variable\n",
        "  * Compute the loss\n",
        "  * Compute the gradients $g$\n",
        "  * Update weight values with the gradient $w = w - (g * l)$\n",
        "\n",
        "The implementation used by Pytorch is other, which combines ideas from SGD and from mini-batch gradient descent:\n",
        "\n",
        "1. Initialize the weights $w$, introduce the learning rate $l$, the data $\\mathcal{D}$, and the mini-batch size $m$.\n",
        "2. For epoch $e \\in [1, \\dots, E]$:\n",
        "  * Suffle $\\mathcal{D}$ to prevent cycles.\n",
        "  * Generate a batch of size $m$ with instances sampled without replacement\n",
        "  * Use current weights to predict the values of the target variables in the mini-batch\n",
        "  * Compute the loss using the mini-batch\n",
        "  * Compute the gradient $g$ using the mini-batch\n",
        "  * Update weight values with the gradient $w = w - (g * l)$\n",
        "\n",
        "  [More information](https://sebastianraschka.com/faq/docs/sgd-methods.html)\n"
      ]
    },
    {
      "cell_type": "markdown",
      "metadata": {
        "id": "r97xNBbcqrMK"
      },
      "source": [
        "**Question 26: Create a function that if passed arguments two arguments ```[1,2,3,4]``` and 'abcd', returns ```[(1,'a'),(2,'b'),(3,'c'),(4,'d')]```. What is special about that output data structure?**\n",
        "\n",
        "What is interesting about this data strucuture is that it perfectly embodies the separation between predictor and predictie variables for each data instance."
      ]
    },
    {
      "cell_type": "code",
      "metadata": {
        "id": "AGRoU5APrwNy",
        "outputId": "17226a68-8f29-4131-887e-6b43ee64c7e6",
        "colab": {
          "base_uri": "https://localhost:8080/"
        }
      },
      "source": [
        "numbers = [1, 2, 3, 4]\n",
        "letters = ['a', 'b', 'c', 'd']\n",
        "\n",
        "list(zip(numbers, letters))"
      ],
      "execution_count": 2,
      "outputs": [
        {
          "output_type": "execute_result",
          "data": {
            "text/plain": [
              "[(1, 'a'), (2, 'b'), (3, 'c'), (4, 'd')]"
            ]
          },
          "metadata": {},
          "execution_count": 2
        }
      ]
    },
    {
      "cell_type": "markdown",
      "metadata": {
        "id": "rhmvjlhfsPdK"
      },
      "source": [
        "**Question 27: What does view do in PyTorch?**\n",
        "\n",
        "It allows to \"reshape\" a tensor without modyfing the underlying structure."
      ]
    },
    {
      "cell_type": "markdown",
      "metadata": {
        "id": "QZzGJjMEtJMo"
      },
      "source": [
        "**Question 28: What are the bias parameters in a neural network**\n",
        "\n",
        "Linear activation functions are linear regressions. Therefore the bias parameters (also known as the intercept) is a key element in the linear regression definition that adds a constant value to the function: $y = w*x + b$, where $b$ is the bias."
      ]
    },
    {
      "cell_type": "markdown",
      "metadata": {
        "id": "cnQbPi4st1sa"
      },
      "source": [
        "**Question 29: What does the ```@``` operator do in PyTorch?**\n",
        "\n",
        "Matrix multiplication."
      ]
    },
    {
      "cell_type": "code",
      "metadata": {
        "id": "o4zJTLs_vqnj",
        "outputId": "1d7ecaf9-9c0e-4b1f-b93e-819b50e9657f",
        "colab": {
          "base_uri": "https://localhost:8080/"
        }
      },
      "source": [
        "import torch\n",
        "\n",
        "mat1 = torch.randn(2, 3)\n",
        "mat2 = torch.randn(3, 2)\n",
        "\n",
        "print(torch.mm(mat1, mat2))\n",
        "print(mat1 @ mat2)\n",
        "print(torch.matmul(mat1, mat2))"
      ],
      "execution_count": 8,
      "outputs": [
        {
          "output_type": "stream",
          "name": "stdout",
          "text": [
            "tensor([[-0.1905,  0.2841],\n",
            "        [ 1.3964, -0.0828]])\n",
            "tensor([[-0.1905,  0.2841],\n",
            "        [ 1.3964, -0.0828]])\n",
            "tensor([[-0.1905,  0.2841],\n",
            "        [ 1.3964, -0.0828]])\n"
          ]
        }
      ]
    },
    {
      "cell_type": "markdown",
      "metadata": {
        "id": "aFLs2At4wWR8"
      },
      "source": [
        "**Question 30: What does the ```backward()``` method do?**\n",
        "\n",
        "It computes the gradients of current tensor. It corresponds to a part of the backward pass in backpropagation (the other part is the update of the weights using the newly calculated gradient values)."
      ]
    },
    {
      "cell_type": "markdown",
      "metadata": {
        "id": "ntr8vVEcxCDR"
      },
      "source": [
        "**Question 31: Why do we have to zero the gradients?**\n",
        "\n",
        "Because PyTorch accumulates the gradients on subsequent backward passes. So, for every mini-batch we need to explicitly set the gradients to zero before starting to do backpropragation."
      ]
    },
    {
      "cell_type": "markdown",
      "metadata": {
        "id": "LmX5JGZ3y9DC"
      },
      "source": [
        "**Question 32: What information do we have to pass to ```Learner```?**\n",
        "\n",
        "* A ```DataLoaders``` object with the train ```DataLoader``` and the validation ```DataLoader```.\n",
        "* The model.\n",
        "* The optimizer.\n",
        "* The loss function.\n",
        "* The metric\n",
        "\n",
        "[Learner documentation in the FastAI API](https://docs.fast.ai/learner.html#Learner)"
      ]
    },
    {
      "cell_type": "markdown",
      "metadata": {
        "id": "3WlIOP56z_XS"
      },
      "source": [
        "**Question 33: Show Python or pseudocode for the basic steps of a training loop**"
      ]
    },
    {
      "cell_type": "code",
      "metadata": {
        "id": "5xIx9Ij50eHZ",
        "outputId": "59c477a2-ae93-48ae-a855-7451f4b0067a",
        "colab": {
          "base_uri": "https://localhost:8080/",
          "height": 157
        }
      },
      "source": [
        "import graphviz\n",
        "\n",
        "def gv(s): return graphviz.Source('digraph G{ rankdir=\"LR\"' + s + '; }')\n",
        "\n",
        "gv('''\n",
        "data->model->loss\n",
        "model->metric\n",
        "metric->model[label=validate]\n",
        "loss->model[label=update]\n",
        "''')"
      ],
      "execution_count": 14,
      "outputs": [
        {
          "output_type": "execute_result",
          "data": {
            "text/plain": [
              "<graphviz.files.Source at 0x7fc18c33c050>"
            ],
            "image/svg+xml": "<?xml version=\"1.0\" encoding=\"UTF-8\" standalone=\"no\"?>\n<!DOCTYPE svg PUBLIC \"-//W3C//DTD SVG 1.1//EN\"\n \"http://www.w3.org/Graphics/SVG/1.1/DTD/svg11.dtd\">\n<!-- Generated by graphviz version 2.40.1 (20161225.0304)\n -->\n<!-- Title: G Pages: 1 -->\n<svg width=\"316pt\" height=\"102pt\"\n viewBox=\"0.00 0.00 316.49 102.00\" xmlns=\"http://www.w3.org/2000/svg\" xmlns:xlink=\"http://www.w3.org/1999/xlink\">\n<g id=\"graph0\" class=\"graph\" transform=\"scale(1 1) rotate(0) translate(4 98)\">\n<title>G</title>\n<polygon fill=\"#ffffff\" stroke=\"transparent\" points=\"-4,4 -4,-98 312.4879,-98 312.4879,4 -4,4\"/>\n<!-- data -->\n<g id=\"node1\" class=\"node\">\n<title>data</title>\n<ellipse fill=\"none\" stroke=\"#000000\" cx=\"27\" cy=\"-47\" rx=\"27\" ry=\"18\"/>\n<text text-anchor=\"middle\" x=\"27\" y=\"-43.3\" font-family=\"Times,serif\" font-size=\"14.00\" fill=\"#000000\">data</text>\n</g>\n<!-- model -->\n<g id=\"node2\" class=\"node\">\n<title>model</title>\n<ellipse fill=\"none\" stroke=\"#000000\" cx=\"125.4469\" cy=\"-47\" rx=\"34.394\" ry=\"18\"/>\n<text text-anchor=\"middle\" x=\"125.4469\" y=\"-43.3\" font-family=\"Times,serif\" font-size=\"14.00\" fill=\"#000000\">model</text>\n</g>\n<!-- data&#45;&gt;model -->\n<g id=\"edge1\" class=\"edge\">\n<title>data&#45;&gt;model</title>\n<path fill=\"none\" stroke=\"#000000\" d=\"M54.1617,-47C62.4319,-47 71.7498,-47 80.8544,-47\"/>\n<polygon fill=\"#000000\" stroke=\"#000000\" points=\"80.9761,-50.5001 90.9761,-47 80.9761,-43.5001 80.9761,-50.5001\"/>\n</g>\n<!-- loss -->\n<g id=\"node3\" class=\"node\">\n<title>loss</title>\n<ellipse fill=\"none\" stroke=\"#000000\" cx=\"274.6909\" cy=\"-76\" rx=\"27\" ry=\"18\"/>\n<text text-anchor=\"middle\" x=\"274.6909\" y=\"-72.3\" font-family=\"Times,serif\" font-size=\"14.00\" fill=\"#000000\">loss</text>\n</g>\n<!-- model&#45;&gt;loss -->\n<g id=\"edge2\" class=\"edge\">\n<title>model&#45;&gt;loss</title>\n<path fill=\"none\" stroke=\"#000000\" d=\"M144.1043,-62.3628C153.6009,-69.1959 165.6969,-76.482 177.8939,-80 197.4381,-85.6372 220.119,-85.0555 238.6111,-82.8726\"/>\n<polygon fill=\"#000000\" stroke=\"#000000\" points=\"239.2558,-86.3169 248.6826,-81.4812 238.2977,-79.3828 239.2558,-86.3169\"/>\n</g>\n<!-- metric -->\n<g id=\"node4\" class=\"node\">\n<title>metric</title>\n<ellipse fill=\"none\" stroke=\"#000000\" cx=\"274.6909\" cy=\"-18\" rx=\"33.5952\" ry=\"18\"/>\n<text text-anchor=\"middle\" x=\"274.6909\" y=\"-14.3\" font-family=\"Times,serif\" font-size=\"14.00\" fill=\"#000000\">metric</text>\n</g>\n<!-- model&#45;&gt;metric -->\n<g id=\"edge3\" class=\"edge\">\n<title>model&#45;&gt;metric</title>\n<path fill=\"none\" stroke=\"#000000\" d=\"M157.8307,-40.7074C179.7863,-36.4412 209.0158,-30.7615 232.7492,-26.1498\"/>\n<polygon fill=\"#000000\" stroke=\"#000000\" points=\"233.7343,-29.5239 242.8831,-24.1807 232.3991,-22.6525 233.7343,-29.5239\"/>\n</g>\n<!-- loss&#45;&gt;model -->\n<g id=\"edge5\" class=\"edge\">\n<title>loss&#45;&gt;model</title>\n<path fill=\"none\" stroke=\"#000000\" d=\"M250.1034,-68.1206C241.5554,-65.5843 231.8627,-62.9331 222.8939,-61 205.5986,-57.2723 186.3572,-54.2702 169.5714,-52.0163\"/>\n<polygon fill=\"#000000\" stroke=\"#000000\" points=\"169.8431,-48.5224 159.4765,-50.7099 168.9446,-55.4645 169.8431,-48.5224\"/>\n<text text-anchor=\"middle\" x=\"200.3939\" y=\"-64.8\" font-family=\"Times,serif\" font-size=\"14.00\" fill=\"#000000\">update</text>\n</g>\n<!-- metric&#45;&gt;model -->\n<g id=\"edge4\" class=\"edge\">\n<title>metric&#45;&gt;model</title>\n<path fill=\"none\" stroke=\"#000000\" d=\"M244.7849,-9.1594C225.3011,-4.8605 199.568,-1.9734 177.8939,-9 167.7861,-12.2769 157.994,-18.3126 149.6619,-24.6238\"/>\n<polygon fill=\"#000000\" stroke=\"#000000\" points=\"147.4331,-21.9249 141.8588,-30.9348 151.8351,-27.3676 147.4331,-21.9249\"/>\n<text text-anchor=\"middle\" x=\"200.3939\" y=\"-12.8\" font-family=\"Times,serif\" font-size=\"14.00\" fill=\"#000000\">validate</text>\n</g>\n</g>\n</svg>\n"
          },
          "metadata": {},
          "execution_count": 14
        }
      ]
    },
    {
      "cell_type": "markdown",
      "metadata": {
        "id": "srRsFprW2bAI"
      },
      "source": [
        "**Question 34: What is ReLU? Draw a plot of it for values from -2 to +2**\n",
        "\n",
        "ReLU stands for \"Regularized Linear Unit\". It is a non-linear activation function that is used instead of the sigmoid or tanh functions due to to its simplicity and speed of computation.\n",
        "\n",
        "It assigns 0 to negative values and maintains positive values"
      ]
    },
    {
      "cell_type": "code",
      "metadata": {
        "id": "LyVNSED55T93",
        "outputId": "6d2053ca-491b-4f8c-f575-50c1488c7226",
        "colab": {
          "base_uri": "https://localhost:8080/",
          "height": 322
        }
      },
      "source": [
        "from fastbook import *\n",
        "\n",
        "plot_function(F.relu)"
      ],
      "execution_count": 20,
      "outputs": [
        {
          "output_type": "stream",
          "name": "stderr",
          "text": [
            "/usr/local/lib/python3.7/dist-packages/fastbook/__init__.py:74: UserWarning: Not providing a value for linspace's steps is deprecated and will throw a runtime error in a future release. This warning will appear only once per process. (Triggered internally at  /pytorch/aten/src/ATen/native/RangeFactories.cpp:25.)\n",
            "  x = torch.linspace(min,max)\n"
          ]
        },
        {
          "output_type": "display_data",
          "data": {
            "image/png": "[encoded data removed]",
            "text/plain": [
              "<Figure size 432x288 with 1 Axes>"
            ]
          },
          "metadata": {
            "needs_background": "light"
          }
        }
      ]
    },
    {
      "cell_type": "markdown",
      "metadata": {
        "id": "KQPb6TAh6ejP"
      },
      "source": [
        "**Question 35: What is an activation function?**\n",
        "\n",
        "It defines how the linear output of a layer is transformed. The majority of activation functions are non-linear to give more flexibility to the neural network model."
      ]
    },
    {
      "cell_type": "markdown",
      "metadata": {
        "id": "vnZzMAwB7Qua"
      },
      "source": [
        "**Question 36: What is the difference between ```F.relu``` and ```nn.ReLU```?**\n",
        "\n",
        "F. relu is a Python function and nn.Relu is a Python class"
      ]
    },
    {
      "cell_type": "markdown",
      "metadata": {
        "id": "L2hsw__a7kV_"
      },
      "source": [
        "**Question 37: The universal approximation theorem shows that any function can be approximated as closely as needed using just one nonlinearity. So why do we normally use more?**\n",
        "\n",
        "Because using a single layer is much more complex to train and while it is theoretically possible, in practive we have observed better results with multiple smaller layers."
      ]
    }
  ]
}