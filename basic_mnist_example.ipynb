{
  "nbformat": 4,
  "nbformat_minor": 0,
  "metadata": {
    "colab": {
      "name": "Untitled1.ipynb",
      "provenance": [],
      "authorship_tag": "ABX9TyOqHwGem8orAq0OdtLPtydQ",
      "include_colab_link": true
    },
    "kernelspec": {
      "name": "python3",
      "display_name": "Python 3"
    },
    "language_info": {
      "name": "python"
    }
  },
  "cells": [
    {
      "cell_type": "markdown",
      "metadata": {
        "id": "view-in-github",
        "colab_type": "text"
      },
      "source": [
        "<a href=\"https://colab.research.google.com/github/ferjorosa/learn-fastai/blob/main/basic_mnist_example.ipynb\" target=\"_parent\"><img src=\"https://colab.research.google.com/assets/colab-badge.svg\" alt=\"Open In Colab\"/></a>"
      ]
    },
    {
      "cell_type": "markdown",
      "metadata": {
        "id": "Y1xAial2amrd"
      },
      "source": [
        "# **Basic MNIST example**\n",
        "\n",
        "The objective of this notebook is to simply put my notes and examples of the MNIST example of Chapter 4 from the Fast AI book"
      ]
    },
    {
      "cell_type": "markdown",
      "metadata": {
        "id": "-pObvZ9p-aYj"
      },
      "source": [
        "### Installation"
      ]
    },
    {
      "cell_type": "code",
      "metadata": {
        "colab": {
          "base_uri": "https://localhost:8080/"
        },
        "id": "dM7BtI9vahp9",
        "outputId": "508a9843-6077-4896-c6e5-fb65865c22f8"
      },
      "source": [
        "#hide (Google Colab)\n",
        "!pip install fastai --upgrade -q\n",
        "import fastai\n",
        "print(fastai.__version__)\n",
        "\n",
        "!pip install -Uqq fastbook\n",
        "import fastbook\n",
        "fastbook.setup_book()"
      ],
      "execution_count": 1,
      "outputs": [
        {
          "output_type": "stream",
          "name": "stdout",
          "text": [
            "\u001b[K     |████████████████████████████████| 189 kB 29.3 MB/s \n",
            "\u001b[K     |████████████████████████████████| 56 kB 4.2 MB/s \n",
            "\u001b[?25h2.5.3\n",
            "\u001b[K     |████████████████████████████████| 720 kB 33.7 MB/s \n",
            "\u001b[K     |████████████████████████████████| 46 kB 4.2 MB/s \n",
            "\u001b[K     |████████████████████████████████| 1.2 MB 47.6 MB/s \n",
            "\u001b[K     |████████████████████████████████| 51 kB 335 kB/s \n",
            "\u001b[?25hMounted at /content/gdrive\n"
          ]
        }
      ]
    },
    {
      "cell_type": "code",
      "metadata": {
        "id": "zFKKBVgDalMd"
      },
      "source": [
        "#hide\n",
        "from fastai.vision.all import *\n",
        "from fastbook import *\n",
        "\n",
        "matplotlib.rc('image', cmap='Greys')"
      ],
      "execution_count": 2,
      "outputs": []
    },
    {
      "cell_type": "markdown",
      "metadata": {
        "id": "IHXWv_3N-mfK"
      },
      "source": [
        "### **Data**"
      ]
    },
    {
      "cell_type": "code",
      "metadata": {
        "colab": {
          "base_uri": "https://localhost:8080/",
          "height": 74
        },
        "id": "WYhQ09YLcM__",
        "outputId": "30951ba4-d9bb-42af-99b3-01a4ce9ab8cf"
      },
      "source": [
        "path = untar_data(URLs.MNIST_SAMPLE)\n",
        "threes = (path/'train'/'3').ls().sorted()\n",
        "sevens = (path/'train'/'7').ls().sorted()\n",
        "threes"
      ],
      "execution_count": 3,
      "outputs": [
        {
          "output_type": "display_data",
          "data": {
            "text/html": [
              "\n",
              "    <div>\n",
              "        <style>\n",
              "            /* Turns off some styling */\n",
              "            progress {\n",
              "                /* gets rid of default border in Firefox and Opera. */\n",
              "                border: none;\n",
              "                /* Needs to be in here for Safari polyfill so background images work as expected. */\n",
              "                background-size: auto;\n",
              "            }\n",
              "            .progress-bar-interrupted, .progress-bar-interrupted::-webkit-progress-bar {\n",
              "                background: #F44336;\n",
              "            }\n",
              "        </style>\n",
              "      <progress value='3219456' class='' max='3214948' style='width:300px; height:20px; vertical-align: middle;'></progress>\n",
              "      100.14% [3219456/3214948 00:00<00:00]\n",
              "    </div>\n",
              "    "
            ],
            "text/plain": [
              "<IPython.core.display.HTML object>"
            ]
          },
          "metadata": {}
        },
        {
          "output_type": "execute_result",
          "data": {
            "text/plain": [
              "(#6131) [Path('/root/.fastai/data/mnist_sample/train/3/10.png'),Path('/root/.fastai/data/mnist_sample/train/3/10000.png'),Path('/root/.fastai/data/mnist_sample/train/3/10011.png'),Path('/root/.fastai/data/mnist_sample/train/3/10031.png'),Path('/root/.fastai/data/mnist_sample/train/3/10034.png'),Path('/root/.fastai/data/mnist_sample/train/3/10042.png'),Path('/root/.fastai/data/mnist_sample/train/3/10052.png'),Path('/root/.fastai/data/mnist_sample/train/3/1007.png'),Path('/root/.fastai/data/mnist_sample/train/3/10074.png'),Path('/root/.fastai/data/mnist_sample/train/3/10091.png')...]"
            ]
          },
          "metadata": {},
          "execution_count": 3
        }
      ]
    },
    {
      "cell_type": "code",
      "metadata": {
        "colab": {
          "base_uri": "https://localhost:8080/"
        },
        "id": "JUnRQ1Cgcfqe",
        "outputId": "36b89c36-ec1e-4268-c5cd-bfa104fa49ed"
      },
      "source": [
        "seven_tensors = [tensor(Image.open(o)) for o in sevens]\n",
        "three_tensors = [tensor(Image.open(o)) for o in threes]\n",
        "len(three_tensors),len(seven_tensors)"
      ],
      "execution_count": 4,
      "outputs": [
        {
          "output_type": "execute_result",
          "data": {
            "text/plain": [
              "(6131, 6265)"
            ]
          },
          "metadata": {},
          "execution_count": 4
        }
      ]
    },
    {
      "cell_type": "code",
      "metadata": {
        "colab": {
          "base_uri": "https://localhost:8080/"
        },
        "id": "JNtJwGr_cZ9G",
        "outputId": "9fe4a57f-7eb5-4e0f-ed38-b8d092ef0d65"
      },
      "source": [
        "stacked_sevens = torch.stack(seven_tensors).float()/255\n",
        "stacked_threes = torch.stack(three_tensors).float()/255\n",
        "stacked_threes.shape"
      ],
      "execution_count": 5,
      "outputs": [
        {
          "output_type": "execute_result",
          "data": {
            "text/plain": [
              "torch.Size([6131, 28, 28])"
            ]
          },
          "metadata": {},
          "execution_count": 5
        }
      ]
    },
    {
      "cell_type": "code",
      "metadata": {
        "colab": {
          "base_uri": "https://localhost:8080/"
        },
        "id": "kZOkO4Q2dUP2",
        "outputId": "62d76853-dafd-4c80-9db2-1997d9d6f1f8"
      },
      "source": [
        "valid_3_tens = torch.stack([tensor(Image.open(o)) \n",
        "                            for o in (path/'valid'/'3').ls()])\n",
        "valid_3_tens = valid_3_tens.float()/255\n",
        "valid_7_tens = torch.stack([tensor(Image.open(o)) \n",
        "                            for o in (path/'valid'/'7').ls()])\n",
        "valid_7_tens = valid_7_tens.float()/255\n",
        "valid_3_tens.shape,valid_7_tens.shape"
      ],
      "execution_count": 6,
      "outputs": [
        {
          "output_type": "execute_result",
          "data": {
            "text/plain": [
              "(torch.Size([1010, 28, 28]), torch.Size([1028, 28, 28]))"
            ]
          },
          "metadata": {},
          "execution_count": 6
        }
      ]
    },
    {
      "cell_type": "markdown",
      "metadata": {
        "id": "G4kLrBhq--fh"
      },
      "source": [
        "### **Single-batch gradient descent**"
      ]
    },
    {
      "cell_type": "code",
      "metadata": {
        "colab": {
          "base_uri": "https://localhost:8080/",
          "height": 125
        },
        "id": "9oidziwAcp_P",
        "outputId": "5c8b82a7-c250-471d-cc87-644b548b00a1"
      },
      "source": [
        "gv('''\n",
        "init->predict->loss->gradient->step->stop\n",
        "step->predict[label=repeat]\n",
        "''')"
      ],
      "execution_count": 7,
      "outputs": [
        {
          "output_type": "execute_result",
          "data": {
            "text/plain": [
              "<graphviz.files.Source at 0x7f393831acd0>"
            ],
            "image/svg+xml": "<?xml version=\"1.0\" encoding=\"UTF-8\" standalone=\"no\"?>\n<!DOCTYPE svg PUBLIC \"-//W3C//DTD SVG 1.1//EN\"\n \"http://www.w3.org/Graphics/SVG/1.1/DTD/svg11.dtd\">\n<!-- Generated by graphviz version 2.40.1 (20161225.0304)\n -->\n<!-- Title: G Pages: 1 -->\n<svg width=\"597pt\" height=\"78pt\"\n viewBox=\"0.00 0.00 596.69 78.00\" xmlns=\"http://www.w3.org/2000/svg\" xmlns:xlink=\"http://www.w3.org/1999/xlink\">\n<g id=\"graph0\" class=\"graph\" transform=\"scale(1 1) rotate(0) translate(4 74)\">\n<title>G</title>\n<polygon fill=\"#ffffff\" stroke=\"transparent\" points=\"-4,4 -4,-74 592.6863,-74 592.6863,4 -4,4\"/>\n<!-- init -->\n<g id=\"node1\" class=\"node\">\n<title>init</title>\n<ellipse fill=\"none\" stroke=\"#000000\" cx=\"27\" cy=\"-18\" rx=\"27\" ry=\"18\"/>\n<text text-anchor=\"middle\" x=\"27\" y=\"-14.3\" font-family=\"Times,serif\" font-size=\"14.00\" fill=\"#000000\">init</text>\n</g>\n<!-- predict -->\n<g id=\"node2\" class=\"node\">\n<title>predict</title>\n<ellipse fill=\"none\" stroke=\"#000000\" cx=\"127.3968\" cy=\"-18\" rx=\"36.2938\" ry=\"18\"/>\n<text text-anchor=\"middle\" x=\"127.3968\" y=\"-14.3\" font-family=\"Times,serif\" font-size=\"14.00\" fill=\"#000000\">predict</text>\n</g>\n<!-- init&#45;&gt;predict -->\n<g id=\"edge1\" class=\"edge\">\n<title>init&#45;&gt;predict</title>\n<path fill=\"none\" stroke=\"#000000\" d=\"M54.1688,-18C62.3543,-18 71.5827,-18 80.6596,-18\"/>\n<polygon fill=\"#000000\" stroke=\"#000000\" points=\"80.7795,-21.5001 90.7795,-18 80.7795,-14.5001 80.7795,-21.5001\"/>\n</g>\n<!-- loss -->\n<g id=\"node3\" class=\"node\">\n<title>loss</title>\n<ellipse fill=\"none\" stroke=\"#000000\" cx=\"227.7935\" cy=\"-52\" rx=\"27\" ry=\"18\"/>\n<text text-anchor=\"middle\" x=\"227.7935\" y=\"-48.3\" font-family=\"Times,serif\" font-size=\"14.00\" fill=\"#000000\">loss</text>\n</g>\n<!-- predict&#45;&gt;loss -->\n<g id=\"edge2\" class=\"edge\">\n<title>predict&#45;&gt;loss</title>\n<path fill=\"none\" stroke=\"#000000\" d=\"M157.5191,-28.2011C168.9806,-32.0826 182.1139,-36.5303 193.9014,-40.5222\"/>\n<polygon fill=\"#000000\" stroke=\"#000000\" points=\"192.8259,-43.8532 203.4202,-43.7458 195.0713,-37.2231 192.8259,-43.8532\"/>\n</g>\n<!-- gradient -->\n<g id=\"node4\" class=\"node\">\n<title>gradient</title>\n<ellipse fill=\"none\" stroke=\"#000000\" cx=\"365.7399\" cy=\"-52\" rx=\"40.8928\" ry=\"18\"/>\n<text text-anchor=\"middle\" x=\"365.7399\" y=\"-48.3\" font-family=\"Times,serif\" font-size=\"14.00\" fill=\"#000000\">gradient</text>\n</g>\n<!-- loss&#45;&gt;gradient -->\n<g id=\"edge3\" class=\"edge\">\n<title>loss&#45;&gt;gradient</title>\n<path fill=\"none\" stroke=\"#000000\" d=\"M255.0473,-52C272.0415,-52 294.4481,-52 314.6545,-52\"/>\n<polygon fill=\"#000000\" stroke=\"#000000\" points=\"314.671,-55.5001 324.671,-52 314.671,-48.5001 314.671,-55.5001\"/>\n</g>\n<!-- step -->\n<g id=\"node5\" class=\"node\">\n<title>step</title>\n<ellipse fill=\"none\" stroke=\"#000000\" cx=\"470.6863\" cy=\"-18\" rx=\"27\" ry=\"18\"/>\n<text text-anchor=\"middle\" x=\"470.6863\" y=\"-14.3\" font-family=\"Times,serif\" font-size=\"14.00\" fill=\"#000000\">step</text>\n</g>\n<!-- gradient&#45;&gt;step -->\n<g id=\"edge4\" class=\"edge\">\n<title>gradient&#45;&gt;step</title>\n<path fill=\"none\" stroke=\"#000000\" d=\"M398.9456,-41.2422C410.9558,-37.3512 424.5297,-32.9536 436.6132,-29.0388\"/>\n<polygon fill=\"#000000\" stroke=\"#000000\" points=\"437.9112,-32.2975 446.3457,-25.8857 435.7537,-25.6382 437.9112,-32.2975\"/>\n</g>\n<!-- step&#45;&gt;predict -->\n<g id=\"edge6\" class=\"edge\">\n<title>step&#45;&gt;predict</title>\n<path fill=\"none\" stroke=\"#000000\" d=\"M443.4266,-18C384.9297,-18 246.7861,-18 174.0495,-18\"/>\n<polygon fill=\"#000000\" stroke=\"#000000\" points=\"173.8098,-14.5001 163.8098,-18 173.8097,-21.5001 173.8098,-14.5001\"/>\n<text text-anchor=\"middle\" x=\"289.7935\" y=\"-21.8\" font-family=\"Times,serif\" font-size=\"14.00\" fill=\"#000000\">repeat</text>\n</g>\n<!-- stop -->\n<g id=\"node6\" class=\"node\">\n<title>stop</title>\n<ellipse fill=\"none\" stroke=\"#000000\" cx=\"561.6863\" cy=\"-18\" rx=\"27\" ry=\"18\"/>\n<text text-anchor=\"middle\" x=\"561.6863\" y=\"-14.3\" font-family=\"Times,serif\" font-size=\"14.00\" fill=\"#000000\">stop</text>\n</g>\n<!-- step&#45;&gt;stop -->\n<g id=\"edge5\" class=\"edge\">\n<title>step&#45;&gt;stop</title>\n<path fill=\"none\" stroke=\"#000000\" d=\"M497.9893,-18C506.2676,-18 515.508,-18 524.3268,-18\"/>\n<polygon fill=\"#000000\" stroke=\"#000000\" points=\"524.4026,-21.5001 534.4025,-18 524.4025,-14.5001 524.4026,-21.5001\"/>\n</g>\n</g>\n</svg>\n"
          },
          "metadata": {},
          "execution_count": 7
        }
      ]
    },
    {
      "cell_type": "code",
      "metadata": {
        "colab": {
          "base_uri": "https://localhost:8080/"
        },
        "id": "U3u83vqEcrcP",
        "outputId": "169e7dd9-614d-4861-9af6-47b72a9c7330"
      },
      "source": [
        "train_x =torch.cat([stacked_threes, stacked_sevens]).view(-1, 28*28)\n",
        "train_y = tensor([0] * len(stacked_threes) + [1] *len(stacked_sevens)).unsqueeze(1)\n",
        "(train_x.shape, train_y.shape)"
      ],
      "execution_count": 8,
      "outputs": [
        {
          "output_type": "execute_result",
          "data": {
            "text/plain": [
              "(torch.Size([12396, 784]), torch.Size([12396, 1]))"
            ]
          },
          "metadata": {},
          "execution_count": 8
        }
      ]
    },
    {
      "cell_type": "code",
      "metadata": {
        "colab": {
          "base_uri": "https://localhost:8080/"
        },
        "id": "YqdJprAIdCh-",
        "outputId": "79495d65-9fe7-4227-db92-2a612dbda9e5"
      },
      "source": [
        "valid_x = torch.cat([valid_3_tens, valid_7_tens]).view(-1,28*28)\n",
        "valid_y = tensor([0] * len(valid_3_tens) + [1] * len(valid_7_tens)).unsqueeze(1)\n",
        "(valid_x.shape, valid_y.shape)"
      ],
      "execution_count": 9,
      "outputs": [
        {
          "output_type": "execute_result",
          "data": {
            "text/plain": [
              "(torch.Size([2038, 784]), torch.Size([2038, 1]))"
            ]
          },
          "metadata": {},
          "execution_count": 9
        }
      ]
    },
    {
      "cell_type": "code",
      "metadata": {
        "id": "1ZHBEUhIdaTP"
      },
      "source": [
        "def init_params(size, std=1.0): return (torch.randn(size) * std).requires_grad_()\n",
        "\n",
        "def mnist_loss(predictions, targets): \n",
        "  predictions = predictions.sigmoid()\n",
        "  return torch.where(targets==1, 1-predictions, predictions).mean()\n",
        "\n",
        "def linear3(x, w): return x@w + intercept\n",
        "  \n",
        "def predict(x, w):\n",
        "  linear_predictions = model(x, w)\n",
        "  predictions = linear_predictions.sigmoid()\n",
        "  return torch.where(predictions > 0.5, 1, 0)\n",
        "\n",
        "def validate(valid_x, w, valid_y):\n",
        "  binary_preds = predict(valid_x, w)\n",
        "  return (binary_preds == valid_y).count_nonzero() / valid_y.shape[0]\n",
        "\n",
        "def epoch1(x, y, w, valid_x, valid_y, prt=True):\n",
        "  pred = model(x, w)\n",
        "  loss = mnist_loss(pred, y)\n",
        "  loss.backward()\n",
        "  if prt: print(\"Loss: \" + str(loss))\n",
        "  accuracy = validate(valid_x, w, valid_y)\n",
        "  if prt: print(\"Validation accuracy: \" + str(accuracy))\n",
        "  w.data -= w.grad.data * lr\n",
        "\n",
        "w = init_params((784, 1))\n",
        "lr = 1e-3\n",
        "model = linear3\n",
        "weights = init_params((28*28,1))\n",
        "intercept = init_params(1)"
      ],
      "execution_count": 112,
      "outputs": []
    },
    {
      "cell_type": "code",
      "metadata": {
        "colab": {
          "base_uri": "https://localhost:8080/"
        },
        "id": "oyom4n7idfv3",
        "outputId": "c37762f7-e865-4671-f976-23b4ef941af2"
      },
      "source": [
        "epoch1(train_x, train_y, w, valid_x, valid_y)"
      ],
      "execution_count": 20,
      "outputs": [
        {
          "output_type": "stream",
          "name": "stdout",
          "text": [
            "Loss: tensor(0.3460, grad_fn=<MeanBackward0>)\n",
            "Validation accuracy: tensor(0.6541)\n"
          ]
        }
      ]
    },
    {
      "cell_type": "code",
      "metadata": {
        "id": "3O6JAiJpdicu",
        "outputId": "36716f22-8060-4c24-d02f-48c9719c6b8d",
        "colab": {
          "base_uri": "https://localhost:8080/"
        }
      },
      "source": [
        "n_epochs = 100\n",
        "for i in range (1, n_epochs):\n",
        "  epoch1(train_x, train_y, w, valid_x, valid_y)"
      ],
      "execution_count": 113,
      "outputs": [
        {
          "output_type": "stream",
          "name": "stdout",
          "text": [
            "Loss: tensor(0.2047, grad_fn=<MeanBackward0>)\n",
            "Validation accuracy: tensor(0.8209)\n",
            "Loss: tensor(0.2047, grad_fn=<MeanBackward0>)\n",
            "Validation accuracy: tensor(0.8209)\n",
            "Loss: tensor(0.2046, grad_fn=<MeanBackward0>)\n",
            "Validation accuracy: tensor(0.8209)\n",
            "Loss: tensor(0.2046, grad_fn=<MeanBackward0>)\n",
            "Validation accuracy: tensor(0.8209)\n",
            "Loss: tensor(0.2045, grad_fn=<MeanBackward0>)\n",
            "Validation accuracy: tensor(0.8209)\n",
            "Loss: tensor(0.2045, grad_fn=<MeanBackward0>)\n",
            "Validation accuracy: tensor(0.8209)\n",
            "Loss: tensor(0.2044, grad_fn=<MeanBackward0>)\n",
            "Validation accuracy: tensor(0.8209)\n",
            "Loss: tensor(0.2043, grad_fn=<MeanBackward0>)\n",
            "Validation accuracy: tensor(0.8209)\n",
            "Loss: tensor(0.2042, grad_fn=<MeanBackward0>)\n",
            "Validation accuracy: tensor(0.8209)\n",
            "Loss: tensor(0.2041, grad_fn=<MeanBackward0>)\n",
            "Validation accuracy: tensor(0.8209)\n",
            "Loss: tensor(0.2039, grad_fn=<MeanBackward0>)\n",
            "Validation accuracy: tensor(0.8209)\n",
            "Loss: tensor(0.2038, grad_fn=<MeanBackward0>)\n",
            "Validation accuracy: tensor(0.8209)\n",
            "Loss: tensor(0.2036, grad_fn=<MeanBackward0>)\n",
            "Validation accuracy: tensor(0.8204)\n",
            "Loss: tensor(0.2034, grad_fn=<MeanBackward0>)\n",
            "Validation accuracy: tensor(0.8209)\n",
            "Loss: tensor(0.2033, grad_fn=<MeanBackward0>)\n",
            "Validation accuracy: tensor(0.8209)\n",
            "Loss: tensor(0.2031, grad_fn=<MeanBackward0>)\n",
            "Validation accuracy: tensor(0.8214)\n",
            "Loss: tensor(0.2029, grad_fn=<MeanBackward0>)\n",
            "Validation accuracy: tensor(0.8219)\n",
            "Loss: tensor(0.2026, grad_fn=<MeanBackward0>)\n",
            "Validation accuracy: tensor(0.8214)\n",
            "Loss: tensor(0.2024, grad_fn=<MeanBackward0>)\n",
            "Validation accuracy: tensor(0.8214)\n",
            "Loss: tensor(0.2021, grad_fn=<MeanBackward0>)\n",
            "Validation accuracy: tensor(0.8219)\n",
            "Loss: tensor(0.2019, grad_fn=<MeanBackward0>)\n",
            "Validation accuracy: tensor(0.8224)\n",
            "Loss: tensor(0.2016, grad_fn=<MeanBackward0>)\n",
            "Validation accuracy: tensor(0.8234)\n",
            "Loss: tensor(0.2013, grad_fn=<MeanBackward0>)\n",
            "Validation accuracy: tensor(0.8238)\n",
            "Loss: tensor(0.2010, grad_fn=<MeanBackward0>)\n",
            "Validation accuracy: tensor(0.8238)\n",
            "Loss: tensor(0.2007, grad_fn=<MeanBackward0>)\n",
            "Validation accuracy: tensor(0.8238)\n",
            "Loss: tensor(0.2004, grad_fn=<MeanBackward0>)\n",
            "Validation accuracy: tensor(0.8238)\n",
            "Loss: tensor(0.2001, grad_fn=<MeanBackward0>)\n",
            "Validation accuracy: tensor(0.8253)\n",
            "Loss: tensor(0.1997, grad_fn=<MeanBackward0>)\n",
            "Validation accuracy: tensor(0.8258)\n",
            "Loss: tensor(0.1994, grad_fn=<MeanBackward0>)\n",
            "Validation accuracy: tensor(0.8258)\n",
            "Loss: tensor(0.1990, grad_fn=<MeanBackward0>)\n",
            "Validation accuracy: tensor(0.8273)\n",
            "Loss: tensor(0.1986, grad_fn=<MeanBackward0>)\n",
            "Validation accuracy: tensor(0.8278)\n",
            "Loss: tensor(0.1982, grad_fn=<MeanBackward0>)\n",
            "Validation accuracy: tensor(0.8288)\n",
            "Loss: tensor(0.1978, grad_fn=<MeanBackward0>)\n",
            "Validation accuracy: tensor(0.8288)\n",
            "Loss: tensor(0.1974, grad_fn=<MeanBackward0>)\n",
            "Validation accuracy: tensor(0.8297)\n",
            "Loss: tensor(0.1970, grad_fn=<MeanBackward0>)\n",
            "Validation accuracy: tensor(0.8312)\n",
            "Loss: tensor(0.1966, grad_fn=<MeanBackward0>)\n",
            "Validation accuracy: tensor(0.8327)\n",
            "Loss: tensor(0.1962, grad_fn=<MeanBackward0>)\n",
            "Validation accuracy: tensor(0.8327)\n",
            "Loss: tensor(0.1957, grad_fn=<MeanBackward0>)\n",
            "Validation accuracy: tensor(0.8327)\n",
            "Loss: tensor(0.1953, grad_fn=<MeanBackward0>)\n",
            "Validation accuracy: tensor(0.8351)\n",
            "Loss: tensor(0.1948, grad_fn=<MeanBackward0>)\n",
            "Validation accuracy: tensor(0.8361)\n",
            "Loss: tensor(0.1943, grad_fn=<MeanBackward0>)\n",
            "Validation accuracy: tensor(0.8371)\n",
            "Loss: tensor(0.1939, grad_fn=<MeanBackward0>)\n",
            "Validation accuracy: tensor(0.8371)\n",
            "Loss: tensor(0.1934, grad_fn=<MeanBackward0>)\n",
            "Validation accuracy: tensor(0.8376)\n",
            "Loss: tensor(0.1929, grad_fn=<MeanBackward0>)\n",
            "Validation accuracy: tensor(0.8376)\n",
            "Loss: tensor(0.1924, grad_fn=<MeanBackward0>)\n",
            "Validation accuracy: tensor(0.8376)\n",
            "Loss: tensor(0.1919, grad_fn=<MeanBackward0>)\n",
            "Validation accuracy: tensor(0.8395)\n",
            "Loss: tensor(0.1913, grad_fn=<MeanBackward0>)\n",
            "Validation accuracy: tensor(0.8400)\n",
            "Loss: tensor(0.1908, grad_fn=<MeanBackward0>)\n",
            "Validation accuracy: tensor(0.8400)\n",
            "Loss: tensor(0.1903, grad_fn=<MeanBackward0>)\n",
            "Validation accuracy: tensor(0.8395)\n",
            "Loss: tensor(0.1897, grad_fn=<MeanBackward0>)\n",
            "Validation accuracy: tensor(0.8415)\n",
            "Loss: tensor(0.1892, grad_fn=<MeanBackward0>)\n",
            "Validation accuracy: tensor(0.8415)\n",
            "Loss: tensor(0.1886, grad_fn=<MeanBackward0>)\n",
            "Validation accuracy: tensor(0.8420)\n",
            "Loss: tensor(0.1881, grad_fn=<MeanBackward0>)\n",
            "Validation accuracy: tensor(0.8415)\n",
            "Loss: tensor(0.1875, grad_fn=<MeanBackward0>)\n",
            "Validation accuracy: tensor(0.8420)\n",
            "Loss: tensor(0.1870, grad_fn=<MeanBackward0>)\n",
            "Validation accuracy: tensor(0.8430)\n",
            "Loss: tensor(0.1864, grad_fn=<MeanBackward0>)\n",
            "Validation accuracy: tensor(0.8440)\n",
            "Loss: tensor(0.1858, grad_fn=<MeanBackward0>)\n",
            "Validation accuracy: tensor(0.8449)\n",
            "Loss: tensor(0.1852, grad_fn=<MeanBackward0>)\n",
            "Validation accuracy: tensor(0.8454)\n",
            "Loss: tensor(0.1846, grad_fn=<MeanBackward0>)\n",
            "Validation accuracy: tensor(0.8454)\n",
            "Loss: tensor(0.1841, grad_fn=<MeanBackward0>)\n",
            "Validation accuracy: tensor(0.8469)\n",
            "Loss: tensor(0.1835, grad_fn=<MeanBackward0>)\n",
            "Validation accuracy: tensor(0.8479)\n",
            "Loss: tensor(0.1829, grad_fn=<MeanBackward0>)\n",
            "Validation accuracy: tensor(0.8479)\n",
            "Loss: tensor(0.1823, grad_fn=<MeanBackward0>)\n",
            "Validation accuracy: tensor(0.8484)\n",
            "Loss: tensor(0.1817, grad_fn=<MeanBackward0>)\n",
            "Validation accuracy: tensor(0.8494)\n",
            "Loss: tensor(0.1811, grad_fn=<MeanBackward0>)\n",
            "Validation accuracy: tensor(0.8499)\n",
            "Loss: tensor(0.1805, grad_fn=<MeanBackward0>)\n",
            "Validation accuracy: tensor(0.8503)\n",
            "Loss: tensor(0.1798, grad_fn=<MeanBackward0>)\n",
            "Validation accuracy: tensor(0.8503)\n",
            "Loss: tensor(0.1792, grad_fn=<MeanBackward0>)\n",
            "Validation accuracy: tensor(0.8503)\n",
            "Loss: tensor(0.1786, grad_fn=<MeanBackward0>)\n",
            "Validation accuracy: tensor(0.8494)\n",
            "Loss: tensor(0.1780, grad_fn=<MeanBackward0>)\n",
            "Validation accuracy: tensor(0.8508)\n",
            "Loss: tensor(0.1774, grad_fn=<MeanBackward0>)\n",
            "Validation accuracy: tensor(0.8523)\n",
            "Loss: tensor(0.1768, grad_fn=<MeanBackward0>)\n",
            "Validation accuracy: tensor(0.8523)\n",
            "Loss: tensor(0.1761, grad_fn=<MeanBackward0>)\n",
            "Validation accuracy: tensor(0.8533)\n",
            "Loss: tensor(0.1755, grad_fn=<MeanBackward0>)\n",
            "Validation accuracy: tensor(0.8538)\n",
            "Loss: tensor(0.1749, grad_fn=<MeanBackward0>)\n",
            "Validation accuracy: tensor(0.8533)\n",
            "Loss: tensor(0.1743, grad_fn=<MeanBackward0>)\n",
            "Validation accuracy: tensor(0.8538)\n",
            "Loss: tensor(0.1736, grad_fn=<MeanBackward0>)\n",
            "Validation accuracy: tensor(0.8533)\n",
            "Loss: tensor(0.1730, grad_fn=<MeanBackward0>)\n",
            "Validation accuracy: tensor(0.8528)\n",
            "Loss: tensor(0.1724, grad_fn=<MeanBackward0>)\n",
            "Validation accuracy: tensor(0.8543)\n",
            "Loss: tensor(0.1718, grad_fn=<MeanBackward0>)\n",
            "Validation accuracy: tensor(0.8553)\n",
            "Loss: tensor(0.1712, grad_fn=<MeanBackward0>)\n",
            "Validation accuracy: tensor(0.8557)\n",
            "Loss: tensor(0.1705, grad_fn=<MeanBackward0>)\n",
            "Validation accuracy: tensor(0.8572)\n",
            "Loss: tensor(0.1699, grad_fn=<MeanBackward0>)\n",
            "Validation accuracy: tensor(0.8572)\n",
            "Loss: tensor(0.1693, grad_fn=<MeanBackward0>)\n",
            "Validation accuracy: tensor(0.8577)\n",
            "Loss: tensor(0.1687, grad_fn=<MeanBackward0>)\n",
            "Validation accuracy: tensor(0.8582)\n",
            "Loss: tensor(0.1681, grad_fn=<MeanBackward0>)\n",
            "Validation accuracy: tensor(0.8587)\n",
            "Loss: tensor(0.1674, grad_fn=<MeanBackward0>)\n",
            "Validation accuracy: tensor(0.8587)\n",
            "Loss: tensor(0.1668, grad_fn=<MeanBackward0>)\n",
            "Validation accuracy: tensor(0.8582)\n",
            "Loss: tensor(0.1662, grad_fn=<MeanBackward0>)\n",
            "Validation accuracy: tensor(0.8582)\n",
            "Loss: tensor(0.1656, grad_fn=<MeanBackward0>)\n",
            "Validation accuracy: tensor(0.8602)\n",
            "Loss: tensor(0.1650, grad_fn=<MeanBackward0>)\n",
            "Validation accuracy: tensor(0.8611)\n",
            "Loss: tensor(0.1644, grad_fn=<MeanBackward0>)\n",
            "Validation accuracy: tensor(0.8621)\n",
            "Loss: tensor(0.1638, grad_fn=<MeanBackward0>)\n",
            "Validation accuracy: tensor(0.8636)\n",
            "Loss: tensor(0.1632, grad_fn=<MeanBackward0>)\n",
            "Validation accuracy: tensor(0.8651)\n",
            "Loss: tensor(0.1626, grad_fn=<MeanBackward0>)\n",
            "Validation accuracy: tensor(0.8660)\n",
            "Loss: tensor(0.1620, grad_fn=<MeanBackward0>)\n",
            "Validation accuracy: tensor(0.8675)\n",
            "Loss: tensor(0.1614, grad_fn=<MeanBackward0>)\n",
            "Validation accuracy: tensor(0.8685)\n",
            "Loss: tensor(0.1608, grad_fn=<MeanBackward0>)\n",
            "Validation accuracy: tensor(0.8695)\n",
            "Loss: tensor(0.1602, grad_fn=<MeanBackward0>)\n",
            "Validation accuracy: tensor(0.8685)\n"
          ]
        }
      ]
    },
    {
      "cell_type": "markdown",
      "metadata": {
        "id": "UEprVnl6rI5M"
      },
      "source": [
        "### **Stochastic gradient descent**"
      ]
    },
    {
      "cell_type": "markdown",
      "metadata": {
        "id": "EHcA3aP6_gq5"
      },
      "source": [
        "When working with gradient descent it may be interesting to consider only a hadful of batches at each iteration. We can do this with Fast AI in a ver simple\n",
        "manner with the *DataLoader* class.\n",
        "\n",
        "In the following implementation, each epoch considers all of the data. However, **each epoch updates the parameters multiple times** by considering all of the data in batch form in random order. \n",
        "\n",
        "**Note on theory:** I am not completely sure this is the traditional way of doing SGD, but it was the intuition I obtained from reading the AI book\n",
        "\n",
        "**Note on speed:** Previous implementation is much faster. I suppose due to the absence of the multiple for loops that are here"
      ]
    },
    {
      "cell_type": "code",
      "metadata": {
        "id": "8KUmlZ9tnwXD"
      },
      "source": [
        "train_dset = list(zip(train_x, train_y))\n",
        "valid_dset = list(zip(train_x, train_y))"
      ],
      "execution_count": 13,
      "outputs": []
    },
    {
      "cell_type": "code",
      "metadata": {
        "id": "mv3GAJ6VrTyi",
        "colab": {
          "base_uri": "https://localhost:8080/"
        },
        "outputId": "c73c6633-8e22-4538-8c89-937b71a05863"
      },
      "source": [
        "train_dl = DataLoader(train_dset, batch_size=256, shuffle=True)\n",
        "xb, yb = first(train_dl)\n",
        "print(xb.shape, yb.shape)\n",
        "\n",
        "valid_dl = DataLoader(valid_dset, batch_size=256, shuffle=True)\n",
        "xb, yb = first(valid_dl)\n",
        "print(xb.shape, yb.shape)"
      ],
      "execution_count": 106,
      "outputs": [
        {
          "output_type": "stream",
          "name": "stdout",
          "text": [
            "torch.Size([256, 784]) torch.Size([256, 1])\n",
            "torch.Size([256, 784]) torch.Size([256, 1])\n"
          ]
        }
      ]
    },
    {
      "cell_type": "code",
      "metadata": {
        "id": "YzuzDkHdtYHj"
      },
      "source": [
        "class LinearModel:\n",
        "\n",
        "  def __init__(self, intercept, weights):\n",
        "    self.intercept = intercept\n",
        "    self.weights = weights\n",
        "    self.params = (intercept, weights)\n",
        "\n",
        "  def predict(self, data):\n",
        "    return data@self.weights + self.intercept\n",
        "\n",
        "\n",
        "def mnist_loss(predictions, targets): \n",
        "  predictions = predictions.sigmoid()\n",
        "  return torch.where(targets==1, 1-predictions, predictions).mean()\n",
        "\n",
        "def calc_grad(xb, yb, model, prt=True):\n",
        "  pred = model.predict(xb)\n",
        "  loss = mnist_loss(pred, yb)\n",
        "  loss.backward()\n",
        "  if prt: print(\"Loss: \" + str(loss))\n",
        "\n",
        "def train_epoch(train_dl, model, lr, prt=True):\n",
        "  for xb, yb in train_dl: # Iterates over batches, not individual instances\n",
        "    calc_grad(xb, yb, model, prt)\n",
        "    for p in model.params:\n",
        "      p.data -= p.grad * lr\n",
        "      p.grad.zero_() # See page 172, last paragraph\n",
        "  \n",
        "def hard_predict_mnist(xb, model):\n",
        "  linear_predictions = model.predict(xb)\n",
        "  predictions = linear_predictions.sigmoid()\n",
        "  return torch.where(predictions > 0.5, 1, 0)\n",
        "\n",
        "def validate_epoch(valid_dl, model):\n",
        "  batch_accs = [(hard_predict_mnist(valid_xb, model) == valid_yb).count_nonzero() / valid_yb.shape[0] for valid_xb, valid_yb in valid_dl]\n",
        "  return torch.FloatTensor(batch_accs).mean()"
      ],
      "execution_count": 107,
      "outputs": []
    },
    {
      "cell_type": "code",
      "metadata": {
        "id": "5Us5COdWvl5c",
        "colab": {
          "base_uri": "https://localhost:8080/"
        },
        "outputId": "64877f57-2527-4d86-8cd0-c27cf9c8d4e6"
      },
      "source": [
        "# Small example just to see what was happening under the hood\n",
        "# xb and yb are now batches, not individual data instances\n",
        "\n",
        "# l = []\n",
        "# for xb, yb in train_dl:\n",
        "#   l.append(xb)\n",
        "# len(l)"
      ],
      "execution_count": 36,
      "outputs": [
        {
          "output_type": "execute_result",
          "data": {
            "text/plain": [
              "5"
            ]
          },
          "metadata": {},
          "execution_count": 36
        }
      ]
    },
    {
      "cell_type": "code",
      "metadata": {
        "id": "wTWUzhmb5r4r"
      },
      "source": [
        "weights = init_params((28*28,1))\n",
        "intercept = init_params(1)\n",
        "linear_model = LinearModel(intercept, weights)\n",
        "\n",
        "for i in range(1, 100):\n",
        "  train_epoch(train_dl, linear_model, 1e-3, False)\n",
        "  validation_acc = validate_epoch(valid_dl, linear_model)\n",
        "  print(\"Epoch validation accuracy: \" + str(validation_acc))"
      ],
      "execution_count": null,
      "outputs": []
    },
    {
      "cell_type": "markdown",
      "metadata": {
        "id": "XkiaUvAk96Xy"
      },
      "source": [
        "### **Creating an optimizer**"
      ]
    },
    {
      "cell_type": "code",
      "metadata": {
        "id": "NBG7yKxZ9-za"
      },
      "source": [
        ""
      ],
      "execution_count": null,
      "outputs": []
    }
  ]
}