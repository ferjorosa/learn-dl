{
  "cells": [
    {
      "cell_type": "markdown",
      "source": [
        "<a href=\"https://colab.research.google.com/github/ferjorosa/learn-pytorch/blob/main/Examples/cbow_human_numbers.ipynb\" target=\"_parent\"><img src=\"https://colab.research.google.com/assets/colab-badge.svg\" alt=\"Open In Colab\"/></a>"
      ],
      "metadata": {
        "id": "view-in-github",
        "colab_type": "text"
      }
    },
    {
      "cell_type": "markdown",
      "source": [
        "### Objective of this notebook:\n",
        "\n",
        "* To implement a simple CBOW model and compare its results in the \"human numbers\" data with those produced by our LSTM and GRU models from chapter 12 in FastAI book.\n",
        "\n",
        "* To better understand the output of nn.Embedding when multiple words are provided. \n",
        "\n",
        "In the data example with a context of size 3, a batch size of 64, and a embedding dimension of 64, we would have the following tensor shapes:\n",
        "\n",
        "```python\n",
        "> inputs.shape\n",
        "torch.Size([64, 3])\n",
        "> x.shape\n",
        "torch.Size([64, 3, 64])\n",
        "> y.shape\n",
        "torch.Size([64, 64])\n",
        "> out.shape\n",
        "torch.Size([64, 30])\n",
        "```"
      ],
      "metadata": {
        "id": "MIMUxbNZ_B93"
      }
    },
    {
      "cell_type": "code",
      "source": [
        "#hide (Google Colab)\n",
        "# !pip install fastai --upgrade -q\n",
        "import fastai\n",
        "print(fastai.__version__)\n",
        "\n",
        "# !pip install -Uqq fastbook\n",
        "import fastbook\n",
        "fastbook.setup_book()\n"
      ],
      "outputs": [
        {
          "output_type": "stream",
          "name": "stdout",
          "text": "/bin/bash: pip: command not found\r\n2.6.0\n/bin/bash: pip: command not found\r\n"
        }
      ],
      "execution_count": 1,
      "metadata": {
        "colab": {
          "base_uri": "https://localhost:8080/"
        },
        "id": "JRdul-CS15ho",
        "outputId": "208342bb-adcb-4c64-d660-d013a61adede",
        "gather": {
          "logged": 1651159996157
        }
      }
    },
    {
      "cell_type": "code",
      "source": [
        "# hide (debugging)\n",
        "# !pip install -Uqq ipdb\n",
        "# import ipdb\n",
        "# %pdb on"
      ],
      "outputs": [
        {
          "output_type": "stream",
          "name": "stdout",
          "text": "/bin/bash: pip: command not found\r\n"
        },
        {
          "output_type": "error",
          "ename": "ModuleNotFoundError",
          "evalue": "No module named 'ipdb'",
          "traceback": [
            "\u001b[0;31m---------------------------------------------------------------------------\u001b[0m",
            "\u001b[0;31mModuleNotFoundError\u001b[0m                       Traceback (most recent call last)",
            "\u001b[0;32m<ipython-input-2-a11a383e2b02>\u001b[0m in \u001b[0;36m<module>\u001b[0;34m\u001b[0m\n\u001b[1;32m      1\u001b[0m \u001b[0;31m# hide (debugging)\u001b[0m\u001b[0;34m\u001b[0m\u001b[0;34m\u001b[0m\u001b[0;34m\u001b[0m\u001b[0m\n\u001b[1;32m      2\u001b[0m \u001b[0mget_ipython\u001b[0m\u001b[0;34m(\u001b[0m\u001b[0;34m)\u001b[0m\u001b[0;34m.\u001b[0m\u001b[0msystem\u001b[0m\u001b[0;34m(\u001b[0m\u001b[0;34m'pip install -Uqq ipdb'\u001b[0m\u001b[0;34m)\u001b[0m\u001b[0;34m\u001b[0m\u001b[0;34m\u001b[0m\u001b[0m\n\u001b[0;32m----> 3\u001b[0;31m \u001b[0;32mimport\u001b[0m \u001b[0mipdb\u001b[0m\u001b[0;34m\u001b[0m\u001b[0;34m\u001b[0m\u001b[0m\n\u001b[0m\u001b[1;32m      4\u001b[0m \u001b[0mget_ipython\u001b[0m\u001b[0;34m(\u001b[0m\u001b[0;34m)\u001b[0m\u001b[0;34m.\u001b[0m\u001b[0mrun_line_magic\u001b[0m\u001b[0;34m(\u001b[0m\u001b[0;34m'pdb'\u001b[0m\u001b[0;34m,\u001b[0m \u001b[0;34m'on'\u001b[0m\u001b[0;34m)\u001b[0m\u001b[0;34m\u001b[0m\u001b[0;34m\u001b[0m\u001b[0m\n",
            "\u001b[0;31mModuleNotFoundError\u001b[0m: No module named 'ipdb'"
          ]
        }
      ],
      "execution_count": 2,
      "metadata": {
        "id": "7C1lgbpRADmX",
        "outputId": "fbd5097c-82ca-4bfc-86fc-bfedf6f05f85",
        "colab": {
          "base_uri": "https://localhost:8080/"
        },
        "gather": {
          "logged": 1651159996706
        }
      }
    },
    {
      "cell_type": "code",
      "source": [
        "import torch.nn as nn\n",
        "from fastbook import *\n",
        "from fastai.text.all import *"
      ],
      "outputs": [],
      "execution_count": null,
      "metadata": {
        "id": "y4frPntM5jfv",
        "gather": {
          "logged": 1651159996992
        }
      }
    },
    {
      "cell_type": "code",
      "source": [
        "path = untar_data(URLs.HUMAN_NUMBERS)\n",
        "\n",
        "Path.BASE_PATH = path"
      ],
      "outputs": [],
      "execution_count": null,
      "metadata": {
        "colab": {
          "base_uri": "https://localhost:8080/",
          "height": 37
        },
        "id": "bBnX5ye42MwP",
        "outputId": "0a3db664-32e8-452a-aa18-77c1fb516598",
        "gather": {
          "logged": 1651159997007
        }
      }
    },
    {
      "cell_type": "code",
      "source": [
        "lines = L()\n",
        "with open(path/'train.txt') as f: lines += L(*f.readlines())\n",
        "with open(path/'valid.txt') as f: lines += L(*f.readlines())\n",
        "lines"
      ],
      "outputs": [],
      "execution_count": null,
      "metadata": {
        "colab": {
          "base_uri": "https://localhost:8080/"
        },
        "id": "4zdQIeNI6LNQ",
        "outputId": "a1846b0a-9e99-43af-ecb9-dd81f3d55450",
        "gather": {
          "logged": 1651159997021
        }
      }
    },
    {
      "cell_type": "code",
      "source": [
        "text = ' . '.join([l.strip() for l in lines])\n",
        "tokens = text.split(' ')\n",
        "vocab = L(*tokens).unique()\n",
        "word2idx = {w:i for i,w in enumerate(vocab)}\n",
        "nums = L(word2idx[i] for i in tokens)"
      ],
      "outputs": [],
      "execution_count": null,
      "metadata": {
        "id": "FdKFmwuo6NaZ",
        "gather": {
          "logged": 1651159997037
        }
      }
    },
    {
      "cell_type": "code",
      "source": [
        "#seqs_raw = L((tokens[i:i+3], tokens[i+3]) for i in range(0,len(tokens)-4,3)) # raw form\n",
        "\n",
        "seqs = L((tensor(nums[i:i+3]), nums[i+3]) for i in range(0,len(nums)-4,3)) # coded-number form\n",
        "seqs"
      ],
      "outputs": [],
      "execution_count": null,
      "metadata": {
        "colab": {
          "base_uri": "https://localhost:8080/"
        },
        "id": "AAsjwzwk63ze",
        "outputId": "d6b1f81a-5137-4362-cecf-7b87ac6eb7ab",
        "gather": {
          "logged": 1651159997056
        }
      }
    },
    {
      "cell_type": "markdown",
      "source": [
        "**Note:** `seqs_raw` is not valid because our model expects tensor data and **tensors can only be in numeric form**"
      ],
      "metadata": {
        "id": "5fTk1GSs-o6m"
      }
    },
    {
      "cell_type": "code",
      "source": [
        "bs = 64\n",
        "cut = int(len(seqs) * 0.8)\n",
        "dls = DataLoaders.from_dsets(seqs[:cut], seqs[cut:], bs=64, shuffle=False) # train, validation"
      ],
      "outputs": [],
      "execution_count": null,
      "metadata": {
        "id": "pBxonPFA6rdM",
        "gather": {
          "logged": 1651159997069
        }
      }
    },
    {
      "cell_type": "code",
      "source": [],
      "outputs": [],
      "execution_count": null,
      "metadata": {
        "id": "_uHhQndE8dFO"
      }
    },
    {
      "cell_type": "code",
      "source": [
        "class CBOW(Module):\n",
        "\n",
        "  def __init__(self, vsz, nh):\n",
        "    self.i_h = nn.Embedding(vsz, nh)\n",
        "    self.h_o = nn.Linear(nh, vsz)\n",
        "  \n",
        "  def forward(self, inputs):\n",
        "    x = self.i_h(inputs)\n",
        "    y = torch.mean(x, axis=1)\n",
        "    out = self.h_o(y)\n",
        "    #ipdb.set_trace()\n",
        "    return out"
      ],
      "outputs": [],
      "execution_count": null,
      "metadata": {
        "id": "QsXIO-Qn7Qy4",
        "gather": {
          "logged": 1651159997084
        }
      }
    },
    {
      "cell_type": "code",
      "source": [
        "learn = Learner(dls, CBOW(len(vocab), 64), loss_func=F.cross_entropy, \n",
        "                metrics=accuracy)\n",
        "learn.fit_one_cycle(4, 1e-3)"
      ],
      "outputs": [],
      "execution_count": null,
      "metadata": {
        "colab": {
          "base_uri": "https://localhost:8080/",
          "height": 175
        },
        "id": "VRTQTYJG7a9H",
        "outputId": "15ed96b4-807c-446d-f9b0-75899c37aa9c",
        "gather": {
          "logged": 1651159997099
        }
      }
    }
  ],
  "metadata": {
    "colab": {
      "name": "Untitled1.ipynb",
      "provenance": [],
      "collapsed_sections": [],
      "authorship_tag": "ABX9TyNMdzGed2pxicIVLCkp8DpT",
      "include_colab_link": true
    },
    "kernelspec": {
      "name": "python3",
      "language": "python",
      "display_name": "Python 3"
    },
    "language_info": {
      "name": "python",
      "version": "3.8.5",
      "mimetype": "text/x-python",
      "codemirror_mode": {
        "name": "ipython",
        "version": 3
      },
      "pygments_lexer": "ipython3",
      "nbconvert_exporter": "python",
      "file_extension": ".py"
    },
    "kernel_info": {
      "name": "python3"
    },
    "nteract": {
      "version": "nteract-front-end@1.0.0"
    }
  },
  "nbformat": 4,
  "nbformat_minor": 0
}