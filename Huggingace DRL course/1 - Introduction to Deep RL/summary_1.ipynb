{
 "cells": [
  {
   "cell_type": "markdown",
   "id": "c32e6235-596e-405e-8c4f-3126eb328293",
   "metadata": {},
   "source": [
    "# Summary\n",
    "\n",
    "* Reinforcement Learning (RL) is a computational approach of learning from action. We build an agent that learns from the environment **by interacting with it through trial and error** and receiving rewards (negative or positive) as feedback.\n",
    "\n",
    "* **The goal of any RL agent is to maximize its expected cumulative reward (also called expected return)** because RL is based on the reward hypothesis, which is that all goals can be described as the maximization of the expected cumulative reward.\n",
    "\n",
    "* The RL process is a loop that outputs a sequence of **state, action, reward and next state**.\n",
    "\n",
    "* To calculate the expected cumulative reward (expected return), we discount the rewards: the rewards that come sooner (at the beginning of the game) **are more probable to happen since they are more predictable than the long term future reward**.\n",
    "\n",
    "* To solve an RL problem, you want to find an optimal policy. The policy is the “brain” of your agent, which will tell us what action to take given a state. The optimal policy is the one which gives you the actions that maximize the expected return.\n",
    "\n",
    "* There are two ways to find your optimal policy:\n",
    "    \n",
    "    1. By training your policy directly: **policy-based methods**.\n",
    "    \n",
    "    2. By training a value function that tells us the expected return the agent will get at each state and use this function to define our policy: **value-based methods**.\n",
    "<p></p>\n",
    "\n",
    "* Finally, we speak about Deep RL because we introduce **deep neural networks to estimate the action to take (policy-based) or to estimate the value of a state (value-based)** hence the name “deep”."
   ]
  }
 ],
 "metadata": {
  "kernelspec": {
   "display_name": "Python 3 (ipykernel)",
   "language": "python",
   "name": "python3"
  },
  "language_info": {
   "codemirror_mode": {
    "name": "ipython",
    "version": 3
   },
   "file_extension": ".py",
   "mimetype": "text/x-python",
   "name": "python",
   "nbconvert_exporter": "python",
   "pygments_lexer": "ipython3",
   "version": "3.10.4"
  }
 },
 "nbformat": 4,
 "nbformat_minor": 5
}
