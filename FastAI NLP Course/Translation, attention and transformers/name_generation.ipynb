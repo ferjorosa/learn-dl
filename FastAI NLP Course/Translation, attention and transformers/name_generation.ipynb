{
  "cells": [
    {
      "cell_type": "markdown",
      "metadata": {
        "id": "view-in-github",
        "colab_type": "text"
      },
      "source": [
        "<a href=\"https://colab.research.google.com/github/ferjorosa/learn-pytorch/blob/main/FastAI%20NLP%20Course/Translation%2C%20attention%20and%20transformers/name_generation.ipynb\" target=\"_parent\"><img src=\"https://colab.research.google.com/assets/colab-badge.svg\" alt=\"Open In Colab\"/></a>"
      ]
    },
    {
      "cell_type": "markdown",
      "id": "21e103de-fdd5-4f2f-97de-5eece6797654",
      "metadata": {
        "id": "21e103de-fdd5-4f2f-97de-5eece6797654"
      },
      "source": [
        "# Generating names with a character-level RNN\n",
        "\n",
        "As stated by the title, the objective of this notebook is to learn how to generate names using a recurrent neural network (RNN).\n",
        "\n",
        "This notebook corresponds to a modified version of the following <a href=\"https://pytorch.org/tutorials/intermediate/char_rnn_generation_tutorial.html\">PyTorch tutorial</a>"
      ]
    },
    {
      "cell_type": "markdown",
      "id": "ac8f780d-8a12-4120-b67c-36133ab7ac8a",
      "metadata": {
        "id": "ac8f780d-8a12-4120-b67c-36133ab7ac8a"
      },
      "source": [
        "## 1 - Data\n",
        "\n",
        "We have 18 files with examples from different names, grouped by country. We read each of these names and transform them into ASCII format"
      ]
    },
    {
      "cell_type": "code",
      "source": [
        "#Only on Google Colab\n",
        "\n",
        "URL = \"https://raw.githubusercontent.com/ferjorosa/learn-pytorch/main/FastAI%20NLP%20Course/Translation%2C%20attention%20and%20transformers/data_names\"\n",
        "\n",
        "!wget -r --no-parent --cut-dirs=7 {URL}/Arabic.txt\n",
        "!wget -r --no-parent --cut-dirs=7 {URL}/Chinese.txt\n",
        "!wget -r --no-parent --cut-dirs=7 {URL}/Czech.txt\n",
        "!wget -r --no-parent --cut-dirs=7 {URL}/Dutch.txt\n",
        "!wget -r --no-parent --cut-dirs=7 {URL}/English.txt\n",
        "!wget -r --no-parent --cut-dirs=7 {URL}/French.txt\n",
        "!wget -r --no-parent --cut-dirs=7 {URL}/German.txt\n",
        "!wget -r --no-parent --cut-dirs=7 {URL}/Greek.txt\n",
        "!wget -r --no-parent --cut-dirs=7 {URL}/Irish.txt\n",
        "!wget -r --no-parent --cut-dirs=7 {URL}/Italian.txt\n",
        "!wget -r --no-parent --cut-dirs=7 {URL}/Japanese.txt\n",
        "!wget -r --no-parent --cut-dirs=7 {URL}/Korean.txt\n",
        "!wget -r --no-parent --cut-dirs=7 {URL}/Polish.txt\n",
        "!wget -r --no-parent --cut-dirs=7 {URL}/Portuguese.txt\n",
        "!wget -r --no-parent --cut-dirs=7 {URL}/Russian.txt\n",
        "!wget -r --no-parent --cut-dirs=7 {URL}/Scottish.txt\n",
        "!wget -r --no-parent --cut-dirs=7 {URL}/Spanish.txt\n",
        "!wget -r --no-parent --cut-dirs=7 {URL}/Vietnamese.txt\n",
        "\n",
        "!mv raw.githubusercontent.com data_names"
      ],
      "metadata": {
        "id": "4IuzDb2M-y0z",
        "outputId": "62bcb48f-ae8a-4450-e7a9-30eeba43c53f",
        "colab": {
          "base_uri": "https://localhost:8080/"
        }
      },
      "id": "4IuzDb2M-y0z",
      "execution_count": 1,
      "outputs": [
        {
          "output_type": "stream",
          "name": "stdout",
          "text": [
            "--2022-03-28 15:00:09--  https://raw.githubusercontent.com/ferjorosa/learn-pytorch/main/FastAI%20NLP%20Course/Translation%2C%20attention%20and%20transformers/data_names/Arabic.txt\n",
            "Resolving raw.githubusercontent.com (raw.githubusercontent.com)... 185.199.108.133, 185.199.111.133, 185.199.110.133, ...\n",
            "Connecting to raw.githubusercontent.com (raw.githubusercontent.com)|185.199.108.133|:443... connected.\n",
            "HTTP request sent, awaiting response... 200 OK\n",
            "Length: 13190 (13K) [text/plain]\n",
            "Saving to: ‘raw.githubusercontent.com/Arabic.txt’\n",
            "\n",
            "\r          raw.githu   0%[                    ]       0  --.-KB/s               \rraw.githubuserconte 100%[===================>]  12.88K  --.-KB/s    in 0s      \n",
            "\n",
            "2022-03-28 15:00:09 (59.6 MB/s) - ‘raw.githubusercontent.com/Arabic.txt’ saved [13190/13190]\n",
            "\n",
            "FINISHED --2022-03-28 15:00:09--\n",
            "Total wall clock time: 0.2s\n",
            "Downloaded: 1 files, 13K in 0s (59.6 MB/s)\n",
            "--2022-03-28 15:00:10--  https://raw.githubusercontent.com/ferjorosa/learn-pytorch/main/FastAI%20NLP%20Course/Translation%2C%20attention%20and%20transformers/data_names/Chinese.txt\n",
            "Resolving raw.githubusercontent.com (raw.githubusercontent.com)... 185.199.110.133, 185.199.108.133, 185.199.109.133, ...\n",
            "Connecting to raw.githubusercontent.com (raw.githubusercontent.com)|185.199.110.133|:443... connected.\n",
            "HTTP request sent, awaiting response... 200 OK\n",
            "Length: 1247 (1.2K) [text/plain]\n",
            "Saving to: ‘raw.githubusercontent.com/Chinese.txt’\n",
            "\n",
            "raw.githubuserconte 100%[===================>]   1.22K  --.-KB/s    in 0s      \n",
            "\n",
            "2022-03-28 15:00:10 (57.3 MB/s) - ‘raw.githubusercontent.com/Chinese.txt’ saved [1247/1247]\n",
            "\n",
            "FINISHED --2022-03-28 15:00:10--\n",
            "Total wall clock time: 0.3s\n",
            "Downloaded: 1 files, 1.2K in 0s (57.3 MB/s)\n",
            "--2022-03-28 15:00:10--  https://raw.githubusercontent.com/ferjorosa/learn-pytorch/main/FastAI%20NLP%20Course/Translation%2C%20attention%20and%20transformers/data_names/Czech.txt\n",
            "Resolving raw.githubusercontent.com (raw.githubusercontent.com)... 185.199.108.133, 185.199.109.133, 185.199.110.133, ...\n",
            "Connecting to raw.githubusercontent.com (raw.githubusercontent.com)|185.199.108.133|:443... connected.\n",
            "HTTP request sent, awaiting response... 200 OK\n",
            "Length: 3919 (3.8K) [text/plain]\n",
            "Saving to: ‘raw.githubusercontent.com/Czech.txt’\n",
            "\n",
            "raw.githubuserconte 100%[===================>]   3.83K  --.-KB/s    in 0s      \n",
            "\n",
            "2022-03-28 15:00:10 (51.9 MB/s) - ‘raw.githubusercontent.com/Czech.txt’ saved [3919/3919]\n",
            "\n",
            "FINISHED --2022-03-28 15:00:10--\n",
            "Total wall clock time: 0.2s\n",
            "Downloaded: 1 files, 3.8K in 0s (51.9 MB/s)\n",
            "--2022-03-28 15:00:10--  https://raw.githubusercontent.com/ferjorosa/learn-pytorch/main/FastAI%20NLP%20Course/Translation%2C%20attention%20and%20transformers/data_names/Dutch.txt\n",
            "Resolving raw.githubusercontent.com (raw.githubusercontent.com)... 185.199.108.133, 185.199.109.133, 185.199.110.133, ...\n",
            "Connecting to raw.githubusercontent.com (raw.githubusercontent.com)|185.199.108.133|:443... connected.\n",
            "HTTP request sent, awaiting response... 200 OK\n",
            "Length: 2351 (2.3K) [text/plain]\n",
            "Saving to: ‘raw.githubusercontent.com/Dutch.txt’\n",
            "\n",
            "raw.githubuserconte 100%[===================>]   2.30K  --.-KB/s    in 0s      \n",
            "\n",
            "2022-03-28 15:00:10 (35.2 MB/s) - ‘raw.githubusercontent.com/Dutch.txt’ saved [2351/2351]\n",
            "\n",
            "FINISHED --2022-03-28 15:00:10--\n",
            "Total wall clock time: 0.2s\n",
            "Downloaded: 1 files, 2.3K in 0s (35.2 MB/s)\n",
            "--2022-03-28 15:00:11--  https://raw.githubusercontent.com/ferjorosa/learn-pytorch/main/FastAI%20NLP%20Course/Translation%2C%20attention%20and%20transformers/data_names/English.txt\n",
            "Resolving raw.githubusercontent.com (raw.githubusercontent.com)... 185.199.111.133, 185.199.108.133, 185.199.110.133, ...\n",
            "Connecting to raw.githubusercontent.com (raw.githubusercontent.com)|185.199.111.133|:443... connected.\n",
            "HTTP request sent, awaiting response... 200 OK\n",
            "Length: 27125 (26K) [text/plain]\n",
            "Saving to: ‘raw.githubusercontent.com/English.txt’\n",
            "\n",
            "raw.githubuserconte 100%[===================>]  26.49K  --.-KB/s    in 0s      \n",
            "\n",
            "2022-03-28 15:00:11 (60.7 MB/s) - ‘raw.githubusercontent.com/English.txt’ saved [27125/27125]\n",
            "\n",
            "FINISHED --2022-03-28 15:00:11--\n",
            "Total wall clock time: 0.2s\n",
            "Downloaded: 1 files, 26K in 0s (60.7 MB/s)\n",
            "--2022-03-28 15:00:11--  https://raw.githubusercontent.com/ferjorosa/learn-pytorch/main/FastAI%20NLP%20Course/Translation%2C%20attention%20and%20transformers/data_names/French.txt\n",
            "Resolving raw.githubusercontent.com (raw.githubusercontent.com)... 185.199.110.133, 185.199.108.133, 185.199.109.133, ...\n",
            "Connecting to raw.githubusercontent.com (raw.githubusercontent.com)|185.199.110.133|:443... connected.\n",
            "HTTP request sent, awaiting response... 200 OK\n",
            "Length: 2178 (2.1K) [text/plain]\n",
            "Saving to: ‘raw.githubusercontent.com/French.txt’\n",
            "\n",
            "raw.githubuserconte 100%[===================>]   2.13K  --.-KB/s    in 0s      \n",
            "\n",
            "2022-03-28 15:00:11 (25.3 MB/s) - ‘raw.githubusercontent.com/French.txt’ saved [2178/2178]\n",
            "\n",
            "FINISHED --2022-03-28 15:00:11--\n",
            "Total wall clock time: 0.2s\n",
            "Downloaded: 1 files, 2.1K in 0s (25.3 MB/s)\n",
            "--2022-03-28 15:00:11--  https://raw.githubusercontent.com/ferjorosa/learn-pytorch/main/FastAI%20NLP%20Course/Translation%2C%20attention%20and%20transformers/data_names/German.txt\n",
            "Resolving raw.githubusercontent.com (raw.githubusercontent.com)... 185.199.108.133, 185.199.109.133, 185.199.110.133, ...\n",
            "Connecting to raw.githubusercontent.com (raw.githubusercontent.com)|185.199.108.133|:443... connected.\n",
            "HTTP request sent, awaiting response... 200 OK\n",
            "Length: 5610 (5.5K) [text/plain]\n",
            "Saving to: ‘raw.githubusercontent.com/German.txt’\n",
            "\n",
            "raw.githubuserconte 100%[===================>]   5.48K  --.-KB/s    in 0s      \n",
            "\n",
            "2022-03-28 15:00:11 (61.5 MB/s) - ‘raw.githubusercontent.com/German.txt’ saved [5610/5610]\n",
            "\n",
            "FINISHED --2022-03-28 15:00:11--\n",
            "Total wall clock time: 0.2s\n",
            "Downloaded: 1 files, 5.5K in 0s (61.5 MB/s)\n",
            "--2022-03-28 15:00:11--  https://raw.githubusercontent.com/ferjorosa/learn-pytorch/main/FastAI%20NLP%20Course/Translation%2C%20attention%20and%20transformers/data_names/Greek.txt\n",
            "Resolving raw.githubusercontent.com (raw.githubusercontent.com)... 185.199.108.133, 185.199.109.133, 185.199.110.133, ...\n",
            "Connecting to raw.githubusercontent.com (raw.githubusercontent.com)|185.199.108.133|:443... connected.\n",
            "HTTP request sent, awaiting response... 200 OK\n",
            "Length: 1981 (1.9K) [text/plain]\n",
            "Saving to: ‘raw.githubusercontent.com/Greek.txt’\n",
            "\n",
            "raw.githubuserconte 100%[===================>]   1.93K  --.-KB/s    in 0s      \n",
            "\n",
            "2022-03-28 15:00:12 (30.1 MB/s) - ‘raw.githubusercontent.com/Greek.txt’ saved [1981/1981]\n",
            "\n",
            "FINISHED --2022-03-28 15:00:12--\n",
            "Total wall clock time: 0.2s\n",
            "Downloaded: 1 files, 1.9K in 0s (30.1 MB/s)\n",
            "--2022-03-28 15:00:12--  https://raw.githubusercontent.com/ferjorosa/learn-pytorch/main/FastAI%20NLP%20Course/Translation%2C%20attention%20and%20transformers/data_names/Irish.txt\n",
            "Resolving raw.githubusercontent.com (raw.githubusercontent.com)... 185.199.111.133, 185.199.108.133, 185.199.109.133, ...\n",
            "Connecting to raw.githubusercontent.com (raw.githubusercontent.com)|185.199.111.133|:443... connected.\n",
            "HTTP request sent, awaiting response... 200 OK\n",
            "Length: 1858 (1.8K) [text/plain]\n",
            "Saving to: ‘raw.githubusercontent.com/Irish.txt’\n",
            "\n",
            "raw.githubuserconte 100%[===================>]   1.81K  --.-KB/s    in 0.003s  \n",
            "\n",
            "2022-03-28 15:00:12 (521 KB/s) - ‘raw.githubusercontent.com/Irish.txt’ saved [1858/1858]\n",
            "\n",
            "FINISHED --2022-03-28 15:00:12--\n",
            "Total wall clock time: 0.2s\n",
            "Downloaded: 1 files, 1.8K in 0.003s (521 KB/s)\n",
            "--2022-03-28 15:00:12--  https://raw.githubusercontent.com/ferjorosa/learn-pytorch/main/FastAI%20NLP%20Course/Translation%2C%20attention%20and%20transformers/data_names/Italian.txt\n",
            "Resolving raw.githubusercontent.com (raw.githubusercontent.com)... 185.199.111.133, 185.199.109.133, 185.199.108.133, ...\n",
            "Connecting to raw.githubusercontent.com (raw.githubusercontent.com)|185.199.111.133|:443... connected.\n",
            "HTTP request sent, awaiting response... 200 OK\n",
            "Length: 5657 (5.5K) [text/plain]\n",
            "Saving to: ‘raw.githubusercontent.com/Italian.txt’\n",
            "\n",
            "raw.githubuserconte 100%[===================>]   5.52K  --.-KB/s    in 0s      \n",
            "\n",
            "2022-03-28 15:00:12 (56.4 MB/s) - ‘raw.githubusercontent.com/Italian.txt’ saved [5657/5657]\n",
            "\n",
            "FINISHED --2022-03-28 15:00:12--\n",
            "Total wall clock time: 0.2s\n",
            "Downloaded: 1 files, 5.5K in 0s (56.4 MB/s)\n",
            "--2022-03-28 15:00:12--  https://raw.githubusercontent.com/ferjorosa/learn-pytorch/main/FastAI%20NLP%20Course/Translation%2C%20attention%20and%20transformers/data_names/Japanese.txt\n",
            "Resolving raw.githubusercontent.com (raw.githubusercontent.com)... 185.199.108.133, 185.199.109.133, 185.199.110.133, ...\n",
            "Connecting to raw.githubusercontent.com (raw.githubusercontent.com)|185.199.108.133|:443... connected.\n",
            "HTTP request sent, awaiting response... 200 OK\n",
            "Length: 7622 (7.4K) [text/plain]\n",
            "Saving to: ‘raw.githubusercontent.com/Japanese.txt’\n",
            "\n",
            "raw.githubuserconte 100%[===================>]   7.44K  --.-KB/s    in 0s      \n",
            "\n",
            "2022-03-28 15:00:13 (71.3 MB/s) - ‘raw.githubusercontent.com/Japanese.txt’ saved [7622/7622]\n",
            "\n",
            "FINISHED --2022-03-28 15:00:13--\n",
            "Total wall clock time: 0.2s\n",
            "Downloaded: 1 files, 7.4K in 0s (71.3 MB/s)\n",
            "--2022-03-28 15:00:13--  https://raw.githubusercontent.com/ferjorosa/learn-pytorch/main/FastAI%20NLP%20Course/Translation%2C%20attention%20and%20transformers/data_names/Korean.txt\n",
            "Resolving raw.githubusercontent.com (raw.githubusercontent.com)... 185.199.108.133, 185.199.109.133, 185.199.110.133, ...\n",
            "Connecting to raw.githubusercontent.com (raw.githubusercontent.com)|185.199.108.133|:443... connected.\n",
            "HTTP request sent, awaiting response... 200 OK\n",
            "Length: 423 [text/plain]\n",
            "Saving to: ‘raw.githubusercontent.com/Korean.txt’\n",
            "\n",
            "raw.githubuserconte 100%[===================>]     423  --.-KB/s    in 0s      \n",
            "\n",
            "2022-03-28 15:00:13 (22.3 MB/s) - ‘raw.githubusercontent.com/Korean.txt’ saved [423/423]\n",
            "\n",
            "FINISHED --2022-03-28 15:00:13--\n",
            "Total wall clock time: 0.2s\n",
            "Downloaded: 1 files, 423 in 0s (22.3 MB/s)\n",
            "--2022-03-28 15:00:13--  https://raw.githubusercontent.com/ferjorosa/learn-pytorch/main/FastAI%20NLP%20Course/Translation%2C%20attention%20and%20transformers/data_names/Polish.txt\n",
            "Resolving raw.githubusercontent.com (raw.githubusercontent.com)... 185.199.108.133, 185.199.109.133, 185.199.110.133, ...\n",
            "Connecting to raw.githubusercontent.com (raw.githubusercontent.com)|185.199.108.133|:443... connected.\n",
            "HTTP request sent, awaiting response... 200 OK\n",
            "Length: 1165 (1.1K) [text/plain]\n",
            "Saving to: ‘raw.githubusercontent.com/Polish.txt’\n",
            "\n",
            "raw.githubuserconte 100%[===================>]   1.14K  --.-KB/s    in 0s      \n",
            "\n",
            "2022-03-28 15:00:13 (49.5 MB/s) - ‘raw.githubusercontent.com/Polish.txt’ saved [1165/1165]\n",
            "\n",
            "FINISHED --2022-03-28 15:00:13--\n",
            "Total wall clock time: 0.2s\n",
            "Downloaded: 1 files, 1.1K in 0s (49.5 MB/s)\n",
            "--2022-03-28 15:00:13--  https://raw.githubusercontent.com/ferjorosa/learn-pytorch/main/FastAI%20NLP%20Course/Translation%2C%20attention%20and%20transformers/data_names/Portuguese.txt\n",
            "Resolving raw.githubusercontent.com (raw.githubusercontent.com)... 185.199.108.133, 185.199.109.133, 185.199.110.133, ...\n",
            "Connecting to raw.githubusercontent.com (raw.githubusercontent.com)|185.199.108.133|:443... connected.\n",
            "HTTP request sent, awaiting response... 200 OK\n",
            "Length: 554 [text/plain]\n",
            "Saving to: ‘raw.githubusercontent.com/Portuguese.txt’\n",
            "\n",
            "raw.githubuserconte 100%[===================>]     554  --.-KB/s    in 0s      \n",
            "\n",
            "2022-03-28 15:00:13 (18.5 MB/s) - ‘raw.githubusercontent.com/Portuguese.txt’ saved [554/554]\n",
            "\n",
            "FINISHED --2022-03-28 15:00:13--\n",
            "Total wall clock time: 0.2s\n",
            "Downloaded: 1 files, 554 in 0s (18.5 MB/s)\n",
            "--2022-03-28 15:00:14--  https://raw.githubusercontent.com/ferjorosa/learn-pytorch/main/FastAI%20NLP%20Course/Translation%2C%20attention%20and%20transformers/data_names/Russian.txt\n",
            "Resolving raw.githubusercontent.com (raw.githubusercontent.com)... 185.199.108.133, 185.199.109.133, 185.199.110.133, ...\n",
            "Connecting to raw.githubusercontent.com (raw.githubusercontent.com)|185.199.108.133|:443... connected.\n",
            "HTTP request sent, awaiting response... 200 OK\n",
            "Length: 85605 (84K) [text/plain]\n",
            "Saving to: ‘raw.githubusercontent.com/Russian.txt’\n",
            "\n",
            "raw.githubuserconte 100%[===================>]  83.60K  --.-KB/s    in 0.006s  \n",
            "\n",
            "2022-03-28 15:00:14 (14.1 MB/s) - ‘raw.githubusercontent.com/Russian.txt’ saved [85605/85605]\n",
            "\n",
            "FINISHED --2022-03-28 15:00:14--\n",
            "Total wall clock time: 0.2s\n",
            "Downloaded: 1 files, 84K in 0.006s (14.1 MB/s)\n",
            "--2022-03-28 15:00:14--  https://raw.githubusercontent.com/ferjorosa/learn-pytorch/main/FastAI%20NLP%20Course/Translation%2C%20attention%20and%20transformers/data_names/Scottish.txt\n",
            "Resolving raw.githubusercontent.com (raw.githubusercontent.com)... 185.199.108.133, 185.199.109.133, 185.199.110.133, ...\n",
            "Connecting to raw.githubusercontent.com (raw.githubusercontent.com)|185.199.108.133|:443... connected.\n",
            "HTTP request sent, awaiting response... 200 OK\n",
            "Length: 752 [text/plain]\n",
            "Saving to: ‘raw.githubusercontent.com/Scottish.txt’\n",
            "\n",
            "raw.githubuserconte 100%[===================>]     752  --.-KB/s    in 0s      \n",
            "\n",
            "2022-03-28 15:00:14 (36.7 MB/s) - ‘raw.githubusercontent.com/Scottish.txt’ saved [752/752]\n",
            "\n",
            "FINISHED --2022-03-28 15:00:14--\n",
            "Total wall clock time: 0.2s\n",
            "Downloaded: 1 files, 752 in 0s (36.7 MB/s)\n",
            "--2022-03-28 15:00:14--  https://raw.githubusercontent.com/ferjorosa/learn-pytorch/main/FastAI%20NLP%20Course/Translation%2C%20attention%20and%20transformers/data_names/Spanish.txt\n",
            "Resolving raw.githubusercontent.com (raw.githubusercontent.com)... 185.199.108.133, 185.199.109.133, 185.199.110.133, ...\n",
            "Connecting to raw.githubusercontent.com (raw.githubusercontent.com)|185.199.108.133|:443... connected.\n",
            "HTTP request sent, awaiting response... 200 OK\n",
            "Length: 2284 (2.2K) [text/plain]\n",
            "Saving to: ‘raw.githubusercontent.com/Spanish.txt’\n",
            "\n",
            "raw.githubuserconte 100%[===================>]   2.23K  --.-KB/s    in 0s      \n",
            "\n",
            "2022-03-28 15:00:15 (32.2 MB/s) - ‘raw.githubusercontent.com/Spanish.txt’ saved [2284/2284]\n",
            "\n",
            "FINISHED --2022-03-28 15:00:15--\n",
            "Total wall clock time: 0.2s\n",
            "Downloaded: 1 files, 2.2K in 0s (32.2 MB/s)\n",
            "--2022-03-28 15:00:15--  https://raw.githubusercontent.com/ferjorosa/learn-pytorch/main/FastAI%20NLP%20Course/Translation%2C%20attention%20and%20transformers/data_names/Vietnamese.txt\n",
            "Resolving raw.githubusercontent.com (raw.githubusercontent.com)... 185.199.108.133, 185.199.109.133, 185.199.110.133, ...\n",
            "Connecting to raw.githubusercontent.com (raw.githubusercontent.com)|185.199.108.133|:443... connected.\n",
            "HTTP request sent, awaiting response... 200 OK\n",
            "Length: 339 [text/plain]\n",
            "Saving to: ‘raw.githubusercontent.com/Vietnamese.txt’\n",
            "\n",
            "raw.githubuserconte 100%[===================>]     339  --.-KB/s    in 0s      \n",
            "\n",
            "2022-03-28 15:00:15 (14.5 MB/s) - ‘raw.githubusercontent.com/Vietnamese.txt’ saved [339/339]\n",
            "\n",
            "FINISHED --2022-03-28 15:00:15--\n",
            "Total wall clock time: 0.2s\n",
            "Downloaded: 1 files, 339 in 0s (14.5 MB/s)\n"
          ]
        }
      ]
    },
    {
      "cell_type": "code",
      "execution_count": 2,
      "id": "265563cd-f372-4087-95f4-82b03c585aa2",
      "metadata": {
        "id": "265563cd-f372-4087-95f4-82b03c585aa2",
        "outputId": "19163d1f-fc6e-4114-c329-00a448807bd6",
        "colab": {
          "base_uri": "https://localhost:8080/"
        }
      },
      "outputs": [
        {
          "output_type": "stream",
          "name": "stdout",
          "text": [
            "# categories: 18 ['Russian', 'Spanish', 'French', 'Greek', 'Irish', 'Japanese', 'German', 'Dutch', 'Vietnamese', 'English', 'Italian', 'Czech', 'Portuguese', 'Korean', 'Polish', 'Arabic', 'Chinese', 'Scottish']\n",
            "O'Neal\n"
          ]
        }
      ],
      "source": [
        "from __future__ import unicode_literals, print_function, division\n",
        "from io import open\n",
        "import glob\n",
        "import os\n",
        "import unicodedata\n",
        "import string\n",
        "\n",
        "all_letters = string.ascii_letters + \" .,;'-\"\n",
        "n_letters = len(all_letters) + 1 # Plus EOS marker\n",
        "\n",
        "def findFiles(path): return glob.glob(path)\n",
        "\n",
        "# Turn a Unicode string to plain ASCII, thanks to https://stackoverflow.com/a/518232/2809427\n",
        "def unicodeToAscii(s):\n",
        "    return ''.join(\n",
        "        c for c in unicodedata.normalize('NFD', s)\n",
        "        if unicodedata.category(c) != 'Mn'\n",
        "        and c in all_letters\n",
        "    )\n",
        "\n",
        "# Read a file and split into lines\n",
        "def readLines(filename):\n",
        "    with open(filename, encoding='utf-8') as some_file:\n",
        "        return [unicodeToAscii(line.strip()) for line in some_file]\n",
        "\n",
        "# Build the category_lines dictionary, a list of lines per category\n",
        "category_lines = {}\n",
        "all_categories = []\n",
        "for filename in findFiles('data_names/*.txt'):\n",
        "    category = os.path.splitext(os.path.basename(filename))[0]\n",
        "    all_categories.append(category)\n",
        "    lines = readLines(filename)\n",
        "    category_lines[category] = lines\n",
        "\n",
        "n_categories = len(all_categories)\n",
        "\n",
        "if n_categories == 0:\n",
        "    raise RuntimeError('Data not found. Make sure that you downloaded data '\n",
        "        'from https://download.pytorch.org/tutorial/data.zip and extract it to '\n",
        "        'the current directory.')\n",
        "\n",
        "print('# categories:', n_categories, all_categories)\n",
        "print(unicodeToAscii(\"O'Néàl\"))"
      ]
    },
    {
      "cell_type": "code",
      "execution_count": 3,
      "id": "12d0b456-10c7-4e9c-9e47-0b53b203ed4c",
      "metadata": {
        "id": "12d0b456-10c7-4e9c-9e47-0b53b203ed4c",
        "outputId": "b5a7caa3-5a40-4b27-e75a-9d6aad32c7e3",
        "colab": {
          "base_uri": "https://localhost:8080/"
        }
      },
      "outputs": [
        {
          "output_type": "execute_result",
          "data": {
            "text/plain": [
              "['Khoury', 'Nahas', 'Daher', 'Gerges', 'Nazari']"
            ]
          },
          "metadata": {},
          "execution_count": 3
        }
      ],
      "source": [
        "category_lines[\"Arabic\"][:5]"
      ]
    },
    {
      "cell_type": "markdown",
      "id": "e8f0d414-52f1-4e00-b106-1b51332b412b",
      "metadata": {
        "id": "e8f0d414-52f1-4e00-b106-1b51332b412b"
      },
      "source": [
        "## 2 - Model\n",
        "\n",
        "<img src=\"https://github.com/ferjorosa/learn-pytorch/blob/main/FastAI%20NLP%20Course/Translation%2C%20attention%20and%20transformers/images/name_generation_model.png?raw=1\" width=\"600\">"
      ]
    },
    {
      "cell_type": "code",
      "execution_count": 4,
      "id": "6f477b70-48bf-49d3-8a37-724033ba7459",
      "metadata": {
        "id": "6f477b70-48bf-49d3-8a37-724033ba7459"
      },
      "outputs": [],
      "source": [
        "import torch\n",
        "import torch.nn as nn\n",
        "\n",
        "class RNN(nn.Module):\n",
        "    def __init__(self, input_size, hidden_size, output_size):\n",
        "        super(RNN, self).__init__()\n",
        "        self.hidden_size = hidden_size\n",
        "\n",
        "        self.i2h = nn.Linear(n_categories + input_size + hidden_size, hidden_size)\n",
        "        self.i2o = nn.Linear(n_categories + input_size + hidden_size, output_size)\n",
        "        self.o2o = nn.Linear(hidden_size + output_size, output_size)\n",
        "        self.dropout = nn.Dropout(0.1)\n",
        "        self.softmax = nn.LogSoftmax(dim=1)\n",
        "\n",
        "    def forward(self, category, input, hidden):\n",
        "        input_combined = torch.cat((category, input, hidden), 1)\n",
        "        hidden = self.i2h(input_combined)\n",
        "        output = self.i2o(input_combined)\n",
        "        output_combined = torch.cat((hidden, output), 1)\n",
        "        output = self.o2o(output_combined)\n",
        "        output = self.dropout(output)\n",
        "        output = self.softmax(output)\n",
        "        return output, hidden\n",
        "\n",
        "    def initHidden(self):\n",
        "        return torch.zeros(1, self.hidden_size)"
      ]
    },
    {
      "cell_type": "markdown",
      "id": "1782a933-5239-4c7f-b706-b19a90750e69",
      "metadata": {
        "id": "1782a933-5239-4c7f-b706-b19a90750e69"
      },
      "source": [
        "We re going to usenegative log-likelihood loss. For that reason, we need to use `LogSoftmax` in the model"
      ]
    },
    {
      "cell_type": "markdown",
      "id": "2e59ba78-3918-40cf-a524-dcdb83fdcb15",
      "metadata": {
        "id": "2e59ba78-3918-40cf-a524-dcdb83fdcb15"
      },
      "source": [
        "## 3- Training"
      ]
    },
    {
      "cell_type": "markdown",
      "id": "e1504ac8-6a3d-4b55-a8dd-849f6983d889",
      "metadata": {
        "id": "e1504ac8-6a3d-4b55-a8dd-849f6983d889"
      },
      "source": [
        "### 3.1 - Setup\n",
        "\n",
        "First of all, we need helper functions to get random pairs of (category, line)"
      ]
    },
    {
      "cell_type": "code",
      "execution_count": 5,
      "id": "cbf8ea97-433b-4f64-a155-942e5dd4b405",
      "metadata": {
        "id": "cbf8ea97-433b-4f64-a155-942e5dd4b405"
      },
      "outputs": [],
      "source": [
        "import random\n",
        "\n",
        "# Random item from a list\n",
        "def randomChoice(l):\n",
        "    return l[random.randint(0, len(l) - 1)]\n",
        "\n",
        "# Get a random category and random line from that category\n",
        "def randomTrainingPair():\n",
        "    category = randomChoice(all_categories)\n",
        "    line = randomChoice(category_lines[category])\n",
        "    return category, line"
      ]
    },
    {
      "cell_type": "code",
      "execution_count": 6,
      "id": "835a72e4-97ef-4d13-a88a-ce640accf768",
      "metadata": {
        "id": "835a72e4-97ef-4d13-a88a-ce640accf768",
        "outputId": "57635d4d-7cc8-4061-db4d-447fa1d82052",
        "colab": {
          "base_uri": "https://localhost:8080/"
        }
      },
      "outputs": [
        {
          "output_type": "execute_result",
          "data": {
            "text/plain": [
              "('Greek', 'Stamatas')"
            ]
          },
          "metadata": {},
          "execution_count": 6
        }
      ],
      "source": [
        "randomTrainingPair()"
      ]
    },
    {
      "cell_type": "markdown",
      "id": "a7d1b985-278d-4760-a3c7-b3d128c78c0d",
      "metadata": {
        "id": "a7d1b985-278d-4760-a3c7-b3d128c78c0d"
      },
      "source": [
        "### 3.2 - Training process\n",
        "\n",
        "For each letter in a training word, the inputs of the network will be `category`, `current_letter`, `current_hidden_state`, and the outputs will be `next_letter`, `next_hidden_state`. So for each training set, we’ll need the category, a set of input letters, and a set of output/target letters.\n",
        "\n",
        "Since we are predicting the next letter from the current letter for each timestep, the letter pairs are groups of consecutive letters from the line - e.g. for \"ABCD<EOS>\" we would create (“A”, “B”), (“B”, “C”), (“C”, “D”), (“D”, “EOS”).\n",
        "    \n",
        "<img src=\"https://github.com/ferjorosa/learn-pytorch/blob/main/FastAI%20NLP%20Course/Translation%2C%20attention%20and%20transformers/images/name_generation_input_output.png?raw=1\">\n",
        "    \n",
        "The category tensor is a one-hot tensor of size `<1 x n_categories>`. When training we feed it to the network at every timestep (i.e., training word) - this is a design choice, it could have been included as part of initial hidden state or some other strategy."
      ]
    },
    {
      "cell_type": "code",
      "execution_count": 7,
      "id": "2e5285a3-e25e-4110-aaf6-03bde6bd4937",
      "metadata": {
        "id": "2e5285a3-e25e-4110-aaf6-03bde6bd4937"
      },
      "outputs": [],
      "source": [
        "# One-hot vector for category\n",
        "def categoryTensor(category):\n",
        "    li = all_categories.index(category)\n",
        "    tensor = torch.zeros(1, n_categories)\n",
        "    tensor[0][li] = 1\n",
        "    return tensor\n",
        "\n",
        "# One-hot matrix of first to last letters (not including EOS) for input\n",
        "def inputTensor(line):\n",
        "    tensor = torch.zeros(len(line), 1, n_letters)\n",
        "    for li in range(len(line)):\n",
        "        letter = line[li]\n",
        "        tensor[li][0][all_letters.find(letter)] = 1\n",
        "    return tensor\n",
        "\n",
        "# LongTensor of second letter to end (EOS) for target\n",
        "def targetTensor(line):\n",
        "    letter_indexes = [all_letters.find(line[li]) for li in range(1, len(line))]\n",
        "    letter_indexes.append(n_letters - 1) # EOS\n",
        "    return torch.LongTensor(letter_indexes)"
      ]
    },
    {
      "cell_type": "markdown",
      "id": "e1eb9332-24de-4b8f-b1a4-e96b5c5eea56",
      "metadata": {
        "id": "e1eb9332-24de-4b8f-b1a4-e96b5c5eea56"
      },
      "source": [
        "For convenience during training we’ll make a randomTrainingExample function that fetches a random (category, line) pair and turns them into the required `(category, input, target)` tensors."
      ]
    },
    {
      "cell_type": "code",
      "execution_count": 8,
      "id": "5702a68b-9080-475e-9bda-4aabe8652832",
      "metadata": {
        "id": "5702a68b-9080-475e-9bda-4aabe8652832"
      },
      "outputs": [],
      "source": [
        "# Make category, input, and target tensors from a random category, line pair\n",
        "def randomTrainingExample(debug=False):\n",
        "    \n",
        "    category, line = randomTrainingPair()\n",
        "    \n",
        "    if debug:\n",
        "        print((category, line))\n",
        "    \n",
        "    category_tensor = categoryTensor(category)\n",
        "    input_line_tensor = inputTensor(line)\n",
        "    target_line_tensor = targetTensor(line)\n",
        "    return category_tensor, input_line_tensor, target_line_tensor"
      ]
    },
    {
      "cell_type": "code",
      "execution_count": 9,
      "id": "6df83664-12a8-4837-8468-5a3f4747ddfa",
      "metadata": {
        "id": "6df83664-12a8-4837-8468-5a3f4747ddfa",
        "outputId": "4407bb94-26ce-43ef-bf80-6a807510342e",
        "colab": {
          "base_uri": "https://localhost:8080/"
        }
      },
      "outputs": [
        {
          "output_type": "stream",
          "name": "stdout",
          "text": [
            "('German', 'Glockner')\n"
          ]
        },
        {
          "output_type": "execute_result",
          "data": {
            "text/plain": [
              "(tensor([[0., 0., 0., 0., 0., 0., 1., 0., 0., 0., 0., 0., 0., 0., 0., 0., 0., 0.]]),\n",
              " tensor([[[0., 0., 0., 0., 0., 0., 0., 0., 0., 0., 0., 0., 0., 0., 0., 0., 0.,\n",
              "           0., 0., 0., 0., 0., 0., 0., 0., 0., 0., 0., 0., 0., 0., 0., 1., 0.,\n",
              "           0., 0., 0., 0., 0., 0., 0., 0., 0., 0., 0., 0., 0., 0., 0., 0., 0.,\n",
              "           0., 0., 0., 0., 0., 0., 0., 0.]],\n",
              " \n",
              "         [[0., 0., 0., 0., 0., 0., 0., 0., 0., 0., 0., 1., 0., 0., 0., 0., 0.,\n",
              "           0., 0., 0., 0., 0., 0., 0., 0., 0., 0., 0., 0., 0., 0., 0., 0., 0.,\n",
              "           0., 0., 0., 0., 0., 0., 0., 0., 0., 0., 0., 0., 0., 0., 0., 0., 0.,\n",
              "           0., 0., 0., 0., 0., 0., 0., 0.]],\n",
              " \n",
              "         [[0., 0., 0., 0., 0., 0., 0., 0., 0., 0., 0., 0., 0., 0., 1., 0., 0.,\n",
              "           0., 0., 0., 0., 0., 0., 0., 0., 0., 0., 0., 0., 0., 0., 0., 0., 0.,\n",
              "           0., 0., 0., 0., 0., 0., 0., 0., 0., 0., 0., 0., 0., 0., 0., 0., 0.,\n",
              "           0., 0., 0., 0., 0., 0., 0., 0.]],\n",
              " \n",
              "         [[0., 0., 1., 0., 0., 0., 0., 0., 0., 0., 0., 0., 0., 0., 0., 0., 0.,\n",
              "           0., 0., 0., 0., 0., 0., 0., 0., 0., 0., 0., 0., 0., 0., 0., 0., 0.,\n",
              "           0., 0., 0., 0., 0., 0., 0., 0., 0., 0., 0., 0., 0., 0., 0., 0., 0.,\n",
              "           0., 0., 0., 0., 0., 0., 0., 0.]],\n",
              " \n",
              "         [[0., 0., 0., 0., 0., 0., 0., 0., 0., 0., 1., 0., 0., 0., 0., 0., 0.,\n",
              "           0., 0., 0., 0., 0., 0., 0., 0., 0., 0., 0., 0., 0., 0., 0., 0., 0.,\n",
              "           0., 0., 0., 0., 0., 0., 0., 0., 0., 0., 0., 0., 0., 0., 0., 0., 0.,\n",
              "           0., 0., 0., 0., 0., 0., 0., 0.]],\n",
              " \n",
              "         [[0., 0., 0., 0., 0., 0., 0., 0., 0., 0., 0., 0., 0., 1., 0., 0., 0.,\n",
              "           0., 0., 0., 0., 0., 0., 0., 0., 0., 0., 0., 0., 0., 0., 0., 0., 0.,\n",
              "           0., 0., 0., 0., 0., 0., 0., 0., 0., 0., 0., 0., 0., 0., 0., 0., 0.,\n",
              "           0., 0., 0., 0., 0., 0., 0., 0.]],\n",
              " \n",
              "         [[0., 0., 0., 0., 1., 0., 0., 0., 0., 0., 0., 0., 0., 0., 0., 0., 0.,\n",
              "           0., 0., 0., 0., 0., 0., 0., 0., 0., 0., 0., 0., 0., 0., 0., 0., 0.,\n",
              "           0., 0., 0., 0., 0., 0., 0., 0., 0., 0., 0., 0., 0., 0., 0., 0., 0.,\n",
              "           0., 0., 0., 0., 0., 0., 0., 0.]],\n",
              " \n",
              "         [[0., 0., 0., 0., 0., 0., 0., 0., 0., 0., 0., 0., 0., 0., 0., 0., 0.,\n",
              "           1., 0., 0., 0., 0., 0., 0., 0., 0., 0., 0., 0., 0., 0., 0., 0., 0.,\n",
              "           0., 0., 0., 0., 0., 0., 0., 0., 0., 0., 0., 0., 0., 0., 0., 0., 0.,\n",
              "           0., 0., 0., 0., 0., 0., 0., 0.]]]),\n",
              " tensor([11, 14,  2, 10, 13,  4, 17, 58]))"
            ]
          },
          "metadata": {},
          "execution_count": 9
        }
      ],
      "source": [
        "randomTrainingExample(debug=True)"
      ]
    },
    {
      "cell_type": "markdown",
      "id": "c906ff6a-8597-4987-9557-c869d7781feb",
      "metadata": {
        "id": "c906ff6a-8597-4987-9557-c869d7781feb"
      },
      "source": [
        "From this, we can see that each training example will consider a number of one-hot encoded tensors for category and the training words, but also a set of target word indexes. The last index will correspond to the EOS token."
      ]
    },
    {
      "cell_type": "markdown",
      "id": "e252a398-93d7-456b-89d0-67d97fdd264e",
      "metadata": {
        "id": "e252a398-93d7-456b-89d0-67d97fdd264e"
      },
      "source": [
        "### 3.3 - Model training"
      ]
    },
    {
      "cell_type": "code",
      "execution_count": 10,
      "id": "9ce1f0f5-2a5c-40e7-a162-84426925369a",
      "metadata": {
        "id": "9ce1f0f5-2a5c-40e7-a162-84426925369a"
      },
      "outputs": [],
      "source": [
        "criterion = nn.NLLLoss()\n",
        "\n",
        "learning_rate = 0.0005\n",
        "\n",
        "def train(category_tensor, input_line_tensor, target_line_tensor):\n",
        "    model.train()\n",
        "    target_line_tensor.unsqueeze_(-1)\n",
        "    hidden = model.initHidden()\n",
        "\n",
        "    model.zero_grad()\n",
        "\n",
        "    loss = 0\n",
        "\n",
        "    for i in range(input_line_tensor.size(0)):\n",
        "        output, hidden = model(category_tensor, input_line_tensor[i], hidden)\n",
        "        l = criterion(output, target_line_tensor[i])\n",
        "        loss += l\n",
        "\n",
        "    loss.backward()\n",
        "\n",
        "    for p in model.parameters():\n",
        "        p.data.add_(p.grad.data, alpha=-learning_rate)\n",
        "\n",
        "    return output, loss.item() / input_line_tensor.size(0)"
      ]
    },
    {
      "cell_type": "markdown",
      "id": "5be4d8ce-7590-4789-b411-927b122d9db4",
      "metadata": {
        "id": "5be4d8ce-7590-4789-b411-927b122d9db4"
      },
      "source": [
        "We are adding the following function to keep track of training time"
      ]
    },
    {
      "cell_type": "code",
      "execution_count": 11,
      "id": "0e44db0a-cca4-4d38-b091-6e841459adf9",
      "metadata": {
        "id": "0e44db0a-cca4-4d38-b091-6e841459adf9"
      },
      "outputs": [],
      "source": [
        "import time\n",
        "import math\n",
        "\n",
        "def timeSince(since):\n",
        "    now = time.time()\n",
        "    s = now - since\n",
        "    m = math.floor(s / 60)\n",
        "    s -= m * 60\n",
        "    return '%dm %ds' % (m, s)"
      ]
    },
    {
      "cell_type": "code",
      "execution_count": 12,
      "id": "e5285671-6e8e-4af4-8b9a-78725f5605cb",
      "metadata": {
        "id": "e5285671-6e8e-4af4-8b9a-78725f5605cb",
        "outputId": "385f1a40-5346-4f58-ba57-b8f3bdf78e40",
        "colab": {
          "base_uri": "https://localhost:8080/"
        }
      },
      "outputs": [
        {
          "output_type": "stream",
          "name": "stdout",
          "text": [
            "0m 15s (5000 5%) 2.8593\n",
            "0m 30s (10000 10%) 2.9703\n",
            "0m 45s (15000 15%) 3.3849\n",
            "0m 59s (20000 20%) 2.5796\n",
            "1m 15s (25000 25%) 2.2414\n",
            "1m 30s (30000 30%) 2.3029\n",
            "1m 45s (35000 35%) 3.3472\n",
            "2m 1s (40000 40%) 3.0359\n",
            "2m 16s (45000 45%) 3.2598\n",
            "2m 30s (50000 50%) 2.5097\n",
            "2m 45s (55000 55%) 2.1935\n",
            "3m 1s (60000 60%) 3.0463\n",
            "3m 16s (65000 65%) 2.2680\n",
            "3m 31s (70000 70%) 2.1562\n",
            "3m 46s (75000 75%) 2.0386\n",
            "4m 1s (80000 80%) 1.9458\n",
            "4m 16s (85000 85%) 2.4471\n",
            "4m 31s (90000 90%) 2.6973\n",
            "4m 46s (95000 95%) 2.0612\n",
            "5m 1s (100000 100%) 2.0012\n"
          ]
        }
      ],
      "source": [
        "model = RNN(n_letters, 128, n_letters)\n",
        "\n",
        "n_iters = 100000\n",
        "print_every = 5000\n",
        "plot_every = 500\n",
        "all_losses = []\n",
        "total_loss = 0 # Reset every plot_every iters\n",
        "\n",
        "start = time.time()\n",
        "\n",
        "for iter in range(1, n_iters + 1):\n",
        "    output, loss = train(*randomTrainingExample())\n",
        "    total_loss += loss\n",
        "\n",
        "    if iter % print_every == 0:\n",
        "        print('%s (%d %d%%) %.4f' % (timeSince(start), iter, iter / n_iters * 100, loss))\n",
        "\n",
        "    if iter % plot_every == 0:\n",
        "        all_losses.append(total_loss / plot_every)\n",
        "        total_loss = 0"
      ]
    },
    {
      "cell_type": "markdown",
      "id": "7b107327-2e6a-4202-98ee-aef8e6f5492b",
      "metadata": {
        "id": "7b107327-2e6a-4202-98ee-aef8e6f5492b"
      },
      "source": [
        "#### Plotting the losses"
      ]
    },
    {
      "cell_type": "code",
      "execution_count": 13,
      "id": "67f99580-c64b-49ba-bf3e-18da3d3a5dab",
      "metadata": {
        "id": "67f99580-c64b-49ba-bf3e-18da3d3a5dab",
        "outputId": "35557caa-bc25-4797-a736-80ea454c3931",
        "colab": {
          "base_uri": "https://localhost:8080/",
          "height": 284
        }
      },
      "outputs": [
        {
          "output_type": "execute_result",
          "data": {
            "text/plain": [
              "[<matplotlib.lines.Line2D at 0x7f7d6d2103d0>]"
            ]
          },
          "metadata": {},
          "execution_count": 13
        },
        {
          "output_type": "display_data",
          "data": {
            "text/plain": [
              "<Figure size 432x288 with 1 Axes>"
            ],
            "image/png": "[encoded data removed]"
          },
          "metadata": {
            "needs_background": "light"
          }
        }
      ],
      "source": [
        "import matplotlib.pyplot as plt\n",
        "\n",
        "plt.figure()\n",
        "plt.plot(all_losses)"
      ]
    },
    {
      "cell_type": "markdown",
      "id": "bf86684a-8a8a-4a52-b4e7-d52ab55e1bf5",
      "metadata": {
        "id": "bf86684a-8a8a-4a52-b4e7-d52ab55e1bf5"
      },
      "source": [
        "## 4 - Inference"
      ]
    },
    {
      "cell_type": "markdown",
      "id": "9349dd34-b2cb-414b-9962-bd122ecad590",
      "metadata": {
        "id": "9349dd34-b2cb-414b-9962-bd122ecad590"
      },
      "source": [
        "### 4.1 - Sampling names given the category and an initial word\n",
        "\n",
        "**Overview:**\n",
        "1. Give the network a letter and ask what the next one is\n",
        "2. Feed the result as the next letter\n",
        "3. Repeat 1-2 unilt the EOS token\n",
        "\n",
        "**Process**\n",
        "\n",
        "* Create tensors for input category, starting letter, and empty hidden state\n",
        "* Create a string output_name with the starting letter\n",
        "* Up to a maximum output length,\n",
        "    * Feed the current letter to the network\n",
        "    * Get the next letter from highest output, and next hidden state\n",
        "    * If the letter is EOS, stop here\n",
        "    * If a regular letter, add to output_name and continue\n",
        "* Return the final name\n",
        "\n",
        "**Note:** Rather than having to give it a starting letter, another strategy would have been to include a “start of string” token in training and have the network choose its own starting letter."
      ]
    },
    {
      "cell_type": "code",
      "execution_count": 41,
      "id": "e5a9679b-0dd1-4a86-bc45-9ceb782d17a4",
      "metadata": {
        "id": "e5a9679b-0dd1-4a86-bc45-9ceb782d17a4",
        "outputId": "dee9a8da-e517-4871-eccf-5d820669b0be",
        "colab": {
          "base_uri": "https://localhost:8080/"
        }
      },
      "outputs": [
        {
          "output_type": "stream",
          "name": "stdout",
          "text": [
            "Lantovak\n",
            "Orakov\n",
            "Lantovak\n",
            "Gerter\n",
            "Ereng\n",
            "Roung\n"
          ]
        }
      ],
      "source": [
        "max_length = 20\n",
        "\n",
        "# Sample from a category and starting letter\n",
        "def sample(category, start_letter='A'):\n",
        "    model.eval()\n",
        "    with torch.no_grad():  # no need to track history in sampling\n",
        "        category_tensor = categoryTensor(category)\n",
        "        input = inputTensor(start_letter)\n",
        "        hidden = model.initHidden()\n",
        "\n",
        "        output_name = start_letter\n",
        "\n",
        "        for i in range(max_length):\n",
        "            output, hidden = model(category_tensor, input[0], hidden)\n",
        "            topv, topi = output.topk(1)\n",
        "            topi = topi[0][0]\n",
        "            if topi == n_letters - 1:\n",
        "                break\n",
        "            else:\n",
        "                letter = all_letters[topi]\n",
        "                output_name += letter\n",
        "            input = inputTensor(letter)\n",
        "\n",
        "        return output_name\n",
        "\n",
        "# Get multiple samples from one category and multiple starting letters\n",
        "def samples(category, start_letters='ABC'):\n",
        "    for start_letter in start_letters:\n",
        "        print(sample(category, start_letter))\n",
        "\n",
        "samples('Russian', 'LOL')\n",
        "\n",
        "samples('German', 'GER')\n",
        "\n",
        "# samples('Spanish', 'SPA')\n",
        "\n",
        "# samples('Chinese', 'CHI')"
      ]
    },
    {
      "cell_type": "markdown",
      "source": [
        "**Note:** I don't know why, but running this final inference in Google Colab gives me the same names every time. In the local machine I was getting different results..."
      ],
      "metadata": {
        "id": "YUsCdRilEeu5"
      },
      "id": "YUsCdRilEeu5"
    }
  ],
  "metadata": {
    "kernelspec": {
      "display_name": "Python 3 (ipykernel)",
      "language": "python",
      "name": "python3"
    },
    "language_info": {
      "codemirror_mode": {
        "name": "ipython",
        "version": 3
      },
      "file_extension": ".py",
      "mimetype": "text/x-python",
      "name": "python",
      "nbconvert_exporter": "python",
      "pygments_lexer": "ipython3",
      "version": "3.9.7"
    },
    "colab": {
      "name": "name_generation.ipynb",
      "provenance": [],
      "include_colab_link": true
    },
    "accelerator": "GPU"
  },
  "nbformat": 4,
  "nbformat_minor": 5
}