{
 "cells": [
  {
   "cell_type": "markdown",
   "id": "21e103de-fdd5-4f2f-97de-5eece6797654",
   "metadata": {},
   "source": [
    "# Generating names with a character-level RNN\n",
    "\n",
    "As stated by the title, the objective of this notebook is to learn how to generate names using a recurrent neural network (RNN).\n",
    "\n",
    "This notebook corresponds to a modified version of the following <a href=\"https://pytorch.org/tutorials/intermediate/char_rnn_generation_tutorial.html\">PyTorch tutorial</a>"
   ]
  },
  {
   "cell_type": "markdown",
   "id": "ac8f780d-8a12-4120-b67c-36133ab7ac8a",
   "metadata": {},
   "source": [
    "## 1 - Data\n",
    "\n",
    "We have 18 files with examples from different names, grouped by country. We read each of these names and transform them into ASCII format"
   ]
  },
  {
   "cell_type": "code",
   "execution_count": 1,
   "id": "265563cd-f372-4087-95f4-82b03c585aa2",
   "metadata": {},
   "outputs": [
    {
     "name": "stdout",
     "output_type": "stream",
     "text": [
      "# categories: 18 ['Arabic', 'Chinese', 'Czech', 'Dutch', 'English', 'French', 'German', 'Greek', 'Irish', 'Italian', 'Japanese', 'Korean', 'Polish', 'Portuguese', 'Russian', 'Scottish', 'Spanish', 'Vietnamese']\n",
      "O'Neal\n"
     ]
    }
   ],
   "source": [
    "from __future__ import unicode_literals, print_function, division\n",
    "from io import open\n",
    "import glob\n",
    "import os\n",
    "import unicodedata\n",
    "import string\n",
    "\n",
    "all_letters = string.ascii_letters + \" .,;'-\"\n",
    "n_letters = len(all_letters) + 1 # Plus EOS marker\n",
    "\n",
    "def findFiles(path): return glob.glob(path)\n",
    "\n",
    "# Turn a Unicode string to plain ASCII, thanks to https://stackoverflow.com/a/518232/2809427\n",
    "def unicodeToAscii(s):\n",
    "    return ''.join(\n",
    "        c for c in unicodedata.normalize('NFD', s)\n",
    "        if unicodedata.category(c) != 'Mn'\n",
    "        and c in all_letters\n",
    "    )\n",
    "\n",
    "# Read a file and split into lines\n",
    "def readLines(filename):\n",
    "    with open(filename, encoding='utf-8') as some_file:\n",
    "        return [unicodeToAscii(line.strip()) for line in some_file]\n",
    "\n",
    "# Build the category_lines dictionary, a list of lines per category\n",
    "category_lines = {}\n",
    "all_categories = []\n",
    "for filename in findFiles('data_names/*.txt'):\n",
    "    category = os.path.splitext(os.path.basename(filename))[0]\n",
    "    all_categories.append(category)\n",
    "    lines = readLines(filename)\n",
    "    category_lines[category] = lines\n",
    "\n",
    "n_categories = len(all_categories)\n",
    "\n",
    "if n_categories == 0:\n",
    "    raise RuntimeError('Data not found. Make sure that you downloaded data '\n",
    "        'from https://download.pytorch.org/tutorial/data.zip and extract it to '\n",
    "        'the current directory.')\n",
    "\n",
    "print('# categories:', n_categories, all_categories)\n",
    "print(unicodeToAscii(\"O'Néàl\"))"
   ]
  },
  {
   "cell_type": "code",
   "execution_count": 5,
   "id": "12d0b456-10c7-4e9c-9e47-0b53b203ed4c",
   "metadata": {},
   "outputs": [
    {
     "data": {
      "text/plain": [
       "['Khoury', 'Nahas', 'Daher', 'Gerges', 'Nazari']"
      ]
     },
     "execution_count": 5,
     "metadata": {},
     "output_type": "execute_result"
    }
   ],
   "source": [
    "category_lines[\"Arabic\"][:5]"
   ]
  },
  {
   "cell_type": "markdown",
   "id": "e8f0d414-52f1-4e00-b106-1b51332b412b",
   "metadata": {},
   "source": [
    "## 2 - Model\n",
    "\n",
    "<img src=\"images/name_generation_model.png\" width=\"600\">"
   ]
  },
  {
   "cell_type": "code",
   "execution_count": 2,
   "id": "6f477b70-48bf-49d3-8a37-724033ba7459",
   "metadata": {},
   "outputs": [],
   "source": [
    "import torch\n",
    "import torch.nn as nn\n",
    "\n",
    "class RNN(nn.Module):\n",
    "    def __init__(self, input_size, hidden_size, output_size):\n",
    "        super(RNN, self).__init__()\n",
    "        self.hidden_size = hidden_size\n",
    "\n",
    "        self.i2h = nn.Linear(n_categories + input_size + hidden_size, hidden_size)\n",
    "        self.i2o = nn.Linear(n_categories + input_size + hidden_size, output_size)\n",
    "        self.o2o = nn.Linear(hidden_size + output_size, output_size)\n",
    "        self.dropout = nn.Dropout(0.1)\n",
    "        self.softmax = nn.LogSoftmax(dim=1)\n",
    "\n",
    "    def forward(self, category, input, hidden):\n",
    "        input_combined = torch.cat((category, input, hidden), 1)\n",
    "        hidden = self.i2h(input_combined)\n",
    "        output = self.i2o(input_combined)\n",
    "        output_combined = torch.cat((hidden, output), 1)\n",
    "        output = self.o2o(output_combined)\n",
    "        output = self.dropout(output)\n",
    "        output = self.softmax(output)\n",
    "        return output, hidden\n",
    "\n",
    "    def initHidden(self):\n",
    "        return torch.zeros(1, self.hidden_size)"
   ]
  },
  {
   "cell_type": "markdown",
   "id": "1782a933-5239-4c7f-b706-b19a90750e69",
   "metadata": {},
   "source": [
    "We re going to usenegative log-likelihood loss. For that reason, we need to use `LogSoftmax` in the model"
   ]
  },
  {
   "cell_type": "markdown",
   "id": "2e59ba78-3918-40cf-a524-dcdb83fdcb15",
   "metadata": {},
   "source": [
    "## 3- Training"
   ]
  },
  {
   "cell_type": "markdown",
   "id": "e1504ac8-6a3d-4b55-a8dd-849f6983d889",
   "metadata": {},
   "source": [
    "### 3.1 - Setup\n",
    "\n",
    "First of all, we need helper functions to get random pairs of (category, line)"
   ]
  },
  {
   "cell_type": "code",
   "execution_count": 3,
   "id": "cbf8ea97-433b-4f64-a155-942e5dd4b405",
   "metadata": {},
   "outputs": [],
   "source": [
    "import random\n",
    "\n",
    "# Random item from a list\n",
    "def randomChoice(l):\n",
    "    return l[random.randint(0, len(l) - 1)]\n",
    "\n",
    "# Get a random category and random line from that category\n",
    "def randomTrainingPair():\n",
    "    category = randomChoice(all_categories)\n",
    "    line = randomChoice(category_lines[category])\n",
    "    return category, line"
   ]
  },
  {
   "cell_type": "code",
   "execution_count": 8,
   "id": "835a72e4-97ef-4d13-a88a-ce640accf768",
   "metadata": {},
   "outputs": [
    {
     "data": {
      "text/plain": [
       "('Italian', 'Damiani')"
      ]
     },
     "execution_count": 8,
     "metadata": {},
     "output_type": "execute_result"
    }
   ],
   "source": [
    "randomTrainingPair()"
   ]
  },
  {
   "cell_type": "markdown",
   "id": "a7d1b985-278d-4760-a3c7-b3d128c78c0d",
   "metadata": {},
   "source": [
    "### 3.2 - Training process\n",
    "\n",
    "For each letter in a training word, the inputs of the network will be `category`, `current_letter`, `current_hidden_state`, and the outputs will be `next_letter`, `next_hidden_state`. So for each training set, we’ll need the category, a set of input letters, and a set of output/target letters.\n",
    "\n",
    "Since we are predicting the next letter from the current letter for each timestep, the letter pairs are groups of consecutive letters from the line - e.g. for \"ABCD<EOS>\" we would create (“A”, “B”), (“B”, “C”), (“C”, “D”), (“D”, “EOS”).\n",
    "    \n",
    "<img src=\"images/name_generation_input_output.png\">\n",
    "    \n",
    "The category tensor is a one-hot tensor of size `<1 x n_categories>`. When training we feed it to the network at every timestep (i.e., training word) - this is a design choice, it could have been included as part of initial hidden state or some other strategy."
   ]
  },
  {
   "cell_type": "code",
   "execution_count": 10,
   "id": "2e5285a3-e25e-4110-aaf6-03bde6bd4937",
   "metadata": {},
   "outputs": [],
   "source": [
    "# One-hot vector for category\n",
    "def categoryTensor(category):\n",
    "    li = all_categories.index(category)\n",
    "    tensor = torch.zeros(1, n_categories)\n",
    "    tensor[0][li] = 1\n",
    "    return tensor\n",
    "\n",
    "# One-hot matrix of first to last letters (not including EOS) for input\n",
    "def inputTensor(line):\n",
    "    tensor = torch.zeros(len(line), 1, n_letters)\n",
    "    for li in range(len(line)):\n",
    "        letter = line[li]\n",
    "        tensor[li][0][all_letters.find(letter)] = 1\n",
    "    return tensor\n",
    "\n",
    "# LongTensor of second letter to end (EOS) for target\n",
    "def targetTensor(line):\n",
    "    letter_indexes = [all_letters.find(line[li]) for li in range(1, len(line))]\n",
    "    letter_indexes.append(n_letters - 1) # EOS\n",
    "    return torch.LongTensor(letter_indexes)"
   ]
  },
  {
   "cell_type": "markdown",
   "id": "e1eb9332-24de-4b8f-b1a4-e96b5c5eea56",
   "metadata": {},
   "source": [
    "For convenience during training we’ll make a randomTrainingExample function that fetches a random (category, line) pair and turns them into the required `(category, input, target)` tensors."
   ]
  },
  {
   "cell_type": "code",
   "execution_count": 14,
   "id": "5702a68b-9080-475e-9bda-4aabe8652832",
   "metadata": {},
   "outputs": [],
   "source": [
    "# Make category, input, and target tensors from a random category, line pair\n",
    "def randomTrainingExample(debug=False):\n",
    "    \n",
    "    category, line = randomTrainingPair()\n",
    "    \n",
    "    if debug:\n",
    "        print((category, line))\n",
    "    \n",
    "    category_tensor = categoryTensor(category)\n",
    "    input_line_tensor = inputTensor(line)\n",
    "    target_line_tensor = targetTensor(line)\n",
    "    return category_tensor, input_line_tensor, target_line_tensor"
   ]
  },
  {
   "cell_type": "code",
   "execution_count": 15,
   "id": "6df83664-12a8-4837-8468-5a3f4747ddfa",
   "metadata": {},
   "outputs": [
    {
     "name": "stdout",
     "output_type": "stream",
     "text": [
      "('Vietnamese', 'Phi')\n"
     ]
    },
    {
     "data": {
      "text/plain": [
       "(tensor([[0., 0., 0., 0., 0., 0., 0., 0., 0., 0., 0., 0., 0., 0., 0., 0., 0., 1.]]),\n",
       " tensor([[[0., 0., 0., 0., 0., 0., 0., 0., 0., 0., 0., 0., 0., 0., 0., 0., 0.,\n",
       "           0., 0., 0., 0., 0., 0., 0., 0., 0., 0., 0., 0., 0., 0., 0., 0., 0.,\n",
       "           0., 0., 0., 0., 0., 0., 0., 1., 0., 0., 0., 0., 0., 0., 0., 0., 0.,\n",
       "           0., 0., 0., 0., 0., 0., 0., 0.]],\n",
       " \n",
       "         [[0., 0., 0., 0., 0., 0., 0., 1., 0., 0., 0., 0., 0., 0., 0., 0., 0.,\n",
       "           0., 0., 0., 0., 0., 0., 0., 0., 0., 0., 0., 0., 0., 0., 0., 0., 0.,\n",
       "           0., 0., 0., 0., 0., 0., 0., 0., 0., 0., 0., 0., 0., 0., 0., 0., 0.,\n",
       "           0., 0., 0., 0., 0., 0., 0., 0.]],\n",
       " \n",
       "         [[0., 0., 0., 0., 0., 0., 0., 0., 1., 0., 0., 0., 0., 0., 0., 0., 0.,\n",
       "           0., 0., 0., 0., 0., 0., 0., 0., 0., 0., 0., 0., 0., 0., 0., 0., 0.,\n",
       "           0., 0., 0., 0., 0., 0., 0., 0., 0., 0., 0., 0., 0., 0., 0., 0., 0.,\n",
       "           0., 0., 0., 0., 0., 0., 0., 0.]]]),\n",
       " tensor([ 7,  8, 58]))"
      ]
     },
     "execution_count": 15,
     "metadata": {},
     "output_type": "execute_result"
    }
   ],
   "source": [
    "randomTrainingExample(debug=True)"
   ]
  },
  {
   "cell_type": "markdown",
   "id": "c906ff6a-8597-4987-9557-c869d7781feb",
   "metadata": {},
   "source": [
    "From this, we can see that each training example will consider a number of one-hot encoded tensors for category and the training words, but also a set of target word indexes. The last index will correspond to the EOS token."
   ]
  },
  {
   "cell_type": "markdown",
   "id": "e252a398-93d7-456b-89d0-67d97fdd264e",
   "metadata": {},
   "source": [
    "### 3.3 - Model training"
   ]
  },
  {
   "cell_type": "code",
   "execution_count": 16,
   "id": "9ce1f0f5-2a5c-40e7-a162-84426925369a",
   "metadata": {},
   "outputs": [],
   "source": [
    "criterion = nn.NLLLoss()\n",
    "\n",
    "learning_rate = 0.0005\n",
    "\n",
    "def train(category_tensor, input_line_tensor, target_line_tensor):\n",
    "    model.train()\n",
    "    target_line_tensor.unsqueeze_(-1)\n",
    "    hidden = model.initHidden()\n",
    "\n",
    "    model.zero_grad()\n",
    "\n",
    "    loss = 0\n",
    "\n",
    "    for i in range(input_line_tensor.size(0)):\n",
    "        output, hidden = model(category_tensor, input_line_tensor[i], hidden)\n",
    "        l = criterion(output, target_line_tensor[i])\n",
    "        loss += l\n",
    "\n",
    "    loss.backward()\n",
    "\n",
    "    for p in rnn.parameters():\n",
    "        p.data.add_(p.grad.data, alpha=-learning_rate)\n",
    "\n",
    "    return output, loss.item() / input_line_tensor.size(0)"
   ]
  },
  {
   "cell_type": "markdown",
   "id": "5be4d8ce-7590-4789-b411-927b122d9db4",
   "metadata": {},
   "source": [
    "We are adding the following function to keep track of training time"
   ]
  },
  {
   "cell_type": "code",
   "execution_count": 18,
   "id": "0e44db0a-cca4-4d38-b091-6e841459adf9",
   "metadata": {},
   "outputs": [],
   "source": [
    "import time\n",
    "import math\n",
    "\n",
    "def timeSince(since):\n",
    "    now = time.time()\n",
    "    s = now - since\n",
    "    m = math.floor(s / 60)\n",
    "    s -= m * 60\n",
    "    return '%dm %ds' % (m, s)"
   ]
  },
  {
   "cell_type": "code",
   "execution_count": 19,
   "id": "e5285671-6e8e-4af4-8b9a-78725f5605cb",
   "metadata": {},
   "outputs": [
    {
     "name": "stdout",
     "output_type": "stream",
     "text": [
      "0m 15s (5000 5%) 2.7311\n",
      "0m 31s (10000 10%) 2.7758\n",
      "0m 48s (15000 15%) 2.8122\n",
      "1m 6s (20000 20%) 2.8459\n",
      "1m 25s (25000 25%) 2.7311\n",
      "1m 42s (30000 30%) 2.7020\n",
      "1m 59s (35000 35%) 2.5157\n",
      "2m 19s (40000 40%) 2.7648\n",
      "2m 40s (45000 45%) 1.9134\n",
      "2m 58s (50000 50%) 2.6268\n",
      "3m 15s (55000 55%) 1.7189\n",
      "3m 33s (60000 60%) 2.4566\n",
      "3m 50s (65000 65%) 2.5885\n",
      "4m 7s (70000 70%) 2.5986\n",
      "4m 24s (75000 75%) 1.7620\n",
      "4m 41s (80000 80%) 2.8462\n",
      "4m 59s (85000 85%) 2.1194\n",
      "5m 15s (90000 90%) 2.2691\n",
      "5m 33s (95000 95%) 1.8403\n",
      "5m 53s (100000 100%) 2.1919\n"
     ]
    }
   ],
   "source": [
    "model = RNN(n_letters, 128, n_letters)\n",
    "\n",
    "n_iters = 100000\n",
    "print_every = 5000\n",
    "plot_every = 500\n",
    "all_losses = []\n",
    "total_loss = 0 # Reset every plot_every iters\n",
    "\n",
    "start = time.time()\n",
    "\n",
    "for iter in range(1, n_iters + 1):\n",
    "    output, loss = train(*randomTrainingExample())\n",
    "    total_loss += loss\n",
    "\n",
    "    if iter % print_every == 0:\n",
    "        print('%s (%d %d%%) %.4f' % (timeSince(start), iter, iter / n_iters * 100, loss))\n",
    "\n",
    "    if iter % plot_every == 0:\n",
    "        all_losses.append(total_loss / plot_every)\n",
    "        total_loss = 0"
   ]
  },
  {
   "cell_type": "markdown",
   "id": "7b107327-2e6a-4202-98ee-aef8e6f5492b",
   "metadata": {},
   "source": [
    "#### Plotting the losses"
   ]
  },
  {
   "cell_type": "code",
   "execution_count": 20,
   "id": "67f99580-c64b-49ba-bf3e-18da3d3a5dab",
   "metadata": {},
   "outputs": [
    {
     "data": {
      "text/plain": [
       "[<matplotlib.lines.Line2D at 0x1fc92362a30>]"
      ]
     },
     "execution_count": 20,
     "metadata": {},
     "output_type": "execute_result"
    },
    {
     "data": {
      "image/png": "[encoded data removed]",
      "text/plain": [
       "<Figure size 432x288 with 1 Axes>"
      ]
     },
     "metadata": {
      "needs_background": "light"
     },
     "output_type": "display_data"
    }
   ],
   "source": [
    "import matplotlib.pyplot as plt\n",
    "\n",
    "plt.figure()\n",
    "plt.plot(all_losses)"
   ]
  },
  {
   "cell_type": "markdown",
   "id": "bf86684a-8a8a-4a52-b4e7-d52ab55e1bf5",
   "metadata": {},
   "source": [
    "## 4 - Inference"
   ]
  },
  {
   "cell_type": "markdown",
   "id": "9349dd34-b2cb-414b-9962-bd122ecad590",
   "metadata": {},
   "source": [
    "### 4.1 - Sampling names given the category and an initial word\n",
    "\n",
    "**Overview:**\n",
    "1. Give the network a letter and ask what the next one is\n",
    "2. Feed the result as the next letter\n",
    "3. Repeat 1-2 unilt the EOS token\n",
    "\n",
    "**Process**\n",
    "\n",
    "* Create tensors for input category, starting letter, and empty hidden state\n",
    "* Create a string output_name with the starting letter\n",
    "* Up to a maximum output length,\n",
    "    * Feed the current letter to the network\n",
    "    * Get the next letter from highest output, and next hidden state\n",
    "    * If the letter is EOS, stop here\n",
    "    * If a regular letter, add to output_name and continue\n",
    "* Return the final name\n",
    "\n",
    "**Note:** Rather than having to give it a starting letter, another strategy would have been to include a “start of string” token in training and have the network choose its own starting letter."
   ]
  },
  {
   "cell_type": "code",
   "execution_count": 37,
   "id": "e5a9679b-0dd1-4a86-bc45-9ceb782d17a4",
   "metadata": {},
   "outputs": [
    {
     "name": "stdout",
     "output_type": "stream",
     "text": [
      "Roulon\n"
     ]
    }
   ],
   "source": [
    "max_length = 20\n",
    "\n",
    "# Sample from a category and starting letter\n",
    "def sample(category, start_letter='A'):\n",
    "    model.eval()\n",
    "    with torch.no_grad():  # no need to track history in sampling\n",
    "        category_tensor = categoryTensor(category)\n",
    "        input = inputTensor(start_letter)\n",
    "        hidden = model.initHidden()\n",
    "\n",
    "        output_name = start_letter\n",
    "\n",
    "        for i in range(max_length):\n",
    "            output, hidden = model(category_tensor, input[0], hidden)\n",
    "            topv, topi = output.topk(1)\n",
    "            topi = topi[0][0]\n",
    "            if topi == n_letters - 1:\n",
    "                break\n",
    "            else:\n",
    "                letter = all_letters[topi]\n",
    "                output_name += letter\n",
    "            input = inputTensor(letter)\n",
    "\n",
    "        return output_name\n",
    "\n",
    "# Get multiple samples from one category and multiple starting letters\n",
    "def samples(category, start_letters='ABC'):\n",
    "    for start_letter in start_letters:\n",
    "        print(sample(category, start_letter))\n",
    "\n",
    "samples('Russian', 'LOL')\n",
    "\n",
    "# samples('German', 'GER')\n",
    "\n",
    "# samples('Spanish', 'SPA')\n",
    "\n",
    "# samples('Chinese', 'CHI')"
   ]
  }
 ],
 "metadata": {
  "kernelspec": {
   "display_name": "Python 3 (ipykernel)",
   "language": "python",
   "name": "python3"
  },
  "language_info": {
   "codemirror_mode": {
    "name": "ipython",
    "version": 3
   },
   "file_extension": ".py",
   "mimetype": "text/x-python",
   "name": "python",
   "nbconvert_exporter": "python",
   "pygments_lexer": "ipython3",
   "version": "3.9.7"
  }
 },
 "nbformat": 4,
 "nbformat_minor": 5
}
