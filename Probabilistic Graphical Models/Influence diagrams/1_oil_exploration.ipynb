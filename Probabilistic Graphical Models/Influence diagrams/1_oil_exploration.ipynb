{
 "cells": [
  {
   "cell_type": "markdown",
   "id": "19c3bfe0fe19cbfc",
   "metadata": {},
   "source": [
    "# Oil Field Decision Problem\n",
    "\n",
    "This notebook delves into the decision-making process for an oil company evaluating the purchase of an oil field. We will leverage two powerful frameworks: decision trees and influence diagrams.\n",
    "\n",
    "**Decision Trees:**\n",
    "\n",
    "* We will begin by constructing a decision tree to analyze potential outcomes and guide the company towards the most profitable choice.\n",
    "* Through the decision tree, we will assess factors like oil field quality, geological test results, and potential uncertainties.\n",
    "* By assigning monetary values (utilities) to each scenario, we will quantify potential profits and estimate probabilities of various outcomes.\n",
    "* Ultimately, we will use these calculations to identify the decision sequence that maximizes the expected profit for the oil company.\n",
    "\n",
    "**Influence Diagrams with [PyAgrum](https://pyagrum.readthedocs.io/en/0.16.1/):**\n",
    "\n",
    "* Next, we will explore how to model the same problem using an influence diagram with the PyAgrum package.\n",
    "    * Influence diagrams offer a more visually intuitive representation of decision problems, explicitly depicting relationships between variables.\n",
    "* By comparing the decision tree and influence diagram approaches, we will gain a deeper understanding of their strengths and limitations for this specific problem.\n",
    "\n",
    "**Future Developments: Integrating Large Language Models (LangChain):**\n",
    "\n",
    "* As a potential future development, we will briefly discuss how Large Language Models (LLMs) could be integrated into the decision process using LangChain.\n",
    "    * LLMs have the potential to automate tasks like data analysis and information retrieval, potentially enhancing the efficiency of the decision-making process."
   ]
  },
  {
   "cell_type": "markdown",
   "id": "23c05cb5671573d9",
   "metadata": {},
   "source": [
    "## 1 - Introduction"
   ]
  },
  {
   "cell_type": "markdown",
   "id": "4ca9c488703cdf20",
   "metadata": {},
   "source": [
    "An oil company is considering the <span style=\"color: red\"><b>decision</b></span> (<span style=\"color: red\"><b>B</b></span>) to buy an oil field. The oil field can have three quality levels (<span style=\"color: purple\"><b>Q</b></span>): high ($q_1$), medium ($q_2$), and low ($q_3$). The company obviously does not know the \"real\" qaulity of the field beforehand, but it can provide an estimation (i.e., <span style=\"color: purple\"><b>uncertainty</b></span> ) using historical data and imagery. **It is willing to pay a higher price for the field as its quality increases**.\n",
    "\n",
    "Before making the buy decision, the company needs to <span style=\"color: red\"><b>decide</b></span> (<span style=\"color: red\"><b>T</b></span>) if it wants to perform a geological test. This test will have a certain cost and its results (<span style=\"color: purple\"><b>R</b></span>) will not be exact predictions about the quality of the field, but will provide a report on the porosity of the reservoir (high porosity generally indicates greater oil potential). The test will not be infallible, and thus contain a certain degree of <span style=\"color: purple\"><b>uncertainty</b></span>. The test can have two possible outcomes:\n",
    "\n",
    "* **Pass:** The porosity of the reservoir rock is equal to or greater than 15%, indicating significant oil potential.\n",
    "* **Fail:** The porosity of the reservoir rock is less than 15%, indicating low oil potential.\n",
    "\n",
    "<table>\n",
    "<tr>\n",
    "  <td>\n",
    "    <img src=\"./images_1/rock_porosity.jpg\" alt=\"Rock Porosity examples\" width=\"600\">\n",
    "  </td>\n",
    "</tr>\n",
    "<tr>\n",
    "<i><b>Figure 1.</b> Hydrocarbon reservoir quality in terms of permeability and porosity </i>\n",
    "</tr>\n",
    "</table>\n",
    "\n",
    "The chronological sequence of the decision process is as follows:\n",
    "\n",
    "1. The company decides whether or not to perform the geological test.\n",
    "2. If the test is performed, the results are observed.\n",
    "3. The company decides whether or not to buy the oil field.\n",
    "\n",
    "There is still residual uncertainty in the problem that affects utility: <span style=\"color: purple\"><b>What is the actual state of the oil field?</b></span>\n",
    "\n",
    "In this example, it seems logical for the company to buy the oil field after obtaining a \"pass\" result, but this is not always the case. It will depend on its specific a priori beliefs about the quality of the land (for example, based on its historical data on oil fields with similar characteristics), the intrinsic uncertainty of the test (for example, the test may give a positive result but the field is not actually suitable, or vice versa) and how the company values the possible consequences."
   ]
  },
  {
   "cell_type": "markdown",
   "id": "72299b73abcbd8e4",
   "metadata": {},
   "source": [
    "## 2 - Quantitative information"
   ]
  },
  {
   "cell_type": "markdown",
   "id": "5abb63e157d8d2b3",
   "metadata": {},
   "source": [
    "In this case, the quantitative information will be specified explicitly to illustrate these ideas. "
   ]
  },
  {
   "cell_type": "markdown",
   "id": "34baa63e-6f0e-4233-86ed-cc5dfcbf1903",
   "metadata": {},
   "source": [
    "### 2.1 - The utility table ($U$)"
   ]
  },
  {
   "cell_type": "markdown",
   "id": "9a7d6812-0963-45e0-9d13-2b23187af47b",
   "metadata": {},
   "source": [
    "To evaluate the decision tree for the oil field, we need to define the value (utility) of each outcome. This utility reflects the desirability of a particular scenario (buying the field after a successful test, etc.).\n",
    "\n",
    "There are several ways to define utilities, and the best approach depends on the situation. Here's how we'll approach it:\n",
    "\n",
    "* **Monetary Values:** We'll primarily focus on the net profit (revenue minus costs) associated with each outcome. This makes sense because the oil company is likely driven by profitability.\n",
    "* **Potential Adjustments:** We might consider incorporating non-monetary factors like environmental impact in the future. For example, buying a low-quality field might have a lower environmental impact (less drilling required) compared to a high-quality one. We could then adjust the utilities to reflect this.\n",
    "\n",
    "After several discussions, these are the resulting utilities of the problem:\n",
    "\n",
    "<table>\n",
    "  <tr>\n",
    "    <th><span style=\"color: red\">T</span></th>\n",
    "    <th><span style=\"color: red\">B</span></th>\n",
    "    <th><span style=\"color: purple\">Q</span></th>\n",
    "    <th><span style=\"color: blue\">U</span></th>\n",
    "  </tr>\n",
    "  <tr>\n",
    "    <td rowspan=\"6\">do</td>\n",
    "    <td rowspan=\"3\">buy</td>\n",
    "    <td>high</td>\n",
    "    <td>0.85</td>\n",
    "  </tr>\n",
    "  <tr>\n",
    "    <td>medium</td>\n",
    "    <td>0.43</td>\n",
    "  </tr>\n",
    "  <tr>\n",
    "    <td>low</td>\n",
    "    <td>0</td>\n",
    "  </tr>\n",
    "  <tr>\n",
    "    <td rowspan=\"3\">not buy</td>\n",
    "    <td>high</td>\n",
    "    <td>0.25</td>\n",
    "  </tr>\n",
    "  <tr>\n",
    "    <td>medium</td>\n",
    "    <td>0.25</td>\n",
    "  </tr>\n",
    "  <tr>\n",
    "    <td>low</td>\n",
    "    <td>0.25</td>\n",
    "  </tr>\n",
    "  <tr>\n",
    "    <td rowspan=\"6\">not do</td>\n",
    "    <td rowspan=\"3\">buy</td>\n",
    "    <td>high</td>\n",
    "    <td>0.86</td>\n",
    "  </tr>\n",
    "  <tr>\n",
    "    <td>medium</td>\n",
    "    <td>0.44</td>\n",
    "  </tr>\n",
    "  <tr>\n",
    "    <td>low</td>\n",
    "    <td>0.01</td>\n",
    "  </tr>\n",
    "  <tr>\n",
    "    <td rowspan=\"3\">not buy</td>\n",
    "    <td>high</td>\n",
    "    <td>0.26</td>\n",
    "  </tr>\n",
    "  <tr>\n",
    "    <td>medium</td>\n",
    "    <td>0.26</td>\n",
    "  </tr>\n",
    "  <tr>\n",
    "    <td>low</td>\n",
    "    <td>0.26</td>\n",
    "  </tr>\n",
    "</table>"
   ]
  },
  {
   "cell_type": "markdown",
   "id": "3ee62991e041406e",
   "metadata": {},
   "source": [
    "### 2.2 - The Prior Probability Distribution of Oil Field Quality ($Q$)"
   ]
  },
  {
   "cell_type": "markdown",
   "id": "94686c45dc8ff724",
   "metadata": {},
   "source": [
    "This table shows the prior probability distribution of the oil field quality, represented by the variable Q. Prior probability refers to the likelihood of encountering each quality level before any observations are made. These probabilities represent the company's belief on the oil field quality. \n",
    "\n",
    "<table>\n",
    "  <tr>\n",
    "    <th colspan=\"2\"><span style=\"color: purple\">Q</span></th>\n",
    "  </tr>\n",
    "  <tr>\n",
    "    <td>high</td>\n",
    "    <td>0.3</td>\n",
    "  </tr>\n",
    "  <tr>\n",
    "    <td>medium</td>\n",
    "    <td>0.4</td>\n",
    "  </tr>\n",
    "  <tr>\n",
    "    <td>low</td>\n",
    "    <td>0.3</td>\n",
    "  </tr>\n",
    "</table>\n",
    "\n",
    "We can imagine these probabilities were estimated based on historical information from the oil company's past exploration of similar oil fields. For example, the company could have a classification model that predicts the oil field quality by using [satellite imagery and geographical location data](https://www.satimagingcorp.com/applications/energy/exploration/oil-exploration/).\n",
    "\n",
    "<table>\n",
    "  <tr>\n",
    "  <td>\n",
    "    <img src=\"./images_1/oil_field_image.jpg\" alt=\"Oil field image\" width=\"400\">\n",
    "  </td>\n",
    "    <td>\n",
    "    <img src=\"./images_1/oil_field_heatmap.jpg\" alt=\"Oil field heatmap\" width=\"400\">\n",
    "  </td>\n",
    "  </tr>\n",
    "</table>"
   ]
  },
  {
   "cell_type": "markdown",
   "id": "2f7f3eaad9d294bf",
   "metadata": {},
   "source": [
    "### 2.3 - The conditional probability distribution of the porosity test result (<span style=\"color: purple\"><b>R</b></span>)"
   ]
  },
  {
   "cell_type": "markdown",
   "id": "43c861209fb1b684",
   "metadata": {},
   "source": [
    "The results of the porosity test are directly related to the actual quality of the oil field (<span style=\"color: purple\"><b>Q</b></span>). In a perfect scenario, the test would be highly accurate:\n",
    "\n",
    "* If the oil field is of **high** quality (<span style=\"color: purple\"><b>Q</b></span> = high), the test result would be \"pass\" (<span style=\"color: purple\"><b>R</b></span> = pass) with a probability close to 1.\n",
    "* If the oil field is of **low** quality (<span style=\"color: purple\"><b>Q</b></span> = low), the test result would be \"pass\" with a probability close to 0.\n",
    "* If the oil field is of **medium** quality (<span style=\"color: purple\"><b>Q</b></span> = medium), the test result could be \"pass\" or \"fail\" with an equal probability (0.5).\n",
    "\n",
    "\n",
    "However, real-world tests are not perfect. The table below introduces these measurement imperfections by showing the conditional probability of each test result <span style=\"color: purple\"><b>R</b></span> (pass or fail) given the actual quality of the oil field.\n",
    "\n",
    "<table>\n",
    "  <tr>\n",
    "    <th><span style=\"color: purple\">R</span></th>\n",
    "    <th>high</th>\n",
    "    <th>medium</th>\n",
    "    <th>low</th>      \n",
    "  </tr>\n",
    "  <tr>\n",
    "    <td>pass</td>\n",
    "    <td>0.9</td>\n",
    "    <td>0.65</td>\n",
    "    <td>0.15</td>      \n",
    "  </tr>\n",
    "  <tr>\n",
    "    <td>fail</td>\n",
    "    <td>0.1</td>\n",
    "    <td>0.35</td>\n",
    "    <td>0.85</td> \n",
    "  </tr>\n",
    "</table>"
   ]
  },
  {
   "cell_type": "markdown",
   "id": "5c6aef60-ec83-4855-98fc-2d122340c972",
   "metadata": {},
   "source": [
    "## 3 - Modeling the problem with a decision tree"
   ]
  },
  {
   "cell_type": "markdown",
   "id": "78cdb409-5324-41fc-9665-1c69670789d5",
   "metadata": {},
   "source": [
    "A decision tree is a visual tool that maps out different decision points and their consequences. In this case, we'll use it to model the oil field problem, considering:\n",
    "\n",
    "* **Uncertainties**. Corresponding to the oil field quality and the accuracy of the geological test\n",
    "* **Decisions**. The company needs to decide on two things: whether to perform the test and, ultimately, whether to buy the field based on the available information.\n",
    "\n",
    "<table>\n",
    "<tr>\n",
    "  <td>\n",
    "    <img src=\"./images_1/oil_decision_tree.png\" alt=\"Oil decision tree\" width=\"600\">\n",
    "  </td>\n",
    "</tr>\n",
    "<tr>\n",
    "<i><b>Figure 2.</b> Oil decision tree </i>\n",
    "</tr>\n",
    "</table>\n",
    "\n",
    "It is worth noting that any structural asymmetry is explicitly reflected in the decision tree. For example, the test results will only be obtained if the company decides to perform the test."
   ]
  },
  {
   "cell_type": "markdown",
   "id": "2bf6c3c5fe8bc299",
   "metadata": {},
   "source": [
    "### 3.1 - Evaluating the tree to find the optimal policy"
   ]
  },
  {
   "cell_type": "markdown",
   "id": "a0a60de37857d681",
   "metadata": {},
   "source": [
    "In order to evaluate the decision tree we need:\n",
    "* The marginal probability distribution of R.\n",
    "* The conditional probabilities of Q | R (rather than R | Q), which can be estimated using the **Bayes' Theorem**.\n",
    "\n",
    "$$\n",
    "\\begin{align*}\n",
    "P(R = \\text{pass}) &= P(R = \\text{pass} | Q = \\text{high}) P(Q = \\text{high}) + P(R = \\text{pass} | Q = \\text{medium}) P(Q=\\text{medium}) + P(R = \\text{pass} | Q = \\text{low}) P(Q=\\text{low}) \\\\\n",
    "&= 0.9 \\times 0.3 + 0.65 \\times 0.4 + 0.15 \\times 0.3 = 0.575 \\\\\n",
    "P(Q = \\text{high} | R = \\text{pass}) &= \\frac{P(R = \\text{pass} | Q = \\text{high}) P(Q = \\text{high})}{P(R = \\text{pass})} = \\frac{0.9 \\times 0.3}{0.575} = 0.47 \\\\\n",
    "P(Q = \\text{medium} | R = \\text{pass}) &= \\frac{P(R = \\text{pass} | Q = \\text{medium}) P(Q = \\text{medium})}{P(R = \\text{pass})} = \\frac{0.65 \\times 0.4}{0.575} = 0.452\\\\\n",
    "P(Q = \\text{low} | R = \\text{pass}) &= \\frac{P(R = \\text{pass} | Q = \\text{low}) P(Q = \\text{low})}{P(R = \\text{pass})} = \\frac{0.15 \\times 0.3}{0.575} = 0.078\n",
    "\\end{align*}\n",
    "$$\n",
    "\n",
    "Anagolously, we would need estimate the conditional probabilities when $R = \\text{fail}$:\n",
    "\n",
    "$$\n",
    "\\begin{align*}\n",
    "P(R = \\text{fail}) &= 1 - P(R = \\text{pass}) = 1 - 0.575 = 0.425\\\\\n",
    "P(Q = \\text{high} | R = \\text{fail})  &= 1 - P(Q = \\text{high} | R = \\text{pass})  = 1 - 0.47 = 0.53\\\\\n",
    "P(Q = \\text{medium} | R = \\text{fail})  &= 1 - P(Q = \\text{medium} | R = \\text{pass})  = 1 - 0.452 = 0.548\\\\\n",
    "P(Q = \\text{low} | R = \\text{fail})  &= 1 - P(Q = \\text{low} | R = \\text{pass})  = 1 - 0.078 = 0.922\\\\\n",
    "\\end{align*}\n",
    "$$\n",
    "\n",
    "Once the probabilities have been estimated, we calcualte the expected utility of each decision node. This is done by:\n",
    "\n",
    "* Multiplying the payoff of each outcome by its probability.\n",
    "* Summing these products for all possible outcomes under that decision.\n",
    "\n",
    "The decision with the highest expected value is considered the optimal choice. For example, to estimate the expected utility of buying the oil field if we have done the test and it has been succesful would be:\n",
    "\n",
    "$$\n",
    "0.470 \\times 0.85 + 0.452 \\times 0.43 + 0 = 0.594\n",
    "$$\n",
    "\n",
    "Moving backwards, in the decision node B, as $0.594 > 0.25$, that wold tell us that i that situation it is better to buy than not buying. Then, we keep repeating this process backwards in the tree until we reach the root node, thus obtaining the optimal policy (i.e., the one with the highest expected utility). \n",
    "\n",
    "The provided figure (Figure 3) illustrates an evaluated decision tree with payoffs and expected values. It indicates that doing the test is the optimal first step. Based on the test results:\n",
    "\n",
    "* If the test is successful (\"pass\"), buying the oil field has the highest expected value.\n",
    "* If the test fails, not buying the oil field is the better option.\n",
    "\n",
    "\n",
    "<table>\n",
    "<tr>\n",
    "  <td>\n",
    "    <img src=\"./images_1/evaluated_oil_decision_tree.png\" alt=\"Evaluated oil decision tree\" width=\"600\">\n",
    "  </td>\n",
    "</tr>\n",
    "<tr>\n",
    "<i><b>Figure 3.</b> Evaluated oil decision tree </i>\n",
    "</tr>\n",
    "</table>\n",
    "\n",
    "This evaluation helps the oil company make informed decisions by considering the uncertainties involved and maximizing their expected utility."
   ]
  },
  {
   "cell_type": "markdown",
   "id": "37580ff4-56bf-4c74-b470-5e5ec4f86c28",
   "metadata": {},
   "source": [
    "## 4 - Why use influence diagrams?"
   ]
  },
  {
   "cell_type": "markdown",
   "id": "1ebceed9-aa68-4414-be9c-0c3ef7ded351",
   "metadata": {},
   "source": [
    "### 4.1 - Limitations of decision trees"
   ]
  },
  {
   "cell_type": "markdown",
   "id": "83edb111-9c07-4f03-9bb7-67518b243a13",
   "metadata": {},
   "source": [
    "Decision trees are powerful tools for visualizing and analyzing decision-making problems. However, they have some limitations:\n",
    "\n",
    "* **Complexity:** Large decision trees can become cumbersome and difficult to interpret, especially with many variables and outcomes.\n",
    "* **Limited Dependence Modeling:** Decision trees struggle to represent complex relationships between variables. Each branch in the tree depicts a single chain of events, neglecting potential interactions or dependencies.\n",
    "* **Intractability:** As the number of variables increases, the number of possible branches in the tree explodes exponentially, making it computationally expensive and unwieldy.\n",
    "* **Limited Incorporation of New Information:** Updating a decision tree often requires significant changes if new information or variables become available.\n"
   ]
  },
  {
   "cell_type": "markdown",
   "id": "84abe87c-d37d-4feb-be18-97523cb51c35",
   "metadata": {},
   "source": [
    "### 4.2 - Advantages of influence diagrams"
   ]
  },
  {
   "cell_type": "markdown",
   "id": "772759a7-8269-4d79-ba14-90a763b51253",
   "metadata": {},
   "source": [
    "Influence diagrams address some of the shortcomings of decision trees:\n",
    "\n",
    "* **Clarity and Transparency:** Influence diagrams use a graphical format with nodes and arrows to represent variables and their relationships. This visual approach is often easier to understand than complex decision trees.\n",
    "* **Explicit Dependence Modeling:** Influence diagrams can explicitly show how variables influence each other. Arrows depict these dependencies, allowing for a more comprehensive understanding of the problem structure.\n",
    "* **Scalability:** Influence diagrams are generally more scalable than decision trees. They can handle complex problems with numerous variables while maintaining clarity.\n",
    "* **Flexibility:** Updating an influence diagram is often easier than modifying a decision tree. New information can be incorporated by adding or modifying nodes and arrows."
   ]
  },
  {
   "cell_type": "markdown",
   "id": "9d79dffa1b9fb64b",
   "metadata": {},
   "source": [
    "## 5 - PyAgrum"
   ]
  },
  {
   "cell_type": "code",
   "execution_count": 1,
   "id": "daa9c1e2c743ce6d",
   "metadata": {
    "ExecuteTime": {
     "end_time": "2024-05-27T12:49:23.218905Z",
     "start_time": "2024-05-27T12:49:22.739108Z"
    }
   },
   "outputs": [],
   "source": [
    "import pyAgrum"
   ]
  }
 ],
 "metadata": {
  "kernelspec": {
   "display_name": "Python 3 (ipykernel)",
   "language": "python",
   "name": "python3"
  },
  "language_info": {
   "codemirror_mode": {
    "name": "ipython",
    "version": 3
   },
   "file_extension": ".py",
   "mimetype": "text/x-python",
   "name": "python",
   "nbconvert_exporter": "python",
   "pygments_lexer": "ipython3",
   "version": "3.10.6"
  }
 },
 "nbformat": 4,
 "nbformat_minor": 5
}
