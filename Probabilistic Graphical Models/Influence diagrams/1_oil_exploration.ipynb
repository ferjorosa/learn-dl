{
 "cells": [
  {
   "cell_type": "markdown",
   "id": "19c3bfe0fe19cbfc",
   "metadata": {},
   "source": [
    "# Oil Field Decision Problem\n",
    "\n",
    "This notebook delves into the decision-making process for an oil company evaluating the purchase of an oil field. We will leverage two powerful frameworks: decision trees and influence diagrams.\n",
    "\n",
    "**Decision Trees:**\n",
    "\n",
    "* We will begin by constructing a decision tree to analyze potential outcomes and guide the company towards the most profitable choice.\n",
    "* Through the decision tree, we will assess factors like oil field quality, geological test results, and potential uncertainties.\n",
    "* By assigning monetary values (utilities) to each scenario, we will quantify potential profits and estimate probabilities of various outcomes.\n",
    "* Ultimately, we will use these calculations to identify the decision sequence that maximizes the expected profit for the oil company.\n",
    "\n",
    "**Influence Diagrams with [PyAgrum](https://pyagrum.readthedocs.io/en/0.16.1/):**\n",
    "\n",
    "* Next, we will explore how to model the same problem using an influence diagram with the PyAgrum package.\n",
    "    * Influence diagrams offer a more visually intuitive representation of decision problems, explicitly depicting relationships between variables.\n",
    "* By comparing the decision tree and influence diagram approaches, we will gain a deeper understanding of their strengths and limitations for this specific problem.\n",
    "\n",
    "**Future Developments: Integrating Large Language Models (LangChain):**\n",
    "\n",
    "* As a potential future development, we will briefly discuss how Large Language Models (LLMs) could be integrated into the decision process using LangChain.\n",
    "    * LLMs have the potential to automate tasks like data analysis and information retrieval, potentially enhancing the efficiency of the decision-making process."
   ]
  },
  {
   "cell_type": "markdown",
   "id": "23c05cb5671573d9",
   "metadata": {},
   "source": [
    "## 1 - Introduction"
   ]
  },
  {
   "cell_type": "markdown",
   "id": "4ca9c488703cdf20",
   "metadata": {},
   "source": [
    "An oil company is considering the <span style=\"color: red\"><b>decision</b></span> (<span style=\"color: red\"><b>B</b></span>) to buy an oil field. The oil field can have three quality levels (<span style=\"color: purple\"><b>Q</b></span>): high ($q_1$), medium ($q_2$), and low ($q_3$). The company obviously does not know the \"real\" qaulity of the field beforehand, but it can provide an estimation (i.e., <span style=\"color: purple\"><b>uncertainty</b></span> ) using historical data and imagery. **It is willing to pay a higher price for the field as its quality increases**.\n",
    "\n",
    "Before making the buy decision, the company needs to <span style=\"color: red\"><b>decide</b></span> (<span style=\"color: red\"><b>T</b></span>) if it wants to perform a geological test. This test will have a certain cost and its results (<span style=\"color: purple\"><b>R</b></span>) will not be exact predictions about the quality of the field, but will provide a report on the porosity of the reservoir (high porosity generally indicates greater oil potential). The test will not be infallible, and thus contain a certain degree of <span style=\"color: purple\"><b>uncertainty</b></span>. The test can have two possible outcomes:\n",
    "\n",
    "* **Pass:** The porosity of the reservoir rock is equal to or greater than 15%, indicating significant oil potential.\n",
    "* **Fail:** The porosity of the reservoir rock is less than 15%, indicating low oil potential.\n",
    "\n",
    "<table>\n",
    "<tr>\n",
    "  <td>\n",
    "    <img src=\"./images_1/rock_porosity.jpg\" alt=\"Rock Porosity examples\" width=\"600\">\n",
    "  </td>\n",
    "</tr>\n",
    "<tr>\n",
    "<i><b>Figure 1.</b> Hydrocarbon reservoir quality in terms of permeability and porosity </i>\n",
    "</tr>\n",
    "</table>\n",
    "\n",
    "The chronological sequence of the decision process is as follows:\n",
    "\n",
    "1. The company decides whether or not to perform the geological test.\n",
    "2. If the test is performed, the results are observed.\n",
    "3. The company decides whether or not to buy the oil field.\n",
    "\n",
    "There is still residual uncertainty in the problem that affects utility: <span style=\"color: purple\"><b>What is the actual state of the oil field?</b></span>\n",
    "\n",
    "In this example, it seems logical for the company to buy the oil field after obtaining a \"pass\" result, but this is not always the case. It will depend on its specific a priori beliefs about the quality of the land (for example, based on its historical data on oil fields with similar characteristics), the intrinsic uncertainty of the test (for example, the test may give a positive result but the field is not actually suitable, or vice versa) and how the company values the possible consequences."
   ]
  },
  {
   "cell_type": "markdown",
   "id": "72299b73abcbd8e4",
   "metadata": {},
   "source": [
    "## 2 - Quantitative information"
   ]
  },
  {
   "cell_type": "markdown",
   "id": "5abb63e157d8d2b3",
   "metadata": {},
   "source": [
    "In this case, the quantitative information will be specified explicitly to illustrate these ideas. "
   ]
  },
  {
   "cell_type": "markdown",
   "id": "34baa63e-6f0e-4233-86ed-cc5dfcbf1903",
   "metadata": {},
   "source": [
    "### 2.1 - The utility table ($U$)"
   ]
  },
  {
   "cell_type": "markdown",
   "id": "9a7d6812-0963-45e0-9d13-2b23187af47b",
   "metadata": {},
   "source": [
    "To evaluate the decision tree for the oil field, we need to define the value (utility) of each outcome. This utility reflects the desirability of a particular scenario (buying the field after a successful test, etc.).\n",
    "\n",
    "There are several ways to define utilities, and the best approach depends on the situation. Here's how we'll approach it:\n",
    "\n",
    "* **Monetary Values:** We'll primarily focus on the net profit (revenue minus costs) associated with each outcome. This makes sense because the oil company is likely driven by profitability.\n",
    "* **Potential Adjustments:** We might consider incorporating non-monetary factors like environmental impact in the future. For example, buying a low-quality field might have a lower environmental impact (less drilling required) compared to a high-quality one. We could then adjust the utilities to reflect this.\n",
    "\n",
    "After several discussions, these are the resulting utilities of the problem:\n",
    "\n",
    "<table>\n",
    "  <tr>\n",
    "    <th><span style=\"color: red\">T</span></th>\n",
    "    <th><span style=\"color: red\">B</span></th>\n",
    "    <th><span style=\"color: purple\">Q</span></th>\n",
    "    <th><span style=\"color: blue\">U</span></th>\n",
    "  </tr>\n",
    "  <tr>\n",
    "    <td rowspan=\"6\">do</td>\n",
    "    <td rowspan=\"3\">buy</td>\n",
    "    <td>high</td>\n",
    "    <td>0.85</td>\n",
    "  </tr>\n",
    "  <tr>\n",
    "    <td>medium</td>\n",
    "    <td>0.43</td>\n",
    "  </tr>\n",
    "  <tr>\n",
    "    <td>low</td>\n",
    "    <td>0</td>\n",
    "  </tr>\n",
    "  <tr>\n",
    "    <td rowspan=\"3\">not buy</td>\n",
    "    <td>high</td>\n",
    "    <td>0.25</td>\n",
    "  </tr>\n",
    "  <tr>\n",
    "    <td>medium</td>\n",
    "    <td>0.25</td>\n",
    "  </tr>\n",
    "  <tr>\n",
    "    <td>low</td>\n",
    "    <td>0.25</td>\n",
    "  </tr>\n",
    "  <tr>\n",
    "    <td rowspan=\"6\">not do</td>\n",
    "    <td rowspan=\"3\">buy</td>\n",
    "    <td>high</td>\n",
    "    <td>0.86</td>\n",
    "  </tr>\n",
    "  <tr>\n",
    "    <td>medium</td>\n",
    "    <td>0.44</td>\n",
    "  </tr>\n",
    "  <tr>\n",
    "    <td>low</td>\n",
    "    <td>0.01</td>\n",
    "  </tr>\n",
    "  <tr>\n",
    "    <td rowspan=\"3\">not buy</td>\n",
    "    <td>high</td>\n",
    "    <td>0.26</td>\n",
    "  </tr>\n",
    "  <tr>\n",
    "    <td>medium</td>\n",
    "    <td>0.26</td>\n",
    "  </tr>\n",
    "  <tr>\n",
    "    <td>low</td>\n",
    "    <td>0.26</td>\n",
    "  </tr>\n",
    "</table>"
   ]
  },
  {
   "cell_type": "markdown",
   "id": "3ee62991e041406e",
   "metadata": {},
   "source": [
    "### 2.2 - The prior probability distribution of oil field quality ($Q$)"
   ]
  },
  {
   "cell_type": "markdown",
   "id": "94686c45dc8ff724",
   "metadata": {},
   "source": [
    "This table shows the prior probability distribution of the oil field quality, represented by the variable Q. Prior probability refers to the likelihood of encountering each quality level before any observations are made. These probabilities represent the company's belief on the oil field quality. \n",
    "\n",
    "<table>\n",
    "  <tr>\n",
    "    <th colspan=\"2\"><span style=\"color: purple\">Q</span></th>\n",
    "  </tr>\n",
    "  <tr>\n",
    "    <td>high</td>\n",
    "    <td>0.3</td>\n",
    "  </tr>\n",
    "  <tr>\n",
    "    <td>medium</td>\n",
    "    <td>0.4</td>\n",
    "  </tr>\n",
    "  <tr>\n",
    "    <td>low</td>\n",
    "    <td>0.3</td>\n",
    "  </tr>\n",
    "</table>\n",
    "\n",
    "We can imagine these probabilities were estimated based on historical information from the oil company's past exploration of similar oil fields. For example, the company could have a classification model that predicts the oil field quality by using [satellite imagery and geographical location data](https://www.satimagingcorp.com/applications/energy/exploration/oil-exploration/).\n",
    "\n",
    "<table>\n",
    "  <tr>\n",
    "  <td>\n",
    "    <img src=\"./images_1/oil_field_image.jpg\" alt=\"Oil field image\" width=\"400\">\n",
    "  </td>\n",
    "    <td>\n",
    "    <img src=\"./images_1/oil_field_heatmap.jpg\" alt=\"Oil field heatmap\" width=\"400\">\n",
    "  </td>\n",
    "  </tr>\n",
    "</table>"
   ]
  },
  {
   "cell_type": "markdown",
   "id": "2f7f3eaad9d294bf",
   "metadata": {},
   "source": [
    "### 2.3 - The conditional probability distribution of the porosity test result (<span style=\"color: purple\"><b>R</b></span>)"
   ]
  },
  {
   "cell_type": "markdown",
   "id": "43c861209fb1b684",
   "metadata": {},
   "source": [
    "The results of the porosity test are directly related to the actual quality of the oil field (<span style=\"color: purple\"><b>Q</b></span>). In a perfect scenario, the test would be highly accurate:\n",
    "\n",
    "* If the oil field is of **high** quality (<span style=\"color: purple\"><b>Q</b></span> = high), the test result would be \"pass\" (<span style=\"color: purple\"><b>R</b></span> = pass) with a probability close to 1.\n",
    "* If the oil field is of **low** quality (<span style=\"color: purple\"><b>Q</b></span> = low), the test result would be \"pass\" with a probability close to 0.\n",
    "* If the oil field is of **medium** quality (<span style=\"color: purple\"><b>Q</b></span> = medium), the test result could be \"pass\" or \"fail\" with an equal probability (0.5).\n",
    "\n",
    "\n",
    "However, real-world tests are not perfect. The table below introduces these measurement imperfections by showing the conditional probability of each test result <span style=\"color: purple\"><b>R</b></span> (pass or fail) given the actual quality of the oil field.\n",
    "\n",
    "<table>\n",
    "  <tr>\n",
    "    <th><span style=\"color: purple\">R</span></th>\n",
    "    <th>high</th>\n",
    "    <th>medium</th>\n",
    "    <th>low</th>      \n",
    "  </tr>\n",
    "  <tr>\n",
    "    <td>pass</td>\n",
    "    <td>0.9</td>\n",
    "    <td>0.65</td>\n",
    "    <td>0.15</td>      \n",
    "  </tr>\n",
    "  <tr>\n",
    "    <td>fail</td>\n",
    "    <td>0.1</td>\n",
    "    <td>0.35</td>\n",
    "    <td>0.85</td> \n",
    "  </tr>\n",
    "</table>"
   ]
  },
  {
   "cell_type": "markdown",
   "id": "5c6aef60-ec83-4855-98fc-2d122340c972",
   "metadata": {},
   "source": [
    "## 3 - Modeling the problem with a decision tree"
   ]
  },
  {
   "cell_type": "markdown",
   "id": "78cdb409-5324-41fc-9665-1c69670789d5",
   "metadata": {},
   "source": [
    "A decision tree is a visual tool that maps out different decision points and their consequences. In this case, we'll use it to model the oil field problem, considering:\n",
    "\n",
    "* **Uncertainties**. Corresponding to the oil field quality and the accuracy of the geological test\n",
    "* **Decisions**. The company needs to decide on two things: whether to perform the test and, ultimately, whether to buy the field based on the available information.\n",
    "\n",
    "<table>\n",
    "<tr>\n",
    "  <td>\n",
    "    <img src=\"./images_1/oil_decision_tree.png\" alt=\"Oil decision tree\" width=\"600\">\n",
    "  </td>\n",
    "</tr>\n",
    "<tr>\n",
    "<i><b>Figure 2.</b> Oil decision tree </i>\n",
    "</tr>\n",
    "</table>\n",
    "\n",
    "It is worth noting that any structural asymmetry is explicitly reflected in the decision tree. For example, the test results will only be obtained if the company decides to perform the test."
   ]
  },
  {
   "cell_type": "markdown",
   "id": "2bf6c3c5fe8bc299",
   "metadata": {},
   "source": [
    "### 3.1 - Evaluating the tree to find the optimal policy"
   ]
  },
  {
   "cell_type": "markdown",
   "id": "a0a60de37857d681",
   "metadata": {},
   "source": [
    "In order to evaluate the decision tree we need:\n",
    "* The marginal probability distribution of R.\n",
    "* The conditional probabilities of Q | R (rather than R | Q), which can be estimated using the **Bayes' Theorem**.\n",
    "\n",
    "$$\n",
    "\\begin{align*}\n",
    "P(R = \\text{pass}) &= P(R = \\text{pass} | Q = \\text{high}) P(Q = \\text{high}) + P(R = \\text{pass} | Q = \\text{medium}) P(Q=\\text{medium}) + P(R = \\text{pass} | Q = \\text{low}) P(Q=\\text{low}) \\\\\n",
    "&= 0.9 \\times 0.3 + 0.65 \\times 0.4 + 0.15 \\times 0.3 = 0.575 \\\\\n",
    "P(Q = \\text{high} | R = \\text{pass}) &= \\frac{P(R = \\text{pass} | Q = \\text{high}) P(Q = \\text{high})}{P(R = \\text{pass})} = \\frac{0.9 \\times 0.3}{0.575} = 0.47 \\\\\n",
    "P(Q = \\text{medium} | R = \\text{pass}) &= \\frac{P(R = \\text{pass} | Q = \\text{medium}) P(Q = \\text{medium})}{P(R = \\text{pass})} = \\frac{0.65 \\times 0.4}{0.575} = 0.452\\\\\n",
    "P(Q = \\text{low} | R = \\text{pass}) &= \\frac{P(R = \\text{pass} | Q = \\text{low}) P(Q = \\text{low})}{P(R = \\text{pass})} = \\frac{0.15 \\times 0.3}{0.575} = 0.078\n",
    "\\end{align*}\n",
    "$$\n",
    "\n",
    "Anagolously, we would need estimate the conditional probabilities when $R = \\text{fail}$:\n",
    "\n",
    "$$\n",
    "\\begin{align*}\n",
    "P(R = \\text{fail}) &= 1 - P(R = \\text{pass}) = 1 - 0.575 = 0.425\\\\\n",
    "P(Q = \\text{high} | R = \\text{fail})  &= 1 - P(Q = \\text{high} | R = \\text{pass})  = 1 - 0.47 = 0.53\\\\\n",
    "P(Q = \\text{medium} | R = \\text{fail})  &= 1 - P(Q = \\text{medium} | R = \\text{pass})  = 1 - 0.452 = 0.548\\\\\n",
    "P(Q = \\text{low} | R = \\text{fail})  &= 1 - P(Q = \\text{low} | R = \\text{pass})  = 1 - 0.078 = 0.922\\\\\n",
    "\\end{align*}\n",
    "$$\n",
    "\n",
    "Once the probabilities have been estimated, we calcualte the expected utility of each decision node. This is done by:\n",
    "\n",
    "* Multiplying the payoff of each outcome by its probability.\n",
    "* Summing these products for all possible outcomes under that decision.\n",
    "\n",
    "The decision with the highest expected value is considered the optimal choice. For example, to estimate the expected utility of buying the oil field if we have done the test and it has been succesful would be:\n",
    "\n",
    "$$\n",
    "0.470 \\times 0.85 + 0.452 \\times 0.43 + 0 = 0.594\n",
    "$$\n",
    "\n",
    "Moving backwards, in the decision node B, as $0.594 > 0.25$, that wold tell us that i that situation it is better to buy than not buying. Then, we keep repeating this process backwards in the tree until we reach the root node, thus obtaining the optimal policy (i.e., the one with the highest expected utility). \n",
    "\n",
    "The provided figure (Figure 3) illustrates an evaluated decision tree with payoffs and expected values. It indicates that doing the test is the optimal first step. Based on the test results:\n",
    "\n",
    "* If the test is successful (\"pass\"), buying the oil field has the highest expected value.\n",
    "* If the test fails, not buying the oil field is the better option.\n",
    "\n",
    "\n",
    "<table>\n",
    "<tr>\n",
    "  <td>\n",
    "    <img src=\"./images_1/evaluated_oil_decision_tree.png\" alt=\"Evaluated oil decision tree\" width=\"600\">\n",
    "  </td>\n",
    "</tr>\n",
    "<tr>\n",
    "<i><b>Figure 3.</b> Evaluated oil decision tree </i>\n",
    "</tr>\n",
    "</table>\n",
    "\n",
    "This evaluation helps the oil company make informed decisions by considering the uncertainties involved and maximizing their expected utility."
   ]
  },
  {
   "cell_type": "markdown",
   "id": "37580ff4-56bf-4c74-b470-5e5ec4f86c28",
   "metadata": {},
   "source": "## 4 - Influence diagrams"
  },
  {
   "cell_type": "markdown",
   "id": "1ebceed9-aa68-4414-be9c-0c3ef7ded351",
   "metadata": {},
   "source": [
    "### 4.1 - Limitations of decision trees"
   ]
  },
  {
   "cell_type": "markdown",
   "id": "83edb111-9c07-4f03-9bb7-67518b243a13",
   "metadata": {},
   "source": [
    "Decision trees are powerful tools for visualizing and analyzing decision-making problems. However, they have some limitations:\n",
    "\n",
    "* **Complexity:** Large decision trees can become cumbersome and difficult to interpret, especially with many variables and outcomes.\n",
    "* **Limited Dependence Modeling:** Decision trees struggle to represent complex relationships between variables. Each branch in the tree depicts a single chain of events, neglecting potential interactions or dependencies.\n",
    "* **Intractability:** As the number of variables increases, the number of possible branches in the tree explodes exponentially, making it computationally expensive and unwieldy.\n",
    "* **Limited Incorporation of New Information:** Updating a decision tree often requires significant changes if new information or variables become available.\n"
   ]
  },
  {
   "cell_type": "markdown",
   "id": "84abe87c-d37d-4feb-be18-97523cb51c35",
   "metadata": {},
   "source": [
    "### 4.2 - Advantages of influence diagrams"
   ]
  },
  {
   "cell_type": "markdown",
   "id": "772759a7-8269-4d79-ba14-90a763b51253",
   "metadata": {},
   "source": [
    "Influence diagrams address some of the shortcomings of decision trees:\n",
    "\n",
    "* **Clarity and Transparency:** Influence diagrams use a graphical format with nodes and arrows to represent variables and their relationships. This visual approach is often easier to understand than complex decision trees.\n",
    "* **Explicit Dependence Modeling:** Influence diagrams can explicitly show how variables influence each other. Arrows depict these dependencies, allowing for a more comprehensive understanding of the problem structure.\n",
    "* **Scalability:** Influence diagrams are generally more scalable than decision trees. They can handle complex problems with numerous variables while maintaining clarity.\n",
    "* **Flexibility:** Updating an influence diagram is often easier than modifying a decision tree. New information can be incorporated by adding or modifying nodes and arrows."
   ]
  },
  {
   "metadata": {},
   "cell_type": "markdown",
   "source": "### 4.3 - Formal definition",
   "id": "80657e8c26e94d47"
  },
  {
   "metadata": {},
   "cell_type": "markdown",
   "source": [
    "An **influence diagram** (ID), also known as a relevance diagram, decision diagram, or decision network, is a directed acyclic graph (DAG) represented as $G = (N, E)$, where:\n",
    "\n",
    "**Nodes:**\n",
    "\n",
    "The set of nodes $N$ is partitioned into three subsets:\n",
    "\n",
    "* **Decision nodes** ($D$): Represented by squares, these nodes represent points in the model where a decision-maker can choose between alternative courses of action.\n",
    "* **Chance nodes** ($C$): Represented by circles, these nodes represent uncertain events or states of nature that can influence the outcome of the decision.\n",
    "* **Value nodes** ($V$): Represented by diamonds, these nodes represent the expected utilities or outcomes associated with the decision choices.\n",
    "\n",
    "**Edges:**\n",
    "\n",
    "The set of edges $E$ includes two types of arcs, depending on the type of node they point to:\n",
    "\n",
    "* **Informational Arcs**. These arcs connect to decision nodes and indicate temporal precedence. In other words, the variable at the origin of the arc represents information that is available and known at the time the decision is made at the destination node.\n",
    "* **Conditional Arcs**. These arcs connect to value or chance nodes and represent dependencies, either functional or probabilistic, on the values of the parent nodes. They do not imply causality or temporal precedence."
   ],
   "id": "6ce0934609dd61ff"
  },
  {
   "cell_type": "markdown",
   "id": "9d79dffa1b9fb64b",
   "metadata": {},
   "source": [
    "## 5 - Modeling the decision problem with an influence diagram"
   ]
  },
  {
   "metadata": {},
   "cell_type": "markdown",
   "source": [
    "La modelización tiene lugar a varios niveles. Tal y como hicimos con el árbol de decisión, al dibujar el grafo estariamos representando la descripcion cualitativa del probelma (nivel estrucutral o grafico). Luego, procederiamos a incluir la información cuantitativa (nivel numerico) para dejar el diagram totalmente especificado.\n",
    "\n"
   ],
   "id": "2ab086065001b247"
  },
  {
   "cell_type": "code",
   "id": "daa9c1e2c743ce6d",
   "metadata": {
    "ExecuteTime": {
     "end_time": "2024-05-28T12:59:30.239749Z",
     "start_time": "2024-05-28T12:59:29.723347Z"
    }
   },
   "source": [
    "import pyAgrum as gum\n",
    "import pyAgrum.lib.notebook as gnb\n",
    "from pyAgrum import InfluenceDiagram"
   ],
   "outputs": [
    {
     "name": "stdout",
     "output_type": "stream",
     "text": [
      "Graphviz is not installed. \n",
      "  Please install this program in order to visualize graphical models in pyAgrum. \n",
      "  See https://graphviz.org/download/\n"
     ]
    }
   ],
   "execution_count": 1
  },
  {
   "metadata": {
    "ExecuteTime": {
     "end_time": "2024-05-28T12:59:30.707886Z",
     "start_time": "2024-05-28T12:59:30.240847Z"
    }
   },
   "cell_type": "code",
   "source": [
    "influence_diagram = InfluenceDiagram()\n",
    "influence_diagram.addChanceNode(\"Q\")\n",
    "gnb.sideBySide(influence_diagram)"
   ],
   "id": "b4fb6eb2a94cb00b",
   "outputs": [
    {
     "ename": "FileNotFoundError",
     "evalue": "[Errno 2] \"dot\" not found in path.",
     "output_type": "error",
     "traceback": [
      "\u001B[0;31m---------------------------------------------------------------------------\u001B[0m",
      "\u001B[0;31mFileNotFoundError\u001B[0m                         Traceback (most recent call last)",
      "File \u001B[0;32m~/Documents/GitHub/notes-ai/Probabilistic Graphical Models/Influence diagrams/.venv/lib/python3.10/site-packages/pydot/core.py:1753\u001B[0m, in \u001B[0;36mDot.create\u001B[0;34m(self, prog, format, encoding)\u001B[0m\n\u001B[1;32m   1752\u001B[0m \u001B[38;5;28;01mtry\u001B[39;00m:\n\u001B[0;32m-> 1753\u001B[0m     stdout_data, stderr_data, process \u001B[38;5;241m=\u001B[39m \u001B[43mcall_graphviz\u001B[49m\u001B[43m(\u001B[49m\n\u001B[1;32m   1754\u001B[0m \u001B[43m        \u001B[49m\u001B[43mprogram\u001B[49m\u001B[38;5;241;43m=\u001B[39;49m\u001B[43mprog\u001B[49m\u001B[43m,\u001B[49m\n\u001B[1;32m   1755\u001B[0m \u001B[43m        \u001B[49m\u001B[43marguments\u001B[49m\u001B[38;5;241;43m=\u001B[39;49m\u001B[43marguments\u001B[49m\u001B[43m,\u001B[49m\n\u001B[1;32m   1756\u001B[0m \u001B[43m        \u001B[49m\u001B[43mworking_dir\u001B[49m\u001B[38;5;241;43m=\u001B[39;49m\u001B[43mtmp_dir\u001B[49m\u001B[43m,\u001B[49m\n\u001B[1;32m   1757\u001B[0m \u001B[43m    \u001B[49m\u001B[43m)\u001B[49m\n\u001B[1;32m   1758\u001B[0m \u001B[38;5;28;01mexcept\u001B[39;00m \u001B[38;5;167;01mOSError\u001B[39;00m \u001B[38;5;28;01mas\u001B[39;00m e:\n",
      "File \u001B[0;32m~/Documents/GitHub/notes-ai/Probabilistic Graphical Models/Influence diagrams/.venv/lib/python3.10/site-packages/pydot/core.py:133\u001B[0m, in \u001B[0;36mcall_graphviz\u001B[0;34m(program, arguments, working_dir, **kwargs)\u001B[0m\n\u001B[1;32m    131\u001B[0m program_with_args \u001B[38;5;241m=\u001B[39m [program] \u001B[38;5;241m+\u001B[39m arguments\n\u001B[0;32m--> 133\u001B[0m process \u001B[38;5;241m=\u001B[39m \u001B[43msubprocess\u001B[49m\u001B[38;5;241;43m.\u001B[39;49m\u001B[43mPopen\u001B[49m\u001B[43m(\u001B[49m\n\u001B[1;32m    134\u001B[0m \u001B[43m    \u001B[49m\u001B[43mprogram_with_args\u001B[49m\u001B[43m,\u001B[49m\n\u001B[1;32m    135\u001B[0m \u001B[43m    \u001B[49m\u001B[43menv\u001B[49m\u001B[38;5;241;43m=\u001B[39;49m\u001B[43menv\u001B[49m\u001B[43m,\u001B[49m\n\u001B[1;32m    136\u001B[0m \u001B[43m    \u001B[49m\u001B[43mcwd\u001B[49m\u001B[38;5;241;43m=\u001B[39;49m\u001B[43mworking_dir\u001B[49m\u001B[43m,\u001B[49m\n\u001B[1;32m    137\u001B[0m \u001B[43m    \u001B[49m\u001B[43mshell\u001B[49m\u001B[38;5;241;43m=\u001B[39;49m\u001B[38;5;28;43;01mFalse\u001B[39;49;00m\u001B[43m,\u001B[49m\n\u001B[1;32m    138\u001B[0m \u001B[43m    \u001B[49m\u001B[43mstderr\u001B[49m\u001B[38;5;241;43m=\u001B[39;49m\u001B[43msubprocess\u001B[49m\u001B[38;5;241;43m.\u001B[39;49m\u001B[43mPIPE\u001B[49m\u001B[43m,\u001B[49m\n\u001B[1;32m    139\u001B[0m \u001B[43m    \u001B[49m\u001B[43mstdout\u001B[49m\u001B[38;5;241;43m=\u001B[39;49m\u001B[43msubprocess\u001B[49m\u001B[38;5;241;43m.\u001B[39;49m\u001B[43mPIPE\u001B[49m\u001B[43m,\u001B[49m\n\u001B[1;32m    140\u001B[0m \u001B[43m    \u001B[49m\u001B[38;5;241;43m*\u001B[39;49m\u001B[38;5;241;43m*\u001B[39;49m\u001B[43mkwargs\u001B[49m\u001B[43m,\u001B[49m\n\u001B[1;32m    141\u001B[0m \u001B[43m\u001B[49m\u001B[43m)\u001B[49m\n\u001B[1;32m    142\u001B[0m stdout_data, stderr_data \u001B[38;5;241m=\u001B[39m process\u001B[38;5;241m.\u001B[39mcommunicate()\n",
      "File \u001B[0;32m~/.pyenv/versions/3.10.6/lib/python3.10/subprocess.py:969\u001B[0m, in \u001B[0;36mPopen.__init__\u001B[0;34m(self, args, bufsize, executable, stdin, stdout, stderr, preexec_fn, close_fds, shell, cwd, env, universal_newlines, startupinfo, creationflags, restore_signals, start_new_session, pass_fds, user, group, extra_groups, encoding, errors, text, umask, pipesize)\u001B[0m\n\u001B[1;32m    966\u001B[0m             \u001B[38;5;28mself\u001B[39m\u001B[38;5;241m.\u001B[39mstderr \u001B[38;5;241m=\u001B[39m io\u001B[38;5;241m.\u001B[39mTextIOWrapper(\u001B[38;5;28mself\u001B[39m\u001B[38;5;241m.\u001B[39mstderr,\n\u001B[1;32m    967\u001B[0m                     encoding\u001B[38;5;241m=\u001B[39mencoding, errors\u001B[38;5;241m=\u001B[39merrors)\n\u001B[0;32m--> 969\u001B[0m     \u001B[38;5;28;43mself\u001B[39;49m\u001B[38;5;241;43m.\u001B[39;49m\u001B[43m_execute_child\u001B[49m\u001B[43m(\u001B[49m\u001B[43margs\u001B[49m\u001B[43m,\u001B[49m\u001B[43m \u001B[49m\u001B[43mexecutable\u001B[49m\u001B[43m,\u001B[49m\u001B[43m \u001B[49m\u001B[43mpreexec_fn\u001B[49m\u001B[43m,\u001B[49m\u001B[43m \u001B[49m\u001B[43mclose_fds\u001B[49m\u001B[43m,\u001B[49m\n\u001B[1;32m    970\u001B[0m \u001B[43m                        \u001B[49m\u001B[43mpass_fds\u001B[49m\u001B[43m,\u001B[49m\u001B[43m \u001B[49m\u001B[43mcwd\u001B[49m\u001B[43m,\u001B[49m\u001B[43m \u001B[49m\u001B[43menv\u001B[49m\u001B[43m,\u001B[49m\n\u001B[1;32m    971\u001B[0m \u001B[43m                        \u001B[49m\u001B[43mstartupinfo\u001B[49m\u001B[43m,\u001B[49m\u001B[43m \u001B[49m\u001B[43mcreationflags\u001B[49m\u001B[43m,\u001B[49m\u001B[43m \u001B[49m\u001B[43mshell\u001B[49m\u001B[43m,\u001B[49m\n\u001B[1;32m    972\u001B[0m \u001B[43m                        \u001B[49m\u001B[43mp2cread\u001B[49m\u001B[43m,\u001B[49m\u001B[43m \u001B[49m\u001B[43mp2cwrite\u001B[49m\u001B[43m,\u001B[49m\n\u001B[1;32m    973\u001B[0m \u001B[43m                        \u001B[49m\u001B[43mc2pread\u001B[49m\u001B[43m,\u001B[49m\u001B[43m \u001B[49m\u001B[43mc2pwrite\u001B[49m\u001B[43m,\u001B[49m\n\u001B[1;32m    974\u001B[0m \u001B[43m                        \u001B[49m\u001B[43merrread\u001B[49m\u001B[43m,\u001B[49m\u001B[43m \u001B[49m\u001B[43merrwrite\u001B[49m\u001B[43m,\u001B[49m\n\u001B[1;32m    975\u001B[0m \u001B[43m                        \u001B[49m\u001B[43mrestore_signals\u001B[49m\u001B[43m,\u001B[49m\n\u001B[1;32m    976\u001B[0m \u001B[43m                        \u001B[49m\u001B[43mgid\u001B[49m\u001B[43m,\u001B[49m\u001B[43m \u001B[49m\u001B[43mgids\u001B[49m\u001B[43m,\u001B[49m\u001B[43m \u001B[49m\u001B[43muid\u001B[49m\u001B[43m,\u001B[49m\u001B[43m \u001B[49m\u001B[43mumask\u001B[49m\u001B[43m,\u001B[49m\n\u001B[1;32m    977\u001B[0m \u001B[43m                        \u001B[49m\u001B[43mstart_new_session\u001B[49m\u001B[43m)\u001B[49m\n\u001B[1;32m    978\u001B[0m \u001B[38;5;28;01mexcept\u001B[39;00m:\n\u001B[1;32m    979\u001B[0m     \u001B[38;5;66;03m# Cleanup if the child failed starting.\u001B[39;00m\n",
      "File \u001B[0;32m~/.pyenv/versions/3.10.6/lib/python3.10/subprocess.py:1845\u001B[0m, in \u001B[0;36mPopen._execute_child\u001B[0;34m(self, args, executable, preexec_fn, close_fds, pass_fds, cwd, env, startupinfo, creationflags, shell, p2cread, p2cwrite, c2pread, c2pwrite, errread, errwrite, restore_signals, gid, gids, uid, umask, start_new_session)\u001B[0m\n\u001B[1;32m   1844\u001B[0m         err_msg \u001B[38;5;241m=\u001B[39m os\u001B[38;5;241m.\u001B[39mstrerror(errno_num)\n\u001B[0;32m-> 1845\u001B[0m     \u001B[38;5;28;01mraise\u001B[39;00m child_exception_type(errno_num, err_msg, err_filename)\n\u001B[1;32m   1846\u001B[0m \u001B[38;5;28;01mraise\u001B[39;00m child_exception_type(err_msg)\n",
      "\u001B[0;31mFileNotFoundError\u001B[0m: [Errno 2] No such file or directory: 'dot'",
      "\nDuring handling of the above exception, another exception occurred:\n",
      "\u001B[0;31mFileNotFoundError\u001B[0m                         Traceback (most recent call last)",
      "Cell \u001B[0;32mIn[2], line 3\u001B[0m\n\u001B[1;32m      1\u001B[0m influence_diagram \u001B[38;5;241m=\u001B[39m InfluenceDiagram()\n\u001B[1;32m      2\u001B[0m influence_diagram\u001B[38;5;241m.\u001B[39maddChanceNode(\u001B[38;5;124m\"\u001B[39m\u001B[38;5;124mQ\u001B[39m\u001B[38;5;124m\"\u001B[39m)\n\u001B[0;32m----> 3\u001B[0m \u001B[43mgnb\u001B[49m\u001B[38;5;241;43m.\u001B[39;49m\u001B[43msideBySide\u001B[49m\u001B[43m(\u001B[49m\u001B[43minfluence_diagram\u001B[49m\u001B[43m)\u001B[49m\n",
      "File \u001B[0;32m~/Documents/GitHub/notes-ai/Probabilistic Graphical Models/Influence diagrams/.venv/lib/python3.10/site-packages/pyAgrum/lib/notebook.py:1485\u001B[0m, in \u001B[0;36msideBySide\u001B[0;34m(*args, **kwargs)\u001B[0m\n\u001B[1;32m   1470\u001B[0m \u001B[38;5;28;01mdef\u001B[39;00m \u001B[38;5;21msideBySide\u001B[39m(\u001B[38;5;241m*\u001B[39margs, \u001B[38;5;241m*\u001B[39m\u001B[38;5;241m*\u001B[39mkwargs):\n\u001B[1;32m   1471\u001B[0m \u001B[38;5;250m  \u001B[39m\u001B[38;5;124;03m\"\"\"\u001B[39;00m\n\u001B[1;32m   1472\u001B[0m \u001B[38;5;124;03m  display side by side args as HMTL fragment (using string, _repr_html_() or str())\u001B[39;00m\n\u001B[1;32m   1473\u001B[0m \n\u001B[0;32m   (...)\u001B[0m\n\u001B[1;32m   1483\u001B[0m \u001B[38;5;124;03m    number of columns (infinite by default)\u001B[39;00m\n\u001B[1;32m   1484\u001B[0m \u001B[38;5;124;03m  \"\"\"\u001B[39;00m\n\u001B[0;32m-> 1485\u001B[0m   IPython\u001B[38;5;241m.\u001B[39mdisplay\u001B[38;5;241m.\u001B[39mdisplay(IPython\u001B[38;5;241m.\u001B[39mdisplay\u001B[38;5;241m.\u001B[39mHTML(\u001B[43mgetSideBySide\u001B[49m\u001B[43m(\u001B[49m\u001B[38;5;241;43m*\u001B[39;49m\u001B[43margs\u001B[49m\u001B[43m,\u001B[49m\u001B[43m \u001B[49m\u001B[38;5;241;43m*\u001B[39;49m\u001B[38;5;241;43m*\u001B[39;49m\u001B[43mkwargs\u001B[49m\u001B[43m)\u001B[49m))\n",
      "File \u001B[0;32m~/Documents/GitHub/notes-ai/Probabilistic Graphical Models/Influence diagrams/.venv/lib/python3.10/site-packages/pyAgrum/lib/notebook.py:1460\u001B[0m, in \u001B[0;36mgetSideBySide\u001B[0;34m(*args, **kwargs)\u001B[0m\n\u001B[1;32m   1458\u001B[0m \u001B[38;5;28;01mfor\u001B[39;00m i \u001B[38;5;129;01min\u001B[39;00m \u001B[38;5;28mrange\u001B[39m(\u001B[38;5;28mlen\u001B[39m(args)):\n\u001B[1;32m   1459\u001B[0m   s \u001B[38;5;241m+\u001B[39m\u001B[38;5;241m=\u001B[39m \u001B[38;5;124mf\u001B[39m\u001B[38;5;124m'\u001B[39m\u001B[38;5;124m<td style=\u001B[39m\u001B[38;5;124m\"\u001B[39m\u001B[38;5;124mborder-top:hidden;border-bottom:hidden;\u001B[39m\u001B[38;5;132;01m{\u001B[39;00mv_align\u001B[38;5;132;01m}\u001B[39;00m\u001B[38;5;124m\"\u001B[39m\u001B[38;5;124m><div align=\u001B[39m\u001B[38;5;124m\"\u001B[39m\u001B[38;5;124mcenter\u001B[39m\u001B[38;5;124m\"\u001B[39m\u001B[38;5;124m style=\u001B[39m\u001B[38;5;124m\"\u001B[39m\u001B[38;5;132;01m{\u001B[39;00mv_align\u001B[38;5;132;01m}\u001B[39;00m\u001B[38;5;124m\"\u001B[39m\u001B[38;5;124m>\u001B[39m\u001B[38;5;124m'\u001B[39m\n\u001B[0;32m-> 1460\u001B[0m   s \u001B[38;5;241m+\u001B[39m\u001B[38;5;241m=\u001B[39m \u001B[43mreprHTML\u001B[49m\u001B[43m(\u001B[49m\u001B[43margs\u001B[49m\u001B[43m[\u001B[49m\u001B[43mi\u001B[49m\u001B[43m]\u001B[49m\u001B[43m)\u001B[49m\n\u001B[1;32m   1461\u001B[0m   \u001B[38;5;28;01mif\u001B[39;00m captions \u001B[38;5;129;01mis\u001B[39;00m \u001B[38;5;129;01mnot\u001B[39;00m \u001B[38;5;28;01mNone\u001B[39;00m:\n\u001B[1;32m   1462\u001B[0m     s \u001B[38;5;241m+\u001B[39m\u001B[38;5;241m=\u001B[39m \u001B[38;5;124mf\u001B[39m\u001B[38;5;124m'\u001B[39m\u001B[38;5;124m<br><small><i>\u001B[39m\u001B[38;5;132;01m{\u001B[39;00mcaptions[i]\u001B[38;5;132;01m}\u001B[39;00m\u001B[38;5;124m</i></small>\u001B[39m\u001B[38;5;124m'\u001B[39m\n",
      "File \u001B[0;32m~/Documents/GitHub/notes-ai/Probabilistic Graphical Models/Influence diagrams/.venv/lib/python3.10/site-packages/pyAgrum/lib/notebook.py:1453\u001B[0m, in \u001B[0;36mgetSideBySide.<locals>.reprHTML\u001B[0;34m(s)\u001B[0m\n\u001B[1;32m   1451\u001B[0m   \u001B[38;5;28;01mreturn\u001B[39;00m s\n\u001B[1;32m   1452\u001B[0m \u001B[38;5;28;01melif\u001B[39;00m \u001B[38;5;28mhasattr\u001B[39m(s, \u001B[38;5;124m'\u001B[39m\u001B[38;5;124m_repr_html_\u001B[39m\u001B[38;5;124m'\u001B[39m):\n\u001B[0;32m-> 1453\u001B[0m   \u001B[38;5;28;01mreturn\u001B[39;00m \u001B[43ms\u001B[49m\u001B[38;5;241;43m.\u001B[39;49m\u001B[43m_repr_html_\u001B[49m\u001B[43m(\u001B[49m\u001B[43m)\u001B[49m\n\u001B[1;32m   1454\u001B[0m \u001B[38;5;28;01melse\u001B[39;00m:\n\u001B[1;32m   1455\u001B[0m   \u001B[38;5;28;01mreturn\u001B[39;00m \u001B[38;5;28mstr\u001B[39m(s)\n",
      "File \u001B[0;32m~/Documents/GitHub/notes-ai/Probabilistic Graphical Models/Influence diagrams/.venv/lib/python3.10/site-packages/pyAgrum/lib/notebook.py:1760\u001B[0m, in \u001B[0;36m<lambda>\u001B[0;34m(self)\u001B[0m\n\u001B[1;32m   1758\u001B[0m gum\u001B[38;5;241m.\u001B[39mMarkovRandomField\u001B[38;5;241m.\u001B[39m_repr_html_ \u001B[38;5;241m=\u001B[39m \u001B[38;5;28;01mlambda\u001B[39;00m \u001B[38;5;28mself\u001B[39m: getMRF(\u001B[38;5;28mself\u001B[39m)\n\u001B[1;32m   1759\u001B[0m gum\u001B[38;5;241m.\u001B[39mBayesNetFragment\u001B[38;5;241m.\u001B[39m_repr_html_ \u001B[38;5;241m=\u001B[39m \u001B[38;5;28;01mlambda\u001B[39;00m \u001B[38;5;28mself\u001B[39m: getBN(\u001B[38;5;28mself\u001B[39m)\n\u001B[0;32m-> 1760\u001B[0m gum\u001B[38;5;241m.\u001B[39mInfluenceDiagram\u001B[38;5;241m.\u001B[39m_repr_html_ \u001B[38;5;241m=\u001B[39m \u001B[38;5;28;01mlambda\u001B[39;00m \u001B[38;5;28mself\u001B[39m: \u001B[43mgetInfluenceDiagram\u001B[49m\u001B[43m(\u001B[49m\u001B[38;5;28;43mself\u001B[39;49m\u001B[43m)\u001B[49m\n\u001B[1;32m   1761\u001B[0m gum\u001B[38;5;241m.\u001B[39mCredalNet\u001B[38;5;241m.\u001B[39m_repr_html_ \u001B[38;5;241m=\u001B[39m \u001B[38;5;28;01mlambda\u001B[39;00m \u001B[38;5;28mself\u001B[39m: getCN(\u001B[38;5;28mself\u001B[39m)\n\u001B[1;32m   1763\u001B[0m gum\u001B[38;5;241m.\u001B[39mCliqueGraph\u001B[38;5;241m.\u001B[39m_repr_html_ \u001B[38;5;241m=\u001B[39m \u001B[38;5;28;01mlambda\u001B[39;00m \u001B[38;5;28mself\u001B[39m: getCliqueGraph(\u001B[38;5;28mself\u001B[39m)\n",
      "File \u001B[0;32m~/Documents/GitHub/notes-ai/Probabilistic Graphical Models/Influence diagrams/.venv/lib/python3.10/site-packages/pyAgrum/lib/notebook.py:825\u001B[0m, in \u001B[0;36mgetInfluenceDiagram\u001B[0;34m(diag, size)\u001B[0m\n\u001B[1;32m    822\u001B[0m \u001B[38;5;28;01mif\u001B[39;00m size \u001B[38;5;129;01mis\u001B[39;00m \u001B[38;5;28;01mNone\u001B[39;00m:\n\u001B[1;32m    823\u001B[0m   size \u001B[38;5;241m=\u001B[39m gum\u001B[38;5;241m.\u001B[39mconfig[\u001B[38;5;124m\"\u001B[39m\u001B[38;5;124minfluenceDiagram\u001B[39m\u001B[38;5;124m\"\u001B[39m, \u001B[38;5;124m\"\u001B[39m\u001B[38;5;124mdefault_id_size\u001B[39m\u001B[38;5;124m\"\u001B[39m]\n\u001B[0;32m--> 825\u001B[0m \u001B[38;5;28;01mreturn\u001B[39;00m \u001B[43mgetGraph\u001B[49m\u001B[43m(\u001B[49m\u001B[43mID2dot\u001B[49m\u001B[43m(\u001B[49m\u001B[43mdiag\u001B[49m\u001B[43m)\u001B[49m\u001B[43m,\u001B[49m\u001B[43m \u001B[49m\u001B[43msize\u001B[49m\u001B[43m)\u001B[49m\n",
      "File \u001B[0;32m~/Documents/GitHub/notes-ai/Probabilistic Graphical Models/Influence diagrams/.venv/lib/python3.10/site-packages/pyAgrum/lib/notebook.py:313\u001B[0m, in \u001B[0;36mgetGraph\u001B[0;34m(gr, size)\u001B[0m\n\u001B[1;32m    310\u001B[0m \u001B[38;5;28;01mif\u001B[39;00m size \u001B[38;5;129;01mis\u001B[39;00m \u001B[38;5;28;01mNone\u001B[39;00m:\n\u001B[1;32m    311\u001B[0m   size \u001B[38;5;241m=\u001B[39m gum\u001B[38;5;241m.\u001B[39mconfig[\u001B[38;5;124m\"\u001B[39m\u001B[38;5;124mnotebook\u001B[39m\u001B[38;5;124m\"\u001B[39m, \u001B[38;5;124m\"\u001B[39m\u001B[38;5;124mdefault_graph_size\u001B[39m\u001B[38;5;124m\"\u001B[39m]\n\u001B[0;32m--> 313\u001B[0m \u001B[38;5;28;01mreturn\u001B[39;00m \u001B[43m_reprGraph\u001B[49m\u001B[43m(\u001B[49m\u001B[43mgr\u001B[49m\u001B[43m,\u001B[49m\u001B[43m \u001B[49m\u001B[43msize\u001B[49m\u001B[43m,\u001B[49m\u001B[43m \u001B[49m\u001B[43masString\u001B[49m\u001B[38;5;241;43m=\u001B[39;49m\u001B[38;5;28;43;01mTrue\u001B[39;49;00m\u001B[43m)\u001B[49m\n",
      "File \u001B[0;32m~/Documents/GitHub/notes-ai/Probabilistic Graphical Models/Influence diagrams/.venv/lib/python3.10/site-packages/pyAgrum/lib/notebook.py:264\u001B[0m, in \u001B[0;36m_reprGraph\u001B[0;34m(gr, size, asString, graph_format)\u001B[0m\n\u001B[1;32m    260\u001B[0m   graph_format \u001B[38;5;241m=\u001B[39m gum\u001B[38;5;241m.\u001B[39mconfig[\u001B[38;5;124m\"\u001B[39m\u001B[38;5;124mnotebook\u001B[39m\u001B[38;5;124m\"\u001B[39m, \u001B[38;5;124m\"\u001B[39m\u001B[38;5;124mgraph_format\u001B[39m\u001B[38;5;124m\"\u001B[39m]\n\u001B[1;32m    262\u001B[0m \u001B[38;5;28;01mif\u001B[39;00m graph_format \u001B[38;5;241m==\u001B[39m \u001B[38;5;124m\"\u001B[39m\u001B[38;5;124msvg\u001B[39m\u001B[38;5;124m\"\u001B[39m:\n\u001B[1;32m    263\u001B[0m   gsvg \u001B[38;5;241m=\u001B[39m IPython\u001B[38;5;241m.\u001B[39mdisplay\u001B[38;5;241m.\u001B[39mSVG(prepareLinksForSVG(\n\u001B[0;32m--> 264\u001B[0m     \u001B[43mgr\u001B[49m\u001B[38;5;241;43m.\u001B[39;49m\u001B[43mcreate_svg\u001B[49m\u001B[43m(\u001B[49m\u001B[43mencoding\u001B[49m\u001B[38;5;241;43m=\u001B[39;49m\u001B[38;5;124;43m\"\u001B[39;49m\u001B[38;5;124;43mutf-8\u001B[39;49m\u001B[38;5;124;43m\"\u001B[39;49m\u001B[43m)\u001B[49m\u001B[38;5;241m.\u001B[39mdecode(\u001B[38;5;124m'\u001B[39m\u001B[38;5;124mutf-8\u001B[39m\u001B[38;5;124m'\u001B[39m)))\n\u001B[1;32m    265\u001B[0m   \u001B[38;5;28;01mif\u001B[39;00m asString:\n\u001B[1;32m    266\u001B[0m     \u001B[38;5;28;01mreturn\u001B[39;00m gsvg\u001B[38;5;241m.\u001B[39mdata\n",
      "File \u001B[0;32m~/Documents/GitHub/notes-ai/Probabilistic Graphical Models/Influence diagrams/.venv/lib/python3.10/site-packages/pydot/core.py:1578\u001B[0m, in \u001B[0;36mDot.__init__.<locals>.new_method\u001B[0;34m(f, prog, encoding)\u001B[0m\n\u001B[1;32m   1576\u001B[0m \u001B[38;5;28;01mdef\u001B[39;00m \u001B[38;5;21mnew_method\u001B[39m(f\u001B[38;5;241m=\u001B[39mfrmt, prog\u001B[38;5;241m=\u001B[39m\u001B[38;5;28;01mNone\u001B[39;00m, encoding\u001B[38;5;241m=\u001B[39m\u001B[38;5;28;01mNone\u001B[39;00m):\n\u001B[1;32m   1577\u001B[0m \u001B[38;5;250m    \u001B[39m\u001B[38;5;124;03m\"\"\"Refer to docstring of method `create`.\"\"\"\u001B[39;00m\n\u001B[0;32m-> 1578\u001B[0m     \u001B[38;5;28;01mreturn\u001B[39;00m \u001B[38;5;28;43mself\u001B[39;49m\u001B[38;5;241;43m.\u001B[39;49m\u001B[43mcreate\u001B[49m\u001B[43m(\u001B[49m\u001B[38;5;28;43mformat\u001B[39;49m\u001B[38;5;241;43m=\u001B[39;49m\u001B[43mf\u001B[49m\u001B[43m,\u001B[49m\u001B[43m \u001B[49m\u001B[43mprog\u001B[49m\u001B[38;5;241;43m=\u001B[39;49m\u001B[43mprog\u001B[49m\u001B[43m,\u001B[49m\u001B[43m \u001B[49m\u001B[43mencoding\u001B[49m\u001B[38;5;241;43m=\u001B[39;49m\u001B[43mencoding\u001B[49m\u001B[43m)\u001B[49m\n",
      "File \u001B[0;32m~/Documents/GitHub/notes-ai/Probabilistic Graphical Models/Influence diagrams/.venv/lib/python3.10/site-packages/pydot/core.py:1762\u001B[0m, in \u001B[0;36mDot.create\u001B[0;34m(self, prog, format, encoding)\u001B[0m\n\u001B[1;32m   1760\u001B[0m     args \u001B[38;5;241m=\u001B[39m \u001B[38;5;28mlist\u001B[39m(e\u001B[38;5;241m.\u001B[39margs)\n\u001B[1;32m   1761\u001B[0m     args[\u001B[38;5;241m1\u001B[39m] \u001B[38;5;241m=\u001B[39m \u001B[38;5;124m'\u001B[39m\u001B[38;5;124m\"\u001B[39m\u001B[38;5;132;01m{prog}\u001B[39;00m\u001B[38;5;124m\"\u001B[39m\u001B[38;5;124m not found in path.\u001B[39m\u001B[38;5;124m'\u001B[39m\u001B[38;5;241m.\u001B[39mformat(prog\u001B[38;5;241m=\u001B[39mprog)\n\u001B[0;32m-> 1762\u001B[0m     \u001B[38;5;28;01mraise\u001B[39;00m \u001B[38;5;167;01mOSError\u001B[39;00m(\u001B[38;5;241m*\u001B[39margs)\n\u001B[1;32m   1763\u001B[0m \u001B[38;5;28;01melse\u001B[39;00m:\n\u001B[1;32m   1764\u001B[0m     \u001B[38;5;28;01mraise\u001B[39;00m\n",
      "\u001B[0;31mFileNotFoundError\u001B[0m: [Errno 2] \"dot\" not found in path."
     ]
    }
   ],
   "execution_count": 2
  }
 ],
 "metadata": {
  "kernelspec": {
   "display_name": "Python 3 (ipykernel)",
   "language": "python",
   "name": "python3"
  },
  "language_info": {
   "codemirror_mode": {
    "name": "ipython",
    "version": 3
   },
   "file_extension": ".py",
   "mimetype": "text/x-python",
   "name": "python",
   "nbconvert_exporter": "python",
   "pygments_lexer": "ipython3",
   "version": "3.10.6"
  }
 },
 "nbformat": 4,
 "nbformat_minor": 5
}
