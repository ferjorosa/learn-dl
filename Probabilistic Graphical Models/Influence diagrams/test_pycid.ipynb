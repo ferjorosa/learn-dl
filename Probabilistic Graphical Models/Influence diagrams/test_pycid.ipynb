{
 "cells": [
  {
   "cell_type": "code",
   "id": "initial_id",
   "metadata": {
    "collapsed": true,
    "ExecuteTime": {
     "end_time": "2024-05-23T11:34:40.522422Z",
     "start_time": "2024-05-23T11:34:04.515669Z"
    }
   },
   "source": [
    "import pycid\n",
    "\n",
    "cbn = pycid.CausalBayesianNetwork(\n",
    "    [(\"A\", \"B\"), (\"A\", \"C\"), (\"B\", \"C\")],  # specifies the MAICD's nodes and edges.\n",
    ")\n",
    "\n",
    "cbn.draw()"
   ],
   "outputs": [
    {
     "name": "stderr",
     "output_type": "stream",
     "text": [
      "Matplotlib is building the font cache; this may take a moment.\n"
     ]
    },
    {
     "data": {
      "text/plain": [
       "<Figure size 640x480 with 1 Axes>"
      ],
      "image/png": "[encoded data removed]"
     },
     "metadata": {},
     "output_type": "display_data"
    }
   ],
   "execution_count": 1
  },
  {
   "metadata": {
    "ExecuteTime": {
     "end_time": "2024-05-23T11:37:06.897153Z",
     "start_time": "2024-05-23T11:37:06.894834Z"
    }
   },
   "cell_type": "code",
   "source": [
    "cbn.model[\"A\"] = {0: 0.4, 1: 0.6}\n",
    "# alternatively: cbn.model['A'] = pycid.bernoulli(0.6)\n",
    "\n",
    "# print it as a probability table\n",
    "print(cbn.get_cpds(\"A\").prob_table())"
   ],
   "id": "23ff7779fc20f589",
   "outputs": [
    {
     "name": "stdout",
     "output_type": "stream",
     "text": [
      "+------+-----+\n",
      "| A(0) | 0.4 |\n",
      "+------+-----+\n",
      "| A(1) | 0.6 |\n",
      "+------+-----+\n"
     ]
    }
   ],
   "execution_count": 5
  },
  {
   "metadata": {
    "ExecuteTime": {
     "end_time": "2024-05-23T11:37:19.392730Z",
     "start_time": "2024-05-23T11:37:19.387123Z"
    }
   },
   "cell_type": "code",
   "source": [
    "cbn.model[\"B\"] = lambda A: pycid.bernoulli((1 + A) / 3)\n",
    "\n",
    "print(\"We can see the result in a few different ways:\")\n",
    "print(\"\\nThe model object contains just what we added:\")\n",
    "print(cbn.model[\"B\"])\n",
    "print(\"\\nThe CPD has interpreted it as a stochastic function:\")\n",
    "print(cbn.get_cpds(\"B\"))\n",
    "print(\"\\nAnd as a probability table\")\n",
    "print(cbn.get_cpds(\"B\").prob_table())"
   ],
   "id": "65870e823a1ae43a",
   "outputs": [
    {
     "name": "stdout",
     "output_type": "stream",
     "text": [
      "We can see the result in a few different ways:\n",
      "\n",
      "The model object contains just what we added:\n",
      "<function <lambda> at 0x30ceb5240>\n",
      "\n",
      "The CPD has interpreted it as a stochastic function:\n",
      "StochasticFunctionCPD<B> \n",
      "{'A': 0}  ->  {0: 0.6666666666666667, 1: 0.3333333333333333}\n",
      "{'A': 1}  ->  {0: 0.33333333333333337, 1: 0.6666666666666666}\n",
      "\n",
      "And as a probability table\n",
      "+------+--------------------+---------------------+\n",
      "| A    | A(0)               | A(1)                |\n",
      "+------+--------------------+---------------------+\n",
      "| B(0) | 0.6666666666666667 | 0.33333333333333337 |\n",
      "+------+--------------------+---------------------+\n",
      "| B(1) | 0.3333333333333333 | 0.6666666666666666  |\n",
      "+------+--------------------+---------------------+\n"
     ]
    }
   ],
   "execution_count": 6
  },
  {
   "metadata": {
    "ExecuteTime": {
     "end_time": "2024-05-23T11:37:35.258329Z",
     "start_time": "2024-05-23T11:37:35.253936Z"
    }
   },
   "cell_type": "code",
   "source": [
    "cbn.model[\"C\"] = lambda A, B: (\n",
    "    pycid.bernoulli(0.2)\n",
    "    if A == 0 and B == 0\n",
    "    else pycid.bernoulli(0.3)\n",
    "    if A == 0 and B == 1\n",
    "    else pycid.bernoulli(0.4)\n",
    "    if A == 1 and B == 0\n",
    "    else pycid.bernoulli(0.5)\n",
    ")\n",
    "\n",
    "print(\"As a stochastic function:\")\n",
    "print(cbn.get_cpds(\"C\"))\n",
    "print(\"\\nAs a probability table\")\n",
    "print(cbn.get_cpds(\"C\").prob_table())"
   ],
   "id": "931939ddbf9cfbb9",
   "outputs": [
    {
     "name": "stdout",
     "output_type": "stream",
     "text": [
      "As a stochastic function:\n",
      "StochasticFunctionCPD<C> \n",
      "{'A': 0, 'B': 0}  ->  {0: 0.8, 1: 0.2}\n",
      "{'A': 0, 'B': 1}  ->  {0: 0.7, 1: 0.3}\n",
      "{'A': 1, 'B': 0}  ->  {0: 0.6, 1: 0.4}\n",
      "{'A': 1, 'B': 1}  ->  {0: 0.5, 1: 0.5}\n",
      "\n",
      "As a probability table\n",
      "+------+------+------+------+------+\n",
      "| A    | A(0) | A(0) | A(1) | A(1) |\n",
      "+------+------+------+------+------+\n",
      "| B    | B(0) | B(1) | B(0) | B(1) |\n",
      "+------+------+------+------+------+\n",
      "| C(0) | 0.8  | 0.7  | 0.6  | 0.5  |\n",
      "+------+------+------+------+------+\n",
      "| C(1) | 0.2  | 0.3  | 0.4  | 0.5  |\n",
      "+------+------+------+------+------+\n"
     ]
    }
   ],
   "execution_count": 7
  },
  {
   "metadata": {
    "ExecuteTime": {
     "end_time": "2024-05-23T11:37:38.756055Z",
     "start_time": "2024-05-23T11:37:38.740143Z"
    }
   },
   "cell_type": "code",
   "source": "print(cbn.query([\"C\"], context={\"B\": 1}))",
   "id": "b9fedf15afb34bae",
   "outputs": [
    {
     "name": "stdout",
     "output_type": "stream",
     "text": [
      "+------+----------+\n",
      "| C    |   phi(C) |\n",
      "+======+==========+\n",
      "| C(0) |   0.5500 |\n",
      "+------+----------+\n",
      "| C(1) |   0.4500 |\n",
      "+------+----------+\n"
     ]
    }
   ],
   "execution_count": 8
  },
  {
   "metadata": {
    "ExecuteTime": {
     "end_time": "2024-05-23T11:44:19.385628Z",
     "start_time": "2024-05-23T11:44:19.380663Z"
    }
   },
   "cell_type": "code",
   "source": "cbn.get_cpds()",
   "id": "7564403aa5bd5119",
   "outputs": [
    {
     "data": {
      "text/plain": [
       "[ConstantCPD<A> \n",
       " {}  ->  {0: 0.4, 1: 0.6},\n",
       " StochasticFunctionCPD<B> \n",
       " {'A': 0}  ->  {0: 0.6666666666666667, 1: 0.3333333333333333}\n",
       " {'A': 1}  ->  {0: 0.33333333333333337, 1: 0.6666666666666666},\n",
       " StochasticFunctionCPD<C> \n",
       " {'A': 0, 'B': 0}  ->  {0: 0.8, 1: 0.2}\n",
       " {'A': 0, 'B': 1}  ->  {0: 0.7, 1: 0.3}\n",
       " {'A': 1, 'B': 0}  ->  {0: 0.6, 1: 0.4}\n",
       " {'A': 1, 'B': 1}  ->  {0: 0.5, 1: 0.5}]"
      ]
     },
     "execution_count": 9,
     "metadata": {},
     "output_type": "execute_result"
    }
   ],
   "execution_count": 9
  }
 ],
 "metadata": {
  "kernelspec": {
   "display_name": "Python 3",
   "language": "python",
   "name": "python3"
  },
  "language_info": {
   "codemirror_mode": {
    "name": "ipython",
    "version": 2
   },
   "file_extension": ".py",
   "mimetype": "text/x-python",
   "name": "python",
   "nbconvert_exporter": "python",
   "pygments_lexer": "ipython2",
   "version": "2.7.6"
  }
 },
 "nbformat": 4,
 "nbformat_minor": 5
}
