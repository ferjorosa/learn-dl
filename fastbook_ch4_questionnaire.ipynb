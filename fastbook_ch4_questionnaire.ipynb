{
  "nbformat": 4,
  "nbformat_minor": 0,
  "metadata": {
    "colab": {
      "name": "Untitled4.ipynb",
      "provenance": [],
      "authorship_tag": "ABX9TyNsmgY+/l9913qPRt/4eMHC",
      "include_colab_link": true
    },
    "kernelspec": {
      "name": "python3",
      "display_name": "Python 3"
    },
    "language_info": {
      "name": "python"
    }
  },
  "cells": [
    {
      "cell_type": "markdown",
      "metadata": {
        "id": "view-in-github",
        "colab_type": "text"
      },
      "source": [
        "<a href=\"https://colab.research.google.com/github/ferjorosa/learn-fastai/blob/main/fastbook_ch4_questionnaire.ipynb\" target=\"_parent\"><img src=\"https://colab.research.google.com/assets/colab-badge.svg\" alt=\"Open In Colab\"/></a>"
      ]
    },
    {
      "cell_type": "markdown",
      "metadata": {
        "id": "bIvkSgRhFpjK"
      },
      "source": [
        "# Questionnaire Chapter 4"
      ]
    },
    {
      "cell_type": "markdown",
      "metadata": {
        "id": "jTjU-xAHKGdq"
      },
      "source": [
        "**Question 1: How is a grayscale image represented on a computer? How about a color image?**\n",
        "\n",
        "A grayscale image is represented using a matrix, whose size corresponds to the number of pixels, where each matrix is ranged in [0,255].\n",
        "\n",
        "A color image is represented using a rank 3 tensor with 3 channels (red, green, blue), where each channel considers a matrix whose values correspond to the [0,255] range."
      ]
    },
    {
      "cell_type": "markdown",
      "metadata": {
        "id": "kpy1b5TlKuYS"
      },
      "source": [
        "**Question 2: How are the fields and folders of the MNIST_SAMPLE dataset structured? Why?**\n",
        "\n",
        "Each image has its own folder. For example threes are stored in the \"threes\" fold. In addition, image folders are divided into train and validation."
      ]
    },
    {
      "cell_type": "markdown",
      "metadata": {
        "id": "JUpwJJImLEGZ"
      },
      "source": [
        "**Question 3: Explain how the pixel similarity approach to classifying digits works**\n",
        "\n",
        "For each number, we estimate an \"ideal\" image that corresponds to the mean values of each of its pixels. Then, in order to classify an image as a specific number, we estimate the distance between the new image and all of the ideal images considered. The image is assigned a class corresponding to the smallest distance."
      ]
    },
    {
      "cell_type": "markdown",
      "metadata": {
        "id": "WX4N_VutFjaE"
      },
      "source": [
        "**Question 4: What is a list comprehension? Create one that selects odd numbers from a list and doubles them**"
      ]
    },
    {
      "cell_type": "code",
      "metadata": {
        "id": "93cgoB9_FnaC"
      },
      "source": [
        "l = [2,3,4,5,6]\n",
        "\n",
        "[l[i]**2 for i in range(0, len(l), 2)]"
      ],
      "execution_count": null,
      "outputs": []
    },
    {
      "cell_type": "markdown",
      "metadata": {
        "id": "0gaKY-eWLz2q"
      },
      "source": [
        "**Question 5: What is a rank-3 tensor?**\n",
        "\n",
        "It is a tensor with 3 dimensions. For example an RGB color image is a rank-3 tensor [i, j, k] where:\n",
        "* i: number of channels, i.e., 3 (red, green, blue)\n",
        "* j: number of row pixels\n",
        "* k: number of column pixels\n",
        "\n",
        "Example: [3, 20, 20] is a RGB image with dimension 20x20"
      ]
    },
    {
      "cell_type": "markdown",
      "metadata": {
        "id": "OLAge2QsF2GT"
      },
      "source": [
        "**Question 6: What is the difference between tensor rank and shape? How do you get the rank from the shape**\n",
        "\n",
        "Tensor rank is defined as the number of dimensions of a tensor. On the other hand, tensor shape represents the size of the each dimension. For example, a tensor with rank 2 is a two-dimensional array whose dimension sizes may be 10x5 (i.e., [10, 5])"
      ]
    },
    {
      "cell_type": "code",
      "metadata": {
        "colab": {
          "base_uri": "https://localhost:8080/"
        },
        "id": "Xf0kcRE9F2Ri",
        "outputId": "aa0206bc-d068-4bf6-f018-dafed3a49779"
      },
      "source": [
        "import torch\n",
        "\n",
        "t = torch.tensor([[[1,2,3], [1,2,3]], [[3,4,5], [3,4,5]]])\n",
        "print(\"Shape: \" + str(t.shape))\n",
        "print(\"Rank: \" + str(t.ndim))"
      ],
      "execution_count": 20,
      "outputs": [
        {
          "output_type": "stream",
          "name": "stdout",
          "text": [
            "Shape: torch.Size([2, 2, 3])\n",
            "Rank: 3\n"
          ]
        }
      ]
    },
    {
      "cell_type": "code",
      "metadata": {
        "colab": {
          "base_uri": "https://localhost:8080/"
        },
        "id": "ykNcGxw0JRTr",
        "outputId": "4e2480d8-c39f-4684-a7be-9a940885559d"
      },
      "source": [
        "torch.zeros([3,5,2]) #3 matrices of 5x2"
      ],
      "execution_count": 23,
      "outputs": [
        {
          "output_type": "execute_result",
          "data": {
            "text/plain": [
              "tensor([[[0., 0.],\n",
              "         [0., 0.],\n",
              "         [0., 0.],\n",
              "         [0., 0.],\n",
              "         [0., 0.]],\n",
              "\n",
              "        [[0., 0.],\n",
              "         [0., 0.],\n",
              "         [0., 0.],\n",
              "         [0., 0.],\n",
              "         [0., 0.]],\n",
              "\n",
              "        [[0., 0.],\n",
              "         [0., 0.],\n",
              "         [0., 0.],\n",
              "         [0., 0.],\n",
              "         [0., 0.]]])"
            ]
          },
          "metadata": {},
          "execution_count": 23
        }
      ]
    },
    {
      "cell_type": "markdown",
      "metadata": {
        "id": "cuRBhtqhJpRD"
      },
      "source": [
        "**Question 7: What are RMSE and L1 norm?**\n",
        "* RMSE: root mean-squared error. It is defined as the square root of the average squared distance between the actual score and the predicted score:\n",
        "* L1 norm: manhattan distance. For two vectorx $\\mathbf{x}$ and $\\mathbf{y}$, it is defined as $\\sum_{i} |x_{i} - y_{i}|$"
      ]
    },
    {
      "cell_type": "markdown",
      "metadata": {
        "id": "SdaxDUYdO-pz"
      },
      "source": [
        "**Question 8: How can you apply a calculation on thousand os numbers at once many thousands of times faster than a Python loop?**\n",
        "\n",
        "We can speed calculations using vectorization. [More information](https://blog.paperspace.com/numpy-optimization-vectorization-and-broadcasting/)"
      ]
    },
    {
      "cell_type": "markdown",
      "metadata": {
        "id": "CXizEBzhQMQL"
      },
      "source": [
        "**Question 9: Create a 3x3 tensor or array containing the numbers from 1 to 9. Double it. Select the bottom right four numbers**\n",
        "\n",
        "We use view instead of reshape to avoid the extra computation"
      ]
    },
    {
      "cell_type": "code",
      "metadata": {
        "colab": {
          "base_uri": "https://localhost:8080/"
        },
        "id": "jqD6tZbHQZ6B",
        "outputId": "29963d33-ea63-48fd-86b8-5ff969d016ad"
      },
      "source": [
        "matrix = torch.arange(1,10).view([3,3])\n",
        "matrix_sq = matrix**2\n",
        "matrix_sq.view(3*3)[-4:]"
      ],
      "execution_count": 42,
      "outputs": [
        {
          "output_type": "execute_result",
          "data": {
            "text/plain": [
              "tensor([36, 49, 64, 81])"
            ]
          },
          "metadata": {},
          "execution_count": 42
        }
      ]
    },
    {
      "cell_type": "markdown",
      "metadata": {
        "id": "xOdwRvmLSCKZ"
      },
      "source": [
        "**Question 10: What is broadcasting?**\n",
        "\n",
        "*My answer:* When doing computations with vectors of unmatching dimensions, broadcasting is the process of temporarily expanding the dimension of the smaller tensor to match the dimension of the larger tensor\n",
        "\n",
        "*Proper answer:* The term broadcasting describes how numpy/pytorch treats tensors with different shapes during arithmetic operations. Subject to certain constraints, the smaller tensor is “broadcast” across the larger tensor so that they have compatible shapes."
      ]
    },
    {
      "cell_type": "markdown",
      "metadata": {
        "id": "HUmCXAabS_4y"
      },
      "source": [
        "**Question 11: Are metrics generally calculated using the training set or the validation set? Why?**\n",
        "\n",
        "We consider a loss function with the training data. We use metrics such as accuracy or RMSE with the validation data. Loss functions are better for optimization purposes. Metrics do not usually have a \"gradient\" nor are easy to directly optimize, so we use them in validation."
      ]
    },
    {
      "cell_type": "markdown",
      "metadata": {
        "id": "wETbwDVLWBuB"
      },
      "source": [
        "**Question 12: What is SGD?**\n",
        "\n",
        "*My answer:* The stochastic gradient descent is a variant of the gradient descent where we use a random sample or batch to optimize the parameters of the function (instead of the whole training data)\n",
        "\n",
        "*Proper answer:* In both gradient descent (GD) and stochastic gradient descent (SGD), you update a set of parameters in an iterative manner to minimize an error function.\n",
        "\n",
        "While in GD, you have to run through ALL the samples in your training set to do a single update for a parameter in a particular iteration, in SGD, on the other hand, you use ONLY ONE or SUBSET of training sample from your training set to do the update for a parameter in a particular iteration. If you use SUBSET, it is called Minibatch Stochastic gradient Descent."
      ]
    },
    {
      "cell_type": "markdown",
      "metadata": {
        "id": "5f93HsJhW5oR"
      },
      "source": [
        "**Question 13: Why does SGD use mini-batches?**\n",
        "\n",
        "If the number of training samples is very large, then using gradient descent may take too long because in every iteration you are running through the complete training set. Instead, every iteration of SGD only considers a handful of training samples and updates the parameters with them.\n"
      ]
    },
    {
      "cell_type": "markdown",
      "metadata": {
        "id": "RB70IIRCXtUh"
      },
      "source": [
        "**Question 14: What are the seven steos ub SGD for machine learning?**\n",
        "\n",
        "1. Initialize\n",
        "2. Predict\n",
        "3. Estimate loss\n",
        "4. Calculate gradient\n",
        "5. Update parameter values with gradient (i.e., step)\n",
        "6. Repeat the process\n",
        "7. Stop if the number of epochs is reached or if the loss did not decrease enough\n"
      ]
    },
    {
      "cell_type": "markdown",
      "metadata": {
        "id": "1JW_DezUY2g5"
      },
      "source": [
        "**Question 15: How do we initialize the weights in a model?**\n",
        "\n",
        "There may be multiple approaches. In our case, we use random values. Andrew Ng proposes to use small random values."
      ]
    },
    {
      "cell_type": "markdown",
      "metadata": {
        "id": "Go3W5Md_ZOpn"
      },
      "source": [
        "**Question 16: What is loss?**\n",
        "\n",
        "The loss function measures the ability of our model to represent and predict the training data. We use a function that can be easily optimized, usually via a gradient descent method."
      ]
    },
    {
      "cell_type": "markdown",
      "metadata": {
        "id": "YqSeaDbuZhTm"
      },
      "source": [
        "**Question 17: Why can't we always use a high learning rate?**\n",
        "\n",
        "The learning rate is a parameter of the gradient descent algorithm that establishes the \"step size\" of the algorithm. A learning rate that is too large can cause the model to converge too quickly to a suboptimal solution, whereas a learning rate that is too small can cause the process to get stuck."
      ]
    },
    {
      "cell_type": "markdown",
      "metadata": {
        "id": "QU12Dxy9anYC"
      },
      "source": [
        "**Question 18: What is a gradient?**\n",
        "\n",
        "In *mathematics*, the gradient of a function is another function that corresponds to its first derivative. However, in *deep learning* the gradient usually refers to the value of the function's derivative at a particular argument value"
      ]
    },
    {
      "cell_type": "markdown",
      "metadata": {
        "id": "J4bsONWUa2VY"
      },
      "source": [
        "**Question 19: Do you need to calculate gradients yourself?**\n",
        "\n",
        "By using Pytorch and other libraries with automatic differentiation, we are not required to know how to estimate the gradients ourselves."
      ]
    },
    {
      "cell_type": "markdown",
      "metadata": {
        "id": "MNgOh-oebnXQ"
      },
      "source": [
        "**Question 20: Why can't we use accuracy as a loss function?**\n",
        "\n",
        "Because its gradient could not be optimized."
      ]
    }
  ]
}