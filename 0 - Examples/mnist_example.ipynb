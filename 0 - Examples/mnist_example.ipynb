{
  "nbformat": 4,
  "nbformat_minor": 0,
  "metadata": {
    "colab": {
      "name": "Untitled5.ipynb",
      "provenance": [],
      "collapsed_sections": [],
      "authorship_tag": "ABX9TyPvsRy8IMRyJ94LJ9bghqZz",
      "include_colab_link": true
    },
    "kernelspec": {
      "name": "python3",
      "display_name": "Python 3"
    },
    "language_info": {
      "name": "python"
    }
  },
  "cells": [
    {
      "cell_type": "markdown",
      "metadata": {
        "id": "view-in-github",
        "colab_type": "text"
      },
      "source": [
        "<a href=\"https://colab.research.google.com/github/ferjorosa/learn-fastai/blob/main/0%20-%20Examples/mnist_example.ipynb\" target=\"_parent\"><img src=\"https://colab.research.google.com/assets/colab-badge.svg\" alt=\"Open In Colab\"/></a>"
      ]
    },
    {
      "cell_type": "markdown",
      "metadata": {
        "id": "WuhrF6LdzSmS"
      },
      "source": [
        "# MNIST example"
      ]
    },
    {
      "cell_type": "markdown",
      "metadata": {
        "id": "-INgLlAWzYpC"
      },
      "source": [
        "## Imports"
      ]
    },
    {
      "cell_type": "code",
      "metadata": {
        "colab": {
          "base_uri": "https://localhost:8080/"
        },
        "id": "4q9s78VdcjKW",
        "outputId": "236fbacb-36ae-4c4e-f133-f5647db7e24e"
      },
      "source": [
        "#hide (Google Colab)\n",
        "!pip install fastai --upgrade -q\n",
        "import fastai\n",
        "print(fastai.__version__)\n",
        "\n",
        "!pip install -Uqq fastbook\n",
        "import fastbook\n",
        "fastbook.setup_book()"
      ],
      "execution_count": 89,
      "outputs": [
        {
          "output_type": "stream",
          "name": "stdout",
          "text": [
            "2.5.3\n"
          ]
        }
      ]
    },
    {
      "cell_type": "code",
      "metadata": {
        "id": "2R3mXXIgdNPf"
      },
      "source": [
        "#hide\n",
        "from fastai.vision.all import *\n",
        "from fastbook import *\n",
        "\n",
        "matplotlib.rc('image', cmap='Greys')"
      ],
      "execution_count": 90,
      "outputs": []
    },
    {
      "cell_type": "markdown",
      "metadata": {
        "id": "PcZNNzkjzb6k"
      },
      "source": [
        "## Data"
      ]
    },
    {
      "cell_type": "code",
      "metadata": {
        "id": "wYXcTIyhcs3p"
      },
      "source": [
        "path = untar_data(URLs.MNIST)\n",
        "\n",
        "zeros = (path/\"training\"/\"0\").ls().sorted()\n",
        "ones = (path/\"training\"/\"1\").ls().sorted()\n",
        "twos = (path/\"training\"/\"2\").ls().sorted()\n",
        "threes = (path/\"training\"/\"3\").ls().sorted()\n",
        "fours = (path/\"training\"/\"4\").ls().sorted()\n",
        "fives = (path/\"training\"/\"5\").ls().sorted()\n",
        "sixes = (path/\"training\"/\"6\").ls().sorted()\n",
        "sevens = (path/\"training\"/\"7\").ls().sorted()\n",
        "eights = (path/\"training\"/\"8\").ls().sorted()\n",
        "nines = (path/\"training\"/\"9\").ls().sorted()"
      ],
      "execution_count": 91,
      "outputs": []
    },
    {
      "cell_type": "code",
      "metadata": {
        "id": "ongT38p7eShw"
      },
      "source": [
        "zero_tensors = [tensor(Image.open(o)) for o in zeros]\n",
        "one_tensors = [tensor(Image.open(o)) for o in ones]\n",
        "two_tensors = [tensor(Image.open(o)) for o in twos]\n",
        "three_tensors = [tensor(Image.open(o)) for o in threes]\n",
        "four_tensors = [tensor(Image.open(o)) for o in fours]\n",
        "five_tensors = [tensor(Image.open(o)) for o in fives]\n",
        "six_tensors = [tensor(Image.open(o)) for o in sixes]\n",
        "seven_tensors = [tensor(Image.open(o)) for o in sevens]\n",
        "eight_tensors = [tensor(Image.open(o)) for o in eights]\n",
        "nine_tensors = [tensor(Image.open(o)) for o in nines]"
      ],
      "execution_count": 92,
      "outputs": []
    },
    {
      "cell_type": "code",
      "metadata": {
        "colab": {
          "base_uri": "https://localhost:8080/",
          "height": 73
        },
        "id": "0bSjyyqkqG4V",
        "outputId": "91ae1c04-faff-4496-834f-7ecc23d2ddd2"
      },
      "source": [
        "show_image(nine_tensors[2])"
      ],
      "execution_count": 93,
      "outputs": [
        {
          "output_type": "execute_result",
          "data": {
            "text/plain": [
              "<matplotlib.axes._subplots.AxesSubplot at 0x7fd2f20e9210>"
            ]
          },
          "metadata": {},
          "execution_count": 93
        },
        {
          "output_type": "display_data",
          "data": {
            "image/png": "[encoded data removed]",
            "text/plain": [
              "<Figure size 72x72 with 1 Axes>"
            ]
          },
          "metadata": {
            "needs_background": "light"
          }
        }
      ]
    },
    {
      "cell_type": "code",
      "metadata": {
        "colab": {
          "base_uri": "https://localhost:8080/"
        },
        "id": "kxJYtdh9uIb0",
        "outputId": "e8b06335-50fa-44a9-ac79-2f42b3fa21c0"
      },
      "source": [
        "nine_tensors[0].shape[0]"
      ],
      "execution_count": 94,
      "outputs": [
        {
          "output_type": "execute_result",
          "data": {
            "text/plain": [
              "28"
            ]
          },
          "metadata": {},
          "execution_count": 94
        }
      ]
    },
    {
      "cell_type": "code",
      "metadata": {
        "colab": {
          "base_uri": "https://localhost:8080/"
        },
        "id": "ei9qerj-qiQm",
        "outputId": "8e5deaa7-67b4-45cb-b32e-80797e665ffd"
      },
      "source": [
        "img_dim = nine_tensors[0].shape[0]**2\n",
        "\n",
        "stacked_zeros = torch.stack(zero_tensors).view(-1, img_dim).float()/255\n",
        "stacked_ones = torch.stack(one_tensors).view(-1, img_dim).float()/255\n",
        "stacked_twos = torch.stack(two_tensors).view(-1, img_dim).float()/255\n",
        "stacked_threes = torch.stack(three_tensors).view(-1, img_dim).float()/255\n",
        "stacked_fours = torch.stack(four_tensors).view(-1, img_dim).float()/255\n",
        "stacked_fives = torch.stack(five_tensors).view(-1, img_dim).float()/255\n",
        "stacked_sixes = torch.stack(six_tensors).view(-1, img_dim).float()/255\n",
        "stacked_sevens = torch.stack(seven_tensors).view(-1, img_dim).float()/255\n",
        "stacked_eights = torch.stack(eight_tensors).view(-1, img_dim).float()/255\n",
        "stacked_nines = torch.stack(nine_tensors).view(-1, img_dim).float()/255\n",
        "\n",
        "stacked_eights.shape"
      ],
      "execution_count": 95,
      "outputs": [
        {
          "output_type": "execute_result",
          "data": {
            "text/plain": [
              "torch.Size([5851, 784])"
            ]
          },
          "metadata": {},
          "execution_count": 95
        }
      ]
    },
    {
      "cell_type": "code",
      "metadata": {
        "colab": {
          "base_uri": "https://localhost:8080/"
        },
        "id": "i4Pvld8_sWck",
        "outputId": "34e14414-f78f-4e69-9bba-62c62b87ce8f"
      },
      "source": [
        "data_x =torch.cat([stacked_zeros, \n",
        "                   stacked_ones,\n",
        "                   stacked_twos, \n",
        "                   stacked_threes,\n",
        "                   stacked_fours,\n",
        "                   stacked_fives,\n",
        "                   stacked_sixes,\n",
        "                   stacked_sevens,\n",
        "                   stacked_eights,\n",
        "                   stacked_nines])\n",
        "\n",
        "data_y = torch.cat([torch.tensor([0] * len(stacked_zeros)), \n",
        "                    torch.tensor([1] * len(stacked_ones)),\n",
        "                    torch.tensor([2] * len(stacked_twos)),\n",
        "                    torch.tensor([3] * len(stacked_threes)),\n",
        "                    torch.tensor([4] * len(stacked_fours)),\n",
        "                    torch.tensor([5] * len(stacked_fives)),\n",
        "                    torch.tensor([6] * len(stacked_sixes)),\n",
        "                    torch.tensor([7] * len(stacked_sevens)),\n",
        "                    torch.tensor([8] * len(stacked_eights)),\n",
        "                    torch.tensor([9] * len(stacked_nines))])#.unsqueeze(1)\n",
        "\n",
        "(data_x.shape, data_y.shape)"
      ],
      "execution_count": 96,
      "outputs": [
        {
          "output_type": "execute_result",
          "data": {
            "text/plain": [
              "(torch.Size([60000, 784]), torch.Size([60000]))"
            ]
          },
          "metadata": {},
          "execution_count": 96
        }
      ]
    },
    {
      "cell_type": "markdown",
      "metadata": {
        "id": "7IBfijk5_2Nl"
      },
      "source": [
        "**Note on unsqueeze(1).** In the \"basic_mnist_example\", we used a dimension of [60000, 1] that was obtained by using unsqueeze. However, when using softmax, this has resulted in issues..."
      ]
    },
    {
      "cell_type": "markdown",
      "metadata": {
        "id": "w1WojQDSzP1D"
      },
      "source": [
        "#### Divide training data into \"train\" and \"test\"\n",
        "\n",
        "In order to do it we are going to sample (without replacement) a number of integer values from 0 to 60000. Then select those data instances as the test data, and the rest of data instances as the training data.\n"
      ]
    },
    {
      "cell_type": "code",
      "metadata": {
        "colab": {
          "base_uri": "https://localhost:8080/"
        },
        "id": "6ad_XnY5wBWE",
        "outputId": "29375539-aabb-40ae-9bf6-fece9407c3e7"
      },
      "source": [
        "n_data = data_x.shape[0]\n",
        "n_test = 5000\n",
        "\n",
        "test_indices = np.random.choice(n_data, n_test, replace=False)\n",
        "test_mask = np.zeros(n_data, bool)\n",
        "test_mask[test_indices] = True\n",
        "\n",
        "test_data_x = data_x[test_mask]\n",
        "test_data_y = data_y[test_mask]\n",
        "\n",
        "train_data_x = data_x[~test_mask]\n",
        "train_data_y = data_y[~test_mask]\n",
        "\n",
        "print(train_data_x.shape, test_data_x.shape)\n",
        "print(train_data_y.shape, test_data_y.shape)"
      ],
      "execution_count": 97,
      "outputs": [
        {
          "output_type": "stream",
          "name": "stdout",
          "text": [
            "torch.Size([55000, 784]) torch.Size([5000, 784])\n",
            "torch.Size([55000]) torch.Size([5000])\n"
          ]
        }
      ]
    },
    {
      "cell_type": "markdown",
      "source": [
        "#### Generate the \"validation\" data from the remaining training data\n",
        "Identically to the test set, we are going to consider 5000 data instances\n",
        "\n"
      ],
      "metadata": {
        "id": "e3glOvvxjCc7"
      }
    },
    {
      "cell_type": "code",
      "source": [
        "n_data = train_data_x.shape[0]\n",
        "n_valid = 5000\n",
        "\n",
        "valid_indices = np.random.choice(n_data, n_valid, replace=False)\n",
        "valid_mask = np.zeros(n_data, bool)\n",
        "valid_mask[valid_indices] = True\n",
        "\n",
        "valid_data_x = train_data_x[valid_mask]\n",
        "valid_data_y = train_data_y[valid_mask]\n",
        "\n",
        "train_data_x = train_data_x[~valid_mask]\n",
        "train_data_y = train_data_y[~valid_mask]\n",
        "\n",
        "print(train_data_x.shape, valid_data_x.shape)\n",
        "print(train_data_y.shape, valid_data_y.shape)"
      ],
      "metadata": {
        "id": "F225QjtijS3C",
        "outputId": "b61aa6f5-31a2-4ca3-b423-dc7b45060b5f",
        "colab": {
          "base_uri": "https://localhost:8080/"
        }
      },
      "execution_count": 98,
      "outputs": [
        {
          "output_type": "stream",
          "name": "stdout",
          "text": [
            "torch.Size([50000, 784]) torch.Size([5000, 784])\n",
            "torch.Size([50000]) torch.Size([5000])\n"
          ]
        }
      ]
    },
    {
      "cell_type": "markdown",
      "metadata": {
        "id": "L0hED2zb1u1H"
      },
      "source": [
        "#### Create the DataLoaders object that will be used in training"
      ]
    },
    {
      "cell_type": "code",
      "metadata": {
        "id": "7QuNO_Ys1G3e"
      },
      "source": [
        "train_dset = list(zip(train_data_x, train_data_y))\n",
        "valid_dset = list(zip(valid_data_x, valid_data_y))\n",
        "test_dset = list(zip(test_data_x, test_data_y))"
      ],
      "execution_count": 99,
      "outputs": []
    },
    {
      "cell_type": "code",
      "metadata": {
        "colab": {
          "base_uri": "https://localhost:8080/"
        },
        "id": "wXblim3405Kg",
        "outputId": "d6684dbc-6767-4aa8-9438-c9b2f3902fc6"
      },
      "source": [
        "train_dl = DataLoader(train_dset, batch_size=256, shuffle=True)\n",
        "xb, yb = first(train_dl)\n",
        "print(xb.shape, yb.shape)\n",
        "\n",
        "valid_dl = DataLoader(valid_dset, batch_size=256, shuffle=True)\n",
        "xb, yb = first(valid_dl)\n",
        "print(xb.shape, yb.shape)\n",
        "\n",
        "test_dl = DataLoader(test_dset, batch_size=256,shuffle=True)\n",
        "xb, yb = first(test_dl)\n",
        "print(xb.shape, yb.shape)"
      ],
      "execution_count": 100,
      "outputs": [
        {
          "output_type": "stream",
          "name": "stdout",
          "text": [
            "torch.Size([256, 784]) torch.Size([256])\n",
            "torch.Size([256, 784]) torch.Size([256])\n",
            "torch.Size([256, 784]) torch.Size([256])\n"
          ]
        }
      ]
    },
    {
      "cell_type": "markdown",
      "metadata": {
        "id": "nMWkTFJYRXWY"
      },
      "source": [
        "## Model training\n",
        "\n",
        "#### Cross-entropy loss\n",
        "\n",
        "When using the cross-entropy loss, it is not necessary that we establish a softmax layer in the model because it will be implicitly called by Pytorch."
      ]
    },
    {
      "cell_type": "code",
      "metadata": {
        "id": "8CniehbmLxyz",
        "colab": {
          "base_uri": "https://localhost:8080/",
          "height": 540
        },
        "outputId": "1fe43830-c1d5-4e72-dc0c-ef3d6880e332"
      },
      "source": [
        "from fastai.metrics import accuracy\n",
        "\n",
        "lr = 1e-3\n",
        "dls = DataLoaders(train_dl, valid_dl)\n",
        "\n",
        "simple_net = nn.Sequential(\n",
        "    nn.Linear(28*28,30),\n",
        "    nn.ReLU(),\n",
        "    nn.Linear(30,10)\n",
        "    )\n",
        "\n",
        "learner_cel = Learner(dls, simple_net, opt_func=SGD, loss_func=nn.CrossEntropyLoss(), metrics=accuracy)\n",
        "learner_cel.fit(15, lr)"
      ],
      "execution_count": 101,
      "outputs": [
        {
          "output_type": "display_data",
          "data": {
            "text/html": [
              "<table border=\"1\" class=\"dataframe\">\n",
              "  <thead>\n",
              "    <tr style=\"text-align: left;\">\n",
              "      <th>epoch</th>\n",
              "      <th>train_loss</th>\n",
              "      <th>valid_loss</th>\n",
              "      <th>accuracy</th>\n",
              "      <th>time</th>\n",
              "    </tr>\n",
              "  </thead>\n",
              "  <tbody>\n",
              "    <tr>\n",
              "      <td>0</td>\n",
              "      <td>2.289698</td>\n",
              "      <td>2.282581</td>\n",
              "      <td>0.140000</td>\n",
              "      <td>00:01</td>\n",
              "    </tr>\n",
              "    <tr>\n",
              "      <td>1</td>\n",
              "      <td>2.263125</td>\n",
              "      <td>2.253633</td>\n",
              "      <td>0.188200</td>\n",
              "      <td>00:01</td>\n",
              "    </tr>\n",
              "    <tr>\n",
              "      <td>2</td>\n",
              "      <td>2.232080</td>\n",
              "      <td>2.222670</td>\n",
              "      <td>0.257800</td>\n",
              "      <td>00:01</td>\n",
              "    </tr>\n",
              "    <tr>\n",
              "      <td>3</td>\n",
              "      <td>2.198383</td>\n",
              "      <td>2.189448</td>\n",
              "      <td>0.319600</td>\n",
              "      <td>00:01</td>\n",
              "    </tr>\n",
              "    <tr>\n",
              "      <td>4</td>\n",
              "      <td>2.165480</td>\n",
              "      <td>2.153999</td>\n",
              "      <td>0.376400</td>\n",
              "      <td>00:02</td>\n",
              "    </tr>\n",
              "    <tr>\n",
              "      <td>5</td>\n",
              "      <td>2.128743</td>\n",
              "      <td>2.116166</td>\n",
              "      <td>0.425000</td>\n",
              "      <td>00:02</td>\n",
              "    </tr>\n",
              "    <tr>\n",
              "      <td>6</td>\n",
              "      <td>2.088301</td>\n",
              "      <td>2.075546</td>\n",
              "      <td>0.473400</td>\n",
              "      <td>00:02</td>\n",
              "    </tr>\n",
              "    <tr>\n",
              "      <td>7</td>\n",
              "      <td>2.044775</td>\n",
              "      <td>2.031604</td>\n",
              "      <td>0.518000</td>\n",
              "      <td>00:01</td>\n",
              "    </tr>\n",
              "    <tr>\n",
              "      <td>8</td>\n",
              "      <td>1.998031</td>\n",
              "      <td>1.984089</td>\n",
              "      <td>0.549600</td>\n",
              "      <td>00:02</td>\n",
              "    </tr>\n",
              "    <tr>\n",
              "      <td>9</td>\n",
              "      <td>1.950197</td>\n",
              "      <td>1.932628</td>\n",
              "      <td>0.580400</td>\n",
              "      <td>00:02</td>\n",
              "    </tr>\n",
              "    <tr>\n",
              "      <td>10</td>\n",
              "      <td>1.899093</td>\n",
              "      <td>1.877931</td>\n",
              "      <td>0.616000</td>\n",
              "      <td>00:01</td>\n",
              "    </tr>\n",
              "    <tr>\n",
              "      <td>11</td>\n",
              "      <td>1.837456</td>\n",
              "      <td>1.820703</td>\n",
              "      <td>0.645000</td>\n",
              "      <td>00:01</td>\n",
              "    </tr>\n",
              "    <tr>\n",
              "      <td>12</td>\n",
              "      <td>1.783901</td>\n",
              "      <td>1.761737</td>\n",
              "      <td>0.669000</td>\n",
              "      <td>00:01</td>\n",
              "    </tr>\n",
              "    <tr>\n",
              "      <td>13</td>\n",
              "      <td>1.723515</td>\n",
              "      <td>1.701639</td>\n",
              "      <td>0.689000</td>\n",
              "      <td>00:01</td>\n",
              "    </tr>\n",
              "    <tr>\n",
              "      <td>14</td>\n",
              "      <td>1.663377</td>\n",
              "      <td>1.641044</td>\n",
              "      <td>0.702800</td>\n",
              "      <td>00:01</td>\n",
              "    </tr>\n",
              "  </tbody>\n",
              "</table>"
            ],
            "text/plain": [
              "<IPython.core.display.HTML object>"
            ]
          },
          "metadata": {}
        }
      ]
    },
    {
      "cell_type": "markdown",
      "metadata": {
        "id": "zhaUhPn1BTnd"
      },
      "source": [
        "#### Negative log-likelihood loss\n",
        "\n",
        "When using the NLL loss, it is necessarty that we establish a LogSoftmax layer at the end of the model."
      ]
    },
    {
      "cell_type": "code",
      "metadata": {
        "colab": {
          "base_uri": "https://localhost:8080/",
          "height": 540
        },
        "id": "vGih0x4lAjBl",
        "outputId": "e443a00b-1c18-4495-b788-54ccd54e9547"
      },
      "source": [
        "from fastai.metrics import accuracy\n",
        "\n",
        "lr = 1e-3\n",
        "dls = DataLoaders(train_dl, valid_dl)\n",
        "\n",
        "simple_net = nn.Sequential(\n",
        "    nn.Linear(28*28,30),\n",
        "    nn.ReLU(),\n",
        "    nn.Linear(30,10),\n",
        "    nn.LogSoftmax(dim=1)\n",
        "    )\n",
        "\n",
        "learner_nll = Learner(dls, simple_net, opt_func=SGD, loss_func=nn.NLLLoss(), metrics=accuracy)\n",
        "learner_nll.fit(15, lr)"
      ],
      "execution_count": 102,
      "outputs": [
        {
          "output_type": "display_data",
          "data": {
            "text/html": [
              "<table border=\"1\" class=\"dataframe\">\n",
              "  <thead>\n",
              "    <tr style=\"text-align: left;\">\n",
              "      <th>epoch</th>\n",
              "      <th>train_loss</th>\n",
              "      <th>valid_loss</th>\n",
              "      <th>accuracy</th>\n",
              "      <th>time</th>\n",
              "    </tr>\n",
              "  </thead>\n",
              "  <tbody>\n",
              "    <tr>\n",
              "      <td>0</td>\n",
              "      <td>2.292419</td>\n",
              "      <td>2.284858</td>\n",
              "      <td>0.109400</td>\n",
              "      <td>00:01</td>\n",
              "    </tr>\n",
              "    <tr>\n",
              "      <td>1</td>\n",
              "      <td>2.266192</td>\n",
              "      <td>2.256319</td>\n",
              "      <td>0.129200</td>\n",
              "      <td>00:01</td>\n",
              "    </tr>\n",
              "    <tr>\n",
              "      <td>2</td>\n",
              "      <td>2.236959</td>\n",
              "      <td>2.227057</td>\n",
              "      <td>0.145400</td>\n",
              "      <td>00:01</td>\n",
              "    </tr>\n",
              "    <tr>\n",
              "      <td>3</td>\n",
              "      <td>2.205510</td>\n",
              "      <td>2.195507</td>\n",
              "      <td>0.158000</td>\n",
              "      <td>00:01</td>\n",
              "    </tr>\n",
              "    <tr>\n",
              "      <td>4</td>\n",
              "      <td>2.171205</td>\n",
              "      <td>2.161213</td>\n",
              "      <td>0.175800</td>\n",
              "      <td>00:01</td>\n",
              "    </tr>\n",
              "    <tr>\n",
              "      <td>5</td>\n",
              "      <td>2.135176</td>\n",
              "      <td>2.124203</td>\n",
              "      <td>0.217200</td>\n",
              "      <td>00:01</td>\n",
              "    </tr>\n",
              "    <tr>\n",
              "      <td>6</td>\n",
              "      <td>2.096892</td>\n",
              "      <td>2.084690</td>\n",
              "      <td>0.294400</td>\n",
              "      <td>00:01</td>\n",
              "    </tr>\n",
              "    <tr>\n",
              "      <td>7</td>\n",
              "      <td>2.056328</td>\n",
              "      <td>2.042446</td>\n",
              "      <td>0.415800</td>\n",
              "      <td>00:01</td>\n",
              "    </tr>\n",
              "    <tr>\n",
              "      <td>8</td>\n",
              "      <td>2.010523</td>\n",
              "      <td>1.997198</td>\n",
              "      <td>0.518200</td>\n",
              "      <td>00:01</td>\n",
              "    </tr>\n",
              "    <tr>\n",
              "      <td>9</td>\n",
              "      <td>1.963500</td>\n",
              "      <td>1.948725</td>\n",
              "      <td>0.589000</td>\n",
              "      <td>00:01</td>\n",
              "    </tr>\n",
              "    <tr>\n",
              "      <td>10</td>\n",
              "      <td>1.914087</td>\n",
              "      <td>1.896993</td>\n",
              "      <td>0.638800</td>\n",
              "      <td>00:01</td>\n",
              "    </tr>\n",
              "    <tr>\n",
              "      <td>11</td>\n",
              "      <td>1.860524</td>\n",
              "      <td>1.842126</td>\n",
              "      <td>0.679600</td>\n",
              "      <td>00:01</td>\n",
              "    </tr>\n",
              "    <tr>\n",
              "      <td>12</td>\n",
              "      <td>1.801457</td>\n",
              "      <td>1.784590</td>\n",
              "      <td>0.706000</td>\n",
              "      <td>00:01</td>\n",
              "    </tr>\n",
              "    <tr>\n",
              "      <td>13</td>\n",
              "      <td>1.746324</td>\n",
              "      <td>1.725121</td>\n",
              "      <td>0.722200</td>\n",
              "      <td>00:01</td>\n",
              "    </tr>\n",
              "    <tr>\n",
              "      <td>14</td>\n",
              "      <td>1.686182</td>\n",
              "      <td>1.664429</td>\n",
              "      <td>0.738000</td>\n",
              "      <td>00:01</td>\n",
              "    </tr>\n",
              "  </tbody>\n",
              "</table>"
            ],
            "text/plain": [
              "<IPython.core.display.HTML object>"
            ]
          },
          "metadata": {}
        }
      ]
    },
    {
      "cell_type": "markdown",
      "source": [
        "## Inference"
      ],
      "metadata": {
        "id": "kK7_ye_olWsa"
      }
    },
    {
      "cell_type": "markdown",
      "source": [
        "#### `get_preds`\n",
        "\n",
        "This function expects the data to be already preprocessed"
      ],
      "metadata": {
        "id": "QUiKEOhVnIZy"
      }
    },
    {
      "cell_type": "markdown",
      "source": [
        "##### All data"
      ],
      "metadata": {
        "id": "LFV5NocNSaV7"
      }
    },
    {
      "cell_type": "code",
      "source": [
        "from sklearn.metrics import accuracy_score\n",
        "\n",
        "preds, _ = learner_nll.get_preds(dl=test_dl) # We could use any of the models\n",
        "print(preds.shape)\n",
        "y_pred = torch.softmax(preds, dim=1)\n",
        "y_pred = torch.argmax(y_pred, dim=1)\n",
        "print(y_pred.shape)\n",
        "print(test_data_y.shape)\n",
        "\n",
        "accuracy_score(y_pred.numpy(), test_data_y.numpy())"
      ],
      "metadata": {
        "id": "_gJUAA3xlVub",
        "outputId": "449bcdd1-6880-4c2b-c92c-6da78c81b7e7",
        "colab": {
          "base_uri": "https://localhost:8080/",
          "height": 92
        }
      },
      "execution_count": 103,
      "outputs": [
        {
          "output_type": "display_data",
          "data": {
            "text/html": [
              ""
            ],
            "text/plain": [
              "<IPython.core.display.HTML object>"
            ]
          },
          "metadata": {}
        },
        {
          "output_type": "stream",
          "name": "stdout",
          "text": [
            "torch.Size([5000, 10])\n",
            "torch.Size([5000])\n",
            "torch.Size([5000])\n"
          ]
        },
        {
          "output_type": "execute_result",
          "data": {
            "text/plain": [
              "0.7178"
            ]
          },
          "metadata": {},
          "execution_count": 103
        }
      ]
    },
    {
      "cell_type": "markdown",
      "source": [
        "##### single batch"
      ],
      "metadata": {
        "id": "82j0VtuI1671"
      }
    },
    {
      "cell_type": "code",
      "source": [
        "test_x, test_y = first(test_dl)\n",
        "preds, _ = learner_nll.get_preds(dl=[(test_x, test_y)])\n",
        "preds.shape"
      ],
      "metadata": {
        "id": "-CjM8Gzg0612",
        "outputId": "d879e6eb-fd87-4447-e5c7-58d51a48c8aa",
        "colab": {
          "base_uri": "https://localhost:8080/",
          "height": 36
        }
      },
      "execution_count": 104,
      "outputs": [
        {
          "output_type": "display_data",
          "data": {
            "text/html": [
              ""
            ],
            "text/plain": [
              "<IPython.core.display.HTML object>"
            ]
          },
          "metadata": {}
        },
        {
          "output_type": "execute_result",
          "data": {
            "text/plain": [
              "torch.Size([256, 10])"
            ]
          },
          "metadata": {},
          "execution_count": 104
        }
      ]
    },
    {
      "cell_type": "markdown",
      "source": [
        "##### multiple batches"
      ],
      "metadata": {
        "id": "bZ7UXg9lU3J0"
      }
    },
    {
      "cell_type": "code",
      "source": [
        "test_x, test_y = first(test_dl)\n",
        "preds, _ = learner_nll.get_preds(dl=[(test_x, test_y), (test_x, test_y)])\n",
        "\n",
        "print(test_x.shape)\n",
        "print(test_y.shape)\n",
        "print(preds.shape)"
      ],
      "metadata": {
        "id": "BRDD_PAwU7l9",
        "outputId": "3ccc058d-4504-4a25-dc2e-209c98d0fad0",
        "colab": {
          "base_uri": "https://localhost:8080/",
          "height": 73
        }
      },
      "execution_count": 105,
      "outputs": [
        {
          "output_type": "display_data",
          "data": {
            "text/html": [
              ""
            ],
            "text/plain": [
              "<IPython.core.display.HTML object>"
            ]
          },
          "metadata": {}
        },
        {
          "output_type": "stream",
          "name": "stdout",
          "text": [
            "torch.Size([256, 784])\n",
            "torch.Size([256])\n",
            "torch.Size([512, 10])\n"
          ]
        }
      ]
    },
    {
      "cell_type": "markdown",
      "source": [
        "##### multiple data instances"
      ],
      "metadata": {
        "id": "ALErnRtF2BYW"
      }
    },
    {
      "cell_type": "code",
      "source": [
        "indexes = range(0,2)\n",
        "test_x = test_data_x[indexes]\n",
        "test_y = test_data_y[indexes]\n",
        "\n",
        "preds, _ = learner_nll.get_preds(dl=[(test_x, test_y)])\n",
        "print(test_x.shape)\n",
        "print(test_y.shape)\n",
        "print(preds.shape)"
      ],
      "metadata": {
        "id": "dOSjZ7X0U8AX",
        "outputId": "9b43c1c3-8832-4735-9c4e-3cb98b7582b7",
        "colab": {
          "base_uri": "https://localhost:8080/",
          "height": 73
        }
      },
      "execution_count": 106,
      "outputs": [
        {
          "output_type": "display_data",
          "data": {
            "text/html": [
              ""
            ],
            "text/plain": [
              "<IPython.core.display.HTML object>"
            ]
          },
          "metadata": {}
        },
        {
          "output_type": "stream",
          "name": "stdout",
          "text": [
            "torch.Size([2, 784])\n",
            "torch.Size([2])\n",
            "torch.Size([2, 10])\n"
          ]
        }
      ]
    },
    {
      "cell_type": "markdown",
      "source": [
        "##### single data instance"
      ],
      "metadata": {
        "id": "LIU2nSBjbiqd"
      }
    },
    {
      "cell_type": "code",
      "source": [
        "index = 0\n",
        "test_x = test_data_x[index].unsqueeze(1).t()\n",
        "test_y = torch.tensor([test_data_y[index]]) # Little trick to make the tensor size 1\n",
        "\n",
        "preds, _ = learner_nll.get_preds(dl=[(test_x, test_y)])\n",
        "print(test_x.shape)\n",
        "print(test_y.shape)\n",
        "print(preds.shape)"
      ],
      "metadata": {
        "id": "m3RF8kXpblZN",
        "outputId": "856a758e-308e-4c0d-aa09-391990c23b0d",
        "colab": {
          "base_uri": "https://localhost:8080/",
          "height": 73
        }
      },
      "execution_count": 107,
      "outputs": [
        {
          "output_type": "display_data",
          "data": {
            "text/html": [
              ""
            ],
            "text/plain": [
              "<IPython.core.display.HTML object>"
            ]
          },
          "metadata": {}
        },
        {
          "output_type": "stream",
          "name": "stdout",
          "text": [
            "torch.Size([1, 784])\n",
            "torch.Size([1])\n",
            "torch.Size([1, 10])\n"
          ]
        }
      ]
    },
    {
      "cell_type": "markdown",
      "metadata": {
        "id": "710TokyaIAdT"
      },
      "source": [
        "## Model interpretation\n",
        "\n",
        "We consider `learner_nll`, but we could use `learner_cen` instead"
      ]
    },
    {
      "cell_type": "markdown",
      "source": [
        "#### Validation data"
      ],
      "metadata": {
        "id": "sgnB7sOqlfgs"
      }
    },
    {
      "cell_type": "code",
      "metadata": {
        "colab": {
          "base_uri": "https://localhost:8080/",
          "height": 505
        },
        "id": "5-PmJFyzIYMC",
        "outputId": "b185f58a-edc3-448c-cc4b-5257e12288bf"
      },
      "source": [
        "from sklearn.metrics import confusion_matrix, accuracy_score\n",
        "import matplotlib.pyplot as plt\n",
        "import seaborn as sns\n",
        "\n",
        "# preds -> predictions from the model on the validation data\n",
        "# y     -> true labels of the validation data\n",
        "preds,y = learner_nll.get_preds() \n",
        "y_pred = torch.softmax(preds, dim=1)\n",
        "y_pred = torch.argmax(y_pred, dim=1)\n",
        "conf_matrix = confusion_matrix(y.numpy(), y_pred.numpy())\n",
        "\n",
        "# Set Figure\n",
        "fig = plt.figure(figsize=(12, 8))\n",
        "sns.heatmap(conf_matrix, annot=True, cmap=\"Blues\", fmt='g')\n",
        "\n",
        "plt.show()\n",
        "\n",
        "print(accuracy_score(y_pred.numpy(), y.numpy()))"
      ],
      "execution_count": 108,
      "outputs": [
        {
          "output_type": "display_data",
          "data": {
            "text/html": [
              ""
            ],
            "text/plain": [
              "<IPython.core.display.HTML object>"
            ]
          },
          "metadata": {}
        },
        {
          "output_type": "display_data",
          "data": {
            "image/png": "[encoded data removed]",
            "text/plain": [
              "<Figure size 864x576 with 2 Axes>"
            ]
          },
          "metadata": {
            "needs_background": "light"
          }
        },
        {
          "output_type": "stream",
          "name": "stdout",
          "text": [
            "0.738\n"
          ]
        }
      ]
    },
    {
      "cell_type": "markdown",
      "source": [
        "#### Test data"
      ],
      "metadata": {
        "id": "KepVXQx7e2Es"
      }
    },
    {
      "cell_type": "code",
      "source": [
        "from sklearn.metrics import confusion_matrix, accuracy_score\n",
        "import matplotlib.pyplot as plt\n",
        "import seaborn as sns\n",
        "\n",
        "# preds -> predictions from the model on the validation data\n",
        "# y     -> true labels of the validation data\n",
        "preds,y = learner_nll.get_preds(dl=test_dl) \n",
        "y_pred = torch.softmax(preds, dim=1)\n",
        "y_pred = torch.argmax(y_pred, dim=1)\n",
        "conf_matrix = confusion_matrix(y.numpy(), y_pred.numpy())\n",
        "\n",
        "# Set Figure\n",
        "fig = plt.figure(figsize=(12, 8))\n",
        "sns.heatmap(conf_matrix, annot=True, cmap=\"Blues\", fmt='g')\n",
        "\n",
        "plt.show()\n",
        "\n",
        "print(accuracy_score(y_pred.numpy(), y.numpy()))"
      ],
      "metadata": {
        "id": "hbJf53Moe4MU",
        "outputId": "c68eb10b-90a8-4753-aca9-4105103f0368",
        "colab": {
          "base_uri": "https://localhost:8080/",
          "height": 505
        }
      },
      "execution_count": 109,
      "outputs": [
        {
          "output_type": "display_data",
          "data": {
            "text/html": [
              ""
            ],
            "text/plain": [
              "<IPython.core.display.HTML object>"
            ]
          },
          "metadata": {}
        },
        {
          "output_type": "display_data",
          "data": {
            "image/png": "[encoded data removed]",
            "text/plain": [
              "<Figure size 864x576 with 2 Axes>"
            ]
          },
          "metadata": {
            "needs_background": "light"
          }
        },
        {
          "output_type": "stream",
          "name": "stdout",
          "text": [
            "0.7178\n"
          ]
        }
      ]
    },
    {
      "cell_type": "markdown",
      "metadata": {
        "id": "cOc6jJcawMN7"
      },
      "source": [
        "## Extra: Learning rate finder"
      ]
    },
    {
      "cell_type": "code",
      "metadata": {
        "id": "I8QbpUTHwM1T",
        "outputId": "b5cf04c2-cd9f-4094-ae99-7d2796815c87",
        "colab": {
          "base_uri": "https://localhost:8080/",
          "height": 308
        }
      },
      "source": [
        "learner_nll.lr_find()"
      ],
      "execution_count": 110,
      "outputs": [
        {
          "output_type": "display_data",
          "data": {
            "text/html": [
              ""
            ],
            "text/plain": [
              "<IPython.core.display.HTML object>"
            ]
          },
          "metadata": {}
        },
        {
          "output_type": "execute_result",
          "data": {
            "text/plain": [
              "SuggestedLRs(valley=0.019054606556892395)"
            ]
          },
          "metadata": {},
          "execution_count": 110
        },
        {
          "output_type": "display_data",
          "data": {
            "image/png": "[encoded data removed]",
            "text/plain": [
              "<Figure size 432x288 with 1 Axes>"
            ]
          },
          "metadata": {
            "needs_background": "light"
          }
        }
      ]
    },
    {
      "cell_type": "markdown",
      "source": [
        "## Extra: Inference with CNN Learner\n",
        "\n",
        "This mini-example is to show that predict acts differently on a self-made learner and one of fastAI learners. In this case, it expects a path, and internally applies all of the required transformations. It is probably like this due to `ImageDataLoader`\n",
        "\n",
        "Learner is different from `cnn_learner`. It seems that a sequential learner expects a tensor but a cnn_learner can handle a images directly (\n",
        "<a href=\"https://muellerzr.github.io/fastinference/inference/#Learner.predict\">FastAI documentation </a>).\n",
        "\n",
        "**Example:**"
      ],
      "metadata": {
        "id": "sYxGMq8BwkXF"
      }
    },
    {
      "cell_type": "code",
      "source": [
        "path = untar_data(URLs.PETS)\n",
        "fnames = get_image_files(path/'images')\n",
        "pat = r'(.+)_\\d+.jpg$'\n",
        "batch_tfms = [*aug_transforms(size=224, max_warp=0), Normalize.from_stats(*imagenet_stats)]\n",
        "item_tfms = RandomResizedCrop(460, min_scale=0.75, ratio=(1.,1.))\n",
        "bs=64\n",
        "\n",
        "dls = ImageDataLoaders.from_name_re(path, fnames, pat, batch_tfms=batch_tfms, \n",
        "                                   item_tfms=item_tfms, bs=bs)\n",
        "\n",
        "learn = cnn_learner(dls, resnet18, metrics=accuracy)\n",
        "\n",
        "o = learn.predict(fnames[0], with_input=False)\n",
        "o"
      ],
      "metadata": {
        "id": "he9HFYobxJWF",
        "outputId": "7e14675b-88f8-4063-f960-8652d11d849d",
        "colab": {
          "base_uri": "https://localhost:8080/",
          "height": 131
        }
      },
      "execution_count": 111,
      "outputs": [
        {
          "output_type": "display_data",
          "data": {
            "text/html": [
              ""
            ],
            "text/plain": [
              "<IPython.core.display.HTML object>"
            ]
          },
          "metadata": {}
        },
        {
          "output_type": "execute_result",
          "data": {
            "text/plain": [
              "('Persian',\n",
              " TensorBase(7),\n",
              " TensorBase([2.3357e-06, 3.5943e-08, 8.1706e-04, 1.6442e-03, 1.8831e-03, 5.5561e-08, 1.4422e-07, 9.6972e-01, 2.7723e-05, 1.0038e-06, 4.3018e-07, 1.8218e-02, 4.9930e-07, 3.3898e-03, 4.4042e-06, 5.3617e-06,\n",
              "         1.3067e-07, 4.5116e-05, 1.9314e-05, 1.7459e-06, 1.1442e-09, 1.2377e-06, 4.1461e-03, 3.9803e-09, 1.4345e-08, 4.0935e-08, 1.4509e-06, 1.3102e-05, 3.3311e-07, 2.7280e-06, 4.9759e-06, 6.3436e-06,\n",
              "         4.2681e-05, 8.4882e-09, 2.4624e-06, 8.7002e-08, 2.0216e-07]))"
            ]
          },
          "metadata": {},
          "execution_count": 111
        }
      ]
    },
    {
      "cell_type": "code",
      "source": [
        "Image.open(fnames[0])"
      ],
      "metadata": {
        "id": "zN3pLsMcz-n9",
        "outputId": "fbf3019a-c8e4-4548-bc1b-957d44027ea3",
        "colab": {
          "base_uri": "https://localhost:8080/",
          "height": 317
        }
      },
      "execution_count": 112,
      "outputs": [
        {
          "output_type": "execute_result",
          "data": {
            "image/png": "[encoded data removed]",
            "text/plain": [
              "<PIL.JpegImagePlugin.JpegImageFile image mode=RGB size=214x300 at 0x7FD2FD8D5990>"
            ]
          },
          "metadata": {},
          "execution_count": 112
        }
      ]
    }
  ]
}