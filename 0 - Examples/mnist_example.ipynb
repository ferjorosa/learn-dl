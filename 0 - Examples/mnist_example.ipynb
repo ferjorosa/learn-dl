{
  "nbformat": 4,
  "nbformat_minor": 0,
  "metadata": {
    "colab": {
      "name": "Untitled5.ipynb",
      "provenance": [],
      "collapsed_sections": [],
      "authorship_tag": "ABX9TyO2VXGuhTioNj2FVVJUeelc",
      "include_colab_link": true
    },
    "kernelspec": {
      "name": "python3",
      "display_name": "Python 3"
    },
    "language_info": {
      "name": "python"
    }
  },
  "cells": [
    {
      "cell_type": "markdown",
      "metadata": {
        "id": "view-in-github",
        "colab_type": "text"
      },
      "source": [
        "<a href=\"https://colab.research.google.com/github/ferjorosa/learn-fastai/blob/main/mnist_example.ipynb\" target=\"_parent\"><img src=\"https://colab.research.google.com/assets/colab-badge.svg\" alt=\"Open In Colab\"/></a>"
      ]
    },
    {
      "cell_type": "markdown",
      "metadata": {
        "id": "WuhrF6LdzSmS"
      },
      "source": [
        "# MNIST example"
      ]
    },
    {
      "cell_type": "markdown",
      "metadata": {
        "id": "-INgLlAWzYpC"
      },
      "source": [
        "## Imports"
      ]
    },
    {
      "cell_type": "code",
      "metadata": {
        "colab": {
          "base_uri": "https://localhost:8080/"
        },
        "id": "4q9s78VdcjKW",
        "outputId": "7d477664-b54c-4f9d-e452-4fc26a8e91bb"
      },
      "source": [
        "#hide (Google Colab)\n",
        "!pip install fastai --upgrade -q\n",
        "import fastai\n",
        "print(fastai.__version__)\n",
        "\n",
        "!pip install -Uqq fastbook\n",
        "import fastbook\n",
        "fastbook.setup_book()"
      ],
      "execution_count": 1,
      "outputs": [
        {
          "output_type": "stream",
          "name": "stdout",
          "text": [
            "\u001b[K     |████████████████████████████████| 189 kB 5.1 MB/s \n",
            "\u001b[K     |████████████████████████████████| 56 kB 4.0 MB/s \n",
            "\u001b[?25h2.5.3\n",
            "\u001b[K     |████████████████████████████████| 720 kB 5.0 MB/s \n",
            "\u001b[K     |████████████████████████████████| 46 kB 4.0 MB/s \n",
            "\u001b[K     |████████████████████████████████| 1.2 MB 44.4 MB/s \n",
            "\u001b[K     |████████████████████████████████| 51 kB 273 kB/s \n",
            "\u001b[?25hMounted at /content/gdrive\n"
          ]
        }
      ]
    },
    {
      "cell_type": "code",
      "metadata": {
        "id": "2R3mXXIgdNPf"
      },
      "source": [
        "#hide\n",
        "from fastai.vision.all import *\n",
        "from fastbook import *\n",
        "\n",
        "matplotlib.rc('image', cmap='Greys')"
      ],
      "execution_count": 2,
      "outputs": []
    },
    {
      "cell_type": "markdown",
      "metadata": {
        "id": "PcZNNzkjzb6k"
      },
      "source": [
        "## Data"
      ]
    },
    {
      "cell_type": "code",
      "metadata": {
        "id": "wYXcTIyhcs3p",
        "colab": {
          "base_uri": "https://localhost:8080/",
          "height": 37
        },
        "outputId": "42687b4a-eed8-46fe-d44a-7a28aaff117d"
      },
      "source": [
        "path = untar_data(URLs.MNIST)\n",
        "\n",
        "zeros = (path/\"training\"/\"0\").ls().sorted()\n",
        "ones = (path/\"training\"/\"1\").ls().sorted()\n",
        "twos = (path/\"training\"/\"2\").ls().sorted()\n",
        "threes = (path/\"training\"/\"3\").ls().sorted()\n",
        "fours = (path/\"training\"/\"4\").ls().sorted()\n",
        "fives = (path/\"training\"/\"5\").ls().sorted()\n",
        "sixes = (path/\"training\"/\"6\").ls().sorted()\n",
        "sevens = (path/\"training\"/\"7\").ls().sorted()\n",
        "eights = (path/\"training\"/\"8\").ls().sorted()\n",
        "nines = (path/\"training\"/\"9\").ls().sorted()"
      ],
      "execution_count": 3,
      "outputs": [
        {
          "output_type": "display_data",
          "data": {
            "text/html": [
              "\n",
              "    <div>\n",
              "        <style>\n",
              "            /* Turns off some styling */\n",
              "            progress {\n",
              "                /* gets rid of default border in Firefox and Opera. */\n",
              "                border: none;\n",
              "                /* Needs to be in here for Safari polyfill so background images work as expected. */\n",
              "                background-size: auto;\n",
              "            }\n",
              "            .progress-bar-interrupted, .progress-bar-interrupted::-webkit-progress-bar {\n",
              "                background: #F44336;\n",
              "            }\n",
              "        </style>\n",
              "      <progress value='15687680' class='' max='15683414' style='width:300px; height:20px; vertical-align: middle;'></progress>\n",
              "      100.03% [15687680/15683414 00:00<00:00]\n",
              "    </div>\n",
              "    "
            ],
            "text/plain": [
              "<IPython.core.display.HTML object>"
            ]
          },
          "metadata": {}
        }
      ]
    },
    {
      "cell_type": "code",
      "metadata": {
        "id": "ongT38p7eShw"
      },
      "source": [
        "zero_tensors = [tensor(Image.open(o)) for o in zeros]\n",
        "one_tensors = [tensor(Image.open(o)) for o in ones]\n",
        "two_tensors = [tensor(Image.open(o)) for o in twos]\n",
        "three_tensors = [tensor(Image.open(o)) for o in threes]\n",
        "four_tensors = [tensor(Image.open(o)) for o in fours]\n",
        "five_tensors = [tensor(Image.open(o)) for o in fives]\n",
        "six_tensors = [tensor(Image.open(o)) for o in sixes]\n",
        "seven_tensors = [tensor(Image.open(o)) for o in sevens]\n",
        "eight_tensors = [tensor(Image.open(o)) for o in eights]\n",
        "nine_tensors = [tensor(Image.open(o)) for o in nines]"
      ],
      "execution_count": 4,
      "outputs": []
    },
    {
      "cell_type": "code",
      "metadata": {
        "colab": {
          "base_uri": "https://localhost:8080/",
          "height": 102
        },
        "id": "0bSjyyqkqG4V",
        "outputId": "4905e38c-aff1-4610-f9d3-ba125939440a"
      },
      "source": [
        "show_image(nine_tensors[2])"
      ],
      "execution_count": 5,
      "outputs": [
        {
          "output_type": "execute_result",
          "data": {
            "text/plain": [
              "<matplotlib.axes._subplots.AxesSubplot at 0x7f4adb3e4f10>"
            ]
          },
          "metadata": {},
          "execution_count": 5
        },
        {
          "output_type": "display_data",
          "data": {
            "image/png": "[encoded data removed]",
            "text/plain": [
              "<Figure size 72x72 with 1 Axes>"
            ]
          },
          "metadata": {
            "needs_background": "light"
          }
        }
      ]
    },
    {
      "cell_type": "code",
      "metadata": {
        "colab": {
          "base_uri": "https://localhost:8080/"
        },
        "id": "kxJYtdh9uIb0",
        "outputId": "ddbf380e-9f2f-415e-84e3-dc0092357796"
      },
      "source": [
        "nine_tensors[0].shape[0]"
      ],
      "execution_count": 6,
      "outputs": [
        {
          "output_type": "execute_result",
          "data": {
            "text/plain": [
              "28"
            ]
          },
          "metadata": {},
          "execution_count": 6
        }
      ]
    },
    {
      "cell_type": "code",
      "metadata": {
        "colab": {
          "base_uri": "https://localhost:8080/"
        },
        "id": "ei9qerj-qiQm",
        "outputId": "79f1ec5e-64c8-406a-9211-0a1cd0a6b4a6"
      },
      "source": [
        "img_dim = nine_tensors[0].shape[0]**2\n",
        "\n",
        "stacked_zeros = torch.stack(zero_tensors).view(-1, img_dim).float()/255\n",
        "stacked_ones = torch.stack(one_tensors).view(-1, img_dim).float()/255\n",
        "stacked_twos = torch.stack(two_tensors).view(-1, img_dim).float()/255\n",
        "stacked_threes = torch.stack(three_tensors).view(-1, img_dim).float()/255\n",
        "stacked_fours = torch.stack(four_tensors).view(-1, img_dim).float()/255\n",
        "stacked_fives = torch.stack(five_tensors).view(-1, img_dim).float()/255\n",
        "stacked_sixes = torch.stack(six_tensors).view(-1, img_dim).float()/255\n",
        "stacked_sevens = torch.stack(seven_tensors).view(-1, img_dim).float()/255\n",
        "stacked_eights = torch.stack(eight_tensors).view(-1, img_dim).float()/255\n",
        "stacked_nines = torch.stack(nine_tensors).view(-1, img_dim).float()/255\n",
        "\n",
        "stacked_eights.shape"
      ],
      "execution_count": 7,
      "outputs": [
        {
          "output_type": "execute_result",
          "data": {
            "text/plain": [
              "torch.Size([5851, 784])"
            ]
          },
          "metadata": {},
          "execution_count": 7
        }
      ]
    },
    {
      "cell_type": "code",
      "metadata": {
        "colab": {
          "base_uri": "https://localhost:8080/"
        },
        "id": "i4Pvld8_sWck",
        "outputId": "fb249922-998a-452e-82e4-6d847787677a"
      },
      "source": [
        "data_x =torch.cat([stacked_zeros, \n",
        "                   stacked_ones,\n",
        "                   stacked_twos, \n",
        "                   stacked_threes,\n",
        "                   stacked_fours,\n",
        "                   stacked_fives,\n",
        "                   stacked_sixes,\n",
        "                   stacked_sevens,\n",
        "                   stacked_eights,\n",
        "                   stacked_nines])\n",
        "\n",
        "data_y = torch.cat([torch.tensor([0] * len(stacked_zeros)), \n",
        "                    torch.tensor([1] * len(stacked_ones)),\n",
        "                    torch.tensor([2] * len(stacked_twos)),\n",
        "                    torch.tensor([3] * len(stacked_threes)),\n",
        "                    torch.tensor([4] * len(stacked_fours)),\n",
        "                    torch.tensor([5] * len(stacked_fives)),\n",
        "                    torch.tensor([6] * len(stacked_sixes)),\n",
        "                    torch.tensor([7] * len(stacked_sevens)),\n",
        "                    torch.tensor([8] * len(stacked_eights)),\n",
        "                    torch.tensor([9] * len(stacked_nines))])#.unsqueeze(1)\n",
        "\n",
        "(data_x.shape, data_y.shape)"
      ],
      "execution_count": 8,
      "outputs": [
        {
          "output_type": "execute_result",
          "data": {
            "text/plain": [
              "(torch.Size([60000, 784]), torch.Size([60000]))"
            ]
          },
          "metadata": {},
          "execution_count": 8
        }
      ]
    },
    {
      "cell_type": "markdown",
      "metadata": {
        "id": "7IBfijk5_2Nl"
      },
      "source": [
        "**Note on unsqueeze(1).** In the \"basic_mnist_example\", we used a dimension of [60000, 1] that was obtained by using unsqueeze. However, when using softmax, this has resulted in issues..."
      ]
    },
    {
      "cell_type": "markdown",
      "metadata": {
        "id": "w1WojQDSzP1D"
      },
      "source": [
        "#### Divide training data into \"train\" and \"validation\"\n",
        "\n",
        "In order to do it we are going to sample (without replacement) a number of integer values from 0 to 60000. Then select those data instances as the validation data, and the rest of data instances as the training data.\n"
      ]
    },
    {
      "cell_type": "code",
      "metadata": {
        "colab": {
          "base_uri": "https://localhost:8080/"
        },
        "id": "6ad_XnY5wBWE",
        "outputId": "8afbbe75-68c4-445a-dd9e-c23220ea79ab"
      },
      "source": [
        "n_data = data_x.shape[0]\n",
        "n_valid = 5000\n",
        "\n",
        "valid_indices = np.random.choice(n_data, n_valid, replace=False)\n",
        "valid_mask = np.zeros(n_data, bool)\n",
        "valid_mask[valid_indices] = True\n",
        "\n",
        "valid_data_x = data_x[valid_mask]\n",
        "valid_data_y = data_y[valid_mask]\n",
        "\n",
        "train_data_x = data_x[~valid_mask]\n",
        "train_data_y = data_y[~valid_mask]\n",
        "\n",
        "print(train_data_x.shape, valid_data_x.shape)\n",
        "print(train_data_y.shape, valid_data_y.shape)"
      ],
      "execution_count": 10,
      "outputs": [
        {
          "output_type": "stream",
          "name": "stdout",
          "text": [
            "torch.Size([55000, 784]) torch.Size([5000, 784])\n",
            "torch.Size([55000]) torch.Size([5000])\n"
          ]
        }
      ]
    },
    {
      "cell_type": "markdown",
      "metadata": {
        "id": "L0hED2zb1u1H"
      },
      "source": [
        "#### Create the DataLoaders object that will be used in training"
      ]
    },
    {
      "cell_type": "code",
      "metadata": {
        "id": "7QuNO_Ys1G3e"
      },
      "source": [
        "train_dset = list(zip(train_data_x, train_data_y))\n",
        "valid_dset = list(zip(valid_data_x, valid_data_y))"
      ],
      "execution_count": 11,
      "outputs": []
    },
    {
      "cell_type": "code",
      "metadata": {
        "colab": {
          "base_uri": "https://localhost:8080/"
        },
        "id": "wXblim3405Kg",
        "outputId": "4d4e8e84-c6ca-470e-b83a-d4a8b6cbd5aa"
      },
      "source": [
        "train_dl = DataLoader(train_dset, batch_size=256, shuffle=True)\n",
        "xb, yb = first(train_dl)\n",
        "print(xb.shape, yb.shape)\n",
        "\n",
        "valid_dl = DataLoader(valid_dset, batch_size=256, shuffle=True)\n",
        "xb, yb = first(valid_dl)\n",
        "print(xb.shape, yb.shape)"
      ],
      "execution_count": 12,
      "outputs": [
        {
          "output_type": "stream",
          "name": "stdout",
          "text": [
            "torch.Size([256, 784]) torch.Size([256])\n",
            "torch.Size([256, 784]) torch.Size([256])\n"
          ]
        }
      ]
    },
    {
      "cell_type": "markdown",
      "metadata": {
        "id": "nMWkTFJYRXWY"
      },
      "source": [
        "## Model training\n",
        "\n",
        "#### Cross-entropy loss\n",
        "\n",
        "When using the cross-entropy loss, it is not necessary that we establish a softmax layer in the model because it will be implicitly called by Pytorch."
      ]
    },
    {
      "cell_type": "code",
      "metadata": {
        "id": "8CniehbmLxyz",
        "colab": {
          "base_uri": "https://localhost:8080/",
          "height": 0
        },
        "outputId": "4f74e24d-8942-4b3f-fd37-b29973d0a42b"
      },
      "source": [
        "from fastai.metrics import accuracy\n",
        "\n",
        "lr = 1e-3\n",
        "dls = DataLoaders(train_dl, valid_dl)\n",
        "\n",
        "simple_net = nn.Sequential(\n",
        "    nn.Linear(28*28,30),\n",
        "    nn.ReLU(),\n",
        "    nn.Linear(30,10)\n",
        "    )\n",
        "\n",
        "learner = Learner(dls, simple_net, opt_func=SGD, loss_func=nn.CrossEntropyLoss(), metrics=accuracy)\n",
        "learner.fit(15, lr)"
      ],
      "execution_count": 13,
      "outputs": [
        {
          "output_type": "display_data",
          "data": {
            "text/html": [
              "<table border=\"1\" class=\"dataframe\">\n",
              "  <thead>\n",
              "    <tr style=\"text-align: left;\">\n",
              "      <th>epoch</th>\n",
              "      <th>train_loss</th>\n",
              "      <th>valid_loss</th>\n",
              "      <th>accuracy</th>\n",
              "      <th>time</th>\n",
              "    </tr>\n",
              "  </thead>\n",
              "  <tbody>\n",
              "    <tr>\n",
              "      <td>0</td>\n",
              "      <td>2.297416</td>\n",
              "      <td>2.292801</td>\n",
              "      <td>0.132200</td>\n",
              "      <td>00:01</td>\n",
              "    </tr>\n",
              "    <tr>\n",
              "      <td>1</td>\n",
              "      <td>2.268758</td>\n",
              "      <td>2.263242</td>\n",
              "      <td>0.180600</td>\n",
              "      <td>00:01</td>\n",
              "    </tr>\n",
              "    <tr>\n",
              "      <td>2</td>\n",
              "      <td>2.236533</td>\n",
              "      <td>2.231007</td>\n",
              "      <td>0.246000</td>\n",
              "      <td>00:01</td>\n",
              "    </tr>\n",
              "    <tr>\n",
              "      <td>3</td>\n",
              "      <td>2.201536</td>\n",
              "      <td>2.194047</td>\n",
              "      <td>0.343800</td>\n",
              "      <td>00:01</td>\n",
              "    </tr>\n",
              "    <tr>\n",
              "      <td>4</td>\n",
              "      <td>2.160034</td>\n",
              "      <td>2.152703</td>\n",
              "      <td>0.436400</td>\n",
              "      <td>00:01</td>\n",
              "    </tr>\n",
              "    <tr>\n",
              "      <td>5</td>\n",
              "      <td>2.116869</td>\n",
              "      <td>2.107589</td>\n",
              "      <td>0.524600</td>\n",
              "      <td>00:01</td>\n",
              "    </tr>\n",
              "    <tr>\n",
              "      <td>6</td>\n",
              "      <td>2.069106</td>\n",
              "      <td>2.059489</td>\n",
              "      <td>0.583800</td>\n",
              "      <td>00:01</td>\n",
              "    </tr>\n",
              "    <tr>\n",
              "      <td>7</td>\n",
              "      <td>2.019195</td>\n",
              "      <td>2.008455</td>\n",
              "      <td>0.617800</td>\n",
              "      <td>00:01</td>\n",
              "    </tr>\n",
              "    <tr>\n",
              "      <td>8</td>\n",
              "      <td>1.965522</td>\n",
              "      <td>1.954187</td>\n",
              "      <td>0.644200</td>\n",
              "      <td>00:01</td>\n",
              "    </tr>\n",
              "    <tr>\n",
              "      <td>9</td>\n",
              "      <td>1.909835</td>\n",
              "      <td>1.896222</td>\n",
              "      <td>0.659200</td>\n",
              "      <td>00:01</td>\n",
              "    </tr>\n",
              "    <tr>\n",
              "      <td>10</td>\n",
              "      <td>1.844692</td>\n",
              "      <td>1.834232</td>\n",
              "      <td>0.669600</td>\n",
              "      <td>00:01</td>\n",
              "    </tr>\n",
              "    <tr>\n",
              "      <td>11</td>\n",
              "      <td>1.783799</td>\n",
              "      <td>1.768244</td>\n",
              "      <td>0.683600</td>\n",
              "      <td>00:01</td>\n",
              "    </tr>\n",
              "    <tr>\n",
              "      <td>12</td>\n",
              "      <td>1.713543</td>\n",
              "      <td>1.699429</td>\n",
              "      <td>0.692000</td>\n",
              "      <td>00:01</td>\n",
              "    </tr>\n",
              "    <tr>\n",
              "      <td>13</td>\n",
              "      <td>1.644675</td>\n",
              "      <td>1.629510</td>\n",
              "      <td>0.702000</td>\n",
              "      <td>00:01</td>\n",
              "    </tr>\n",
              "    <tr>\n",
              "      <td>14</td>\n",
              "      <td>1.573901</td>\n",
              "      <td>1.559483</td>\n",
              "      <td>0.715000</td>\n",
              "      <td>00:01</td>\n",
              "    </tr>\n",
              "  </tbody>\n",
              "</table>"
            ],
            "text/plain": [
              "<IPython.core.display.HTML object>"
            ]
          },
          "metadata": {}
        }
      ]
    },
    {
      "cell_type": "markdown",
      "metadata": {
        "id": "zhaUhPn1BTnd"
      },
      "source": [
        "#### Negative log-likelihood loss\n",
        "\n",
        "When using the NLL loss, it is necessarty that we establish a LogSoftmax layer at the end of the model."
      ]
    },
    {
      "cell_type": "code",
      "metadata": {
        "colab": {
          "base_uri": "https://localhost:8080/",
          "height": 0
        },
        "id": "vGih0x4lAjBl",
        "outputId": "cbd878ff-ae69-4e82-e3e9-2d1cb76c669f"
      },
      "source": [
        "from fastai.metrics import accuracy\n",
        "\n",
        "lr = 1e-3\n",
        "dls = DataLoaders(train_dl, valid_dl)\n",
        "\n",
        "simple_net = nn.Sequential(\n",
        "    nn.Linear(28*28,30),\n",
        "    nn.ReLU(),\n",
        "    nn.Linear(30,10),\n",
        "    nn.LogSoftmax(dim=1)\n",
        "    )\n",
        "\n",
        "learner = Learner(dls, simple_net, opt_func=SGD, loss_func=nn.NLLLoss(), metrics=accuracy)\n",
        "learner.fit(15, lr)"
      ],
      "execution_count": 14,
      "outputs": [
        {
          "output_type": "display_data",
          "data": {
            "text/html": [
              "<table border=\"1\" class=\"dataframe\">\n",
              "  <thead>\n",
              "    <tr style=\"text-align: left;\">\n",
              "      <th>epoch</th>\n",
              "      <th>train_loss</th>\n",
              "      <th>valid_loss</th>\n",
              "      <th>accuracy</th>\n",
              "      <th>time</th>\n",
              "    </tr>\n",
              "  </thead>\n",
              "  <tbody>\n",
              "    <tr>\n",
              "      <td>0</td>\n",
              "      <td>2.290545</td>\n",
              "      <td>2.284529</td>\n",
              "      <td>0.108000</td>\n",
              "      <td>00:01</td>\n",
              "    </tr>\n",
              "    <tr>\n",
              "      <td>1</td>\n",
              "      <td>2.262181</td>\n",
              "      <td>2.254704</td>\n",
              "      <td>0.129000</td>\n",
              "      <td>00:01</td>\n",
              "    </tr>\n",
              "    <tr>\n",
              "      <td>2</td>\n",
              "      <td>2.230243</td>\n",
              "      <td>2.223171</td>\n",
              "      <td>0.165200</td>\n",
              "      <td>00:01</td>\n",
              "    </tr>\n",
              "    <tr>\n",
              "      <td>3</td>\n",
              "      <td>2.196064</td>\n",
              "      <td>2.187326</td>\n",
              "      <td>0.236800</td>\n",
              "      <td>00:01</td>\n",
              "    </tr>\n",
              "    <tr>\n",
              "      <td>4</td>\n",
              "      <td>2.155838</td>\n",
              "      <td>2.147167</td>\n",
              "      <td>0.341400</td>\n",
              "      <td>00:01</td>\n",
              "    </tr>\n",
              "    <tr>\n",
              "      <td>5</td>\n",
              "      <td>2.113365</td>\n",
              "      <td>2.102688</td>\n",
              "      <td>0.437400</td>\n",
              "      <td>00:01</td>\n",
              "    </tr>\n",
              "    <tr>\n",
              "      <td>6</td>\n",
              "      <td>2.065958</td>\n",
              "      <td>2.054211</td>\n",
              "      <td>0.510200</td>\n",
              "      <td>00:01</td>\n",
              "    </tr>\n",
              "    <tr>\n",
              "      <td>7</td>\n",
              "      <td>2.012016</td>\n",
              "      <td>2.002144</td>\n",
              "      <td>0.560400</td>\n",
              "      <td>00:01</td>\n",
              "    </tr>\n",
              "    <tr>\n",
              "      <td>8</td>\n",
              "      <td>1.959493</td>\n",
              "      <td>1.946802</td>\n",
              "      <td>0.593200</td>\n",
              "      <td>00:01</td>\n",
              "    </tr>\n",
              "    <tr>\n",
              "      <td>9</td>\n",
              "      <td>1.902241</td>\n",
              "      <td>1.888729</td>\n",
              "      <td>0.627400</td>\n",
              "      <td>00:01</td>\n",
              "    </tr>\n",
              "    <tr>\n",
              "      <td>10</td>\n",
              "      <td>1.839878</td>\n",
              "      <td>1.828204</td>\n",
              "      <td>0.656600</td>\n",
              "      <td>00:01</td>\n",
              "    </tr>\n",
              "    <tr>\n",
              "      <td>11</td>\n",
              "      <td>1.779513</td>\n",
              "      <td>1.766009</td>\n",
              "      <td>0.676000</td>\n",
              "      <td>00:01</td>\n",
              "    </tr>\n",
              "    <tr>\n",
              "      <td>12</td>\n",
              "      <td>1.717455</td>\n",
              "      <td>1.703203</td>\n",
              "      <td>0.692600</td>\n",
              "      <td>00:01</td>\n",
              "    </tr>\n",
              "    <tr>\n",
              "      <td>13</td>\n",
              "      <td>1.657616</td>\n",
              "      <td>1.640740</td>\n",
              "      <td>0.705400</td>\n",
              "      <td>00:01</td>\n",
              "    </tr>\n",
              "    <tr>\n",
              "      <td>14</td>\n",
              "      <td>1.588307</td>\n",
              "      <td>1.579255</td>\n",
              "      <td>0.715600</td>\n",
              "      <td>00:01</td>\n",
              "    </tr>\n",
              "  </tbody>\n",
              "</table>"
            ],
            "text/plain": [
              "<IPython.core.display.HTML object>"
            ]
          },
          "metadata": {}
        }
      ]
    },
    {
      "cell_type": "markdown",
      "metadata": {
        "id": "710TokyaIAdT"
      },
      "source": [
        "## Model interpretation"
      ]
    },
    {
      "cell_type": "code",
      "metadata": {
        "colab": {
          "base_uri": "https://localhost:8080/",
          "height": 0
        },
        "id": "5-PmJFyzIYMC",
        "outputId": "5c34e55c-f7eb-4d82-df4c-63622324c6c7"
      },
      "source": [
        "from sklearn.metrics import confusion_matrix\n",
        "import matplotlib.pyplot as plt\n",
        "import seaborn as sns\n",
        "\n",
        "preds,targs = learner.get_preds()\n",
        "preds,y = learner.get_preds()\n",
        "y_pred = torch.softmax(preds, dim=1)\n",
        "y_pred = torch.argmax(y_pred, dim=1)\n",
        "conf_matrix = confusion_matrix(y.numpy(), y_pred.numpy())\n",
        "\n",
        "# Set Figure\n",
        "fig = plt.figure(figsize=(12, 8))\n",
        "sns.heatmap(conf_matrix, annot=True, cmap=\"Blues\", fmt='g')\n",
        "\n",
        "plt.show()"
      ],
      "execution_count": 15,
      "outputs": [
        {
          "output_type": "display_data",
          "data": {
            "text/html": [
              ""
            ],
            "text/plain": [
              "<IPython.core.display.HTML object>"
            ]
          },
          "metadata": {}
        },
        {
          "output_type": "display_data",
          "data": {
            "text/html": [
              ""
            ],
            "text/plain": [
              "<IPython.core.display.HTML object>"
            ]
          },
          "metadata": {}
        },
        {
          "output_type": "display_data",
          "data": {
            "image/png": "[encoded data removed]",
            "text/plain": [
              "<Figure size 864x576 with 2 Axes>"
            ]
          },
          "metadata": {
            "needs_background": "light"
          }
        }
      ]
    },
    {
      "cell_type": "markdown",
      "metadata": {
        "id": "cOc6jJcawMN7"
      },
      "source": [
        "## Extra: Learning rate finder"
      ]
    },
    {
      "cell_type": "code",
      "metadata": {
        "id": "I8QbpUTHwM1T",
        "outputId": "f38e9ac4-3c0c-48de-dcc6-3063c7de4323",
        "colab": {
          "base_uri": "https://localhost:8080/",
          "height": 300
        }
      },
      "source": [
        "learner.lr_find()"
      ],
      "execution_count": 16,
      "outputs": [
        {
          "output_type": "display_data",
          "data": {
            "text/html": [
              ""
            ],
            "text/plain": [
              "<IPython.core.display.HTML object>"
            ]
          },
          "metadata": {}
        },
        {
          "output_type": "execute_result",
          "data": {
            "text/plain": [
              "SuggestedLRs(valley=0.033113110810518265)"
            ]
          },
          "metadata": {},
          "execution_count": 16
        },
        {
          "output_type": "display_data",
          "data": {
            "image/png": "[encoded data removed]",
            "text/plain": [
              "<Figure size 432x288 with 1 Axes>"
            ]
          },
          "metadata": {
            "needs_background": "light"
          }
        }
      ]
    }
  ]
}