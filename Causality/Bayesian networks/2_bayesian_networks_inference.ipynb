{
 "cells": [
  {
   "metadata": {},
   "cell_type": "markdown",
   "source": "# Bayesian network inference",
   "id": "31fba8de1890fc7"
  },
  {
   "metadata": {},
   "cell_type": "markdown",
   "source": "# 1 - Probabilistic inference",
   "id": "394df29e7ce4bf61"
  },
  {
   "metadata": {},
   "cell_type": "markdown",
   "source": [
    "Probabilistic inference is one of the most fundamental mechanisms for reasoning under uncertainty. Given a BN $\\mathcal{B}$ over a set of random variables $\\mathbf{X}$, probabilistic inference allows us to answer general queries of the form $P(\\mathbf{i}|\\mathbf{e})$ where $\\mathbf{e}$ are the values of the evidence variables $\\mathbf{E} \\subset \\mathbf{X}$ and $\\mathbf{i}$ are the values of the variables of interest $\\mathbf{I} \\subseteq \\{\\mathbf{X} \\setminus \\mathbf{E}\\}$, whose values we do not know. For example, in the medical domain, we can query the probability of a certain disease given the observed symptoms. The goal of inference can be formulated as follows:\n",
    "\n",
    "$$\n",
    "\\begin{equation*}\n",
    "P(\\mathbf{i}|\\mathbf{e}) = \\frac{P(\\mathbf{i},\\mathbf{e})}{P(\\mathbf{e})} \\ .\n",
    "\\end{equation*}\n",
    "$$\n",
    "\n",
    "The general problem of probabilistic inference in BNs was first tackled by [Kim and Pearl (1983)](https://koasas.kaist.ac.kr/bitstream/10203/17387/1/A%20Computational%20Model%20for%20Causal%20and%20Diagnostic%20Reasoning%20in%20Inference%20Systems.pdf). On a very high level, inference algorithms can be divided into two main classes: exact inference methods and approximate inference methods. We address each of these classes in the following sections. For additional information on this topic, [Salmerón et al. (2018)](https://www.jair.org/index.php/jair/article/download/11228/26433) provide a recent review of the literature.\n"
   ],
   "id": "7c0a4b1d6d1cb8c9"
  },
  {
   "metadata": {},
   "cell_type": "markdown",
   "source": "## 1.1 - Exact inference methods",
   "id": "a828a9f8803eddfd"
  },
  {
   "metadata": {},
   "cell_type": "markdown",
   "source": [
    "Exact inference algorithms are designed to give an exact answer to the probabilistic query. While exact methods were originally designed for categorical BNs, they can be easily adapted for linear Gaussian BNs using the canonical form representation [(Laurtizen, 1992)](https://www.jstor.org/stable/pdf/2290647.pdf). There are three main strategies of exact inference in BNs:\n",
    "\n",
    "* **Variable elimination.** As the name suggests, the idea behind variable elimination is to successively remove variables from a BN while maintaining its ability to answer the query of interest. It was first formalized by [Zhang and Poole (1994)](https://repository.hkust.edu.hk/ir/bitstream/1783.1-757/1/canai94.pdf), although its origins go back to [Shachter et al. (1990)](https://cdn.aaai.org/AAAI/1990/AAAI90-019.pdf).\n",
    "\n",
    "* **Junction trees.** The junction tree algorithm is a variation on the variable elimination algorithm that can be understood in terms of factor elimination. This algorithm improves on the complexity of variable elimination when answering multiple queries. There are two main approaches to the junction tree algorithm: (i) the Shenoy-Shafer architecture ([Shenoy and Shafer, 1990](https://kuscholarworks.ku.edu/bitstream/handle/1808/144/UAI90.pdf)), and (ii) the Hugin architecture [(Jensen, 1990)](https://cir.nii.ac.jp/crid/1572824499660884992). Both of them are based on the work of [Lauritzen and Spiegelhalter (1988)](https://www.jstor.org/stable/pdf/2345762.pdf), which introduced the first junction tree algorithm.\n",
    "\n",
    "* **Conditioning.** The first incarnation of the conditioning algorithm was presented by [Pearl (1986)](https://arxiv.org/pdf/1304.3422) in the\tcontext of cutset conditioning, where the conditioning variables cut all loops in the network, forming a polytree. The general algorithm, under the name of global conditioning, was presented by [Shachter et al. (1994)](https://arxiv.org/pdf/1302.6843), which demonstrated the relation between conditioning and variable elimination. Finally recursive conditioning was developed by [Darwiche (2001)](https://www.sciencedirect.com/science/article/pii/S0004370200000692/pdf).\n",
    "\n",
    "----\n",
    "\n",
    "**Note:** A polytree is a DAG whose underlying undirected graph is both connected and acyclic (i.e., a tree).\n",
    "\n",
    "----\n",
    "\n",
    "Although it is NP-hard to perform exact inference in general BNs ([Cooper, 1990](https://www.sciencedirect.com/science/article/pii/000437029090060D/pdf?md5=22871d7acedfc77015e8a4296cd3efbf&pid=1-s2.0-000437029090060D-main.pdf)), it becomes tractable in BNs with bounded treewidth [(Kwisthout et al., 2010)](https://ebooks.iospress.nl/pdf/doi/10.3233/978-1-60750-606-5-237). The notion of treewidth was introduced by [Robertson and Seymour (1986)](https://www.sciencedirect.com/science/article/abs/pii/0196677486900234) and can be understood as a measure of similarity between a graph and a tree (e.g., trees have a treewidth $\\leq$ $1$). However, this result only applies to categorical BNs and linear Gaussian BNs. Inference in conditional linear Gaussian BNs is much harder. Even in simple models like polytrees, exact inference is NP-hard [(Lerner and Parr, 2001)](https://arxiv.org/pdf/1301.2288).\n"
   ],
   "id": "1891730127d689f8"
  },
  {
   "metadata": {},
   "cell_type": "markdown",
   "source": "## 1.2 - Approximate inference methods",
   "id": "a28ff30a663cabd"
  },
  {
   "metadata": {},
   "cell_type": "markdown",
   "source": [
    "Approximate inference algorithms are designed to give an approximate answer to the probabilistic query, with the understanding that giving the exact probability is not crucial. Unfortunately, identical to the exact case, performing approximate inference has also been demonstrated to be NP-hard in general BNs ([Dagum and Luby, 1993](https://www.sciencedirect.com/science/article/pii/000437029390036B/pdf?md5=6662ccd95b0a88ff2e6f9637bfd8e083&pid=1-s2.0-000437029390036B-main.pdf); [Lerner and Parr, 2001](https://arxiv.org/pdf/1301.2288)). Despite these discouraging results, one can try to produce useful approximate algorithms with a computational performance that is in many cases far more manageable than that of exact algorithms. There are two main strategies of approximate inference in BNs:\n",
    "\n",
    "\n",
    "* **Sampling.** The idea behind sampling-based algorithms is to randomly pick assignments of the random variables, called samples, and then estimate the JPD of the query. It was first introduced for inference in BNs by [Henrion (1986)](https://www.academia.edu/download/55836968/Propagating_w_Logic_Sampling._Henrion_1988.pdf), who proposed a method based on probabilistic logic sampling. Several improvements have been done since then, such as likelihood weighting ([Shachter and Peot, 1990](https://arxiv.org/pdf/1304.1526)) and Markov chain Monte Carlo ([Pearl, 1987](https://hedibert.org/wp-content/uploads/2013/12/1987Pearl.pdf); [Hrycej, 1990](https://www.sciencedirect.com/science/article/abs/pii/000437029090020Z); [York, 1992](https://www.sciencedirect.com/science/article/abs/pii/0004370292900667)).\n",
    "\t\n",
    "* **Optimization.** The idea behind optimization-based algorithms is to construct an approximation to the target distribution, and then optimize a similarity function. This approach is usually referred to as variational inference ([Beli et al., 2016](https://arxiv.org/pdf/1601.00670)). Methods in this class fall into three main categories: belief propagation ([Pearl, 1988](https://dl.acm.org/doi/10.5555/534975); [Yedidia et al., 2000](https://proceedings.neurips.cc/paper_files/paper/2000/file/61b1fb3f59e28c67f3925f3c79be81a1-Paper.pdf)), expectation propagation ([Minka, 2001](https://arxiv.org/pdf/1301.2294)) and mean-field variational inference ([Saul et al., 1996](https://www.jair.org/index.php/jair/article/download/10156/24075)). \n",
    "\n",
    "----\n",
    "\n",
    "**Note:** The mean-field approach is discussed in detail in `3_bayesian_network_learning.ipynb` since it is a central part of the Variational Bayes framework.\n",
    "\n",
    "----"
   ],
   "id": "465f84e1fefdb17b"
  },
  {
   "metadata": {},
   "cell_type": "markdown",
   "source": "## 1.3 - Hard versus virtual evidence",
   "id": "2feaafef8b52de8d"
  },
  {
   "metadata": {},
   "cell_type": "markdown",
   "source": [
    "**TODO**\n",
    "\n",
    "No es lo mismo soft que virtual evidence, explicar los 3 tipos:\n",
    "* hard\n",
    "* virtual\n",
    "* soft\n",
    "\n",
    "Quizas virtual evidence nos permite combinar informacion que salga de diferentes modelos si estos modelos tienen una capa softmax al final\n",
    "\n",
    "https://vannevar.ece.uw.edu/techsite/papers/documents/UWEETR-2004-0016.pdf"
   ],
   "id": "41bdfeac40f69143"
  },
  {
   "metadata": {},
   "cell_type": "markdown",
   "source": "# 2 - PGMPy",
   "id": "161f8213b1fd9040"
  },
  {
   "metadata": {},
   "cell_type": "markdown",
   "source": "## 2.1 - Inference in Discrete Bayesian network",
   "id": "6ab1eb94138c20ed"
  },
  {
   "metadata": {},
   "cell_type": "markdown",
   "source": [
    "In this example we are going to show how to do Exact inference in a Discrete Bayesian network. More specifically, we will be using the Asia network (http://www.bnlearn.com/bnrepository/#asia) for this example\n",
    "\n",
    "\n",
    "----\n",
    "\n",
    "**Notes:** \n",
    "* I sometimes get weird errors where it expect certain variables' evidence in integer form...\n",
    "* I don't see any changes when introducing virtual evidence\n",
    "\n",
    "----"
   ],
   "id": "9c6e08586323f4b2"
  },
  {
   "metadata": {},
   "cell_type": "markdown",
   "source": "### 2.1.1 - Define the model",
   "id": "38e4672ca12d8b36"
  },
  {
   "metadata": {
    "ExecuteTime": {
     "end_time": "2024-05-09T14:46:23.124526Z",
     "start_time": "2024-05-09T14:46:22.509162Z"
    }
   },
   "cell_type": "code",
   "source": [
    "# Fetch the asia model from the bnlearn repository\n",
    "\n",
    "from pgmpy.utils import get_example_model\n",
    "\n",
    "asia_model = get_example_model(\"asia\")"
   ],
   "id": "6faf2fac4dc93e41",
   "outputs": [],
   "execution_count": 34
  },
  {
   "metadata": {},
   "cell_type": "markdown",
   "source": "### 2.1.2 - Paint the graph",
   "id": "e8fa8760398c330d"
  },
  {
   "metadata": {},
   "cell_type": "markdown",
   "source": [
    "List of possible layouts available in NetworkX:\n",
    "\n",
    "* **Fruchterman-Reingold (spring):** Simulates physics-based repulsion between nodes, often leading to organic layouts (`nx.spring_layout`).\n",
    "* **Spectral:** Positions nodes based on the eigenvalues and eigenvectors of the graph Laplacian (`nx.spectral_layout`).\n",
    "* **Circular:** Arranges nodes in a circle, useful for cyclic structures (`nx.circular_layout`).\n",
    "* **Shell:** Places nodes in concentric circles based on a hierarchy or community structure (if present) (`nx.shell_layout`).\n",
    "* **Random:** Randomly scatters nodes within a defined area (`nx.random_layout`).\n",
    "* **Kamada-Kawai:** Optimizes node placement to minimize the total length of edges (`nx.kamada_kawai_layout`).\n",
    "* **Bipartite:** Specifically designed for bipartite graphs, placing nodes from two sets on separate sides (`nx.bipartite_layout`).\n",
    "* **BFS:** Arranges nodes based on their level in a Breadth-First Search traversal (`nx.bfs_layout`).\n",
    "\n",
    "In addition to these, NetworkX can integrate with libraries like `pygraphviz` which offer even more layout options like hierarchical (layered) or radial layouts."
   ],
   "id": "1ff023fe0a3393c0"
  },
  {
   "metadata": {
    "ExecuteTime": {
     "end_time": "2024-05-09T14:46:23.242961Z",
     "start_time": "2024-05-09T14:46:23.125528Z"
    }
   },
   "cell_type": "code",
   "source": [
    "import networkx as nx\n",
    "import matplotlib.pyplot as plt\n",
    "\n",
    "# Create NetworkX graph\n",
    "G = nx.DiGraph()\n",
    "G.add_edges_from(list(asia_model.edges()))\n",
    "\n",
    "# Choose layout\n",
    "pos = nx.circular_layout(G)\n",
    "\n",
    "# Node size\n",
    "node_size = 200\n",
    "\n",
    "# Draw the graph with adjustments\n",
    "nx.draw(G, pos=pos, with_labels=True, arrows=True, width=2, node_size=node_size)\n",
    "plt.show()"
   ],
   "id": "fc16f5b40e4e294a",
   "outputs": [
    {
     "data": {
      "text/plain": [
       "<Figure size 640x480 with 1 Axes>"
      ],
      "image/png": "[encoded data removed]"
     },
     "metadata": {},
     "output_type": "display_data"
    }
   ],
   "execution_count": 35
  },
  {
   "metadata": {},
   "cell_type": "markdown",
   "source": "### 2.1.3 - Initialize the inference class",
   "id": "ce46bee6ecca4476"
  },
  {
   "metadata": {},
   "cell_type": "markdown",
   "source": [
    "Currently, PGMPy supports two algorithms for inference:\n",
    "1. [Variable elimination](https://pgmpy.org/exact_infer/ve.html). This algorithm performs exact inference by systematically eliminating variables from the network and summing over their values.\n",
    "2. [Belief propagation](https://pgmpy.org/exact_infer/bp.html). This algorithm also performs exact inference, but it works by passing messages between variables in a specially constructed tree called a **junction tree**, **clique tree**, or **join tree**. Belief propagation messages represent the marginal beliefs about a variable given its neighbors in the network.\n",
    "\n",
    "Both of them have an identical API, but the parameters differ a bit"
   ],
   "id": "7bc2d341409b145"
  },
  {
   "metadata": {
    "ExecuteTime": {
     "end_time": "2024-05-09T14:46:23.263627Z",
     "start_time": "2024-05-09T14:46:23.246467Z"
    }
   },
   "cell_type": "code",
   "source": [
    "# Initializing the VariableElimination class\n",
    "\n",
    "from pgmpy.inference import VariableElimination\n",
    "from pgmpy.inference import BeliefPropagation\n",
    "\n",
    "ve_inference_engine = VariableElimination(asia_model)\n",
    "bp_inference_engine = BeliefPropagation(asia_model)\n",
    "\n",
    "inference_engine = ve_inference_engine"
   ],
   "id": "bf4e27e5253975b7",
   "outputs": [],
   "execution_count": 36
  },
  {
   "metadata": {
    "ExecuteTime": {
     "end_time": "2024-05-09T14:46:23.273129Z",
     "start_time": "2024-05-09T14:46:23.266289Z"
    }
   },
   "cell_type": "code",
   "source": [
    "for cpd in asia_model.get_cpds():\n",
    "    print(cpd)\n"
   ],
   "id": "97fd46439867dbe",
   "outputs": [
    {
     "name": "stdout",
     "output_type": "stream",
     "text": [
      "+-----------+------+\n",
      "| asia(yes) | 0.01 |\n",
      "+-----------+------+\n",
      "| asia(no)  | 0.99 |\n",
      "+-----------+------+\n",
      "+------------+------------+-----------+\n",
      "| smoke      | smoke(yes) | smoke(no) |\n",
      "+------------+------------+-----------+\n",
      "| bronc(yes) | 0.6        | 0.3       |\n",
      "+------------+------------+-----------+\n",
      "| bronc(no)  | 0.4        | 0.7       |\n",
      "+------------+------------+-----------+\n",
      "+-----------+-------------+------------+-------------+------------+\n",
      "| bronc     | bronc(yes)  | bronc(yes) | bronc(no)   | bronc(no)  |\n",
      "+-----------+-------------+------------+-------------+------------+\n",
      "| either    | either(yes) | either(no) | either(yes) | either(no) |\n",
      "+-----------+-------------+------------+-------------+------------+\n",
      "| dysp(yes) | 0.9         | 0.8        | 0.7         | 0.1        |\n",
      "+-----------+-------------+------------+-------------+------------+\n",
      "| dysp(no)  | 0.1         | 0.2        | 0.3         | 0.9        |\n",
      "+-----------+-------------+------------+-------------+------------+\n",
      "+-------------+-----------+-----------+----------+----------+\n",
      "| lung        | lung(yes) | lung(yes) | lung(no) | lung(no) |\n",
      "+-------------+-----------+-----------+----------+----------+\n",
      "| tub         | tub(yes)  | tub(no)   | tub(yes) | tub(no)  |\n",
      "+-------------+-----------+-----------+----------+----------+\n",
      "| either(yes) | 1.0       | 1.0       | 1.0      | 0.0      |\n",
      "+-------------+-----------+-----------+----------+----------+\n",
      "| either(no)  | 0.0       | 0.0       | 0.0      | 1.0      |\n",
      "+-------------+-----------+-----------+----------+----------+\n",
      "+-----------+------------+-----------+\n",
      "| smoke     | smoke(yes) | smoke(no) |\n",
      "+-----------+------------+-----------+\n",
      "| lung(yes) | 0.1        | 0.01      |\n",
      "+-----------+------------+-----------+\n",
      "| lung(no)  | 0.9        | 0.99      |\n",
      "+-----------+------------+-----------+\n",
      "+------------+-----+\n",
      "| smoke(yes) | 0.5 |\n",
      "+------------+-----+\n",
      "| smoke(no)  | 0.5 |\n",
      "+------------+-----+\n",
      "+----------+-----------+----------+\n",
      "| asia     | asia(yes) | asia(no) |\n",
      "+----------+-----------+----------+\n",
      "| tub(yes) | 0.05      | 0.01     |\n",
      "+----------+-----------+----------+\n",
      "| tub(no)  | 0.95      | 0.99     |\n",
      "+----------+-----------+----------+\n",
      "+-----------+-------------+------------+\n",
      "| either    | either(yes) | either(no) |\n",
      "+-----------+-------------+------------+\n",
      "| xray(yes) | 0.98        | 0.05       |\n",
      "+-----------+-------------+------------+\n",
      "| xray(no)  | 0.02        | 0.95       |\n",
      "+-----------+-------------+------------+\n"
     ]
    }
   ],
   "execution_count": 37
  },
  {
   "metadata": {},
   "cell_type": "markdown",
   "source": "### 2.1.4 - Doing inference using hard evidence",
   "id": "311d94fb67def3a9"
  },
  {
   "metadata": {},
   "cell_type": "markdown",
   "source": "#### Computing the probability of bronc given smoke = no",
   "id": "19bdf2955dc5bc96"
  },
  {
   "metadata": {
    "ExecuteTime": {
     "end_time": "2024-05-09T14:46:23.282645Z",
     "start_time": "2024-05-09T14:46:23.274380Z"
    }
   },
   "cell_type": "code",
   "source": [
    "q = inference_engine.query(variables=[\"bronc\"], evidence={\"smoke\": \"no\"})\n",
    "print(q)"
   ],
   "id": "578474fcc9446e48",
   "outputs": [
    {
     "name": "stdout",
     "output_type": "stream",
     "text": [
      "+------------+--------------+\n",
      "| bronc      |   phi(bronc) |\n",
      "+============+==============+\n",
      "| bronc(yes) |       0.3000 |\n",
      "+------------+--------------+\n",
      "| bronc(no)  |       0.7000 |\n",
      "+------------+--------------+\n"
     ]
    }
   ],
   "execution_count": 38
  },
  {
   "metadata": {},
   "cell_type": "markdown",
   "source": "#### Computing the joint probability of bronc and asia given smoke = yes",
   "id": "e1c3627279c952ca"
  },
  {
   "metadata": {
    "ExecuteTime": {
     "end_time": "2024-05-09T14:46:23.290111Z",
     "start_time": "2024-05-09T14:46:23.283820Z"
    }
   },
   "cell_type": "code",
   "source": [
    "# Computing the joint probability of bronc and asia given smoke=yes\n",
    "q = inference_engine.query(variables=[\"bronc\", \"asia\"], evidence={\"smoke\": \"yes\"}) # 0 == \"yes\"\n",
    "print(q)"
   ],
   "id": "d4c42a859bae2721",
   "outputs": [
    {
     "name": "stdout",
     "output_type": "stream",
     "text": [
      "+------------+-----------+-------------------+\n",
      "| bronc      | asia      |   phi(bronc,asia) |\n",
      "+============+===========+===================+\n",
      "| bronc(yes) | asia(yes) |            0.0060 |\n",
      "+------------+-----------+-------------------+\n",
      "| bronc(yes) | asia(no)  |            0.5940 |\n",
      "+------------+-----------+-------------------+\n",
      "| bronc(no)  | asia(yes) |            0.0040 |\n",
      "+------------+-----------+-------------------+\n",
      "| bronc(no)  | asia(no)  |            0.3960 |\n",
      "+------------+-----------+-------------------+\n"
     ]
    }
   ],
   "execution_count": 39
  },
  {
   "metadata": {},
   "cell_type": "markdown",
   "source": "#### Computing the marginal probabilities of `bronc` and `asia` given `smoke = \"no\"`",
   "id": "158dd20b8e01c6c6"
  },
  {
   "metadata": {
    "ExecuteTime": {
     "end_time": "2024-05-09T14:46:23.302858Z",
     "start_time": "2024-05-09T14:46:23.291222Z"
    }
   },
   "cell_type": "code",
   "source": [
    "q = inference_engine.query(variables=[\"bronc\", \"asia\"], evidence={\"smoke\": \"no\"}, joint=False)\n",
    "for factor in q.values():\n",
    "    print(factor)"
   ],
   "id": "f06e9d6a4f269a3",
   "outputs": [
    {
     "name": "stdout",
     "output_type": "stream",
     "text": [
      "+------------+--------------+\n",
      "| bronc      |   phi(bronc) |\n",
      "+============+==============+\n",
      "| bronc(yes) |       0.3000 |\n",
      "+------------+--------------+\n",
      "| bronc(no)  |       0.7000 |\n",
      "+------------+--------------+\n",
      "+-----------+-------------+\n",
      "| asia      |   phi(asia) |\n",
      "+===========+=============+\n",
      "| asia(yes) |      0.0100 |\n",
      "+-----------+-------------+\n",
      "| asia(no)  |      0.9900 |\n",
      "+-----------+-------------+\n"
     ]
    }
   ],
   "execution_count": 40
  },
  {
   "metadata": {},
   "cell_type": "markdown",
   "source": "#### Computing the marginal probabilities of `bronc` and `asia` given `smoke` = no and `dysp` = no",
   "id": "fcce117e52ffd8a7"
  },
  {
   "metadata": {
    "ExecuteTime": {
     "end_time": "2024-05-09T14:46:23.317079Z",
     "start_time": "2024-05-09T14:46:23.304010Z"
    }
   },
   "cell_type": "code",
   "source": [
    "q = inference_engine.query(\n",
    "    variables=[\"bronc\", \"asia\"], \n",
    "    evidence={\"smoke\": \"no\", \n",
    "              \"dysp\": \"no\"},\n",
    "    joint=False)\n",
    "\n",
    "for factor in q.values():\n",
    "    print(factor)"
   ],
   "id": "689b3dd6594a8a3b",
   "outputs": [
    {
     "name": "stdout",
     "output_type": "stream",
     "text": [
      "+------------+--------------+\n",
      "| bronc      |   phi(bronc) |\n",
      "+============+==============+\n",
      "| bronc(yes) |       0.0872 |\n",
      "+------------+--------------+\n",
      "| bronc(no)  |       0.9128 |\n",
      "+------------+--------------+\n",
      "+-----------+-------------+\n",
      "| asia      |   phi(asia) |\n",
      "+===========+=============+\n",
      "| asia(yes) |      0.0097 |\n",
      "+-----------+-------------+\n",
      "| asia(no)  |      0.9903 |\n",
      "+-----------+-------------+\n"
     ]
    }
   ],
   "execution_count": 41
  },
  {
   "metadata": {},
   "cell_type": "markdown",
   "source": "#### Computing the Maximum at posteriori (MAP) of bronc given smoke = no",
   "id": "79b795e061a72b55"
  },
  {
   "metadata": {
    "ExecuteTime": {
     "end_time": "2024-05-09T14:46:23.335905Z",
     "start_time": "2024-05-09T14:46:23.318318Z"
    }
   },
   "cell_type": "code",
   "source": "q = inference_engine.map_query(variables=[\"bronc\"], evidence={\"smoke\": \"no\"})",
   "id": "54bec51ec03bddb4",
   "outputs": [
    {
     "data": {
      "text/plain": [
       "0it [00:00, ?it/s]"
      ],
      "application/vnd.jupyter.widget-view+json": {
       "version_major": 2,
       "version_minor": 0,
       "model_id": "b996e8c99ce24c80a656f7c7a888f495"
      }
     },
     "metadata": {},
     "output_type": "display_data"
    },
    {
     "data": {
      "text/plain": [
       "0it [00:00, ?it/s]"
      ],
      "application/vnd.jupyter.widget-view+json": {
       "version_major": 2,
       "version_minor": 0,
       "model_id": "a3bc3a02da52405e9add2ebc543481e1"
      }
     },
     "metadata": {},
     "output_type": "display_data"
    }
   ],
   "execution_count": 42
  },
  {
   "metadata": {
    "ExecuteTime": {
     "end_time": "2024-05-09T14:46:23.354997Z",
     "start_time": "2024-05-09T14:46:23.340246Z"
    }
   },
   "cell_type": "code",
   "source": "print(q)",
   "id": "67f458a7feb43989",
   "outputs": [
    {
     "name": "stdout",
     "output_type": "stream",
     "text": [
      "{'bronc': 'no'}\n"
     ]
    }
   ],
   "execution_count": 43
  },
  {
   "metadata": {},
   "cell_type": "markdown",
   "source": "### Computing the MAP of bronc and asia given smoke = yes",
   "id": "1bd7fd23a289ae7e"
  },
  {
   "metadata": {
    "ExecuteTime": {
     "end_time": "2024-05-09T14:46:23.376701Z",
     "start_time": "2024-05-09T14:46:23.356359Z"
    }
   },
   "cell_type": "code",
   "source": "q = inference_engine.map_query(variables=[\"bronc\", \"asia\"], evidence={\"smoke\": \"yes\"})",
   "id": "3cb7c6b92065c907",
   "outputs": [
    {
     "data": {
      "text/plain": [
       "0it [00:00, ?it/s]"
      ],
      "application/vnd.jupyter.widget-view+json": {
       "version_major": 2,
       "version_minor": 0,
       "model_id": "88789d09edb04827b4adf76341f61e18"
      }
     },
     "metadata": {},
     "output_type": "display_data"
    },
    {
     "data": {
      "text/plain": [
       "0it [00:00, ?it/s]"
      ],
      "application/vnd.jupyter.widget-view+json": {
       "version_major": 2,
       "version_minor": 0,
       "model_id": "db7ba5f6d6eb4e718995cc3e2f3cdf95"
      }
     },
     "metadata": {},
     "output_type": "display_data"
    }
   ],
   "execution_count": 44
  },
  {
   "metadata": {
    "ExecuteTime": {
     "end_time": "2024-05-09T14:46:23.405237Z",
     "start_time": "2024-05-09T14:46:23.378328Z"
    }
   },
   "cell_type": "code",
   "source": "print(q)",
   "id": "121b3c34aab48ff3",
   "outputs": [
    {
     "name": "stdout",
     "output_type": "stream",
     "text": [
      "{'bronc': 'yes', 'asia': 'no'}\n"
     ]
    }
   ],
   "execution_count": 45
  },
  {
   "metadata": {},
   "cell_type": "markdown",
   "source": "### 2.1.5 - Doing inference using virtual evidence",
   "id": "210ffb1d074cf8d9"
  },
  {
   "metadata": {},
   "cell_type": "markdown",
   "source": "Note: You can combine hard and soft evidence, we are going to show a simple example with only virtual evidence.",
   "id": "6fc3eb82d332b6c9"
  },
  {
   "metadata": {},
   "cell_type": "markdown",
   "source": "#### Query dysp with virtual evidence `smoke = {yes: 0.3, no: 0.7}`",
   "id": "454e35e218b2617f"
  },
  {
   "metadata": {},
   "cell_type": "markdown",
   "source": "**Conditional probability distributions of `smoke` and `dysp`**",
   "id": "73d9af6fa900646c"
  },
  {
   "metadata": {
    "ExecuteTime": {
     "end_time": "2024-05-09T14:46:23.409190Z",
     "start_time": "2024-05-09T14:46:23.406215Z"
    }
   },
   "cell_type": "code",
   "source": [
    "print(asia_model.get_cpds(node=\"smoke\"))\n",
    "print(asia_model.get_cpds(node=\"dysp\"))"
   ],
   "id": "c3f6c7553efb163e",
   "outputs": [
    {
     "name": "stdout",
     "output_type": "stream",
     "text": [
      "+------------+-----+\n",
      "| smoke(yes) | 0.5 |\n",
      "+------------+-----+\n",
      "| smoke(no)  | 0.5 |\n",
      "+------------+-----+\n",
      "+-----------+-------------+------------+-------------+------------+\n",
      "| bronc     | bronc(yes)  | bronc(yes) | bronc(no)   | bronc(no)  |\n",
      "+-----------+-------------+------------+-------------+------------+\n",
      "| either    | either(yes) | either(no) | either(yes) | either(no) |\n",
      "+-----------+-------------+------------+-------------+------------+\n",
      "| dysp(yes) | 0.9         | 0.8        | 0.7         | 0.1        |\n",
      "+-----------+-------------+------------+-------------+------------+\n",
      "| dysp(no)  | 0.1         | 0.2        | 0.3         | 0.9        |\n",
      "+-----------+-------------+------------+-------------+------------+\n"
     ]
    }
   ],
   "execution_count": 46
  },
  {
   "metadata": {},
   "cell_type": "markdown",
   "source": "**Marginal probability distribution of `dysp` (without evidence)**",
   "id": "1dffe44307a006af"
  },
  {
   "metadata": {
    "ExecuteTime": {
     "end_time": "2024-05-09T14:46:23.413025Z",
     "start_time": "2024-05-09T14:46:23.409831Z"
    }
   },
   "cell_type": "code",
   "source": [
    "q = inference_engine.query(variables=[\"dysp\"])\n",
    "\n",
    "print(q)"
   ],
   "id": "c1216aae7a546c5e",
   "outputs": [
    {
     "name": "stdout",
     "output_type": "stream",
     "text": [
      "+-----------+-------------+\n",
      "| dysp      |   phi(dysp) |\n",
      "+===========+=============+\n",
      "| dysp(yes) |      0.4360 |\n",
      "+-----------+-------------+\n",
      "| dysp(no)  |      0.5640 |\n",
      "+-----------+-------------+\n"
     ]
    }
   ],
   "execution_count": 47
  },
  {
   "metadata": {},
   "cell_type": "markdown",
   "source": "**Marginal probability distribution of `dysp` (with hard evidence smoke = \"no\")**",
   "id": "8fed972a420029b1"
  },
  {
   "metadata": {
    "ExecuteTime": {
     "end_time": "2024-05-09T14:46:23.417184Z",
     "start_time": "2024-05-09T14:46:23.414275Z"
    }
   },
   "cell_type": "code",
   "source": [
    "q = inference_engine.query(variables=[\"dysp\"], evidence={\"smoke\": \"no\"})\n",
    "\n",
    "print(q)"
   ],
   "id": "407a89480252a429",
   "outputs": [
    {
     "name": "stdout",
     "output_type": "stream",
     "text": [
      "+-----------+-------------+\n",
      "| dysp      |   phi(dysp) |\n",
      "+===========+=============+\n",
      "| dysp(yes) |      0.3191 |\n",
      "+-----------+-------------+\n",
      "| dysp(no)  |      0.6809 |\n",
      "+-----------+-------------+\n"
     ]
    }
   ],
   "execution_count": 48
  },
  {
   "metadata": {},
   "cell_type": "markdown",
   "source": [
    "**Marginal distribution of `dysp` (with virtual evidence smoke = \"no\")**\n",
    "\n",
    "Note that as we increase the weight of the virtual evidence towards 'no' (weight approaching 1.0) and 'yes' (weight approaching 0.0), the resulting inference closely resembles the outcome obtained using hard evidence."
   ],
   "id": "a66ad504a73210a"
  },
  {
   "metadata": {
    "ExecuteTime": {
     "end_time": "2024-05-09T14:46:23.422114Z",
     "start_time": "2024-05-09T14:46:23.417984Z"
    }
   },
   "cell_type": "code",
   "source": [
    "from pgmpy.factors.discrete import TabularCPD\n",
    "\n",
    "# Create a CPD for the virtual evidence of smoke\n",
    "smoke_virt_evidence = TabularCPD(variable=\"smoke\", variable_card=2, values=[[0.3], [0.7]], state_names={\"smoke\": [\"yes\", \"no\"]})\n",
    "\n",
    "q = inference_engine.query(variables=[\"dysp\"], virtual_evidence=[smoke_virt_evidence])\n",
    "\n",
    "print(q)"
   ],
   "id": "e0e1e7bc6191a4f0",
   "outputs": [
    {
     "name": "stdout",
     "output_type": "stream",
     "text": [
      "+-----------+-------------+\n",
      "| dysp      |   phi(dysp) |\n",
      "+===========+=============+\n",
      "| dysp(yes) |      0.3892 |\n",
      "+-----------+-------------+\n",
      "| dysp(no)  |      0.6108 |\n",
      "+-----------+-------------+\n"
     ]
    }
   ],
   "execution_count": 49
  },
  {
   "metadata": {},
   "cell_type": "markdown",
   "source": "### 2.1.6 - Doing inference with both hard and virtual evidence",
   "id": "7c3b74944ea8d386"
  },
  {
   "metadata": {},
   "cell_type": "markdown",
   "source": "#### Computing the marginal probability distribution of `bronc`  given `smoke = {yes: 0.3, no: 0.7}` and `dysp` = no",
   "id": "91af27f9288356f4"
  },
  {
   "metadata": {},
   "cell_type": "markdown",
   "source": "**Marginal distributions of `bronc`**",
   "id": "203ec1d7b2e33613"
  },
  {
   "metadata": {
    "ExecuteTime": {
     "end_time": "2024-05-09T14:46:30.145198Z",
     "start_time": "2024-05-09T14:46:30.141238Z"
    }
   },
   "cell_type": "code",
   "source": [
    "q = inference_engine.query(variables=[\"bronc\"])\n",
    "print(q)"
   ],
   "id": "9734cd804b6c130c",
   "outputs": [
    {
     "name": "stdout",
     "output_type": "stream",
     "text": [
      "+------------+--------------+\n",
      "| bronc      |   phi(bronc) |\n",
      "+============+==============+\n",
      "| bronc(yes) |       0.4500 |\n",
      "+------------+--------------+\n",
      "| bronc(no)  |       0.5500 |\n",
      "+------------+--------------+\n"
     ]
    }
   ],
   "execution_count": 52
  },
  {
   "metadata": {},
   "cell_type": "markdown",
   "source": "**Marginal distribution of `bronc` given `smoke = no` and `dysp = no`**",
   "id": "7eca5e948d6f8ead"
  },
  {
   "metadata": {
    "ExecuteTime": {
     "end_time": "2024-05-09T14:46:23.426815Z",
     "start_time": "2024-05-09T14:46:23.424819Z"
    }
   },
   "cell_type": "code",
   "source": [
    "q = inference_engine.query(variables=[\"bronc\"], evidence={\"smoke\": \"no\", \"dysp\": \"no\"})\n",
    "print(q)"
   ],
   "id": "ec649173a8c6882c",
   "outputs": [
    {
     "name": "stdout",
     "output_type": "stream",
     "text": [
      "+------------+--------------+\n",
      "| bronc      |   phi(bronc) |\n",
      "+============+==============+\n",
      "| bronc(yes) |       0.0872 |\n",
      "+------------+--------------+\n",
      "| bronc(no)  |       0.9128 |\n",
      "+------------+--------------+\n"
     ]
    }
   ],
   "execution_count": 51
  },
  {
   "metadata": {},
   "cell_type": "markdown",
   "source": "**Marginal distribution of `bronc` given `smoke = {yes: 0.3, no: 0.7}` and `dysp = no`**",
   "id": "274e76771d0eec02"
  },
  {
   "metadata": {
    "ExecuteTime": {
     "end_time": "2024-05-09T14:47:57.952164Z",
     "start_time": "2024-05-09T14:47:57.943873Z"
    }
   },
   "cell_type": "code",
   "source": [
    "# Create a CPD for the virtual evidence of smoke\n",
    "smoke_virt_evidence = TabularCPD(variable=\"smoke\", variable_card=2, values=[[0.3], [0.7]], state_names={\"smoke\": [\"yes\", \"no\"]})\n",
    "\n",
    "q = inference_engine.query(variables=[\"bronc\"], evidence={\"dysp\": \"no\"}, virtual_evidence=[smoke_virt_evidence])\n",
    "print(q)"
   ],
   "id": "78992074028a95e9",
   "outputs": [
    {
     "name": "stderr",
     "output_type": "stream",
     "text": [
      "WARNING:pgmpy:Replacing existing CPD for __smoke\n"
     ]
    },
    {
     "name": "stdout",
     "output_type": "stream",
     "text": [
      "+------------+--------------+\n",
      "| bronc      |   phi(bronc) |\n",
      "+============+==============+\n",
      "| bronc(yes) |       0.1238 |\n",
      "+------------+--------------+\n",
      "| bronc(no)  |       0.8762 |\n",
      "+------------+--------------+\n"
     ]
    }
   ],
   "execution_count": 54
  }
 ],
 "metadata": {
  "kernelspec": {
   "display_name": "Python 3",
   "language": "python",
   "name": "python3"
  },
  "language_info": {
   "codemirror_mode": {
    "name": "ipython",
    "version": 2
   },
   "file_extension": ".py",
   "mimetype": "text/x-python",
   "name": "python",
   "nbconvert_exporter": "python",
   "pygments_lexer": "ipython2",
   "version": "2.7.6"
  }
 },
 "nbformat": 4,
 "nbformat_minor": 5
}
