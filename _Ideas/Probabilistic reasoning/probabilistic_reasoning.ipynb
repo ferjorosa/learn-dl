{
 "cells": [
  {
   "cell_type": "code",
   "execution_count": 1,
   "metadata": {},
   "outputs": [],
   "source": [
    "import openai\n",
    "import os\n",
    "from langchain.llms import AzureOpenAI\n",
    "\n",
    "engine = \"Davinci003\"\n",
    "max_tokens = 1000\n",
    "# Zero temperature decreases the amount of \"randomness\" or \"creativity\", \n",
    "# which is ideal for encouraging it to follow strict instructions — as required for tool usage.\n",
    "temperature = 0 \n",
    "\n",
    "llm = AzureOpenAI(\n",
    "    deployment_name=engine,\n",
    "    openai_api_base= \"https://gpt3tests.openai.azure.com/\",\n",
    "    openai_api_key=os.environ[\"OPENAI_API_KEY\"],\n",
    "    openai_api_version=\"2022-12-01\",\n",
    "    temperature=temperature\n",
    ")\n",
    "llm.openai_api_key = openai.api_key\n",
    "llm.openai_api_base = openai.api_base \n",
    "llm.max_tokens = max_tokens"
   ]
  },
  {
   "cell_type": "code",
   "execution_count": 5,
   "metadata": {},
   "outputs": [],
   "source": [
    "from langchain.tools import BaseTool\n",
    "from langchain.tools.base import ToolException\n",
    "from typing import Callable, Optional,  Union\n",
    "\n",
    "def handle_error(error: ToolException) -> str:\n",
    "    return f\"The following errors occurred during tool execution:{error.args[0]}\"\n",
    "\n",
    "class SafeBaseTool(BaseTool):\n",
    "    name: str = \"Base tool with exception handling\"\n",
    "    description: str = \"This description should be overwritten\"\n",
    "    handle_tool_error: Optional[\n",
    "        Union[bool, str, Callable[[ToolException], str]]\n",
    "    ] = handle_error"
   ]
  },
  {
   "attachments": {},
   "cell_type": "markdown",
   "metadata": {},
   "source": [
    "-----\n",
    "\n",
    "Estaba haciendo un ejemplo donde defino con Scipy.stats varias distribuciones univariantes pero me he dado cuenta de que los problemas simples los puede resolver facilmente GPT3.5 si le dices que te devuelva la respuesta utilizando codigo Python.\n",
    "\n",
    "Sigo creyendo que para ejemplos mas complejos que requieran de redes Bayesianas es necesario utilizar una \"herramienta\", pero para casos simples quizas con codigo ejecutable \"normal\" de Scipy nos vale. Podriamos resolver el problema enseñandole a trabajar con una libreria de redes Bayesianas.\n",
    "\n",
    "-----"
   ]
  },
  {
   "cell_type": "code",
   "execution_count": 7,
   "metadata": {},
   "outputs": [
    {
     "name": "stdout",
     "output_type": "stream",
     "text": [
      "Probability of being a drug user given a positive test: 0.08882783882783876\n"
     ]
    }
   ],
   "source": [
    "P_D = 0.005  # Prior probability of being a drug user\n",
    "P_Pos_D = 0.97  # Probability of testing positive given that the individual is a drug user\n",
    "P_Neg_NotD = 0.95  # Probability of testing negative given that the individual is not a drug user\n",
    "\n",
    "# Complement of P(D)\n",
    "P_NotD = 1 - P_D\n",
    "\n",
    "# Calculate P(Pos)\n",
    "P_Pos = P_Pos_D * P_D + (1 - P_Neg_NotD) * P_NotD\n",
    "\n",
    "# Calculate P(D|Pos) using Bayes' rule\n",
    "P_D_Pos = (P_Pos_D * P_D) / P_Pos\n",
    "\n",
    "print(\"Probability of being a drug user given a positive test:\", P_D_Pos)"
   ]
  }
 ],
 "metadata": {
  "kernelspec": {
   "display_name": "lang-chain",
   "language": "python",
   "name": "python3"
  },
  "language_info": {
   "codemirror_mode": {
    "name": "ipython",
    "version": 3
   },
   "file_extension": ".py",
   "mimetype": "text/x-python",
   "name": "python",
   "nbconvert_exporter": "python",
   "pygments_lexer": "ipython3",
   "version": "3.9.16"
  },
  "orig_nbformat": 4
 },
 "nbformat": 4,
 "nbformat_minor": 2
}
