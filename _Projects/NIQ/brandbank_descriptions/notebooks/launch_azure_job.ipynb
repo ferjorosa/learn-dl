{
 "cells": [
  {
   "cell_type": "markdown",
   "metadata": {},
   "source": [
    "## Connect to AzureML\n",
    "\n",
    "First, we need to create an instance of MLClient to connect to Azure ML.\n",
    "\n",
    "We are using `DefaultAzureCredential` to get access to workspace. `DefaultAzureCredential` should be capable of handling most Azure SDK authentication scenarios.\n",
    "\n",
    "Reference materials: [configure credential example](https://github.com/Azure/azureml-examples/blob/sdk-preview/sdk/jobs/configuration.ipynb), [azure-identity reference doc](https://docs.microsoft.com/en-us/python/api/azure-identity/azure.identity?view=azure-python)."
   ]
  },
  {
   "cell_type": "code",
   "execution_count": 6,
   "metadata": {},
   "outputs": [],
   "source": [
    "# authentication package\n",
    "from azure.identity import DefaultAzureCredential, InteractiveBrowserCredential\n",
    "\n",
    "try:\n",
    "    credential = DefaultAzureCredential()\n",
    "    # Check if given credential can get token successfully.\n",
    "    credential.get_token(\"https://management.azure.com/.default\")\n",
    "except Exception as ex:\n",
    "    # Fall back to InteractiveBrowserCredential in case DefaultAzureCredential not work\n",
    "    credential = InteractiveBrowserCredential()"
   ]
  },
  {
   "cell_type": "code",
   "execution_count": 5,
   "metadata": {},
   "outputs": [],
   "source": [
    "# handle to the workspace\n",
    "from azure.ai.ml import MLClient\n",
    "\n",
    "# get a handle to the workspace\n",
    "ml_client = MLClient(\n",
    "    subscription_id=\"40f5d89b-cca4-4f43-850b-46e831ef9da6\",\n",
    "    resource_group_name=\"Buy.Eng.Innovation.Omnicoding.AzureML\",\n",
    "    workspace_name=\"omnicoding\",\n",
    "    credential=credential,\n",
    ")\n",
    "gpu_cluster = None"
   ]
  },
  {
   "cell_type": "markdown",
   "metadata": {},
   "source": [
    "# Provision the required resources"
   ]
  },
  {
   "cell_type": "code",
   "execution_count": 3,
   "metadata": {},
   "outputs": [],
   "source": [
    "gpu_computes = {\n",
    "    \"fer-1xT4-cluster\": \"Standard_NC16as_T4_v3\",\n",
    "    \"fer-4xT4-cluster\": \"Standard_NC64as_T4_v3\",\n",
    "    \"fer-1xV100-cluster\": \"STANDARD_NC6s_v3\",\n",
    "    \"fer-2xV100-cluster\": \"Standard_NC12s_v3\",\n",
    "}"
   ]
  },
  {
   "cell_type": "code",
   "execution_count": 8,
   "metadata": {},
   "outputs": [
    {
     "name": "stdout",
     "output_type": "stream",
     "text": [
      "You already have a cluster named fer-1xT4-cluster, we'll reuse it as is.\n",
      "AMLCompute with name fer-1xT4-cluster is selected, the compute size is STANDARD_NC16AS_T4_V3\n"
     ]
    }
   ],
   "source": [
    "from azure.ai.ml.entities import AmlCompute\n",
    "\n",
    "gpu_compute_name = \"fer-1xT4-cluster\"\n",
    "gpu_compute_size = gpu_computes[gpu_compute_name]\n",
    "\n",
    "try:\n",
    "    # let's see if the compute target already exists\n",
    "    gpu_cluster = ml_client.compute.get(gpu_compute_name)\n",
    "    print(\n",
    "        f\"You already have a cluster named {gpu_compute_name}, we'll reuse it as is.\"\n",
    "    )\n",
    "except Exception:\n",
    "    print(\"Creating a new gpu compute target...\")\n",
    "\n",
    "    gpu_cluster = AmlCompute(\n",
    "        name=gpu_compute_name,\n",
    "        type=\"amlcompute\",\n",
    "        size=gpu_compute_size,\n",
    "        min_instances=0,\n",
    "        max_instances=100,\n",
    "        idle_time_before_scale_down=180,\n",
    "        tier=\"lowpriority\",\n",
    "    )\n",
    "\n",
    "    gpu_cluster = ml_client.begin_create_or_update(gpu_cluster)\n",
    "\n",
    "print(\n",
    "    f\"AMLCompute with name {gpu_cluster.name} is selected, the compute size is {gpu_cluster.size}\"\n",
    ")    "
   ]
  },
  {
   "cell_type": "markdown",
   "metadata": {},
   "source": []
  }
 ],
 "metadata": {
  "kernelspec": {
   "display_name": "transformers",
   "language": "python",
   "name": "python3"
  },
  "language_info": {
   "codemirror_mode": {
    "name": "ipython",
    "version": 3
   },
   "file_extension": ".py",
   "mimetype": "text/x-python",
   "name": "python",
   "nbconvert_exporter": "python",
   "pygments_lexer": "ipython3",
   "version": "3.10.11"
  },
  "orig_nbformat": 4
 },
 "nbformat": 4,
 "nbformat_minor": 2
}
