{
 "cells": [
  {
   "cell_type": "code",
   "execution_count": 19,
   "metadata": {},
   "outputs": [
    {
     "name": "stdout",
     "output_type": "stream",
     "text": [
      "1981\n",
      "1981\n",
      "1981\n"
     ]
    }
   ],
   "source": [
    "import pandas as pd\n",
    "\n",
    "text_encoder_predictions = pd.read_csv(\"/home/azureuser/cloudfiles/code/Users/Fernando.Rodriguez/ainn-eliza-rnd-data/multimodal_dataloader_v1/data/brandbank_10000_examples_20_groups/models/azureuser/20230925_test_flava_text_8_epochs_512/test_predict.csv\")\n",
    "image_encoder_predictions = pd.read_csv(\"/home/azureuser/cloudfiles/code/Users/Fernando.Rodriguez/ainn-eliza-rnd-data/multimodal_dataloader_v1/data/brandbank_10000_examples_20_groups/models/azureuser/20230926_test_flava_image_8_epochs_bs_64/test_predict.csv\")\n",
    "multimodal_encoder_predictions = pd.read_csv(\"/home/azureuser/cloudfiles/code/Users/Fernando.Rodriguez/ainn-eliza-rnd-data/multimodal_dataloader_v1/data/brandbank_10000_examples_20_groups/models/azureuser/20230927_test_flava_8_epochs_bs_52/test_predict.csv\")\n",
    "\n",
    "text_encoder_predictions[\"CORRECT\"] = text_encoder_predictions[\"prediction_PRODUCT_GROUP_index_1\"] == text_encoder_predictions[\"PRODUCT_GROUP_index\"]\n",
    "image_encoder_predictions[\"CORRECT\"] = image_encoder_predictions[\"prediction_PRODUCT_GROUP_index_1\"] == image_encoder_predictions[\"PRODUCT_GROUP_index\"]\n",
    "multimodal_encoder_predictions[\"CORRECT\"] = multimodal_encoder_predictions[\"prediction_PRODUCT_GROUP_index_1\"] == multimodal_encoder_predictions[\"PRODUCT_GROUP_index\"]\n",
    "\n",
    "print(text_encoder_predictions.shape[0])\n",
    "print(image_encoder_predictions.shape[0])\n",
    "print(multimodal_encoder_predictions.shape[0])"
   ]
  },
  {
   "cell_type": "code",
   "execution_count": 20,
   "metadata": {},
   "outputs": [],
   "source": [
    "merged_df = pd.concat(\n",
    "    [\n",
    "        pd.DataFrame(text_encoder_predictions[\"CORRECT\"]), \n",
    "        pd.DataFrame(image_encoder_predictions[\"CORRECT\"]),\n",
    "        pd.DataFrame(multimodal_encoder_predictions[\"CORRECT\"]),        \n",
    "    ], \n",
    "    axis=1\n",
    ")\n",
    "\n",
    "merged_df.columns = ['TEXT_CORRECT', 'IMAGE_CORRECT', 'MULTIMODAL_CORRECT']"
   ]
  },
  {
   "cell_type": "code",
   "execution_count": 27,
   "metadata": {},
   "outputs": [
    {
     "name": "stdout",
     "output_type": "stream",
     "text": [
      "TEXT=False, IMAGE=False, MULTIMODAL=False: 103 instances (5.20% of total)\n",
      "TEXT=False, IMAGE=False, MULTIMODAL=True: 215 instances (10.85% of total)\n",
      "TEXT=False, IMAGE=True, MULTIMODAL=False: 40 instances (2.02% of total)\n",
      "TEXT=False, IMAGE=True, MULTIMODAL=True: 89 instances (4.49% of total)\n",
      "TEXT=True, IMAGE=False, MULTIMODAL=False: 307 instances (15.50% of total)\n",
      "TEXT=True, IMAGE=False, MULTIMODAL=True: 693 instances (34.98% of total)\n",
      "TEXT=True, IMAGE=True, MULTIMODAL=False: 167 instances (8.43% of total)\n",
      "TEXT=True, IMAGE=True, MULTIMODAL=True: 367 instances (18.53% of total)\n"
     ]
    }
   ],
   "source": [
    "# Count the number of instances for each combination\n",
    "all_combination_counts = merged_df.groupby(['TEXT_CORRECT', 'IMAGE_CORRECT', 'MULTIMODAL_CORRECT']).size().reset_index(name='count')\n",
    "\n",
    "# Calculate the total count\n",
    "total_count = len(merged_df)\n",
    "\n",
    "# Print the counts\n",
    "for index, row in all_combination_counts.iterrows():\n",
    "    text_correct = row['TEXT_CORRECT']\n",
    "    image_correct = row['IMAGE_CORRECT']\n",
    "    multimodal_correct = row['MULTIMODAL_CORRECT']\n",
    "    count = row['count']\n",
    "\n",
    "    # Calculate the percentage\n",
    "    percentage = (count / total_count) * 100\n",
    "    \n",
    "    print(f\"TEXT={text_correct}, IMAGE={image_correct}, MULTIMODAL={multimodal_correct}: {count} instances ({percentage:.2f}% of total)\")"
   ]
  },
  {
   "cell_type": "code",
   "execution_count": 28,
   "metadata": {},
   "outputs": [
    {
     "name": "stdout",
     "output_type": "stream",
     "text": [
      "TEXT=False, IMAGE=False: 318 instances (16.05% of total)\n",
      "TEXT=False, IMAGE=True: 129 instances (6.51% of total)\n",
      "TEXT=True, IMAGE=False: 1000 instances (50.48% of total)\n",
      "TEXT=True, IMAGE=True: 534 instances (26.96% of total)\n"
     ]
    }
   ],
   "source": [
    "# Count the number of instances for each combination\n",
    "combination_counts = merged_df.groupby(['TEXT_CORRECT', 'IMAGE_CORRECT']).size().reset_index(name='count')\n",
    "\n",
    "# Calculate the total count\n",
    "total_count = len(merged_df)\n",
    "\n",
    "# Print the counts and percentages\n",
    "for index, row in combination_counts.iterrows():\n",
    "    text_correct = row['TEXT_CORRECT']\n",
    "    image_correct = row['IMAGE_CORRECT']\n",
    "    count = row['count']\n",
    "    \n",
    "    # Calculate the percentage\n",
    "    percentage = (count / total_count) * 100\n",
    "    \n",
    "    print(f\"TEXT={text_correct}, IMAGE={image_correct}: {count} instances ({percentage:.2f}% of total)\")"
   ]
  },
  {
   "cell_type": "code",
   "execution_count": 29,
   "metadata": {},
   "outputs": [
    {
     "name": "stdout",
     "output_type": "stream",
     "text": [
      "IMAGE=False, MULTIMODAL=False: 410 instances (20.70% of total)\n",
      "IMAGE=False, MULTIMODAL=True: 908 instances (45.84% of total)\n",
      "IMAGE=True, MULTIMODAL=False: 207 instances (10.45% of total)\n",
      "IMAGE=True, MULTIMODAL=True: 456 instances (23.02% of total)\n"
     ]
    }
   ],
   "source": [
    "# Count the number of instances for each combination\n",
    "combination_counts = merged_df.groupby(['IMAGE_CORRECT', 'MULTIMODAL_CORRECT']).size().reset_index(name='count')\n",
    "\n",
    "# Calculate the total count\n",
    "total_count = len(merged_df)\n",
    "\n",
    "# Print the counts and percentages\n",
    "for index, row in combination_counts.iterrows():\n",
    "    text_correct = row['IMAGE_CORRECT']\n",
    "    image_correct = row['MULTIMODAL_CORRECT']\n",
    "    count = row['count']\n",
    "    \n",
    "    # Calculate the percentage\n",
    "    percentage = (count / total_count) * 100\n",
    "    \n",
    "    print(f\"IMAGE={text_correct}, MULTIMODAL={image_correct}: {count} instances ({percentage:.2f}% of total)\")"
   ]
  }
 ],
 "metadata": {
  "kernelspec": {
   "display_name": "transformers",
   "language": "python",
   "name": "python3"
  },
  "language_info": {
   "codemirror_mode": {
    "name": "ipython",
    "version": 3
   },
   "file_extension": ".py",
   "mimetype": "text/x-python",
   "name": "python",
   "nbconvert_exporter": "python",
   "pygments_lexer": "ipython3",
   "version": "3.9.15"
  },
  "orig_nbformat": 4
 },
 "nbformat": 4,
 "nbformat_minor": 2
}
