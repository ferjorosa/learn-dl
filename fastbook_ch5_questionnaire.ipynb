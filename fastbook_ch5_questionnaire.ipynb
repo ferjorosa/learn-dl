{
  "nbformat": 4,
  "nbformat_minor": 0,
  "metadata": {
    "colab": {
      "name": "Untitled8.ipynb",
      "provenance": [],
      "authorship_tag": "ABX9TyPYir1R6qm/O61sHqG0cDY9",
      "include_colab_link": true
    },
    "kernelspec": {
      "name": "python3",
      "display_name": "Python 3"
    },
    "language_info": {
      "name": "python"
    }
  },
  "cells": [
    {
      "cell_type": "markdown",
      "metadata": {
        "id": "view-in-github",
        "colab_type": "text"
      },
      "source": [
        "<a href=\"https://colab.research.google.com/github/ferjorosa/learn-fastai/blob/main/fastbook_ch5_questionnaire.ipynb\" target=\"_parent\"><img src=\"https://colab.research.google.com/assets/colab-badge.svg\" alt=\"Open In Colab\"/></a>"
      ]
    },
    {
      "cell_type": "markdown",
      "metadata": {
        "id": "t8MDPkKBK6CW"
      },
      "source": [
        "# Questionnaire Chapter 5"
      ]
    },
    {
      "cell_type": "code",
      "metadata": {
        "colab": {
          "base_uri": "https://localhost:8080/"
        },
        "id": "EMrGfTiwK1VV",
        "outputId": "aa01218e-33f1-4b24-9ef9-7d8596cb6acf"
      },
      "source": [
        "#hide (Google Colab)\n",
        "!pip install fastai --upgrade -q\n",
        "import fastai\n",
        "print(fastai.__version__)\n",
        "\n",
        "!pip install -Uqq fastbook\n",
        "import fastbook\n",
        "fastbook.setup_book()"
      ],
      "execution_count": 1,
      "outputs": [
        {
          "output_type": "stream",
          "name": "stdout",
          "text": [
            "\u001b[K     |████████████████████████████████| 189 kB 5.2 MB/s \n",
            "\u001b[K     |████████████████████████████████| 56 kB 3.3 MB/s \n",
            "\u001b[?25h2.5.3\n",
            "\u001b[K     |████████████████████████████████| 720 kB 5.2 MB/s \n",
            "\u001b[K     |████████████████████████████████| 46 kB 3.5 MB/s \n",
            "\u001b[K     |████████████████████████████████| 1.2 MB 41.5 MB/s \n",
            "\u001b[K     |████████████████████████████████| 51 kB 263 kB/s \n",
            "\u001b[?25hMounted at /content/gdrive\n"
          ]
        }
      ]
    },
    {
      "cell_type": "markdown",
      "metadata": {
        "id": "wLnz_MuMLCfT"
      },
      "source": [
        "**Question 1: Why do we first resize to a large size on the CPU, and then to a smaller size on the GPU?**\n",
        "\n",
        "We create images large enough thet they have have spare margin to allow further augmentation transforms on their inner regions without creating empty zones."
      ]
    },
    {
      "cell_type": "markdown",
      "metadata": {
        "id": "ma9jASIxMIc6"
      },
      "source": [
        "**Question 2: Find good resources about regular expressions**\n",
        "\n",
        "* [An interactive Regex tutorial](https://regexone.com/)\n",
        "* [A book: Regular expressions Cookbook](https://doc.lagout.org/programmation/Regular%20Expressions/Regular%20Expressions%20Cookbook_%20Detailed%20Solutions%20in%20Eight%20Programming%20Languages%20%282nd%20ed.%29%20%5BGoyvaerts%20%26%20Levithan%202012-09-06%5D.pdf)\n",
        "* [A tool for debugging regex expressions](https://https://regex101.com/)"
      ]
    },
    {
      "cell_type": "markdown",
      "metadata": {
        "id": "EfoiwQyVO0oL"
      },
      "source": [
        "**Question 3: What are the two ways in which data is most commonly provided for most deep learning datasets?**"
      ]
    },
    {
      "cell_type": "markdown",
      "metadata": {
        "id": "LBl5jSynPQbT"
      },
      "source": [
        "**Question 4: Look up the documentation for ```L``` and try using a few of the new methods that it adds**\n",
        "\n",
        "The ```L``` class provided by FastAI is an extension of Python List that allows map, filter, reduce operations (among others). It is located in the *foundation* module of the *fastcore* library.\n",
        "\n",
        "[Documentation of the foundation module and ```L```](https://fastcore.fast.ai/foundation#L)\n",
        "\n",
        "[More information about fastcore](https://fastpages.fast.ai/fastcore/)"
      ]
    },
    {
      "cell_type": "code",
      "metadata": {
        "colab": {
          "base_uri": "https://localhost:8080/"
        },
        "id": "J0qvu9coPkZh",
        "outputId": "f31fa0bb-2617-46e2-8253-0f70e8a93ae8"
      },
      "source": [
        "\n",
        "from fastcore.foundation import *\n",
        "\n",
        "x = L(1,2,3)\n",
        "x.map(lambda a: a+10 ).filter(lambda a: a > 11)."
      ],
      "execution_count": 12,
      "outputs": [
        {
          "output_type": "execute_result",
          "data": {
            "text/plain": [
              "(#2) [12,13]"
            ]
          },
          "metadata": {},
          "execution_count": 12
        }
      ]
    },
    {
      "cell_type": "markdown",
      "metadata": {
        "id": "eybnPZ9cS5aK"
      },
      "source": [
        "**Question 5: Look up the documentation for the Python ```pathlib``` module and try using a few methods of the ```Path``` class**\n",
        "\n",
        "[Pathlib documentation](https://docs.python.org/3/library/pathlib.html)"
      ]
    },
    {
      "cell_type": "markdown",
      "metadata": {
        "id": "y1w1i4zATj_a"
      },
      "source": [
        "**Question 6: Give two examples of ways that image transformations can degrade the quality of the data**\n",
        "\n",
        "If the image is not large enough and we apply a crop on a rotated image, we could generate spurious empty zones.\n",
        "\n",
        "Another problem arises with interpolation which usually results in three problems (to a greater or lesser extent):\n",
        "* Aliasing\n",
        "* Blurring\n",
        "* Edge Halo\n",
        "\n",
        "[More information about image interpolation](https://www.cambridgeincolour.com/tutorials/image-interpolation.htm)"
      ]
    },
    {
      "cell_type": "markdown",
      "metadata": {
        "id": "pthiCYStVr5L"
      },
      "source": [
        "**Question 7: What method does FastAI provide to view the data in a DataLoaders?**\n",
        "\n",
        "show_batch()"
      ]
    },
    {
      "cell_type": "markdown",
      "metadata": {
        "id": "Pt0MYczSV9qZ"
      },
      "source": [
        "**Question 8: What method does FastAI provide to help you debug a DataBlock?**\n",
        "\n",
        "summary()"
      ]
    }
  ]
}