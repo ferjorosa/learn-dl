{
  "nbformat": 4,
  "nbformat_minor": 0,
  "metadata": {
    "colab": {
      "name": "Untitled8.ipynb",
      "provenance": [],
      "authorship_tag": "ABX9TyNlVe59nQNrtXDihEETefU9",
      "include_colab_link": true
    },
    "kernelspec": {
      "name": "python3",
      "display_name": "Python 3"
    },
    "language_info": {
      "name": "python"
    }
  },
  "cells": [
    {
      "cell_type": "markdown",
      "metadata": {
        "id": "view-in-github",
        "colab_type": "text"
      },
      "source": [
        "<a href=\"https://colab.research.google.com/github/ferjorosa/learn-fastai/blob/main/fastbook_ch5_questionnaire.ipynb\" target=\"_parent\"><img src=\"https://colab.research.google.com/assets/colab-badge.svg\" alt=\"Open In Colab\"/></a>"
      ]
    },
    {
      "cell_type": "markdown",
      "metadata": {
        "id": "t8MDPkKBK6CW"
      },
      "source": [
        "# Questionnaire Chapter 5"
      ]
    },
    {
      "cell_type": "code",
      "metadata": {
        "colab": {
          "base_uri": "https://localhost:8080/"
        },
        "id": "EMrGfTiwK1VV",
        "outputId": "75fa790e-9478-41e9-cabe-302e4a9aedcc"
      },
      "source": [
        "#hide (Google Colab)\n",
        "!pip install fastai --upgrade -q\n",
        "import fastai\n",
        "print(fastai.__version__)\n",
        "\n",
        "!pip install -Uqq fastbook\n",
        "import fastbook\n",
        "fastbook.setup_book()"
      ],
      "execution_count": 1,
      "outputs": [
        {
          "output_type": "stream",
          "name": "stdout",
          "text": [
            "\u001b[K     |████████████████████████████████| 189 kB 5.3 MB/s \n",
            "\u001b[K     |████████████████████████████████| 56 kB 2.5 MB/s \n",
            "\u001b[?25h2.5.3\n",
            "\u001b[K     |████████████████████████████████| 720 kB 5.0 MB/s \n",
            "\u001b[K     |████████████████████████████████| 1.2 MB 39.5 MB/s \n",
            "\u001b[K     |████████████████████████████████| 46 kB 3.8 MB/s \n",
            "\u001b[K     |████████████████████████████████| 51 kB 276 kB/s \n",
            "\u001b[?25hMounted at /content/gdrive\n"
          ]
        }
      ]
    },
    {
      "cell_type": "markdown",
      "metadata": {
        "id": "wLnz_MuMLCfT"
      },
      "source": [
        "**Question 1: Why do we first resize to a large size on the CPU, and then to a smaller size on the GPU?**\n",
        "\n",
        "We create images large enough thet they have have spare margin to allow further augmentation transforms on their inner regions without creating empty zones."
      ]
    },
    {
      "cell_type": "markdown",
      "metadata": {
        "id": "ma9jASIxMIc6"
      },
      "source": [
        "**Question 2: Find good resources about regular expressions**\n",
        "\n",
        "* [An interactive Regex tutorial](https://regexone.com/)\n",
        "* [A book: Regular expressions Cookbook](https://doc.lagout.org/programmation/Regular%20Expressions/Regular%20Expressions%20Cookbook_%20Detailed%20Solutions%20in%20Eight%20Programming%20Languages%20%282nd%20ed.%29%20%5BGoyvaerts%20%26%20Levithan%202012-09-06%5D.pdf)\n",
        "* [A tool for debugging regex expressions](https://https://regex101.com/)"
      ]
    },
    {
      "cell_type": "markdown",
      "metadata": {
        "id": "EfoiwQyVO0oL"
      },
      "source": [
        "**Question 3: What are the two ways in which data is most commonly provided for most deep learning datasets?**"
      ]
    },
    {
      "cell_type": "markdown",
      "metadata": {
        "id": "LBl5jSynPQbT"
      },
      "source": [
        "**Question 4: Look up the documentation for ```L``` and try using a few of the new methods that it adds**\n",
        "\n",
        "The ```L``` class provided by FastAI is an extension of Python List that allows map, filter, reduce operations (among others). It is located in the *foundation* module of the *fastcore* library.\n",
        "\n",
        "[Documentation of the foundation module and ```L```](https://fastcore.fast.ai/foundation#L)\n",
        "\n",
        "[More information about fastcore](https://fastpages.fast.ai/fastcore/)"
      ]
    },
    {
      "cell_type": "code",
      "metadata": {
        "colab": {
          "base_uri": "https://localhost:8080/"
        },
        "id": "J0qvu9coPkZh",
        "outputId": "ee40cea4-3576-4a1f-dc07-4d7483c55c01"
      },
      "source": [
        "from fastcore.foundation import *\n",
        "\n",
        "x = L(1,2,3)\n",
        "x.map(lambda a: a+10 ).filter(lambda a: a > 11)"
      ],
      "execution_count": 3,
      "outputs": [
        {
          "output_type": "execute_result",
          "data": {
            "text/plain": [
              "(#2) [12,13]"
            ]
          },
          "metadata": {},
          "execution_count": 3
        }
      ]
    },
    {
      "cell_type": "markdown",
      "metadata": {
        "id": "eybnPZ9cS5aK"
      },
      "source": [
        "**Question 5: Look up the documentation for the Python ```pathlib``` module and try using a few methods of the ```Path``` class**\n",
        "\n",
        "[Pathlib documentation](https://docs.python.org/3/library/pathlib.html)"
      ]
    },
    {
      "cell_type": "markdown",
      "metadata": {
        "id": "y1w1i4zATj_a"
      },
      "source": [
        "**Question 6: Give two examples of ways that image transformations can degrade the quality of the data**\n",
        "\n",
        "If the image is not large enough and we apply a crop on a rotated image, we could generate spurious empty zones.\n",
        "\n",
        "Another problem arises with interpolation which usually results in three problems (to a greater or lesser extent):\n",
        "* Aliasing\n",
        "* Blurring\n",
        "* Edge Halo\n",
        "\n",
        "[More information about image interpolation](https://www.cambridgeincolour.com/tutorials/image-interpolation.htm)"
      ]
    },
    {
      "cell_type": "markdown",
      "metadata": {
        "id": "pthiCYStVr5L"
      },
      "source": [
        "**Question 7: What method does FastAI provide to view the data in a DataLoaders?**\n",
        "\n",
        "show_batch()"
      ]
    },
    {
      "cell_type": "markdown",
      "metadata": {
        "id": "Pt0MYczSV9qZ"
      },
      "source": [
        "**Question 8: What method does FastAI provide to help you debug a DataBlock?**\n",
        "\n",
        "summary()"
      ]
    },
    {
      "cell_type": "markdown",
      "metadata": {
        "id": "lUB0TodTzfpS"
      },
      "source": [
        "**Question 9: Should you hold off on training a model until you have throughly cleaned your data?**\n",
        "\n",
        "Not necessarily. We can sometimes use our model to identify possible wrongly labeled instances. FastAi provides tools such as\n",
        "* ClassificationInterpretation.plot_top_losses()\n",
        "* ImageClassifierCleaner\n",
        "\n",
        "that allows us to revise our data and search for wrongly labeled instances."
      ]
    },
    {
      "cell_type": "markdown",
      "metadata": {
        "id": "bZ_UhFDs2xZJ"
      },
      "source": [
        "**Question 10: What are the two pieces that are combined into cross-entropy loss in PyTorch?**\n",
        "\n",
        "The softmax function and the log-likelihood."
      ]
    },
    {
      "cell_type": "markdown",
      "metadata": {
        "id": "70QlYFQp3Ocp"
      },
      "source": [
        "**Question 11: What are the two properties of activations that softmax ensures? Why is this important?**\n",
        "\n",
        "Softmax ensures that activations are transformed into positive numbers between 0 and 1 whose sum is equal to 1. So if the activation produces 10 outputs, the softmax values will sum 1. \n",
        "\n",
        "Another important property of softmax is that, when considered in the cross-entropy loss function, it will favor this loss function to make the most probable values to be as close as 1 as possible to be more \"confident\", which may be a problem in certain situations. For example, in image classification, the model could be very confident in classifying something it has not been trained for..."
      ]
    },
    {
      "cell_type": "markdown",
      "metadata": {
        "id": "02ELJgJU4_vC"
      },
      "source": [
        "**Question 12: When might you want your activations to not have these two properties?**\n",
        "\n",
        "For example in multi-label classification, we may be interested in assigning each output value a probability between 1 and 0, \"independently\" of the rest. In that case a softmax may not be adequate."
      ]
    },
    {
      "cell_type": "markdown",
      "metadata": {
        "id": "HVyrO45t5lsp"
      },
      "source": [
        "**Question 13: Calculate the exp, sigmoid, and softmax columns of Figure 5-3 yourself**"
      ]
    },
    {
      "cell_type": "code",
      "metadata": {
        "id": "EqY-rG-u5vI5",
        "outputId": "ce283e29-8237-4a60-a815-cb7801261540",
        "colab": {
          "base_uri": "https://localhost:8080/"
        }
      },
      "source": [
        "import torch\n",
        "\n",
        "output = [[0.02, -2.49, 1.25]]\n",
        "output = torch.tensor(output)\n",
        "exp_output = torch.exp(output)\n",
        "sigmoid_output = torch.sigmoid(output)\n",
        "softmax_output = torch.softmax(output, dim=1)\n",
        "#output.softmax(dim=1) # Inline option (could be done for everyone of them)\n",
        "\n",
        "print(\"Exp: \" + str(exp_output))\n",
        "print(\"Sigmoid: \" + str(sigmoid_output))\n",
        "print(\"Softmax: \" + str(softmax_output))"
      ],
      "execution_count": 11,
      "outputs": [
        {
          "output_type": "stream",
          "name": "stdout",
          "text": [
            "Exp: tensor([[1.0202, 0.0829, 3.4903]])\n",
            "Sigmoid: tensor([[0.5050, 0.0766, 0.7773]])\n",
            "Softmax: tensor([[0.2221, 0.0180, 0.7599]])\n"
          ]
        }
      ]
    },
    {
      "cell_type": "markdown",
      "metadata": {
        "id": "4HiJEpyQ7LpR"
      },
      "source": [
        "**Question 14: Why can't we use torch-where to create a loss function for datasets where our label can have more than two values?**\n",
        "\n",
        "torch.where is defined only for binary cases. [See the documentation.](https://pytorch.org/docs/stable/generated/torch.where.html)"
      ]
    },
    {
      "cell_type": "markdown",
      "metadata": {
        "id": "YHEqczvJ8FUL"
      },
      "source": [
        "**Question 15: What is the value of log(-2)? Why?**\n",
        "\n",
        "The logarithm function is only defined for positive real numbers.\n",
        "\n",
        "Logarithms of negative numbers are not defined in the real numbers, in the same way that square roots of negative numbers aren't defined in the real numbers. The answer would be a complex number."
      ]
    },
    {
      "cell_type": "markdown",
      "metadata": {
        "id": "Tw1fcLeK9Cwx"
      },
      "source": [
        "**Question 16: What are two good rules of thumb for picking a learning rate from the learning rate finder?**\n",
        "\n",
        "* One order of magnitude less than where the minimum loss was achieved.\n",
        "* The last point where the loss was clearly decreasing."
      ]
    },
    {
      "cell_type": "markdown",
      "metadata": {
        "id": "yJsePVpq9xEo"
      },
      "source": [
        "**Question 17: What two steps does the fine_tune method do?**\n",
        "\n",
        "* Train the last layer of the network for one epoch (could be more) while keeping the rest of layers frozen\n",
        "* Train the whole network for the number of epochs requested"
      ]
    },
    {
      "cell_type": "markdown",
      "metadata": {
        "id": "UdTyh7FW3n1m"
      },
      "source": [
        "**Question 18: In Jupyter notebook, how do you get the source code for a method or function?**\n",
        "\n",
        "* With ? you can access the documentation\n",
        "* With ?? you can access the source code"
      ]
    },
    {
      "cell_type": "markdown",
      "metadata": {
        "id": "mrVRT2c84GvZ"
      },
      "source": [
        "**Question 19: What are discriminative learning rates?**\n",
        "\n",
        "The main idea is to use different learning rates for different parts of the network. For example, in image classification problems, it could be interesting to use a lower learning rate for the early layers (those related to basic image concepts) and a higher learning rate for the last layers.\n",
        "\n",
        "This can be accomplished using the one cycle strategy. For more information, see Leslie's paper and [FastAI documentation](https://fastai1.fast.ai/callbacks.one_cycle.html)."
      ]
    },
    {
      "cell_type": "markdown",
      "metadata": {
        "id": "CruBSVhF55Pn"
      },
      "source": [
        "**Question 20: How is a Python ```slice``` object interpreted when passed as a learning rate to fastai?**\n",
        "\n",
        "It will use the lowest value of the slice as the learning rate of the earliest layer. Then, it will use highest value of the slice as the learning rate of the latest layer. The layers in between will have learning rates that are multiplicatively equidistant throughout that range."
      ]
    },
    {
      "cell_type": "markdown",
      "metadata": {
        "id": "nf-mi_Ye7fYX"
      },
      "source": [
        "**Question 21: Why is early stopping a poor choice when using 1cycle training?**\n",
        "\n",
        "It is a poor choice because the stop could occur before the learning rate has had a chance to reach the small learning rate values, where it can really find the best training result."
      ]
    },
    {
      "cell_type": "markdown",
      "metadata": {
        "id": "eC56T2dd8Q_c"
      },
      "source": [
        "**Question 22: What is the difference between ```restnet50``` and ```restnet101```?**\n",
        "\n",
        "Both networks refer to a specific type of network architecture, the difference resides in the number of layers (50 vs 101)."
      ]
    },
    {
      "cell_type": "markdown",
      "metadata": {
        "id": "UD9e8hUL8RB0"
      },
      "source": [
        "**Question 23: What does ```to_fp16``` do?**\n",
        "\n",
        "It refers to using half-precision floating point numbers where possible during training, which could dramatically speed up neural network training, by 2-3 times."
      ]
    }
  ]
}